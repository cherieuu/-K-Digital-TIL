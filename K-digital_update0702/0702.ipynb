{
  "nbformat": 4,
  "nbformat_minor": 0,
  "metadata": {
    "colab": {
      "name": "Untitled6.ipynb",
      "provenance": [],
      "authorship_tag": "ABX9TyMpspIA+eYM/dWTI9Vh+eho",
      "include_colab_link": true
    },
    "kernelspec": {
      "name": "python3",
      "display_name": "Python 3"
    },
    "language_info": {
      "name": "python"
    }
  },
  "cells": [
    {
      "cell_type": "markdown",
      "metadata": {
        "id": "view-in-github",
        "colab_type": "text"
      },
      "source": [
        "<a href=\"https://colab.research.google.com/github/cherieuu/Today_I_Learned/blob/master/K-digital_update0702/0702.ipynb\" target=\"_parent\"><img src=\"https://colab.research.google.com/assets/colab-badge.svg\" alt=\"Open In Colab\"/></a>"
      ]
    },
    {
      "cell_type": "code",
      "metadata": {
        "colab": {
          "base_uri": "https://localhost:8080/"
        },
        "id": "QakeQ_xM1eh0",
        "outputId": "6d29a8b9-3450-4da9-b4ae-e24252ce6cc3"
      },
      "source": [
        "! git clone https://github.com/JSJeong-me/2021-K-Digital-Training.git"
      ],
      "execution_count": 1,
      "outputs": [
        {
          "output_type": "stream",
          "text": [
            "Cloning into '2021-K-Digital-Training'...\n",
            "remote: Enumerating objects: 794, done.\u001b[K\n",
            "remote: Counting objects: 100% (94/94), done.\u001b[K\n",
            "remote: Compressing objects: 100% (51/51), done.\u001b[K\n",
            "remote: Total 794 (delta 60), reused 40 (delta 40), pack-reused 700\u001b[K\n",
            "Receiving objects: 100% (794/794), 92.11 MiB | 29.79 MiB/s, done.\n",
            "Resolving deltas: 100% (312/312), done.\n"
          ],
          "name": "stdout"
        }
      ]
    },
    {
      "cell_type": "code",
      "metadata": {
        "id": "lalde7gS11xa"
      },
      "source": [
        ""
      ],
      "execution_count": null,
      "outputs": []
    },
    {
      "cell_type": "markdown",
      "metadata": {
        "id": "gr4rFtcg16eQ"
      },
      "source": [
        "# 새 섹션"
      ]
    }
  ]
}