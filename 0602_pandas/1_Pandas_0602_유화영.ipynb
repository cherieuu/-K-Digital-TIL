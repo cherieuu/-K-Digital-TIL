{
 "cells": [
  {
   "cell_type": "code",
   "execution_count": 1,
   "id": "6a315c88-5081-425a-be8e-d73b3edce2ea",
   "metadata": {},
   "outputs": [],
   "source": [
    "import pandas as pd"
   ]
  },
  {
   "cell_type": "code",
   "execution_count": 2,
   "id": "18896344-a844-4d75-b399-5f6c6810b788",
   "metadata": {},
   "outputs": [
    {
     "data": {
      "text/plain": [
       "'1.2.3'"
      ]
     },
     "execution_count": 2,
     "metadata": {},
     "output_type": "execute_result"
    }
   ],
   "source": [
    "pd.__version__"
   ]
  },
  {
   "cell_type": "code",
   "execution_count": 3,
   "id": "a78a917a-d47d-4fd0-ba07-53e40cdc9821",
   "metadata": {},
   "outputs": [],
   "source": [
    "#API에 대한 확인\n",
    "#help(pd.read_csv)\n",
    "#help(pd.DataFrame)\n",
    "#help(pd)"
   ]
  },
  {
   "cell_type": "code",
   "execution_count": 4,
   "id": "fd0669a0-9c7d-4c46-a216-ad1f60105434",
   "metadata": {},
   "outputs": [],
   "source": [
    "## Series\n",
    "# -1차원 데이터 구조\n",
    "# -Series는 **pd.Series()**로 생성"
   ]
  },
  {
   "cell_type": "code",
   "execution_count": 5,
   "id": "05453238-3040-4921-81d2-f92894547e8d",
   "metadata": {},
   "outputs": [],
   "source": [
    "s = pd.Series([3,-5,7,4]) #인덱스 없이 생성"
   ]
  },
  {
   "cell_type": "code",
   "execution_count": 6,
   "id": "52ebd9b3-e163-48c9-a9b7-9711887de9ac",
   "metadata": {},
   "outputs": [
    {
     "data": {
      "text/plain": [
       "0    3\n",
       "1   -5\n",
       "2    7\n",
       "3    4\n",
       "dtype: int64"
      ]
     },
     "execution_count": 6,
     "metadata": {},
     "output_type": "execute_result"
    }
   ],
   "source": [
    "s"
   ]
  },
  {
   "cell_type": "markdown",
   "id": "1e22135f-5c7f-4e07-9689-b8bb0d495255",
   "metadata": {},
   "source": [
    "인덱스를 특별히 지정해주지 않으면 Numpy 다차원배열처럼 0부터 인덱스가 시작된다.\n",
    "### pandas Series는 인덱스를 지정해줄 수 있고, 숫자가 아닌 문자열도 인덱스가 될 수 있다."
   ]
  },
  {
   "cell_type": "code",
   "execution_count": 7,
   "id": "a6efd4c1-67be-4120-af7d-dc22c6e5b2e8",
   "metadata": {},
   "outputs": [
    {
     "data": {
      "text/plain": [
       "a    3\n",
       "b   -5\n",
       "c    7\n",
       "d    4\n",
       "e    7\n",
       "f    3\n",
       "dtype: int64"
      ]
     },
     "execution_count": 7,
     "metadata": {},
     "output_type": "execute_result"
    }
   ],
   "source": [
    "data=[3,-5,7,4,7,3]\n",
    "s = pd.Series(data, index=['a','b','c','d','e','f'])\n",
    "s   \n"
   ]
  },
  {
   "cell_type": "code",
   "execution_count": 8,
   "id": "2af2b304-681f-4b95-952a-550148e4649f",
   "metadata": {},
   "outputs": [
    {
     "data": {
      "text/plain": [
       "pandas.core.series.Series"
      ]
     },
     "execution_count": 8,
     "metadata": {},
     "output_type": "execute_result"
    }
   ],
   "source": [
    "type(s)"
   ]
  },
  {
   "cell_type": "code",
   "execution_count": 9,
   "id": "3a2f5678-2576-4e0e-a700-1997c65053f2",
   "metadata": {},
   "outputs": [
    {
     "data": {
      "text/plain": [
       "Index(['a', 'b', 'c', 'd', 'e', 'f'], dtype='object')"
      ]
     },
     "execution_count": 9,
     "metadata": {},
     "output_type": "execute_result"
    }
   ],
   "source": [
    "s.index"
   ]
  },
  {
   "cell_type": "code",
   "execution_count": 10,
   "id": "5bcb20be-796b-4354-920f-d3e05f29ecd0",
   "metadata": {},
   "outputs": [
    {
     "data": {
      "text/plain": [
       "array([ 3, -5,  7,  4,  7,  3])"
      ]
     },
     "execution_count": 10,
     "metadata": {},
     "output_type": "execute_result"
    }
   ],
   "source": [
    "s.values"
   ]
  },
  {
   "cell_type": "code",
   "execution_count": 11,
   "id": "c629679e-da40-44b0-a314-6f62d6514b44",
   "metadata": {},
   "outputs": [
    {
     "data": {
      "text/plain": [
       "dtype('int64')"
      ]
     },
     "execution_count": 11,
     "metadata": {},
     "output_type": "execute_result"
    }
   ],
   "source": [
    "s.dtype"
   ]
  },
  {
   "cell_type": "code",
   "execution_count": 12,
   "id": "0079ddf1-4c4c-41e6-a3d7-b449ac313bc9",
   "metadata": {},
   "outputs": [
    {
     "data": {
      "text/plain": [
       "(6,)"
      ]
     },
     "execution_count": 12,
     "metadata": {},
     "output_type": "execute_result"
    }
   ],
   "source": [
    "s.shape"
   ]
  },
  {
   "cell_type": "markdown",
   "id": "55e7f954-ebdb-4470-91db-4a8ad8ecea76",
   "metadata": {},
   "source": [
    "`shape`는 (행, 열의 개수)을 나타낸다."
   ]
  },
  {
   "cell_type": "code",
   "execution_count": 13,
   "id": "f51ada95-518c-4b53-9dcc-da9e4fe7a31b",
   "metadata": {},
   "outputs": [
    {
     "data": {
      "text/plain": [
       "1"
      ]
     },
     "execution_count": 13,
     "metadata": {},
     "output_type": "execute_result"
    }
   ],
   "source": [
    "s.ndim"
   ]
  },
  {
   "cell_type": "markdown",
   "id": "a351e564-3a6c-499a-add1-41b518d14ab2",
   "metadata": {},
   "source": [
    "`ndim`은 차원을 나타낸다. 1차원이므로 1이 출력된다."
   ]
  },
  {
   "cell_type": "code",
   "execution_count": 14,
   "id": "31c62757-95e7-41db-aab0-edd4c80c121f",
   "metadata": {},
   "outputs": [
    {
     "data": {
      "text/plain": [
       " 3    2\n",
       " 7    2\n",
       " 4    1\n",
       "-5    1\n",
       "dtype: int64"
      ]
     },
     "execution_count": 14,
     "metadata": {},
     "output_type": "execute_result"
    }
   ],
   "source": [
    "s.value_counts()"
   ]
  },
  {
   "cell_type": "markdown",
   "id": "5abe542e-55c9-42ec-8f81-1f31e9e40b37",
   "metadata": {},
   "source": [
    "s에 나오는 데이터 값이 나오는 횟수를 알 수 있다. 3은 2번, 7도 2버느 4와 -5는 각 1번씩이다."
   ]
  },
  {
   "cell_type": "markdown",
   "id": "1dd65458-54b8-410a-93a4-90a7240ee5c5",
   "metadata": {},
   "source": [
    "Series에서의 `value_counts`"
   ]
  },
  {
   "cell_type": "code",
   "execution_count": 16,
   "id": "3a141f56-e799-4079-a865-f29d78c0cd5d",
   "metadata": {},
   "outputs": [
    {
     "data": {
      "text/plain": [
       "3"
      ]
     },
     "execution_count": 16,
     "metadata": {},
     "output_type": "execute_result"
    }
   ],
   "source": [
    "# index 명으로 조회\n",
    "s['a']\n"
   ]
  },
  {
   "cell_type": "code",
   "execution_count": 17,
   "id": "e0c28906-de8f-47c9-85e9-dd68530bf399",
   "metadata": {},
   "outputs": [
    {
     "data": {
      "text/plain": [
       "3"
      ]
     },
     "execution_count": 17,
     "metadata": {},
     "output_type": "execute_result"
    }
   ],
   "source": [
    "# index 순서로 조회\n",
    "s[0]"
   ]
  },
  {
   "cell_type": "markdown",
   "id": "808f9946-7dc5-4f18-9b04-78f1fb27ee97",
   "metadata": {},
   "source": []
  },
  {
   "cell_type": "code",
   "execution_count": 18,
   "id": "e2214a18-2664-4d26-bca5-d8fe1786b785",
   "metadata": {},
   "outputs": [
    {
     "data": {
      "text/plain": [
       "Germany    81\n",
       "Korea      99\n",
       "France     74\n",
       "UK         68\n",
       "Brazil     22\n",
       "dtype: int64"
      ]
     },
     "execution_count": 18,
     "metadata": {},
     "output_type": "execute_result"
    }
   ],
   "source": [
    "# pop_dict는 파이썬 딕셔너리\n",
    "pop_dict = {'Germany': 81,\n",
    "           'Korea': 99,\n",
    "           'France': 74,\n",
    "           'UK': 68,\n",
    "           'Brazil': 22}\n",
    "\n",
    "#pop_dict로 Series 생성\n",
    "population = pd.Series(pop_dict)\n",
    "population"
   ]
  },
  {
   "cell_type": "markdown",
   "id": "d252032c-fce3-46d9-bfef-35657f80d73c",
   "metadata": {},
   "source": [
    "### 딕셔너리에서 key값을 이용해 value를 조회하듯 Series에서 index를 이용해 value를 조회할 수 있다."
   ]
  },
  {
   "cell_type": "code",
   "execution_count": 19,
   "id": "07abd067-6d14-413e-99ab-96b8b4a945af",
   "metadata": {},
   "outputs": [
    {
     "data": {
      "text/plain": [
       "99"
      ]
     },
     "execution_count": 19,
     "metadata": {},
     "output_type": "execute_result"
    }
   ],
   "source": [
    "pop_dict['Korea'] #딕셔너리"
   ]
  },
  {
   "cell_type": "code",
   "execution_count": 20,
   "id": "11b80292-ee26-4ffb-9ae8-bc2fc0929239",
   "metadata": {},
   "outputs": [
    {
     "data": {
      "text/plain": [
       "68"
      ]
     },
     "execution_count": 20,
     "metadata": {},
     "output_type": "execute_result"
    }
   ],
   "source": [
    "population['UK']  #Series"
   ]
  },
  {
   "cell_type": "markdown",
   "id": "ad9873d7-757a-43c9-bdd1-762e7134385a",
   "metadata": {},
   "source": [
    "#### 딕셔너리와 Series의 차이점은 딕셔너리의 key는 순서가 없고 Pandas Series의 index에는 순서가 있다는 점이다. 그래서 Series의 index는 순서를 통해서 value 조회가 가능하다. "
   ]
  },
  {
   "cell_type": "code",
   "execution_count": 21,
   "id": "17ffbe74-4134-4def-9e1f-a648feb4ce43",
   "metadata": {},
   "outputs": [
    {
     "ename": "KeyError",
     "evalue": "2",
     "output_type": "error",
     "traceback": [
      "\u001b[0;31m---------------------------------------------------------------------------\u001b[0m",
      "\u001b[0;31mKeyError\u001b[0m                                  Traceback (most recent call last)",
      "\u001b[0;32m<ipython-input-21-c450861db7b3>\u001b[0m in \u001b[0;36m<module>\u001b[0;34m\u001b[0m\n\u001b[1;32m      1\u001b[0m \u001b[0;31m# 딕셔너리에서는 key값으로만 value를 반환할 수 있다.\u001b[0m\u001b[0;34m\u001b[0m\u001b[0;34m\u001b[0m\u001b[0;34m\u001b[0m\u001b[0m\n\u001b[0;32m----> 2\u001b[0;31m \u001b[0mpop_dict\u001b[0m\u001b[0;34m[\u001b[0m\u001b[0;36m2\u001b[0m\u001b[0;34m]\u001b[0m \u001b[0;31m#pop_dict는 딕셔너리\u001b[0m\u001b[0;34m\u001b[0m\u001b[0;34m\u001b[0m\u001b[0m\n\u001b[0m\u001b[1;32m      3\u001b[0m \u001b[0;34m\u001b[0m\u001b[0m\n\u001b[1;32m      4\u001b[0m \u001b[0;31m#keyError가 뜨는 이유는 딕셔너리는 순서가 없어서 인덱싱을 할 수 없기 때문이다. 그래서 딕셔너리에는 key값을 명확히 해야하는데 2라는 값을 넣어서\u001b[0m\u001b[0;34m\u001b[0m\u001b[0;34m\u001b[0m\u001b[0;34m\u001b[0m\u001b[0m\n\u001b[1;32m      5\u001b[0m \u001b[0;31m#오류가 뜬다.\u001b[0m\u001b[0;34m\u001b[0m\u001b[0;34m\u001b[0m\u001b[0;34m\u001b[0m\u001b[0m\n",
      "\u001b[0;31mKeyError\u001b[0m: 2"
     ]
    }
   ],
   "source": [
    "# 딕셔너리에서는 key값으로만 value를 반환할 수 있다. \n",
    "pop_dict[2] #pop_dict는 딕셔너리\n",
    "\n",
    "#keyError가 뜨는 이유는 딕셔너리는 순서가 없어서 인덱싱을 할 수 없기 때문이다. 그래서 딕셔너리에는 key값을 명확히 해야하는데 2라는 값을 넣어서\n",
    "#오류가 뜬다."
   ]
  },
  {
   "cell_type": "code",
   "execution_count": 22,
   "id": "b3209869-5b7f-43b5-b3fa-52d4d11f5ff3",
   "metadata": {},
   "outputs": [
    {
     "data": {
      "text/plain": [
       "74"
      ]
     },
     "execution_count": 22,
     "metadata": {},
     "output_type": "execute_result"
    }
   ],
   "source": [
    "population[2] #Pandas Series\n",
    "\n",
    "#Series는 인덱싱을 할 수 있다. 그래서 [] 사이에 인덱싱 번호를 쓰면 그에 맞는 value값을 반환한다.\n",
    "#인덱싱 번호는 0부터 시작한다.\n"
   ]
  },
  {
   "cell_type": "code",
   "execution_count": 23,
   "id": "91a7b08f-4b9b-43c0-8988-133981b50457",
   "metadata": {},
   "outputs": [
    {
     "data": {
      "text/plain": [
       "Germany    81\n",
       "Korea      99\n",
       "France     74\n",
       "dtype: int64"
      ]
     },
     "execution_count": 23,
     "metadata": {},
     "output_type": "execute_result"
    }
   ],
   "source": [
    "population[:3]"
   ]
  },
  {
   "cell_type": "code",
   "execution_count": 24,
   "id": "f8317f06-bf67-4445-a91d-c91575e26587",
   "metadata": {},
   "outputs": [
    {
     "data": {
      "text/plain": [
       "Germany    81\n",
       "Korea      99\n",
       "France     74\n",
       "UK         68\n",
       "Brazil     22\n",
       "dtype: int64"
      ]
     },
     "execution_count": 24,
     "metadata": {},
     "output_type": "execute_result"
    }
   ],
   "source": [
    "population[:]"
   ]
  },
  {
   "cell_type": "code",
   "execution_count": 25,
   "id": "4d14eae3-bbe6-4ef7-8f04-76f59e48c0c7",
   "metadata": {},
   "outputs": [
    {
     "data": {
      "text/plain": [
       "22"
      ]
     },
     "execution_count": 25,
     "metadata": {},
     "output_type": "execute_result"
    }
   ],
   "source": [
    "population[-1]"
   ]
  },
  {
   "cell_type": "code",
   "execution_count": 26,
   "id": "24a5fa9d-de47-412a-8295-84afdebb459b",
   "metadata": {},
   "outputs": [
    {
     "data": {
      "text/plain": [
       "Index(['Germany', 'Korea', 'France', 'UK', 'Brazil'], dtype='object')"
      ]
     },
     "execution_count": 26,
     "metadata": {},
     "output_type": "execute_result"
    }
   ],
   "source": [
    "population.index"
   ]
  },
  {
   "cell_type": "code",
   "execution_count": 27,
   "id": "98ebed0e-62df-464b-8b2d-042ba208ad07",
   "metadata": {},
   "outputs": [
    {
     "data": {
      "text/plain": [
       "array([81, 99, 74, 68, 22])"
      ]
     },
     "execution_count": 27,
     "metadata": {},
     "output_type": "execute_result"
    }
   ],
   "source": [
    "population.values"
   ]
  },
  {
   "cell_type": "code",
   "execution_count": 28,
   "id": "81ce91f5-08b9-430f-a44c-7b88d048067b",
   "metadata": {},
   "outputs": [
    {
     "data": {
      "text/plain": [
       "dtype('int64')"
      ]
     },
     "execution_count": 28,
     "metadata": {},
     "output_type": "execute_result"
    }
   ],
   "source": [
    "population.dtype"
   ]
  },
  {
   "cell_type": "markdown",
   "id": "6feecc7a-2898-4671-a466-728e5ded0fa2",
   "metadata": {},
   "source": [
    "#### Series는 딕셔너리와 다르게 아래와 같은 연산이 가능하다."
   ]
  },
  {
   "cell_type": "code",
   "execution_count": 29,
   "id": "4376a4b6-964e-4f06-9639-dc327ade586c",
   "metadata": {},
   "outputs": [
    {
     "data": {
      "text/plain": [
       "Germany    8100\n",
       "Korea      9900\n",
       "France     7400\n",
       "UK         6800\n",
       "Brazil     2200\n",
       "dtype: int64"
      ]
     },
     "execution_count": 29,
     "metadata": {},
     "output_type": "execute_result"
    }
   ],
   "source": [
    "population*100 # 각 value에 100을 곱한 값을 반환"
   ]
  },
  {
   "cell_type": "code",
   "execution_count": 30,
   "id": "75a672b7-55d2-4f5a-8d72-e6bdd863a774",
   "metadata": {},
   "outputs": [
    {
     "data": {
      "text/plain": [
       "Germany    71\n",
       "Korea      89\n",
       "France     64\n",
       "UK         58\n",
       "Brazil     12\n",
       "dtype: int64"
      ]
     },
     "execution_count": 30,
     "metadata": {},
     "output_type": "execute_result"
    }
   ],
   "source": [
    "population-10 #각 value에 10을 뺀 값을 반환"
   ]
  },
  {
   "cell_type": "code",
   "execution_count": 31,
   "id": "f65bbe1d-158f-4ced-bd08-ebad3e5d9d73",
   "metadata": {},
   "outputs": [
    {
     "ename": "TypeError",
     "evalue": "unsupported operand type(s) for *: 'dict' and 'int'",
     "output_type": "error",
     "traceback": [
      "\u001b[0;31m---------------------------------------------------------------------------\u001b[0m",
      "\u001b[0;31mTypeError\u001b[0m                                 Traceback (most recent call last)",
      "\u001b[0;32m<ipython-input-31-c3d60c1afa97>\u001b[0m in \u001b[0;36m<module>\u001b[0;34m\u001b[0m\n\u001b[1;32m      1\u001b[0m \u001b[0;31m#딕셔너리에 연산을 하면 TypeError 발생\u001b[0m\u001b[0;34m\u001b[0m\u001b[0;34m\u001b[0m\u001b[0;34m\u001b[0m\u001b[0m\n\u001b[0;32m----> 2\u001b[0;31m \u001b[0mpop_dict\u001b[0m \u001b[0;34m*\u001b[0m\u001b[0;36m100\u001b[0m\u001b[0;34m\u001b[0m\u001b[0;34m\u001b[0m\u001b[0m\n\u001b[0m",
      "\u001b[0;31mTypeError\u001b[0m: unsupported operand type(s) for *: 'dict' and 'int'"
     ]
    }
   ],
   "source": [
    "#딕셔너리에 연산을 하면 TypeError 발생\n",
    "pop_dict *100"
   ]
  },
  {
   "cell_type": "code",
   "execution_count": null,
   "id": "b94280d3-834b-4477-b369-04537f297298",
   "metadata": {},
   "outputs": [],
   "source": []
  },
  {
   "cell_type": "markdown",
   "id": "178e2239-cbf7-4e31-9952-ad710f2911eb",
   "metadata": {},
   "source": [
    "### DataFrame\n",
    "- 2차원 데이터 구조\n",
    "- 일반적으로 df로 이름 붙임\n",
    "- 엑셀 스프레드시트, 데이터베이스 등과 동일한 <U>2차원 구조<U/>\n",
    "\n",
    "#### DataFrame은 <U>pd.DataFrame()<U>으로 생성한다.\n",
    "   "
   ]
  },
  {
   "cell_type": "markdown",
   "id": "79746b2d-d6b4-43ea-9453-0ca01d374309",
   "metadata": {},
   "source": [
    "#### 중첩된 리스트를 통한 데이터 생성\n",
    "각 행을 리스트로 만들어야 한다."
   ]
  },
  {
   "cell_type": "code",
   "execution_count": 125,
   "id": "b8ffa154-4cc8-4f7a-9f46-72ea7a2386d0",
   "metadata": {},
   "outputs": [
    {
     "data": {
      "text/plain": [
       "0    Freance\n",
       "1      India\n",
       "2     Brazil\n",
       "Name: 0, dtype: object"
      ]
     },
     "execution_count": 125,
     "metadata": {},
     "output_type": "execute_result"
    }
   ],
   "source": [
    "data = [['Freance','Paris', 1234777],\n",
    "       ['India', 'New Delhi', 1305457654],\n",
    "       ['Brazil', 'Brasilia', 207845485]]\n",
    "\n",
    "df = pd.DataFrame(data)\n",
    "\n",
    "df\n",
    "\n",
    "#df[0]\n",
    "\n",
    "# df[1]\n",
    "\n",
    "# df[2]"
   ]
  },
  {
   "cell_type": "markdown",
   "id": "b3da712d-6769-4f13-8a43-f5b0727f9fe0",
   "metadata": {},
   "source": [
    "*columns 파라메타를 통해 칼럼명을 정해줄 수 있다.*"
   ]
  },
  {
   "cell_type": "code",
   "execution_count": 33,
   "id": "24ab0d44-daaf-4418-9462-578a1a319e39",
   "metadata": {},
   "outputs": [
    {
     "data": {
      "text/html": [
       "<div>\n",
       "<style scoped>\n",
       "    .dataframe tbody tr th:only-of-type {\n",
       "        vertical-align: middle;\n",
       "    }\n",
       "\n",
       "    .dataframe tbody tr th {\n",
       "        vertical-align: top;\n",
       "    }\n",
       "\n",
       "    .dataframe thead th {\n",
       "        text-align: right;\n",
       "    }\n",
       "</style>\n",
       "<table border=\"1\" class=\"dataframe\">\n",
       "  <thead>\n",
       "    <tr style=\"text-align: right;\">\n",
       "      <th></th>\n",
       "      <th>Country</th>\n",
       "      <th>Capital</th>\n",
       "      <th>Population</th>\n",
       "    </tr>\n",
       "  </thead>\n",
       "  <tbody>\n",
       "    <tr>\n",
       "      <th>0</th>\n",
       "      <td>Freance</td>\n",
       "      <td>Paris</td>\n",
       "      <td>1234777</td>\n",
       "    </tr>\n",
       "    <tr>\n",
       "      <th>1</th>\n",
       "      <td>India</td>\n",
       "      <td>New Delhi</td>\n",
       "      <td>1305457654</td>\n",
       "    </tr>\n",
       "    <tr>\n",
       "      <th>2</th>\n",
       "      <td>Brazil</td>\n",
       "      <td>Brasilia</td>\n",
       "      <td>207845485</td>\n",
       "    </tr>\n",
       "  </tbody>\n",
       "</table>\n",
       "</div>"
      ],
      "text/plain": [
       "   Country    Capital  Population\n",
       "0  Freance      Paris     1234777\n",
       "1    India  New Delhi  1305457654\n",
       "2   Brazil   Brasilia   207845485"
      ]
     },
     "execution_count": 33,
     "metadata": {},
     "output_type": "execute_result"
    }
   ],
   "source": [
    "data = [['Freance','Paris', 1234777],\n",
    "       ['India', 'New Delhi', 1305457654],\n",
    "       ['Brazil', 'Brasilia', 207845485]]\n",
    "\n",
    "df = pd.DataFrame(data, columns = ['Country', 'Capital', 'Population'])\n",
    "\n",
    "df"
   ]
  },
  {
   "cell_type": "code",
   "execution_count": 34,
   "id": "5bf12fe4-69b6-4bd3-96e4-ed82a48b379e",
   "metadata": {},
   "outputs": [
    {
     "data": {
      "text/plain": [
       "0    Freance\n",
       "1      India\n",
       "2     Brazil\n",
       "Name: Country, dtype: object"
      ]
     },
     "execution_count": 34,
     "metadata": {},
     "output_type": "execute_result"
    }
   ],
   "source": [
    "df['Country']"
   ]
  },
  {
   "cell_type": "code",
   "execution_count": 35,
   "id": "03dabf7c-6163-46d9-9147-738ce8a7c999",
   "metadata": {},
   "outputs": [
    {
     "data": {
      "text/plain": [
       "0        Paris\n",
       "1    New Delhi\n",
       "2     Brasilia\n",
       "Name: Capital, dtype: object"
      ]
     },
     "execution_count": 35,
     "metadata": {},
     "output_type": "execute_result"
    }
   ],
   "source": [
    "df['Capital']"
   ]
  },
  {
   "cell_type": "code",
   "execution_count": 36,
   "id": "5ea9970c-b765-488d-bd88-6c97d81de4e8",
   "metadata": {},
   "outputs": [
    {
     "data": {
      "text/plain": [
       "0    Freance\n",
       "1      India\n",
       "2     Brazil\n",
       "Name: Country, dtype: object"
      ]
     },
     "execution_count": 36,
     "metadata": {},
     "output_type": "execute_result"
    }
   ],
   "source": [
    "df.Country"
   ]
  },
  {
   "cell_type": "markdown",
   "id": "36407f02-0744-4c37-8649-6d489346c532",
   "metadata": {},
   "source": [
    "데이터 프레임의 데이터는 딕셔너리로 넘겨주는 것이 일반적이다.\n",
    "- 컬럼명을 함께 넘겨줄 수 있기 때문이다.\n",
    "- 동일한 데이터 타입끼리 함께 묶어서 넘겨줄 수 있기 때문이다."
   ]
  },
  {
   "cell_type": "code",
   "execution_count": 45,
   "id": "7a24d3b7-9385-473f-b3cd-eebe48110632",
   "metadata": {},
   "outputs": [
    {
     "data": {
      "text/html": [
       "<div>\n",
       "<style scoped>\n",
       "    .dataframe tbody tr th:only-of-type {\n",
       "        vertical-align: middle;\n",
       "    }\n",
       "\n",
       "    .dataframe tbody tr th {\n",
       "        vertical-align: top;\n",
       "    }\n",
       "\n",
       "    .dataframe thead th {\n",
       "        text-align: right;\n",
       "    }\n",
       "</style>\n",
       "<table border=\"1\" class=\"dataframe\">\n",
       "  <thead>\n",
       "    <tr style=\"text-align: right;\">\n",
       "      <th></th>\n",
       "      <th>Country</th>\n",
       "      <th>Capital</th>\n",
       "      <th>Population</th>\n",
       "    </tr>\n",
       "  </thead>\n",
       "  <tbody>\n",
       "    <tr>\n",
       "      <th>0</th>\n",
       "      <td>France</td>\n",
       "      <td>Paris</td>\n",
       "      <td>1234000</td>\n",
       "    </tr>\n",
       "    <tr>\n",
       "      <th>1</th>\n",
       "      <td>India</td>\n",
       "      <td>New Delhi</td>\n",
       "      <td>123523423523</td>\n",
       "    </tr>\n",
       "    <tr>\n",
       "      <th>2</th>\n",
       "      <td>Brazil</td>\n",
       "      <td>Brasilia</td>\n",
       "      <td>125523521</td>\n",
       "    </tr>\n",
       "  </tbody>\n",
       "</table>\n",
       "</div>"
      ],
      "text/plain": [
       "  Country    Capital    Population\n",
       "0  France      Paris       1234000\n",
       "1   India  New Delhi  123523423523\n",
       "2  Brazil   Brasilia     125523521"
      ]
     },
     "execution_count": 45,
     "metadata": {},
     "output_type": "execute_result"
    }
   ],
   "source": [
    "data = {'Country': ['France', 'India', 'Brazil'],\n",
    "        'Capital': ['Paris', 'New Delhi','Brasilia'],\n",
    "        'Population' : [1234000, 123523423523, 125523521]}\n",
    "\n",
    "df = pd.DataFrame(data)\n",
    "\n",
    "df"
   ]
  },
  {
   "cell_type": "markdown",
   "id": "f1d87563-efe1-4f80-8a80-963ff4d86b41",
   "metadata": {},
   "source": [
    "컬럼명과 마찬가지로 인덱스 역시 변경할 수 있다."
   ]
  },
  {
   "cell_type": "code",
   "execution_count": 44,
   "id": "3ba3e08a-c4af-4cfa-856d-7ae9779721e0",
   "metadata": {},
   "outputs": [
    {
     "data": {
      "text/html": [
       "<div>\n",
       "<style scoped>\n",
       "    .dataframe tbody tr th:only-of-type {\n",
       "        vertical-align: middle;\n",
       "    }\n",
       "\n",
       "    .dataframe tbody tr th {\n",
       "        vertical-align: top;\n",
       "    }\n",
       "\n",
       "    .dataframe thead th {\n",
       "        text-align: right;\n",
       "    }\n",
       "</style>\n",
       "<table border=\"1\" class=\"dataframe\">\n",
       "  <thead>\n",
       "    <tr style=\"text-align: right;\">\n",
       "      <th></th>\n",
       "      <th>Country</th>\n",
       "      <th>Capital</th>\n",
       "      <th>Population</th>\n",
       "    </tr>\n",
       "  </thead>\n",
       "  <tbody>\n",
       "    <tr>\n",
       "      <th>aa</th>\n",
       "      <td>France</td>\n",
       "      <td>Paris</td>\n",
       "      <td>1234000</td>\n",
       "    </tr>\n",
       "    <tr>\n",
       "      <th>bb</th>\n",
       "      <td>India</td>\n",
       "      <td>New Delhi</td>\n",
       "      <td>123523423523</td>\n",
       "    </tr>\n",
       "    <tr>\n",
       "      <th>cc</th>\n",
       "      <td>Brazil</td>\n",
       "      <td>Brasilia</td>\n",
       "      <td>125523521</td>\n",
       "    </tr>\n",
       "  </tbody>\n",
       "</table>\n",
       "</div>"
      ],
      "text/plain": [
       "   Country    Capital    Population\n",
       "aa  France      Paris       1234000\n",
       "bb   India  New Delhi  123523423523\n",
       "cc  Brazil   Brasilia     125523521"
      ]
     },
     "execution_count": 44,
     "metadata": {},
     "output_type": "execute_result"
    }
   ],
   "source": [
    "df_2 = pd.DataFrame(data, index = ['aa','bb','cc'])\n",
    "\n",
    "df_2"
   ]
  },
  {
   "cell_type": "code",
   "execution_count": 46,
   "id": "0ea4f6f7-feba-437d-91c8-6296695f8b34",
   "metadata": {},
   "outputs": [
    {
     "data": {
      "text/plain": [
       "pandas.core.frame.DataFrame"
      ]
     },
     "execution_count": 46,
     "metadata": {},
     "output_type": "execute_result"
    }
   ],
   "source": [
    "type(df_2)"
   ]
  },
  {
   "cell_type": "code",
   "execution_count": 47,
   "id": "ee473577-04e7-4699-8adb-a953b583ff27",
   "metadata": {},
   "outputs": [
    {
     "name": "stdout",
     "output_type": "stream",
     "text": [
      "<class 'pandas.core.frame.DataFrame'>\n",
      "RangeIndex: 3 entries, 0 to 2\n",
      "Data columns (total 3 columns):\n",
      " #   Column      Non-Null Count  Dtype \n",
      "---  ------      --------------  ----- \n",
      " 0   Country     3 non-null      object\n",
      " 1   Capital     3 non-null      object\n",
      " 2   Population  3 non-null      int64 \n",
      "dtypes: int64(1), object(2)\n",
      "memory usage: 200.0+ bytes\n"
     ]
    }
   ],
   "source": [
    "df.info()"
   ]
  },
  {
   "cell_type": "code",
   "execution_count": 49,
   "id": "63e5dbad-99c9-4722-ad13-23933ae4b01b",
   "metadata": {},
   "outputs": [
    {
     "data": {
      "text/plain": [
       "pandas.core.series.Series"
      ]
     },
     "execution_count": 49,
     "metadata": {},
     "output_type": "execute_result"
    }
   ],
   "source": [
    "type(df.Country) # = type(df['Country'])"
   ]
  },
  {
   "cell_type": "code",
   "execution_count": 50,
   "id": "3e18125d-bd0c-4b09-bc19-6537b1dc316e",
   "metadata": {},
   "outputs": [
    {
     "data": {
      "text/plain": [
       "0    France\n",
       "1     India\n",
       "2    Brazil\n",
       "Name: Country, dtype: object"
      ]
     },
     "execution_count": 50,
     "metadata": {},
     "output_type": "execute_result"
    }
   ],
   "source": [
    "df.Country"
   ]
  },
  {
   "cell_type": "code",
   "execution_count": 51,
   "id": "b0024ef9-8301-4f2f-b9df-6faee189dc76",
   "metadata": {},
   "outputs": [
    {
     "data": {
      "text/plain": [
       "RangeIndex(start=0, stop=3, step=1)"
      ]
     },
     "execution_count": 51,
     "metadata": {},
     "output_type": "execute_result"
    }
   ],
   "source": [
    "df.index"
   ]
  },
  {
   "cell_type": "code",
   "execution_count": 52,
   "id": "24fccc83-2256-4218-8e67-69669d68fb3c",
   "metadata": {},
   "outputs": [
    {
     "data": {
      "text/plain": [
       "Index(['Country', 'Capital', 'Population'], dtype='object')"
      ]
     },
     "execution_count": 52,
     "metadata": {},
     "output_type": "execute_result"
    }
   ],
   "source": [
    "df.columns"
   ]
  },
  {
   "cell_type": "code",
   "execution_count": 54,
   "id": "7ea25eb8-b77e-4a14-ad84-d193fada2557",
   "metadata": {},
   "outputs": [
    {
     "data": {
      "text/plain": [
       "Country       object\n",
       "Capital       object\n",
       "Population     int64\n",
       "dtype: object"
      ]
     },
     "execution_count": 54,
     "metadata": {},
     "output_type": "execute_result"
    }
   ],
   "source": [
    "df.dtypes"
   ]
  },
  {
   "cell_type": "markdown",
   "id": "949482d0-77db-41ee-bfa6-ce8f7103457a",
   "metadata": {},
   "source": [
    "## DataFrame"
   ]
  },
  {
   "cell_type": "code",
   "execution_count": 55,
   "id": "9b4abc48-a0e6-4490-b88f-43317e256f7c",
   "metadata": {},
   "outputs": [
    {
     "data": {
      "text/html": [
       "<div>\n",
       "<style scoped>\n",
       "    .dataframe tbody tr th:only-of-type {\n",
       "        vertical-align: middle;\n",
       "    }\n",
       "\n",
       "    .dataframe tbody tr th {\n",
       "        vertical-align: top;\n",
       "    }\n",
       "\n",
       "    .dataframe thead th {\n",
       "        text-align: right;\n",
       "    }\n",
       "</style>\n",
       "<table border=\"1\" class=\"dataframe\">\n",
       "  <thead>\n",
       "    <tr style=\"text-align: right;\">\n",
       "      <th></th>\n",
       "      <th>A</th>\n",
       "      <th>B</th>\n",
       "      <th>C</th>\n",
       "      <th>D</th>\n",
       "      <th>E</th>\n",
       "    </tr>\n",
       "  </thead>\n",
       "  <tbody>\n",
       "    <tr>\n",
       "      <th>a</th>\n",
       "      <td>1</td>\n",
       "      <td>2</td>\n",
       "      <td>3</td>\n",
       "      <td>4</td>\n",
       "      <td>7</td>\n",
       "    </tr>\n",
       "    <tr>\n",
       "      <th>b</th>\n",
       "      <td>1</td>\n",
       "      <td>4</td>\n",
       "      <td>5</td>\n",
       "      <td>6</td>\n",
       "      <td>7</td>\n",
       "    </tr>\n",
       "    <tr>\n",
       "      <th>c</th>\n",
       "      <td>4</td>\n",
       "      <td>2</td>\n",
       "      <td>8</td>\n",
       "      <td>10</td>\n",
       "      <td>12</td>\n",
       "    </tr>\n",
       "  </tbody>\n",
       "</table>\n",
       "</div>"
      ],
      "text/plain": [
       "   A  B  C   D   E\n",
       "a  1  2  3   4   7\n",
       "b  1  4  5   6   7\n",
       "c  4  2  8  10  12"
      ]
     },
     "execution_count": 55,
     "metadata": {},
     "output_type": "execute_result"
    }
   ],
   "source": [
    "s_df = pd.DataFrame([[1,2,3,4,7],[1,4,5,6,7],[4,2,8,10,12]], index =['a','b','c'], columns=['A','B','C','D','E'])\n",
    "s_df"
   ]
  },
  {
   "cell_type": "markdown",
   "id": "114683de-904f-48db-9927-b7a3e6650aef",
   "metadata": {},
   "source": [
    "DataFrame에서의 `value_counts`"
   ]
  },
  {
   "cell_type": "code",
   "execution_count": 56,
   "id": "04131425-95d0-4ba5-82f9-5592636cffed",
   "metadata": {},
   "outputs": [
    {
     "data": {
      "text/plain": [
       "1    2\n",
       "4    1\n",
       "Name: A, dtype: int64"
      ]
     },
     "execution_count": 56,
     "metadata": {},
     "output_type": "execute_result"
    }
   ],
   "source": [
    "s_df['A'].value_counts()"
   ]
  },
  {
   "cell_type": "markdown",
   "id": "d57d4775-8387-4b7d-abb6-173bb3a0fb16",
   "metadata": {},
   "source": [
    "#### A 열에는 1이 2번 나오고, 4가 1번 나온다."
   ]
  },
  {
   "cell_type": "code",
   "execution_count": 57,
   "id": "a3ad4fe1-88a7-4b8b-85c9-3217f3990aad",
   "metadata": {},
   "outputs": [
    {
     "data": {
      "text/plain": [
       "2    2\n",
       "4    1\n",
       "Name: B, dtype: int64"
      ]
     },
     "execution_count": 57,
     "metadata": {},
     "output_type": "execute_result"
    }
   ],
   "source": [
    "s_df['B'].value_counts()"
   ]
  },
  {
   "cell_type": "markdown",
   "id": "8a3833c5-967d-4dfe-bb75-1ee712128fcc",
   "metadata": {},
   "source": [
    "#### B 열에는 2가 2번 나오고, 4가 1번 나온다."
   ]
  },
  {
   "cell_type": "code",
   "execution_count": 58,
   "id": "93808d30-839f-4a0e-8e0d-ce8cb541b4ce",
   "metadata": {},
   "outputs": [
    {
     "data": {
      "text/plain": [
       "8    1\n",
       "5    1\n",
       "3    1\n",
       "Name: C, dtype: int64"
      ]
     },
     "execution_count": 58,
     "metadata": {},
     "output_type": "execute_result"
    }
   ],
   "source": [
    "s_df['C'].value_counts()"
   ]
  },
  {
   "cell_type": "markdown",
   "id": "18c143c0-7676-4c23-bc4a-6768be1afd2b",
   "metadata": {},
   "source": [
    "#### C 열에는 8이 1번, 5가 1번, 3이 1번 나온다."
   ]
  },
  {
   "cell_type": "markdown",
   "id": "d501d70a-5df9-4082-a01c-cf4c30db9872",
   "metadata": {},
   "source": [
    "-------------------\n",
    "\n",
    "#### 인덱싱 : Series는 요소를 index명 또는 index의 순서를 통해 인덱싱할 수 있다.\n",
    "#### index명으로 조회 가능"
   ]
  },
  {
   "cell_type": "markdown",
   "id": "ee06a333-d6c3-4843-979f-d74eec5c9350",
   "metadata": {},
   "source": [
    "------------\n",
    "### 특정한 칼럼을 index로 사용할수도 있다."
   ]
  },
  {
   "cell_type": "code",
   "execution_count": 62,
   "id": "dbedb4de-a4ad-4c5f-ba1e-f55140d11a72",
   "metadata": {},
   "outputs": [
    {
     "data": {
      "text/html": [
       "<div>\n",
       "<style scoped>\n",
       "    .dataframe tbody tr th:only-of-type {\n",
       "        vertical-align: middle;\n",
       "    }\n",
       "\n",
       "    .dataframe tbody tr th {\n",
       "        vertical-align: top;\n",
       "    }\n",
       "\n",
       "    .dataframe thead th {\n",
       "        text-align: right;\n",
       "    }\n",
       "</style>\n",
       "<table border=\"1\" class=\"dataframe\">\n",
       "  <thead>\n",
       "    <tr style=\"text-align: right;\">\n",
       "      <th></th>\n",
       "      <th>Country</th>\n",
       "      <th>Capital</th>\n",
       "      <th>Population</th>\n",
       "    </tr>\n",
       "  </thead>\n",
       "  <tbody>\n",
       "    <tr>\n",
       "      <th>0</th>\n",
       "      <td>France</td>\n",
       "      <td>Paris</td>\n",
       "      <td>1234000</td>\n",
       "    </tr>\n",
       "    <tr>\n",
       "      <th>1</th>\n",
       "      <td>India</td>\n",
       "      <td>New Delhi</td>\n",
       "      <td>123523423523</td>\n",
       "    </tr>\n",
       "    <tr>\n",
       "      <th>2</th>\n",
       "      <td>Brazil</td>\n",
       "      <td>Brasilia</td>\n",
       "      <td>125523521</td>\n",
       "    </tr>\n",
       "  </tbody>\n",
       "</table>\n",
       "</div>"
      ],
      "text/plain": [
       "  Country    Capital    Population\n",
       "0  France      Paris       1234000\n",
       "1   India  New Delhi  123523423523\n",
       "2  Brazil   Brasilia     125523521"
      ]
     },
     "execution_count": 62,
     "metadata": {},
     "output_type": "execute_result"
    }
   ],
   "source": [
    "df"
   ]
  },
  {
   "cell_type": "code",
   "execution_count": 112,
   "id": "46e39cea-cff5-469e-bcb4-b0d6366224ca",
   "metadata": {},
   "outputs": [
    {
     "data": {
      "text/html": [
       "<div>\n",
       "<style scoped>\n",
       "    .dataframe tbody tr th:only-of-type {\n",
       "        vertical-align: middle;\n",
       "    }\n",
       "\n",
       "    .dataframe tbody tr th {\n",
       "        vertical-align: top;\n",
       "    }\n",
       "\n",
       "    .dataframe thead th {\n",
       "        text-align: right;\n",
       "    }\n",
       "</style>\n",
       "<table border=\"1\" class=\"dataframe\">\n",
       "  <thead>\n",
       "    <tr style=\"text-align: right;\">\n",
       "      <th></th>\n",
       "      <th>Capital</th>\n",
       "      <th>Population</th>\n",
       "    </tr>\n",
       "    <tr>\n",
       "      <th>Country</th>\n",
       "      <th></th>\n",
       "      <th></th>\n",
       "    </tr>\n",
       "  </thead>\n",
       "  <tbody>\n",
       "    <tr>\n",
       "      <th>France</th>\n",
       "      <td>Paris</td>\n",
       "      <td>1234000</td>\n",
       "    </tr>\n",
       "    <tr>\n",
       "      <th>India</th>\n",
       "      <td>New Delhi</td>\n",
       "      <td>123523423523</td>\n",
       "    </tr>\n",
       "    <tr>\n",
       "      <th>Brazil</th>\n",
       "      <td>Brasilia</td>\n",
       "      <td>125523521</td>\n",
       "    </tr>\n",
       "  </tbody>\n",
       "</table>\n",
       "</div>"
      ],
      "text/plain": [
       "           Capital    Population\n",
       "Country                         \n",
       "France       Paris       1234000\n",
       "India    New Delhi  123523423523\n",
       "Brazil    Brasilia     125523521"
      ]
     },
     "execution_count": 112,
     "metadata": {},
     "output_type": "execute_result"
    }
   ],
   "source": [
    "df_index_with_country = df.set_index('Country')\n",
    "\n",
    "df_index_with_country    #set_index 메서드"
   ]
  },
  {
   "cell_type": "markdown",
   "id": "b1718078-d8d2-486f-9a2b-74f80ca08e1e",
   "metadata": {},
   "source": [
    "하나의 인덱스만 가능한 것이 아니다. DataFrame은 여러개의 인덱스를 가질 수 있다."
   ]
  },
  {
   "cell_type": "code",
   "execution_count": 64,
   "id": "9d1e426f-c337-4851-af5d-1581934810e3",
   "metadata": {},
   "outputs": [
    {
     "data": {
      "text/html": [
       "<div>\n",
       "<style scoped>\n",
       "    .dataframe tbody tr th:only-of-type {\n",
       "        vertical-align: middle;\n",
       "    }\n",
       "\n",
       "    .dataframe tbody tr th {\n",
       "        vertical-align: top;\n",
       "    }\n",
       "\n",
       "    .dataframe thead th {\n",
       "        text-align: right;\n",
       "    }\n",
       "</style>\n",
       "<table border=\"1\" class=\"dataframe\">\n",
       "  <thead>\n",
       "    <tr style=\"text-align: right;\">\n",
       "      <th></th>\n",
       "      <th></th>\n",
       "      <th>Population</th>\n",
       "    </tr>\n",
       "    <tr>\n",
       "      <th>Country</th>\n",
       "      <th>Capital</th>\n",
       "      <th></th>\n",
       "    </tr>\n",
       "  </thead>\n",
       "  <tbody>\n",
       "    <tr>\n",
       "      <th>France</th>\n",
       "      <th>Paris</th>\n",
       "      <td>1234000</td>\n",
       "    </tr>\n",
       "    <tr>\n",
       "      <th>India</th>\n",
       "      <th>New Delhi</th>\n",
       "      <td>123523423523</td>\n",
       "    </tr>\n",
       "    <tr>\n",
       "      <th>Brazil</th>\n",
       "      <th>Brasilia</th>\n",
       "      <td>125523521</td>\n",
       "    </tr>\n",
       "  </tbody>\n",
       "</table>\n",
       "</div>"
      ],
      "text/plain": [
       "                     Population\n",
       "Country Capital                \n",
       "France  Paris           1234000\n",
       "India   New Delhi  123523423523\n",
       "Brazil  Brasilia      125523521"
      ]
     },
     "execution_count": 64,
     "metadata": {},
     "output_type": "execute_result"
    }
   ],
   "source": [
    "df_index_with_country_and_capital = df.set_index(['Country','Capital'])\n",
    "\n",
    "df_index_with_country_and_capital"
   ]
  },
  {
   "cell_type": "code",
   "execution_count": 66,
   "id": "c7d25225-6ffe-4574-9559-9adfa1514c7e",
   "metadata": {},
   "outputs": [
    {
     "data": {
      "text/html": [
       "<div>\n",
       "<style scoped>\n",
       "    .dataframe tbody tr th:only-of-type {\n",
       "        vertical-align: middle;\n",
       "    }\n",
       "\n",
       "    .dataframe tbody tr th {\n",
       "        vertical-align: top;\n",
       "    }\n",
       "\n",
       "    .dataframe thead th {\n",
       "        text-align: right;\n",
       "    }\n",
       "</style>\n",
       "<table border=\"1\" class=\"dataframe\">\n",
       "  <thead>\n",
       "    <tr style=\"text-align: right;\">\n",
       "      <th></th>\n",
       "      <th></th>\n",
       "      <th>Population</th>\n",
       "    </tr>\n",
       "    <tr>\n",
       "      <th>Country</th>\n",
       "      <th>Capital</th>\n",
       "      <th></th>\n",
       "    </tr>\n",
       "  </thead>\n",
       "  <tbody>\n",
       "    <tr>\n",
       "      <th>France</th>\n",
       "      <th>Paris</th>\n",
       "      <td>1234000</td>\n",
       "    </tr>\n",
       "    <tr>\n",
       "      <th>India</th>\n",
       "      <th>New Delhi</th>\n",
       "      <td>123523423523</td>\n",
       "    </tr>\n",
       "  </tbody>\n",
       "</table>\n",
       "</div>"
      ],
      "text/plain": [
       "                     Population\n",
       "Country Capital                \n",
       "France  Paris           1234000\n",
       "India   New Delhi  123523423523"
      ]
     },
     "execution_count": 66,
     "metadata": {},
     "output_type": "execute_result"
    }
   ],
   "source": [
    "# 인덱싱\n",
    "df_index_with_country_and_capital.loc[['France','India']]"
   ]
  },
  {
   "cell_type": "markdown",
   "id": "37078a4a-9654-4783-9444-9889e87ddf0f",
   "metadata": {},
   "source": [
    "`loc[]` : 인덱스 기준으로 행데이터 읽기\n",
    "\n",
    "`iloc[]` : 행번호를 기준으로 행데이터 읽기 "
   ]
  },
  {
   "cell_type": "markdown",
   "id": "d1e99110-cf39-4cb5-90b2-c85121664fd1",
   "metadata": {},
   "source": [
    "-------------------\n",
    "### Dataframe의 column은 어떤 데이터타입일까\n",
    "\n",
    "기존에 학습한 데이터프레임 생성 방식은 아래처럼 모든 데이터를 직접 명시해주는 것이었습니다.\n",
    "\n",
    "아래 코드는 각 열을 파이썬의 리스트 형태로 입력하는 방식입니다.\n",
    "리스트 형태로 입력된 데이터를 기반으로 판다스가 Series를 만들고 Series들로 DataFrame을 만드는 것이죠."
   ]
  },
  {
   "cell_type": "code",
   "execution_count": 67,
   "id": "5e232c47-7a03-4823-b819-bcdf802684be",
   "metadata": {},
   "outputs": [
    {
     "data": {
      "text/html": [
       "<div>\n",
       "<style scoped>\n",
       "    .dataframe tbody tr th:only-of-type {\n",
       "        vertical-align: middle;\n",
       "    }\n",
       "\n",
       "    .dataframe tbody tr th {\n",
       "        vertical-align: top;\n",
       "    }\n",
       "\n",
       "    .dataframe thead th {\n",
       "        text-align: right;\n",
       "    }\n",
       "</style>\n",
       "<table border=\"1\" class=\"dataframe\">\n",
       "  <thead>\n",
       "    <tr style=\"text-align: right;\">\n",
       "      <th></th>\n",
       "      <th>col1</th>\n",
       "      <th>col2</th>\n",
       "      <th>col3</th>\n",
       "    </tr>\n",
       "  </thead>\n",
       "  <tbody>\n",
       "    <tr>\n",
       "      <th>A</th>\n",
       "      <td>1</td>\n",
       "      <td>5</td>\n",
       "      <td>9</td>\n",
       "    </tr>\n",
       "    <tr>\n",
       "      <th>B</th>\n",
       "      <td>2</td>\n",
       "      <td>6</td>\n",
       "      <td>10</td>\n",
       "    </tr>\n",
       "    <tr>\n",
       "      <th>C</th>\n",
       "      <td>3</td>\n",
       "      <td>7</td>\n",
       "      <td>11</td>\n",
       "    </tr>\n",
       "    <tr>\n",
       "      <th>D</th>\n",
       "      <td>4</td>\n",
       "      <td>8</td>\n",
       "      <td>12</td>\n",
       "    </tr>\n",
       "  </tbody>\n",
       "</table>\n",
       "</div>"
      ],
      "text/plain": [
       "   col1  col2  col3\n",
       "A     1     5     9\n",
       "B     2     6    10\n",
       "C     3     7    11\n",
       "D     4     8    12"
      ]
     },
     "execution_count": 67,
     "metadata": {},
     "output_type": "execute_result"
    }
   ],
   "source": [
    "data = {'col1': [1, 2, 3, 4],\n",
    "        'col2': [5, 6, 7, 8],\n",
    "        'col3': [9, 10, 11, 12]}\n",
    "\n",
    "df_3 = pd.DataFrame(data, \n",
    "                    index=['A', 'B', 'C', 'D'])\n",
    "\n",
    "df_3"
   ]
  },
  {
   "cell_type": "code",
   "execution_count": 69,
   "id": "d5738867-e12c-4712-9b35-01d1833d6186",
   "metadata": {},
   "outputs": [],
   "source": [
    "s_1 = pd.Series([1, 2, 3, 4], index=['A', 'B', 'C', 'D'])\n",
    "s_2 = pd.Series([5, 6, 7, 8], index=['A', 'B', 'C', 'D'])\n",
    "s_3 = pd.Series([9, 10, 11, 12], index=['A', 'B', 'C', 'D'])\n"
   ]
  },
  {
   "cell_type": "code",
   "execution_count": 70,
   "id": "a1e49d12-8c90-4a98-aa14-9dfeb18207d3",
   "metadata": {},
   "outputs": [
    {
     "data": {
      "text/plain": [
       "A    1\n",
       "B    2\n",
       "C    3\n",
       "D    4\n",
       "dtype: int64"
      ]
     },
     "execution_count": 70,
     "metadata": {},
     "output_type": "execute_result"
    }
   ],
   "source": [
    "s_1"
   ]
  },
  {
   "cell_type": "code",
   "execution_count": 71,
   "id": "a600a2a9-cdd1-4a03-b0dc-046c6bb37d5c",
   "metadata": {},
   "outputs": [
    {
     "data": {
      "text/plain": [
       "A    5\n",
       "B    6\n",
       "C    7\n",
       "D    8\n",
       "dtype: int64"
      ]
     },
     "execution_count": 71,
     "metadata": {},
     "output_type": "execute_result"
    }
   ],
   "source": [
    "s_2"
   ]
  },
  {
   "cell_type": "code",
   "execution_count": 72,
   "id": "d15a9754-139a-40c5-a71f-971c3dc23fee",
   "metadata": {},
   "outputs": [
    {
     "data": {
      "text/plain": [
       "A     9\n",
       "B    10\n",
       "C    11\n",
       "D    12\n",
       "dtype: int64"
      ]
     },
     "execution_count": 72,
     "metadata": {},
     "output_type": "execute_result"
    }
   ],
   "source": [
    "s_3"
   ]
  },
  {
   "cell_type": "code",
   "execution_count": 73,
   "id": "194c4b4e-84d2-479e-b075-b1d7c9430204",
   "metadata": {},
   "outputs": [
    {
     "data": {
      "text/html": [
       "<div>\n",
       "<style scoped>\n",
       "    .dataframe tbody tr th:only-of-type {\n",
       "        vertical-align: middle;\n",
       "    }\n",
       "\n",
       "    .dataframe tbody tr th {\n",
       "        vertical-align: top;\n",
       "    }\n",
       "\n",
       "    .dataframe thead th {\n",
       "        text-align: right;\n",
       "    }\n",
       "</style>\n",
       "<table border=\"1\" class=\"dataframe\">\n",
       "  <thead>\n",
       "    <tr style=\"text-align: right;\">\n",
       "      <th></th>\n",
       "      <th>col1</th>\n",
       "      <th>col2</th>\n",
       "      <th>col3</th>\n",
       "    </tr>\n",
       "  </thead>\n",
       "  <tbody>\n",
       "    <tr>\n",
       "      <th>A</th>\n",
       "      <td>1</td>\n",
       "      <td>5</td>\n",
       "      <td>9</td>\n",
       "    </tr>\n",
       "    <tr>\n",
       "      <th>B</th>\n",
       "      <td>2</td>\n",
       "      <td>6</td>\n",
       "      <td>10</td>\n",
       "    </tr>\n",
       "    <tr>\n",
       "      <th>C</th>\n",
       "      <td>3</td>\n",
       "      <td>7</td>\n",
       "      <td>11</td>\n",
       "    </tr>\n",
       "    <tr>\n",
       "      <th>D</th>\n",
       "      <td>4</td>\n",
       "      <td>8</td>\n",
       "      <td>12</td>\n",
       "    </tr>\n",
       "  </tbody>\n",
       "</table>\n",
       "</div>"
      ],
      "text/plain": [
       "   col1  col2  col3\n",
       "A     1     5     9\n",
       "B     2     6    10\n",
       "C     3     7    11\n",
       "D     4     8    12"
      ]
     },
     "execution_count": 73,
     "metadata": {},
     "output_type": "execute_result"
    }
   ],
   "source": [
    "data={'col1':s_1,\n",
    "     'col2': s_2,\n",
    "     'col3': s_3}\n",
    "\n",
    "df_4 = pd.DataFrame(data, index=['A','B','C','D'])\n",
    "\n",
    "df_4"
   ]
  },
  {
   "cell_type": "markdown",
   "id": "9058f476-6416-456b-ae1c-a3123fbfbb74",
   "metadata": {},
   "source": [
    "------------------\n",
    "# Numpy ndarray와 비교\n",
    "### 공통점 : NumPy 다차원배열처럼 많은 연산들이 요소들간에 이뤄진다."
   ]
  },
  {
   "cell_type": "code",
   "execution_count": 74,
   "id": "6eaf90db-f427-4e68-8d22-103437fe6795",
   "metadata": {},
   "outputs": [
    {
     "data": {
      "text/plain": [
       "a    3\n",
       "b   -5\n",
       "c    7\n",
       "d    4\n",
       "e    7\n",
       "f    3\n",
       "dtype: int64"
      ]
     },
     "execution_count": 74,
     "metadata": {},
     "output_type": "execute_result"
    }
   ],
   "source": [
    "s"
   ]
  },
  {
   "cell_type": "code",
   "execution_count": 76,
   "id": "11430101-6cb5-481e-a8f6-fd0b75df492e",
   "metadata": {},
   "outputs": [
    {
     "data": {
      "text/plain": [
       "pandas.core.series.Series"
      ]
     },
     "execution_count": 76,
     "metadata": {},
     "output_type": "execute_result"
    }
   ],
   "source": [
    "type(s)"
   ]
  },
  {
   "cell_type": "code",
   "execution_count": 75,
   "id": "c0ffc5eb-2778-44aa-a7dd-e3d318383094",
   "metadata": {},
   "outputs": [
    {
     "data": {
      "text/plain": [
       "a    103\n",
       "b     95\n",
       "c    107\n",
       "d    104\n",
       "e    107\n",
       "f    103\n",
       "dtype: int64"
      ]
     },
     "execution_count": 75,
     "metadata": {},
     "output_type": "execute_result"
    }
   ],
   "source": [
    "s+100  # 각 행에 100씩을 더한다. Series와 DataFrame는 연산이 가능하다."
   ]
  },
  {
   "cell_type": "code",
   "execution_count": 77,
   "id": "63556d5b-7084-475d-9d1a-ed25e74cf281",
   "metadata": {},
   "outputs": [
    {
     "data": {
      "text/html": [
       "<div>\n",
       "<style scoped>\n",
       "    .dataframe tbody tr th:only-of-type {\n",
       "        vertical-align: middle;\n",
       "    }\n",
       "\n",
       "    .dataframe tbody tr th {\n",
       "        vertical-align: top;\n",
       "    }\n",
       "\n",
       "    .dataframe thead th {\n",
       "        text-align: right;\n",
       "    }\n",
       "</style>\n",
       "<table border=\"1\" class=\"dataframe\">\n",
       "  <thead>\n",
       "    <tr style=\"text-align: right;\">\n",
       "      <th></th>\n",
       "      <th>Country</th>\n",
       "      <th>Capital</th>\n",
       "      <th>Population</th>\n",
       "    </tr>\n",
       "  </thead>\n",
       "  <tbody>\n",
       "    <tr>\n",
       "      <th>0</th>\n",
       "      <td>France</td>\n",
       "      <td>Paris</td>\n",
       "      <td>1234000</td>\n",
       "    </tr>\n",
       "    <tr>\n",
       "      <th>1</th>\n",
       "      <td>India</td>\n",
       "      <td>New Delhi</td>\n",
       "      <td>123523423523</td>\n",
       "    </tr>\n",
       "    <tr>\n",
       "      <th>2</th>\n",
       "      <td>Brazil</td>\n",
       "      <td>Brasilia</td>\n",
       "      <td>125523521</td>\n",
       "    </tr>\n",
       "  </tbody>\n",
       "</table>\n",
       "</div>"
      ],
      "text/plain": [
       "  Country    Capital    Population\n",
       "0  France      Paris       1234000\n",
       "1   India  New Delhi  123523423523\n",
       "2  Brazil   Brasilia     125523521"
      ]
     },
     "execution_count": 77,
     "metadata": {},
     "output_type": "execute_result"
    }
   ],
   "source": [
    "df"
   ]
  },
  {
   "cell_type": "code",
   "execution_count": 78,
   "id": "c133db61-2f17-4a45-9fe2-250fcc724a20",
   "metadata": {},
   "outputs": [
    {
     "data": {
      "text/plain": [
       "0       FranceParis\n",
       "1    IndiaNew Delhi\n",
       "2    BrazilBrasilia\n",
       "dtype: object"
      ]
     },
     "execution_count": 78,
     "metadata": {},
     "output_type": "execute_result"
    }
   ],
   "source": [
    "df['Country'] + df['Capital']"
   ]
  },
  {
   "cell_type": "markdown",
   "id": "07917e40-177c-400e-b665-846402da31c9",
   "metadata": {},
   "source": [
    "------------------\n",
    "### 차이점\n",
    "\n",
    "Series간 연산을 하는 경우, index를 기반으로 이루어진다.\n",
    "(모든 Numpy 다차원배열은 shape가 동일하다면 index도 동일하기에 index가 달라 연산이 이루어지지 않는 경우는 없음)"
   ]
  },
  {
   "cell_type": "code",
   "execution_count": 79,
   "id": "280ed05a-7e99-4e9a-8aa9-2f1ecf162088",
   "metadata": {},
   "outputs": [
    {
     "data": {
      "text/plain": [
       "a    3\n",
       "b   -5\n",
       "c    7\n",
       "d    4\n",
       "e    7\n",
       "f    3\n",
       "dtype: int64"
      ]
     },
     "execution_count": 79,
     "metadata": {},
     "output_type": "execute_result"
    }
   ],
   "source": [
    "s"
   ]
  },
  {
   "cell_type": "code",
   "execution_count": 81,
   "id": "05855ab4-a230-4830-9707-8a9e64590008",
   "metadata": {},
   "outputs": [],
   "source": [
    "s1=s[['a','b']]\n",
    "s2=s[['b','c']]"
   ]
  },
  {
   "cell_type": "code",
   "execution_count": 82,
   "id": "3f5f680d-6732-46fe-8cb8-51097cb55bf4",
   "metadata": {},
   "outputs": [
    {
     "data": {
      "text/plain": [
       "a    3\n",
       "b   -5\n",
       "dtype: int64"
      ]
     },
     "execution_count": 82,
     "metadata": {},
     "output_type": "execute_result"
    }
   ],
   "source": [
    "s1"
   ]
  },
  {
   "cell_type": "code",
   "execution_count": 83,
   "id": "9121fc7c-7c33-4fa3-b962-bb4879002657",
   "metadata": {},
   "outputs": [
    {
     "data": {
      "text/plain": [
       "b   -5\n",
       "c    7\n",
       "dtype: int64"
      ]
     },
     "execution_count": 83,
     "metadata": {},
     "output_type": "execute_result"
    }
   ],
   "source": [
    "s2"
   ]
  },
  {
   "cell_type": "code",
   "execution_count": 85,
   "id": "9e656a24-4115-4ed4-9768-9ef65b178cbe",
   "metadata": {},
   "outputs": [
    {
     "data": {
      "text/plain": [
       "a     NaN\n",
       "b   -10.0\n",
       "c     NaN\n",
       "dtype: float64"
      ]
     },
     "execution_count": 85,
     "metadata": {},
     "output_type": "execute_result"
    }
   ],
   "source": [
    "s1 + s2"
   ]
  },
  {
   "cell_type": "raw",
   "id": "338cd3b6-7628-47aa-845d-e90cae6744d2",
   "metadata": {},
   "source": [
    "결과값이 NaN이 나오는 이유는?? 표현 불가능한 수치형 데이터"
   ]
  },
  {
   "cell_type": "markdown",
   "id": "50b0ef57-51d0-43cf-947a-16d201933256",
   "metadata": {},
   "source": [
    "--------------------\n",
    "# 실습"
   ]
  },
  {
   "cell_type": "markdown",
   "id": "8819059f-3199-4288-a78f-2d105ac751f1",
   "metadata": {
    "id": "fCOg8j6nzvYd"
   },
   "source": [
    "<div class=\"alert alert-success\">\n",
    "    <b>EXERCISE</b>: df_index_with_country이 데이터로 주어졌을때 각 국가의 수도 인구는 프랑스 수도 인구 대비 몇 배인지 구하세요.\n",
    "</div>\n"
   ]
  },
  {
   "cell_type": "code",
   "execution_count": 113,
   "id": "bd4709c0-5b4a-4073-bdab-8fa727bec319",
   "metadata": {},
   "outputs": [
    {
     "data": {
      "text/html": [
       "<div>\n",
       "<style scoped>\n",
       "    .dataframe tbody tr th:only-of-type {\n",
       "        vertical-align: middle;\n",
       "    }\n",
       "\n",
       "    .dataframe tbody tr th {\n",
       "        vertical-align: top;\n",
       "    }\n",
       "\n",
       "    .dataframe thead th {\n",
       "        text-align: right;\n",
       "    }\n",
       "</style>\n",
       "<table border=\"1\" class=\"dataframe\">\n",
       "  <thead>\n",
       "    <tr style=\"text-align: right;\">\n",
       "      <th></th>\n",
       "      <th>Capital</th>\n",
       "      <th>Population</th>\n",
       "    </tr>\n",
       "    <tr>\n",
       "      <th>Country</th>\n",
       "      <th></th>\n",
       "      <th></th>\n",
       "    </tr>\n",
       "  </thead>\n",
       "  <tbody>\n",
       "    <tr>\n",
       "      <th>France</th>\n",
       "      <td>Paris</td>\n",
       "      <td>1234000</td>\n",
       "    </tr>\n",
       "    <tr>\n",
       "      <th>India</th>\n",
       "      <td>New Delhi</td>\n",
       "      <td>123523423523</td>\n",
       "    </tr>\n",
       "    <tr>\n",
       "      <th>Brazil</th>\n",
       "      <td>Brasilia</td>\n",
       "      <td>125523521</td>\n",
       "    </tr>\n",
       "  </tbody>\n",
       "</table>\n",
       "</div>"
      ],
      "text/plain": [
       "           Capital    Population\n",
       "Country                         \n",
       "France       Paris       1234000\n",
       "India    New Delhi  123523423523\n",
       "Brazil    Brasilia     125523521"
      ]
     },
     "execution_count": 113,
     "metadata": {},
     "output_type": "execute_result"
    }
   ],
   "source": [
    "df_index_with_country"
   ]
  },
  {
   "cell_type": "code",
   "execution_count": 114,
   "id": "e7bbfa22-804d-4914-bf66-ea0b1d3f867a",
   "metadata": {},
   "outputs": [
    {
     "data": {
      "text/plain": [
       "Country\n",
       "France         1.000000\n",
       "India     100100.019062\n",
       "Brazil       101.720844\n",
       "Name: Population, dtype: float64"
      ]
     },
     "execution_count": 114,
     "metadata": {},
     "output_type": "execute_result"
    }
   ],
   "source": [
    "df_index_with_country['Population']/df_index_with_country['Population'][0]"
   ]
  },
  {
   "cell_type": "code",
   "execution_count": null,
   "id": "153d0e9c-ab23-4822-9a7a-025e5923dc46",
   "metadata": {},
   "outputs": [],
   "source": [
    "df_index_with_country"
   ]
  },
  {
   "cell_type": "code",
   "execution_count": null,
   "id": "b82a3f88-6b6b-4fed-b6b0-dbd7c4febbc4",
   "metadata": {},
   "outputs": [],
   "source": []
  },
  {
   "cell_type": "markdown",
   "id": "a7fda6ac-b09e-4fd8-92c7-beb68097c663",
   "metadata": {},
   "source": [
    "# 3. Pandas Importing/ Exporting\n",
    "\n",
    "실무에서는 이미 데이터가 존재하는 경우가 많고, 그 데이터를 판다스로 importing해서 분석을 진행한다.\n",
    "CSV나 엑셀 형태의 파일로 저장된 데이터를 판다스로 가져오거나 직접 데이터베이스에 연결해서 데이터를 가져와서 작업하는 경우가 일반적이다.\n",
    "\n",
    "pandas가 지원하는 Importing/Exporting 포맷은 아래와 같습니다.\n",
    "- csv (모든 text파일 연결에 사용)\n",
    "- excel\n",
    "- sql (모든 데이터베이스 연결에 사용)\n",
    "- hdf5\n",
    "- json\n",
    "- html\n",
    "- pickle\n",
    "- ..."
   ]
  },
  {
   "cell_type": "markdown",
   "id": "f463b0da-87a9-498a-8ddc-01e11d684964",
   "metadata": {},
   "source": [
    "### Importing 함수의 경우 **pd.read** 형태를 가진다.\n",
    "### Exporting 함수의 경우 **df.to** 형태를 가진다."
   ]
  },
  {
   "cell_type": "code",
   "execution_count": 124,
   "id": "941e2aff-37d6-4e76-ae26-c786e2688af0",
   "metadata": {},
   "outputs": [
    {
     "data": {
      "text/plain": [
       "'\\nJSON(제이슨[1], JavaScript Object Notation)은 \\n속성-값 쌍( attribute–value pairs and array data types \\n(or any other serializable value)) 또는 \"키-값 쌍\"으로 이루어진 \\n데이터 오브젝트를 전달하기 위해 인간이 읽을 수 있는 텍스트를 사용하는 개방형 표준 포맷이다.'"
      ]
     },
     "execution_count": 124,
     "metadata": {},
     "output_type": "execute_result"
    }
   ],
   "source": [
    "json_data = df.to_json()\n",
    "json_data\n",
    "\n",
    "\n",
    "# JSON(제이슨[1], JavaScript Object Notation)은 \n",
    "# 속성-값 쌍( attribute–value pairs and array data types \n",
    "# (or any other serializable value)) 또는 \"키-값 쌍\"으로 이루어진 \n",
    "# 데이터 오브젝트를 전달하기 위해 인간이 읽을 수 있는 텍스트를 사용하는 개방형 표준 포맷이다."
   ]
  },
  {
   "cell_type": "code",
   "execution_count": 117,
   "id": "ef6715d4-044b-4875-b366-f868e8011c5f",
   "metadata": {},
   "outputs": [
    {
     "data": {
      "text/html": [
       "<div>\n",
       "<style scoped>\n",
       "    .dataframe tbody tr th:only-of-type {\n",
       "        vertical-align: middle;\n",
       "    }\n",
       "\n",
       "    .dataframe tbody tr th {\n",
       "        vertical-align: top;\n",
       "    }\n",
       "\n",
       "    .dataframe thead th {\n",
       "        text-align: right;\n",
       "    }\n",
       "</style>\n",
       "<table border=\"1\" class=\"dataframe\">\n",
       "  <thead>\n",
       "    <tr style=\"text-align: right;\">\n",
       "      <th></th>\n",
       "      <th>Country</th>\n",
       "      <th>Capital</th>\n",
       "      <th>Population</th>\n",
       "    </tr>\n",
       "  </thead>\n",
       "  <tbody>\n",
       "    <tr>\n",
       "      <th>0</th>\n",
       "      <td>France</td>\n",
       "      <td>Paris</td>\n",
       "      <td>1234000</td>\n",
       "    </tr>\n",
       "    <tr>\n",
       "      <th>1</th>\n",
       "      <td>India</td>\n",
       "      <td>New Delhi</td>\n",
       "      <td>123523423523</td>\n",
       "    </tr>\n",
       "    <tr>\n",
       "      <th>2</th>\n",
       "      <td>Brazil</td>\n",
       "      <td>Brasilia</td>\n",
       "      <td>125523521</td>\n",
       "    </tr>\n",
       "  </tbody>\n",
       "</table>\n",
       "</div>"
      ],
      "text/plain": [
       "  Country    Capital    Population\n",
       "0  France      Paris       1234000\n",
       "1   India  New Delhi  123523423523\n",
       "2  Brazil   Brasilia     125523521"
      ]
     },
     "execution_count": 117,
     "metadata": {},
     "output_type": "execute_result"
    }
   ],
   "source": [
    "pd.read_json(json_data) "
   ]
  },
  {
   "cell_type": "code",
   "execution_count": 118,
   "id": "eda0b4ad-bf9c-4d75-a3f8-bbd76e634de2",
   "metadata": {},
   "outputs": [],
   "source": [
    "# 파일다운로드 받기\n",
    "#!wget -O 'iris_sample.csv' https://raw.githubusercontent.com/duc-ke/edu_jupyter_pandas/master/dataset/iris_sample.csv"
   ]
  },
  {
   "cell_type": "code",
   "execution_count": 119,
   "id": "4a1fa37f-92d9-4629-a7a6-3c6017dd096c",
   "metadata": {},
   "outputs": [],
   "source": [
    "import pandas as pd"
   ]
  },
  {
   "cell_type": "code",
   "execution_count": 120,
   "id": "14d428c0-e6c7-4162-8965-9c6927a8f464",
   "metadata": {},
   "outputs": [],
   "source": [
    "url = 'https://raw.githubusercontent.com/duc-ke/edu_jupyter_pandas/master/dataset/iris_sample.csv'"
   ]
  },
  {
   "cell_type": "code",
   "execution_count": 121,
   "id": "b973834a-9aa3-4401-b9db-f19a45ea482f",
   "metadata": {},
   "outputs": [],
   "source": [
    "df_iris_sample = pd.read_csv(url) # read_포맷종류"
   ]
  },
  {
   "cell_type": "code",
   "execution_count": 122,
   "id": "e6361e82-9530-40b4-b547-392e969f5564",
   "metadata": {},
   "outputs": [
    {
     "data": {
      "text/html": [
       "<div>\n",
       "<style scoped>\n",
       "    .dataframe tbody tr th:only-of-type {\n",
       "        vertical-align: middle;\n",
       "    }\n",
       "\n",
       "    .dataframe tbody tr th {\n",
       "        vertical-align: top;\n",
       "    }\n",
       "\n",
       "    .dataframe thead th {\n",
       "        text-align: right;\n",
       "    }\n",
       "</style>\n",
       "<table border=\"1\" class=\"dataframe\">\n",
       "  <thead>\n",
       "    <tr style=\"text-align: right;\">\n",
       "      <th></th>\n",
       "      <th>sepal_length</th>\n",
       "      <th>sepal_width</th>\n",
       "      <th>petal_length</th>\n",
       "      <th>petal_width</th>\n",
       "      <th>species</th>\n",
       "    </tr>\n",
       "  </thead>\n",
       "  <tbody>\n",
       "    <tr>\n",
       "      <th>0</th>\n",
       "      <td>5.1</td>\n",
       "      <td>3.5</td>\n",
       "      <td>1.4</td>\n",
       "      <td>0.2</td>\n",
       "      <td>setosa</td>\n",
       "    </tr>\n",
       "    <tr>\n",
       "      <th>1</th>\n",
       "      <td>4.9</td>\n",
       "      <td>3.0</td>\n",
       "      <td>1.4</td>\n",
       "      <td>0.2</td>\n",
       "      <td>setosa</td>\n",
       "    </tr>\n",
       "    <tr>\n",
       "      <th>2</th>\n",
       "      <td>4.7</td>\n",
       "      <td>3.2</td>\n",
       "      <td>1.3</td>\n",
       "      <td>0.2</td>\n",
       "      <td>setosa</td>\n",
       "    </tr>\n",
       "    <tr>\n",
       "      <th>3</th>\n",
       "      <td>4.6</td>\n",
       "      <td>3.1</td>\n",
       "      <td>1.5</td>\n",
       "      <td>0.2</td>\n",
       "      <td>setosa</td>\n",
       "    </tr>\n",
       "    <tr>\n",
       "      <th>4</th>\n",
       "      <td>5.0</td>\n",
       "      <td>3.6</td>\n",
       "      <td>1.4</td>\n",
       "      <td>0.2</td>\n",
       "      <td>setosa</td>\n",
       "    </tr>\n",
       "    <tr>\n",
       "      <th>5</th>\n",
       "      <td>5.4</td>\n",
       "      <td>3.9</td>\n",
       "      <td>1.7</td>\n",
       "      <td>0.4</td>\n",
       "      <td>setosa</td>\n",
       "    </tr>\n",
       "    <tr>\n",
       "      <th>6</th>\n",
       "      <td>4.6</td>\n",
       "      <td>3.4</td>\n",
       "      <td>1.4</td>\n",
       "      <td>0.3</td>\n",
       "      <td>setosa</td>\n",
       "    </tr>\n",
       "    <tr>\n",
       "      <th>7</th>\n",
       "      <td>5.0</td>\n",
       "      <td>3.4</td>\n",
       "      <td>1.5</td>\n",
       "      <td>0.2</td>\n",
       "      <td>setosa</td>\n",
       "    </tr>\n",
       "    <tr>\n",
       "      <th>8</th>\n",
       "      <td>4.4</td>\n",
       "      <td>2.9</td>\n",
       "      <td>1.4</td>\n",
       "      <td>0.2</td>\n",
       "      <td>setosa</td>\n",
       "    </tr>\n",
       "    <tr>\n",
       "      <th>9</th>\n",
       "      <td>4.9</td>\n",
       "      <td>3.1</td>\n",
       "      <td>1.5</td>\n",
       "      <td>0.1</td>\n",
       "      <td>setosa</td>\n",
       "    </tr>\n",
       "    <tr>\n",
       "      <th>10</th>\n",
       "      <td>5.4</td>\n",
       "      <td>3.7</td>\n",
       "      <td>1.5</td>\n",
       "      <td>0.2</td>\n",
       "      <td>setosa</td>\n",
       "    </tr>\n",
       "    <tr>\n",
       "      <th>11</th>\n",
       "      <td>4.8</td>\n",
       "      <td>3.4</td>\n",
       "      <td>1.6</td>\n",
       "      <td>0.2</td>\n",
       "      <td>setosa</td>\n",
       "    </tr>\n",
       "    <tr>\n",
       "      <th>12</th>\n",
       "      <td>4.8</td>\n",
       "      <td>3.0</td>\n",
       "      <td>NaN</td>\n",
       "      <td>0.1</td>\n",
       "      <td>setosa</td>\n",
       "    </tr>\n",
       "    <tr>\n",
       "      <th>13</th>\n",
       "      <td>4.3</td>\n",
       "      <td>3.0</td>\n",
       "      <td>1.1</td>\n",
       "      <td>0.1</td>\n",
       "      <td>virginica</td>\n",
       "    </tr>\n",
       "    <tr>\n",
       "      <th>14</th>\n",
       "      <td>5.8</td>\n",
       "      <td>4.0</td>\n",
       "      <td>NaN</td>\n",
       "      <td>0.2</td>\n",
       "      <td>virginica</td>\n",
       "    </tr>\n",
       "    <tr>\n",
       "      <th>15</th>\n",
       "      <td>5.7</td>\n",
       "      <td>NaN</td>\n",
       "      <td>1.5</td>\n",
       "      <td>0.4</td>\n",
       "      <td>virginica</td>\n",
       "    </tr>\n",
       "    <tr>\n",
       "      <th>16</th>\n",
       "      <td>5.4</td>\n",
       "      <td>3.9</td>\n",
       "      <td>1.3</td>\n",
       "      <td>0.4</td>\n",
       "      <td>virginica</td>\n",
       "    </tr>\n",
       "    <tr>\n",
       "      <th>17</th>\n",
       "      <td>5.1</td>\n",
       "      <td>3.5</td>\n",
       "      <td>NaN</td>\n",
       "      <td>0.3</td>\n",
       "      <td>virginica</td>\n",
       "    </tr>\n",
       "    <tr>\n",
       "      <th>18</th>\n",
       "      <td>5.7</td>\n",
       "      <td>3.8</td>\n",
       "      <td>1.7</td>\n",
       "      <td>0.3</td>\n",
       "      <td>virginica</td>\n",
       "    </tr>\n",
       "    <tr>\n",
       "      <th>19</th>\n",
       "      <td>5.1</td>\n",
       "      <td>3.8</td>\n",
       "      <td>1.5</td>\n",
       "      <td>0.3</td>\n",
       "      <td>virginica</td>\n",
       "    </tr>\n",
       "    <tr>\n",
       "      <th>20</th>\n",
       "      <td>5.1</td>\n",
       "      <td>3.5</td>\n",
       "      <td>1.4</td>\n",
       "      <td>0.2</td>\n",
       "      <td>setosa</td>\n",
       "    </tr>\n",
       "    <tr>\n",
       "      <th>21</th>\n",
       "      <td>4.9</td>\n",
       "      <td>3.0</td>\n",
       "      <td>1.4</td>\n",
       "      <td>0.2</td>\n",
       "      <td>setosa</td>\n",
       "    </tr>\n",
       "    <tr>\n",
       "      <th>22</th>\n",
       "      <td>4.7</td>\n",
       "      <td>3.2</td>\n",
       "      <td>1.3</td>\n",
       "      <td>0.2</td>\n",
       "      <td>setosa</td>\n",
       "    </tr>\n",
       "    <tr>\n",
       "      <th>23</th>\n",
       "      <td>5.1</td>\n",
       "      <td>3.5</td>\n",
       "      <td>1.4</td>\n",
       "      <td>0.2</td>\n",
       "      <td>virginica</td>\n",
       "    </tr>\n",
       "    <tr>\n",
       "      <th>24</th>\n",
       "      <td>4.9</td>\n",
       "      <td>3.0</td>\n",
       "      <td>1.4</td>\n",
       "      <td>0.2</td>\n",
       "      <td>virginica</td>\n",
       "    </tr>\n",
       "    <tr>\n",
       "      <th>25</th>\n",
       "      <td>4.7</td>\n",
       "      <td>3.2</td>\n",
       "      <td>1.3</td>\n",
       "      <td>0.2</td>\n",
       "      <td>virginica</td>\n",
       "    </tr>\n",
       "  </tbody>\n",
       "</table>\n",
       "</div>"
      ],
      "text/plain": [
       "    sepal_length  sepal_width  petal_length  petal_width    species\n",
       "0            5.1          3.5           1.4          0.2     setosa\n",
       "1            4.9          3.0           1.4          0.2     setosa\n",
       "2            4.7          3.2           1.3          0.2     setosa\n",
       "3            4.6          3.1           1.5          0.2     setosa\n",
       "4            5.0          3.6           1.4          0.2     setosa\n",
       "5            5.4          3.9           1.7          0.4     setosa\n",
       "6            4.6          3.4           1.4          0.3     setosa\n",
       "7            5.0          3.4           1.5          0.2     setosa\n",
       "8            4.4          2.9           1.4          0.2     setosa\n",
       "9            4.9          3.1           1.5          0.1     setosa\n",
       "10           5.4          3.7           1.5          0.2     setosa\n",
       "11           4.8          3.4           1.6          0.2     setosa\n",
       "12           4.8          3.0           NaN          0.1     setosa\n",
       "13           4.3          3.0           1.1          0.1  virginica\n",
       "14           5.8          4.0           NaN          0.2  virginica\n",
       "15           5.7          NaN           1.5          0.4  virginica\n",
       "16           5.4          3.9           1.3          0.4  virginica\n",
       "17           5.1          3.5           NaN          0.3  virginica\n",
       "18           5.7          3.8           1.7          0.3  virginica\n",
       "19           5.1          3.8           1.5          0.3  virginica\n",
       "20           5.1          3.5           1.4          0.2     setosa\n",
       "21           4.9          3.0           1.4          0.2     setosa\n",
       "22           4.7          3.2           1.3          0.2     setosa\n",
       "23           5.1          3.5           1.4          0.2  virginica\n",
       "24           4.9          3.0           1.4          0.2  virginica\n",
       "25           4.7          3.2           1.3          0.2  virginica"
      ]
     },
     "execution_count": 122,
     "metadata": {},
     "output_type": "execute_result"
    }
   ],
   "source": [
    "df_iris_sample"
   ]
  },
  {
   "cell_type": "code",
   "execution_count": null,
   "id": "ecc0d234-b31b-4c6a-8c59-cc5b85efdc22",
   "metadata": {},
   "outputs": [],
   "source": [
    "df_iris_sample"
   ]
  }
 ],
 "metadata": {
  "kernelspec": {
   "display_name": "Python Multi",
   "language": "python",
   "name": "multi"
  },
  "language_info": {
   "codemirror_mode": {
    "name": "ipython",
    "version": 3
   },
   "file_extension": ".py",
   "mimetype": "text/x-python",
   "name": "python",
   "nbconvert_exporter": "python",
   "pygments_lexer": "ipython3",
   "version": "3.7.6"
  }
 },
 "nbformat": 4,
 "nbformat_minor": 5
}
