{
  "nbformat": 4,
  "nbformat_minor": 0,
  "metadata": {
    "kernelspec": {
      "display_name": "Python 3",
      "language": "python",
      "name": "python3"
    },
    "language_info": {
      "codemirror_mode": {
        "name": "ipython",
        "version": 3
      },
      "file_extension": ".py",
      "mimetype": "text/x-python",
      "name": "python",
      "nbconvert_exporter": "python",
      "pygments_lexer": "ipython3",
      "version": "3.8.8"
    },
    "colab": {
      "name": "pdf.ipynb",
      "provenance": [],
      "include_colab_link": true
    }
  },
  "cells": [
    {
      "cell_type": "markdown",
      "metadata": {
        "id": "view-in-github",
        "colab_type": "text"
      },
      "source": [
        "<a href=\"https://colab.research.google.com/github/cherieuu/Today_I_Learned/blob/master/0629/camelot/pdf.ipynb\" target=\"_parent\"><img src=\"https://colab.research.google.com/assets/colab-badge.svg\" alt=\"Open In Colab\"/></a>"
      ]
    },
    {
      "cell_type": "markdown",
      "metadata": {
        "id": "7TtrVvhbAPE0"
      },
      "source": [
        "### !pip install camelot-py==0.9.0\n",
        "### !pip install PyMuPDF==1.18.14\n",
        "\n",
        "### ghostscript\n",
        "\n",
        "https://www.ghostscript.com/download/gsdnld.html\n"
      ]
    },
    {
      "cell_type": "code",
      "metadata": {
        "id": "HZODayLPAPE3"
      },
      "source": [
        "!dir"
      ],
      "execution_count": null,
      "outputs": []
    },
    {
      "cell_type": "code",
      "metadata": {
        "id": "WXO2ROCVAPE4"
      },
      "source": [
        "import camelot"
      ],
      "execution_count": null,
      "outputs": []
    },
    {
      "cell_type": "code",
      "metadata": {
        "id": "8F_tTbAaAPE4"
      },
      "source": [
        "#import sys\n",
        "tables=camelot.read_pdf('foo.pdf')"
      ],
      "execution_count": null,
      "outputs": []
    },
    {
      "cell_type": "code",
      "metadata": {
        "id": "kDO6-KP5APE5",
        "outputId": "7c975db6-eaeb-4395-a015-398e2a3b49a6"
      },
      "source": [
        "type(tables)"
      ],
      "execution_count": null,
      "outputs": [
        {
          "output_type": "execute_result",
          "data": {
            "text/plain": [
              "camelot.core.TableList"
            ]
          },
          "metadata": {
            "tags": []
          },
          "execution_count": 27
        }
      ]
    },
    {
      "cell_type": "code",
      "metadata": {
        "id": "EoA2SkJ2APE6",
        "outputId": "f231b680-ea84-4a07-c84f-905de0d3370d"
      },
      "source": [
        "print(tables[0])"
      ],
      "execution_count": null,
      "outputs": [
        {
          "output_type": "stream",
          "text": [
            "<Table shape=(7, 7)>\n"
          ],
          "name": "stdout"
        }
      ]
    },
    {
      "cell_type": "code",
      "metadata": {
        "id": "fsQ1iMf2APE6",
        "outputId": "9a66fca3-278e-41da-be7b-83f1c458bb79"
      },
      "source": [
        "tables[0].parsing_report"
      ],
      "execution_count": null,
      "outputs": [
        {
          "output_type": "execute_result",
          "data": {
            "text/plain": [
              "{'accuracy': 99.02, 'whitespace': 12.24, 'order': 1, 'page': 1}"
            ]
          },
          "metadata": {
            "tags": []
          },
          "execution_count": 30
        }
      ]
    },
    {
      "cell_type": "code",
      "metadata": {
        "id": "1ZITJiBqAPE7"
      },
      "source": [
        "tables[0].to_excel('table0.xlsx')"
      ],
      "execution_count": null,
      "outputs": []
    },
    {
      "cell_type": "code",
      "metadata": {
        "id": "HdzqT_w-APE7",
        "outputId": "698d3d5e-6dda-47c2-f1d9-94c9e9a19151"
      },
      "source": [
        "tables[0].df"
      ],
      "execution_count": null,
      "outputs": [
        {
          "output_type": "execute_result",
          "data": {
            "text/html": [
              "<div>\n",
              "<style scoped>\n",
              "    .dataframe tbody tr th:only-of-type {\n",
              "        vertical-align: middle;\n",
              "    }\n",
              "\n",
              "    .dataframe tbody tr th {\n",
              "        vertical-align: top;\n",
              "    }\n",
              "\n",
              "    .dataframe thead th {\n",
              "        text-align: right;\n",
              "    }\n",
              "</style>\n",
              "<table border=\"1\" class=\"dataframe\">\n",
              "  <thead>\n",
              "    <tr style=\"text-align: right;\">\n",
              "      <th></th>\n",
              "      <th>0</th>\n",
              "      <th>1</th>\n",
              "      <th>2</th>\n",
              "      <th>3</th>\n",
              "      <th>4</th>\n",
              "      <th>5</th>\n",
              "      <th>6</th>\n",
              "    </tr>\n",
              "  </thead>\n",
              "  <tbody>\n",
              "    <tr>\n",
              "      <th>0</th>\n",
              "      <td>Cycle \\nName</td>\n",
              "      <td>KI \\n(1/km)</td>\n",
              "      <td>Distance \\n(mi)</td>\n",
              "      <td>Percent Fuel Savings</td>\n",
              "      <td></td>\n",
              "      <td></td>\n",
              "      <td></td>\n",
              "    </tr>\n",
              "    <tr>\n",
              "      <th>1</th>\n",
              "      <td></td>\n",
              "      <td></td>\n",
              "      <td></td>\n",
              "      <td>Improved \\nSpeed</td>\n",
              "      <td>Decreased \\nAccel</td>\n",
              "      <td>Eliminate \\nStops</td>\n",
              "      <td>Decreased \\nIdle</td>\n",
              "    </tr>\n",
              "    <tr>\n",
              "      <th>2</th>\n",
              "      <td>2012_2</td>\n",
              "      <td>3.30</td>\n",
              "      <td>1.3</td>\n",
              "      <td>5.9%</td>\n",
              "      <td>9.5%</td>\n",
              "      <td>29.2%</td>\n",
              "      <td>17.4%</td>\n",
              "    </tr>\n",
              "    <tr>\n",
              "      <th>3</th>\n",
              "      <td>2145_1</td>\n",
              "      <td>0.68</td>\n",
              "      <td>11.2</td>\n",
              "      <td>2.4%</td>\n",
              "      <td>0.1%</td>\n",
              "      <td>9.5%</td>\n",
              "      <td>2.7%</td>\n",
              "    </tr>\n",
              "    <tr>\n",
              "      <th>4</th>\n",
              "      <td>4234_1</td>\n",
              "      <td>0.59</td>\n",
              "      <td>58.7</td>\n",
              "      <td>8.5%</td>\n",
              "      <td>1.3%</td>\n",
              "      <td>8.5%</td>\n",
              "      <td>3.3%</td>\n",
              "    </tr>\n",
              "    <tr>\n",
              "      <th>5</th>\n",
              "      <td>2032_2</td>\n",
              "      <td>0.17</td>\n",
              "      <td>57.8</td>\n",
              "      <td>21.7%</td>\n",
              "      <td>0.3%</td>\n",
              "      <td>2.7%</td>\n",
              "      <td>1.2%</td>\n",
              "    </tr>\n",
              "    <tr>\n",
              "      <th>6</th>\n",
              "      <td>4171_1</td>\n",
              "      <td>0.07</td>\n",
              "      <td>173.9</td>\n",
              "      <td>58.1%</td>\n",
              "      <td>1.6%</td>\n",
              "      <td>2.1%</td>\n",
              "      <td>0.5%</td>\n",
              "    </tr>\n",
              "  </tbody>\n",
              "</table>\n",
              "</div>"
            ],
            "text/plain": [
              "              0            1                2                     3  \\\n",
              "0  Cycle \\nName  KI \\n(1/km)  Distance \\n(mi)  Percent Fuel Savings   \n",
              "1                                                  Improved \\nSpeed   \n",
              "2        2012_2         3.30              1.3                  5.9%   \n",
              "3        2145_1         0.68             11.2                  2.4%   \n",
              "4        4234_1         0.59             58.7                  8.5%   \n",
              "5        2032_2         0.17             57.8                 21.7%   \n",
              "6        4171_1         0.07            173.9                 58.1%   \n",
              "\n",
              "                   4                  5                 6  \n",
              "0                                                          \n",
              "1  Decreased \\nAccel  Eliminate \\nStops  Decreased \\nIdle  \n",
              "2               9.5%              29.2%             17.4%  \n",
              "3               0.1%               9.5%              2.7%  \n",
              "4               1.3%               8.5%              3.3%  \n",
              "5               0.3%               2.7%              1.2%  \n",
              "6               1.6%               2.1%              0.5%  "
            ]
          },
          "metadata": {
            "tags": []
          },
          "execution_count": 29
        }
      ]
    },
    {
      "cell_type": "code",
      "metadata": {
        "id": "K13zo_-qAPE8"
      },
      "source": [
        ""
      ],
      "execution_count": null,
      "outputs": []
    },
    {
      "cell_type": "code",
      "metadata": {
        "id": "FvqTkB8yAPE8"
      },
      "source": [
        "tables0=camelot.read_pdf('example.pdf',pages='1,2,3,4,5,6,7')"
      ],
      "execution_count": null,
      "outputs": []
    },
    {
      "cell_type": "code",
      "metadata": {
        "id": "RT25tkkzAPE8"
      },
      "source": [
        "nu_tables=tables0"
      ],
      "execution_count": null,
      "outputs": []
    },
    {
      "cell_type": "code",
      "metadata": {
        "id": "Ubft7fv-APE8",
        "outputId": "927ba56b-132d-4ad9-8cb1-f5bd0233cc71"
      },
      "source": [
        "nu_tables"
      ],
      "execution_count": null,
      "outputs": [
        {
          "output_type": "execute_result",
          "data": {
            "text/plain": [
              "<TableList n=16>"
            ]
          },
          "metadata": {
            "tags": []
          },
          "execution_count": 56
        }
      ]
    },
    {
      "cell_type": "code",
      "metadata": {
        "id": "9A4_gWzaAPE9"
      },
      "source": [
        "tables0[9].df"
      ],
      "execution_count": null,
      "outputs": []
    },
    {
      "cell_type": "code",
      "metadata": {
        "id": "6XTs4eeUAPE9",
        "outputId": "de1e6919-9c3d-4b59-d0da-f3d0451b5e03"
      },
      "source": [
        "tables0[15].df"
      ],
      "execution_count": null,
      "outputs": [
        {
          "output_type": "execute_result",
          "data": {
            "text/html": [
              "<div>\n",
              "<style scoped>\n",
              "    .dataframe tbody tr th:only-of-type {\n",
              "        vertical-align: middle;\n",
              "    }\n",
              "\n",
              "    .dataframe tbody tr th {\n",
              "        vertical-align: top;\n",
              "    }\n",
              "\n",
              "    .dataframe thead th {\n",
              "        text-align: right;\n",
              "    }\n",
              "</style>\n",
              "<table border=\"1\" class=\"dataframe\">\n",
              "  <thead>\n",
              "    <tr style=\"text-align: right;\">\n",
              "      <th></th>\n",
              "      <th>0</th>\n",
              "      <th>1</th>\n",
              "      <th>2</th>\n",
              "      <th>3</th>\n",
              "    </tr>\n",
              "  </thead>\n",
              "  <tbody>\n",
              "    <tr>\n",
              "      <th>0</th>\n",
              "      <td>Expressway\\ncondition</td>\n",
              "      <td>Drive distance 200 km</td>\n",
              "      <td></td>\n",
              "      <td></td>\n",
              "    </tr>\n",
              "    <tr>\n",
              "      <th>1</th>\n",
              "      <td>City real road\\ncondition</td>\n",
              "      <td>Average speed</td>\n",
              "      <td></td>\n",
              "      <td></td>\n",
              "    </tr>\n",
              "    <tr>\n",
              "      <th>2</th>\n",
              "      <td></td>\n",
              "      <td>City 1</td>\n",
              "      <td>City 2</td>\n",
              "      <td>City 3</td>\n",
              "    </tr>\n",
              "    <tr>\n",
              "      <th>3</th>\n",
              "      <td></td>\n",
              "      <td>12 km/h</td>\n",
              "      <td>21 km/h</td>\n",
              "      <td>29 km/h</td>\n",
              "    </tr>\n",
              "    <tr>\n",
              "      <th>4</th>\n",
              "      <td>Internal \\ncombustion \\nvehicle</td>\n",
              "      <td>2053 L</td>\n",
              "      <td>1709 L</td>\n",
              "      <td>1532 L</td>\n",
              "    </tr>\n",
              "    <tr>\n",
              "      <th>5</th>\n",
              "      <td></td>\n",
              "      <td>₩2,796,364</td>\n",
              "      <td>₩2,328,166</td>\n",
              "      <td>₩2,087,129</td>\n",
              "    </tr>\n",
              "    <tr>\n",
              "      <th>6</th>\n",
              "      <td>Parallel \\nhybrid vehicle</td>\n",
              "      <td>1403 L (32 %)</td>\n",
              "      <td>1236 L (28 %)</td>\n",
              "      <td>1150 L (25 %)</td>\n",
              "    </tr>\n",
              "    <tr>\n",
              "      <th>7</th>\n",
              "      <td></td>\n",
              "      <td>₩1,911,141</td>\n",
              "      <td>₩1,683,813</td>\n",
              "      <td>₩1,566,637</td>\n",
              "    </tr>\n",
              "    <tr>\n",
              "      <th>8</th>\n",
              "      <td>Powersplit\\nhybrid vehicle</td>\n",
              "      <td>1347 L (34 %)</td>\n",
              "      <td>1192 L (30 %)</td>\n",
              "      <td>1119 L (27 %)</td>\n",
              "    </tr>\n",
              "    <tr>\n",
              "      <th>9</th>\n",
              "      <td></td>\n",
              "      <td>₩1,834,358</td>\n",
              "      <td>₩1,622,890</td>\n",
              "      <td>₩1,524,061</td>\n",
              "    </tr>\n",
              "  </tbody>\n",
              "</table>\n",
              "</div>"
            ],
            "text/plain": [
              "                                 0                      1              2  \\\n",
              "0            Expressway\\ncondition  Drive distance 200 km                  \n",
              "1        City real road\\ncondition          Average speed                  \n",
              "2                                                  City 1         City 2   \n",
              "3                                                 12 km/h        21 km/h   \n",
              "4  Internal \\ncombustion \\nvehicle                 2053 L         1709 L   \n",
              "5                                              ₩2,796,364     ₩2,328,166   \n",
              "6        Parallel \\nhybrid vehicle          1403 L (32 %)  1236 L (28 %)   \n",
              "7                                              ₩1,911,141     ₩1,683,813   \n",
              "8       Powersplit\\nhybrid vehicle          1347 L (34 %)  1192 L (30 %)   \n",
              "9                                              ₩1,834,358     ₩1,622,890   \n",
              "\n",
              "               3  \n",
              "0                 \n",
              "1                 \n",
              "2         City 3  \n",
              "3        29 km/h  \n",
              "4         1532 L  \n",
              "5     ₩2,087,129  \n",
              "6  1150 L (25 %)  \n",
              "7     ₩1,566,637  \n",
              "8  1119 L (27 %)  \n",
              "9     ₩1,524,061  "
            ]
          },
          "metadata": {
            "tags": []
          },
          "execution_count": 59
        }
      ]
    },
    {
      "cell_type": "code",
      "metadata": {
        "id": "d6nb7ZxmAPE9"
      },
      "source": [
        "df1=tables0[0].df"
      ],
      "execution_count": null,
      "outputs": []
    },
    {
      "cell_type": "code",
      "metadata": {
        "id": "lWKSaHOPAPE-"
      },
      "source": [
        "type(df1[0])"
      ],
      "execution_count": null,
      "outputs": []
    },
    {
      "cell_type": "code",
      "metadata": {
        "id": "NX-7ppaKAPE-",
        "outputId": "5d28b17f-4ba3-4f63-83d5-f74642ea7996"
      },
      "source": [
        "tables0[1].df"
      ],
      "execution_count": null,
      "outputs": [
        {
          "output_type": "execute_result",
          "data": {
            "text/html": [
              "<div>\n",
              "<style scoped>\n",
              "    .dataframe tbody tr th:only-of-type {\n",
              "        vertical-align: middle;\n",
              "    }\n",
              "\n",
              "    .dataframe tbody tr th {\n",
              "        vertical-align: top;\n",
              "    }\n",
              "\n",
              "    .dataframe thead th {\n",
              "        text-align: right;\n",
              "    }\n",
              "</style>\n",
              "<table border=\"1\" class=\"dataframe\">\n",
              "  <thead>\n",
              "    <tr style=\"text-align: right;\">\n",
              "      <th></th>\n",
              "      <th>0</th>\n",
              "      <th>1</th>\n",
              "      <th>2</th>\n",
              "      <th>3</th>\n",
              "    </tr>\n",
              "  </thead>\n",
              "  <tbody>\n",
              "    <tr>\n",
              "      <th>0</th>\n",
              "      <td>Season</td>\n",
              "      <td>Summer</td>\n",
              "      <td>Autumn</td>\n",
              "      <td>Winter</td>\n",
              "    </tr>\n",
              "    <tr>\n",
              "      <th>1</th>\n",
              "      <td>Ambient (°C)</td>\n",
              "      <td>30</td>\n",
              "      <td>25</td>\n",
              "      <td>0</td>\n",
              "    </tr>\n",
              "    <tr>\n",
              "      <th>2</th>\n",
              "      <td>A/C Temperature (°C)</td>\n",
              "      <td>22</td>\n",
              "      <td>-</td>\n",
              "      <td>24</td>\n",
              "    </tr>\n",
              "    <tr>\n",
              "      <th>3</th>\n",
              "      <td>A/C</td>\n",
              "      <td>on</td>\n",
              "      <td>off</td>\n",
              "      <td>off</td>\n",
              "    </tr>\n",
              "    <tr>\n",
              "      <th>4</th>\n",
              "      <td>Heater</td>\n",
              "      <td>off</td>\n",
              "      <td>off</td>\n",
              "      <td>on</td>\n",
              "    </tr>\n",
              "  </tbody>\n",
              "</table>\n",
              "</div>"
            ],
            "text/plain": [
              "                      0       1       2       3\n",
              "0                Season  Summer  Autumn  Winter\n",
              "1          Ambient (°C)      30      25       0\n",
              "2  A/C Temperature (°C)      22       -      24\n",
              "3                   A/C      on     off     off\n",
              "4                Heater     off     off      on"
            ]
          },
          "metadata": {
            "tags": []
          },
          "execution_count": 44
        }
      ]
    },
    {
      "cell_type": "code",
      "metadata": {
        "id": "KJSOuV5CAPE-"
      },
      "source": [
        "tables0[2].df.to_excel('tb01.xlsx')"
      ],
      "execution_count": null,
      "outputs": []
    },
    {
      "cell_type": "code",
      "metadata": {
        "id": "P1T70GbJAPE-"
      },
      "source": [
        ""
      ],
      "execution_count": null,
      "outputs": []
    },
    {
      "cell_type": "code",
      "metadata": {
        "id": "fefQ2ZiRAPE-"
      },
      "source": [
        ""
      ],
      "execution_count": null,
      "outputs": []
    },
    {
      "cell_type": "code",
      "metadata": {
        "id": "4fB8uFOaAPE-"
      },
      "source": [
        "tables1=camelot.read_pdf('example.pdf',pages='2')"
      ],
      "execution_count": null,
      "outputs": []
    },
    {
      "cell_type": "code",
      "metadata": {
        "id": "b5orrRNdAPE_"
      },
      "source": [
        "tables1[0]"
      ],
      "execution_count": null,
      "outputs": []
    },
    {
      "cell_type": "code",
      "metadata": {
        "id": "rJQ56lnEAPE_"
      },
      "source": [
        "tables1[1]"
      ],
      "execution_count": null,
      "outputs": []
    },
    {
      "cell_type": "code",
      "metadata": {
        "id": "j-6qieCPAPE_"
      },
      "source": [
        "tables2=camelot.read_pdf('example.pdf',pages='2,3')"
      ],
      "execution_count": null,
      "outputs": []
    },
    {
      "cell_type": "code",
      "metadata": {
        "id": "tohwn7kHAPE_"
      },
      "source": [
        "type(tables2)"
      ],
      "execution_count": null,
      "outputs": []
    },
    {
      "cell_type": "code",
      "metadata": {
        "id": "d_HXoyMcAPE_"
      },
      "source": [
        "n=tables2"
      ],
      "execution_count": null,
      "outputs": []
    },
    {
      "cell_type": "code",
      "metadata": {
        "id": "gpi0ZgwmAPE_"
      },
      "source": [
        "tables2[0].df"
      ],
      "execution_count": null,
      "outputs": []
    },
    {
      "cell_type": "code",
      "metadata": {
        "id": "6ITPIJQ9APFA"
      },
      "source": [
        "tables2[4].df"
      ],
      "execution_count": null,
      "outputs": []
    },
    {
      "cell_type": "code",
      "metadata": {
        "id": "qX-YCa5lAPFA"
      },
      "source": [
        ""
      ],
      "execution_count": null,
      "outputs": []
    }
  ]
}