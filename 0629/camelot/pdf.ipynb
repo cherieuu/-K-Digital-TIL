{
 "cells": [
  {
   "cell_type": "markdown",
   "metadata": {
    "colab_type": "text",
    "id": "view-in-github"
   },
   "source": [
    "<a href=\"https://colab.research.google.com/github/cherieuu/Today_I_Learned/blob/master/0629/camelot/pdf.ipynb\" target=\"_parent\"><img src=\"https://colab.research.google.com/assets/colab-badge.svg\" alt=\"Open In Colab\"/></a>"
   ]
  },
  {
   "cell_type": "markdown",
   "metadata": {
    "id": "7TtrVvhbAPE0"
   },
   "source": [
    "### !pip install camelot-py==0.9.0\n",
    "### !pip install PyMuPDF==1.18.14\n",
    "\n",
    "### ghostscript\n",
    "\n",
    "https://www.ghostscript.com/download/gsdnld.html\n"
   ]
  },
  {
   "cell_type": "code",
   "execution_count": 1,
   "metadata": {
    "execution": {
     "iopub.execute_input": "2021-06-29T11:02:17.331009Z",
     "iopub.status.busy": "2021-06-29T11:02:17.330672Z",
     "iopub.status.idle": "2021-06-29T11:02:18.727132Z",
     "shell.execute_reply": "2021-06-29T11:02:18.725334Z",
     "shell.execute_reply.started": "2021-06-29T11:02:17.330888Z"
    },
    "id": "HZODayLPAPE3",
    "tags": []
   },
   "outputs": [
    {
     "name": "stdout",
     "output_type": "stream",
     "text": [
      "Requirement already satisfied: tabula-py in /Users/anaconda3/envs/multi/lib/python3.7/site-packages (2.2.0)\n",
      "Requirement already satisfied: numpy in /Users/anaconda3/envs/multi/lib/python3.7/site-packages (from tabula-py) (1.20.3)\n",
      "Requirement already satisfied: pandas>=0.25.3 in /Users/anaconda3/envs/multi/lib/python3.7/site-packages (from tabula-py) (1.2.3)\n",
      "Requirement already satisfied: distro in /Users/anaconda3/envs/multi/lib/python3.7/site-packages (from tabula-py) (1.5.0)\n",
      "Requirement already satisfied: python-dateutil>=2.7.3 in /Users/anaconda3/envs/multi/lib/python3.7/site-packages (from pandas>=0.25.3->tabula-py) (2.8.1)\n",
      "Requirement already satisfied: pytz>=2017.3 in /Users/anaconda3/envs/multi/lib/python3.7/site-packages (from pandas>=0.25.3->tabula-py) (2021.1)\n",
      "Requirement already satisfied: six>=1.5 in /Users/anaconda3/envs/multi/lib/python3.7/site-packages (from python-dateutil>=2.7.3->pandas>=0.25.3->tabula-py) (1.16.0)\n"
     ]
    }
   ],
   "source": [
    "!pip install tabula-py"
   ]
  },
  {
   "cell_type": "code",
   "execution_count": null,
   "metadata": {
    "id": "WXO2ROCVAPE4",
    "tags": []
   },
   "outputs": [],
   "source": [
    "import camelot"
   ]
  },
  {
   "cell_type": "code",
   "execution_count": null,
   "metadata": {
    "id": "8F_tTbAaAPE4",
    "tags": []
   },
   "outputs": [],
   "source": [
    "import sys"
   ]
  },
  {
   "cell_type": "code",
   "execution_count": 2,
   "metadata": {
    "execution": {
     "iopub.execute_input": "2021-06-29T11:03:36.972211Z",
     "iopub.status.busy": "2021-06-29T11:03:36.971038Z",
     "iopub.status.idle": "2021-06-29T11:03:37.655287Z",
     "shell.execute_reply": "2021-06-29T11:03:37.654219Z",
     "shell.execute_reply.started": "2021-06-29T11:03:36.972142Z"
    },
    "tags": []
   },
   "outputs": [],
   "source": [
    "import tabula"
   ]
  },
  {
   "cell_type": "code",
   "execution_count": 2,
   "metadata": {
    "execution": {
     "iopub.execute_input": "2021-06-29T10:56:38.264070Z",
     "iopub.status.busy": "2021-06-29T10:56:38.263757Z",
     "iopub.status.idle": "2021-06-29T10:56:38.547266Z",
     "shell.execute_reply": "2021-06-29T10:56:38.546328Z",
     "shell.execute_reply.started": "2021-06-29T10:56:38.264032Z"
    },
    "tags": []
   },
   "outputs": [],
   "source": [
    "import pandas as pd"
   ]
  },
  {
   "cell_type": "code",
   "execution_count": 3,
   "metadata": {
    "execution": {
     "iopub.execute_input": "2021-06-29T11:03:40.765862Z",
     "iopub.status.busy": "2021-06-29T11:03:40.765486Z",
     "iopub.status.idle": "2021-06-29T11:03:45.201863Z",
     "shell.execute_reply": "2021-06-29T11:03:45.201153Z",
     "shell.execute_reply.started": "2021-06-29T11:03:40.765827Z"
    },
    "id": "8F_tTbAaAPE4",
    "tags": []
   },
   "outputs": [
    {
     "data": {
      "text/plain": [
       "[  Unnamed: 0 Unnamed: 1 Unnamed: 2 Unnamed: 3 Percent Fuel Savings Unnamed: 4\n",
       " 0      Cycle         KI   Distance        NaN                  NaN        NaN\n",
       " 1       Name     (1/km)       (mi)   Improved  Decreased Eliminate  Decreased\n",
       " 2        NaN        NaN        NaN      Speed          Accel Stops       Idle\n",
       " 3     2012_2       3.30        1.3       5.9%           9.5% 29.2%      17.4%\n",
       " 4     2145_1       0.68       11.2       2.4%            0.1% 9.5%       2.7%\n",
       " 5     4234_1       0.59       58.7       8.5%            1.3% 8.5%       3.3%\n",
       " 6     2032_2       0.17       57.8      21.7%            0.3% 2.7%       1.2%\n",
       " 7     4171_1       0.07      173.9      58.1%            1.6% 2.1%       0.5%]"
      ]
     },
     "execution_count": 3,
     "metadata": {},
     "output_type": "execute_result"
    }
   ],
   "source": [
    "import tabula\n",
    "\n",
    "# Read pdf into list of DataFrame\n",
    "df = tabula.read_pdf(\"foo.pdf\", pages='1')\n",
    "df"
   ]
  },
  {
   "cell_type": "code",
   "execution_count": null,
   "metadata": {
    "id": "kDO6-KP5APE5",
    "outputId": "7c975db6-eaeb-4395-a015-398e2a3b49a6"
   },
   "outputs": [],
   "source": [
    "type(tables)"
   ]
  },
  {
   "cell_type": "code",
   "execution_count": null,
   "metadata": {
    "id": "EoA2SkJ2APE6",
    "outputId": "f231b680-ea84-4a07-c84f-905de0d3370d"
   },
   "outputs": [],
   "source": [
    "print(tables[0])"
   ]
  },
  {
   "cell_type": "code",
   "execution_count": null,
   "metadata": {
    "id": "fsQ1iMf2APE6",
    "outputId": "9a66fca3-278e-41da-be7b-83f1c458bb79"
   },
   "outputs": [],
   "source": [
    "tables[0].parsing_report"
   ]
  },
  {
   "cell_type": "code",
   "execution_count": null,
   "metadata": {
    "id": "1ZITJiBqAPE7"
   },
   "outputs": [],
   "source": [
    "tables[0].to_excel('table0.xlsx')"
   ]
  },
  {
   "cell_type": "code",
   "execution_count": null,
   "metadata": {
    "id": "HdzqT_w-APE7",
    "outputId": "698d3d5e-6dda-47c2-f1d9-94c9e9a19151"
   },
   "outputs": [],
   "source": [
    "tables[0].df"
   ]
  },
  {
   "cell_type": "code",
   "execution_count": null,
   "metadata": {
    "id": "K13zo_-qAPE8"
   },
   "outputs": [],
   "source": []
  },
  {
   "cell_type": "code",
   "execution_count": null,
   "metadata": {
    "id": "FvqTkB8yAPE8",
    "tags": []
   },
   "outputs": [],
   "source": [
    "tables0=camelot.read_pdf('example.pdf',pages='1,2,3,4,5,6,7')"
   ]
  },
  {
   "cell_type": "code",
   "execution_count": null,
   "metadata": {
    "id": "RT25tkkzAPE8"
   },
   "outputs": [],
   "source": [
    "nu_tables=tables0"
   ]
  },
  {
   "cell_type": "code",
   "execution_count": null,
   "metadata": {
    "id": "Ubft7fv-APE8",
    "outputId": "927ba56b-132d-4ad9-8cb1-f5bd0233cc71"
   },
   "outputs": [],
   "source": [
    "nu_tables"
   ]
  },
  {
   "cell_type": "code",
   "execution_count": null,
   "metadata": {
    "id": "9A4_gWzaAPE9"
   },
   "outputs": [],
   "source": [
    "tables0[9].df"
   ]
  },
  {
   "cell_type": "code",
   "execution_count": null,
   "metadata": {
    "id": "6XTs4eeUAPE9",
    "outputId": "de1e6919-9c3d-4b59-d0da-f3d0451b5e03"
   },
   "outputs": [],
   "source": [
    "tables0[15].df"
   ]
  },
  {
   "cell_type": "code",
   "execution_count": null,
   "metadata": {
    "id": "d6nb7ZxmAPE9"
   },
   "outputs": [],
   "source": [
    "df1=tables0[0].df"
   ]
  },
  {
   "cell_type": "code",
   "execution_count": null,
   "metadata": {
    "id": "lWKSaHOPAPE-"
   },
   "outputs": [],
   "source": [
    "type(df1[0])"
   ]
  },
  {
   "cell_type": "code",
   "execution_count": null,
   "metadata": {
    "id": "NX-7ppaKAPE-",
    "outputId": "5d28b17f-4ba3-4f63-83d5-f74642ea7996"
   },
   "outputs": [],
   "source": [
    "tables0[1].df"
   ]
  },
  {
   "cell_type": "code",
   "execution_count": null,
   "metadata": {
    "id": "KJSOuV5CAPE-"
   },
   "outputs": [],
   "source": [
    "tables0[2].df.to_excel('tb01.xlsx')"
   ]
  },
  {
   "cell_type": "code",
   "execution_count": null,
   "metadata": {
    "id": "P1T70GbJAPE-"
   },
   "outputs": [],
   "source": []
  },
  {
   "cell_type": "code",
   "execution_count": null,
   "metadata": {
    "id": "fefQ2ZiRAPE-"
   },
   "outputs": [],
   "source": []
  },
  {
   "cell_type": "code",
   "execution_count": null,
   "metadata": {
    "id": "4fB8uFOaAPE-"
   },
   "outputs": [],
   "source": [
    "tables1=camelot.read_pdf('example.pdf',pages='2')"
   ]
  },
  {
   "cell_type": "code",
   "execution_count": null,
   "metadata": {
    "id": "b5orrRNdAPE_"
   },
   "outputs": [],
   "source": [
    "tables1[0]"
   ]
  },
  {
   "cell_type": "code",
   "execution_count": null,
   "metadata": {
    "id": "rJQ56lnEAPE_"
   },
   "outputs": [],
   "source": [
    "tables1[1]"
   ]
  },
  {
   "cell_type": "code",
   "execution_count": null,
   "metadata": {
    "id": "j-6qieCPAPE_"
   },
   "outputs": [],
   "source": [
    "tables2=camelot.read_pdf('example.pdf',pages='2,3')"
   ]
  },
  {
   "cell_type": "code",
   "execution_count": null,
   "metadata": {
    "id": "tohwn7kHAPE_"
   },
   "outputs": [],
   "source": [
    "type(tables2)"
   ]
  },
  {
   "cell_type": "code",
   "execution_count": null,
   "metadata": {
    "id": "d_HXoyMcAPE_"
   },
   "outputs": [],
   "source": [
    "n=tables2"
   ]
  },
  {
   "cell_type": "code",
   "execution_count": null,
   "metadata": {
    "id": "gpi0ZgwmAPE_"
   },
   "outputs": [],
   "source": [
    "tables2[0].df"
   ]
  },
  {
   "cell_type": "code",
   "execution_count": null,
   "metadata": {
    "id": "6ITPIJQ9APFA"
   },
   "outputs": [],
   "source": [
    "tables2[4].df"
   ]
  },
  {
   "cell_type": "code",
   "execution_count": null,
   "metadata": {
    "id": "qX-YCa5lAPFA"
   },
   "outputs": [],
   "source": []
  }
 ],
 "metadata": {
  "colab": {
   "include_colab_link": true,
   "name": "pdf.ipynb",
   "provenance": []
  },
  "kernelspec": {
   "display_name": "Python Multi",
   "language": "python",
   "name": "multi"
  },
  "language_info": {
   "codemirror_mode": {
    "name": "ipython",
    "version": 3
   },
   "file_extension": ".py",
   "mimetype": "text/x-python",
   "name": "python",
   "nbconvert_exporter": "python",
   "pygments_lexer": "ipython3",
   "version": "3.7.6"
  }
 },
 "nbformat": 4,
 "nbformat_minor": 4
}
