{
 "cells": [
  {
   "cell_type": "code",
   "execution_count": 1,
   "id": "88da8b11-f54f-4abd-b7cc-f8f94dfb1468",
   "metadata": {},
   "outputs": [],
   "source": [
    "!cd"
   ]
  },
  {
   "cell_type": "code",
   "execution_count": 2,
   "id": "b133aeb6-32e1-4064-8695-4e641d10398b",
   "metadata": {},
   "outputs": [
    {
     "name": "stdout",
     "output_type": "stream",
     "text": [
      "/Users/yoohwayoung/[K-Digital]TIL/0616\n"
     ]
    }
   ],
   "source": [
    "!pwd"
   ]
  },
  {
   "cell_type": "code",
   "execution_count": 3,
   "id": "9d7095bc-cf41-4d82-8ef9-2be4eb60021b",
   "metadata": {},
   "outputs": [],
   "source": [
    "import pandas as pd\n",
    "import matplotlib.pyplot as plt\n",
    "import numpy as np\n",
    "import seaborn as sns"
   ]
  },
  {
   "cell_type": "code",
   "execution_count": 4,
   "id": "ece67ba6-ddc1-4b69-a461-959377b409e5",
   "metadata": {},
   "outputs": [
    {
     "data": {
      "text/html": [
       "<div>\n",
       "<style scoped>\n",
       "    .dataframe tbody tr th:only-of-type {\n",
       "        vertical-align: middle;\n",
       "    }\n",
       "\n",
       "    .dataframe tbody tr th {\n",
       "        vertical-align: top;\n",
       "    }\n",
       "\n",
       "    .dataframe thead th {\n",
       "        text-align: right;\n",
       "    }\n",
       "</style>\n",
       "<table border=\"1\" class=\"dataframe\">\n",
       "  <thead>\n",
       "    <tr style=\"text-align: right;\">\n",
       "      <th></th>\n",
       "      <th>total_bill</th>\n",
       "      <th>tip</th>\n",
       "      <th>sex</th>\n",
       "      <th>smoker</th>\n",
       "      <th>day</th>\n",
       "      <th>time</th>\n",
       "      <th>size</th>\n",
       "    </tr>\n",
       "  </thead>\n",
       "  <tbody>\n",
       "    <tr>\n",
       "      <th>0</th>\n",
       "      <td>16.99</td>\n",
       "      <td>1.01</td>\n",
       "      <td>Female</td>\n",
       "      <td>No</td>\n",
       "      <td>Sun</td>\n",
       "      <td>Dinner</td>\n",
       "      <td>2</td>\n",
       "    </tr>\n",
       "    <tr>\n",
       "      <th>1</th>\n",
       "      <td>10.34</td>\n",
       "      <td>1.66</td>\n",
       "      <td>Male</td>\n",
       "      <td>No</td>\n",
       "      <td>Sun</td>\n",
       "      <td>Dinner</td>\n",
       "      <td>3</td>\n",
       "    </tr>\n",
       "    <tr>\n",
       "      <th>2</th>\n",
       "      <td>21.01</td>\n",
       "      <td>3.50</td>\n",
       "      <td>Male</td>\n",
       "      <td>No</td>\n",
       "      <td>Sun</td>\n",
       "      <td>Dinner</td>\n",
       "      <td>3</td>\n",
       "    </tr>\n",
       "    <tr>\n",
       "      <th>3</th>\n",
       "      <td>23.68</td>\n",
       "      <td>3.31</td>\n",
       "      <td>Male</td>\n",
       "      <td>No</td>\n",
       "      <td>Sun</td>\n",
       "      <td>Dinner</td>\n",
       "      <td>2</td>\n",
       "    </tr>\n",
       "    <tr>\n",
       "      <th>4</th>\n",
       "      <td>24.59</td>\n",
       "      <td>3.61</td>\n",
       "      <td>Female</td>\n",
       "      <td>No</td>\n",
       "      <td>Sun</td>\n",
       "      <td>Dinner</td>\n",
       "      <td>4</td>\n",
       "    </tr>\n",
       "    <tr>\n",
       "      <th>...</th>\n",
       "      <td>...</td>\n",
       "      <td>...</td>\n",
       "      <td>...</td>\n",
       "      <td>...</td>\n",
       "      <td>...</td>\n",
       "      <td>...</td>\n",
       "      <td>...</td>\n",
       "    </tr>\n",
       "    <tr>\n",
       "      <th>239</th>\n",
       "      <td>29.03</td>\n",
       "      <td>5.92</td>\n",
       "      <td>Male</td>\n",
       "      <td>No</td>\n",
       "      <td>Sat</td>\n",
       "      <td>Dinner</td>\n",
       "      <td>3</td>\n",
       "    </tr>\n",
       "    <tr>\n",
       "      <th>240</th>\n",
       "      <td>27.18</td>\n",
       "      <td>2.00</td>\n",
       "      <td>Female</td>\n",
       "      <td>Yes</td>\n",
       "      <td>Sat</td>\n",
       "      <td>Dinner</td>\n",
       "      <td>2</td>\n",
       "    </tr>\n",
       "    <tr>\n",
       "      <th>241</th>\n",
       "      <td>22.67</td>\n",
       "      <td>2.00</td>\n",
       "      <td>Male</td>\n",
       "      <td>Yes</td>\n",
       "      <td>Sat</td>\n",
       "      <td>Dinner</td>\n",
       "      <td>2</td>\n",
       "    </tr>\n",
       "    <tr>\n",
       "      <th>242</th>\n",
       "      <td>17.82</td>\n",
       "      <td>1.75</td>\n",
       "      <td>Male</td>\n",
       "      <td>No</td>\n",
       "      <td>Sat</td>\n",
       "      <td>Dinner</td>\n",
       "      <td>2</td>\n",
       "    </tr>\n",
       "    <tr>\n",
       "      <th>243</th>\n",
       "      <td>18.78</td>\n",
       "      <td>3.00</td>\n",
       "      <td>Female</td>\n",
       "      <td>No</td>\n",
       "      <td>Thur</td>\n",
       "      <td>Dinner</td>\n",
       "      <td>2</td>\n",
       "    </tr>\n",
       "  </tbody>\n",
       "</table>\n",
       "<p>244 rows × 7 columns</p>\n",
       "</div>"
      ],
      "text/plain": [
       "     total_bill   tip     sex smoker   day    time  size\n",
       "0         16.99  1.01  Female     No   Sun  Dinner     2\n",
       "1         10.34  1.66    Male     No   Sun  Dinner     3\n",
       "2         21.01  3.50    Male     No   Sun  Dinner     3\n",
       "3         23.68  3.31    Male     No   Sun  Dinner     2\n",
       "4         24.59  3.61  Female     No   Sun  Dinner     4\n",
       "..          ...   ...     ...    ...   ...     ...   ...\n",
       "239       29.03  5.92    Male     No   Sat  Dinner     3\n",
       "240       27.18  2.00  Female    Yes   Sat  Dinner     2\n",
       "241       22.67  2.00    Male    Yes   Sat  Dinner     2\n",
       "242       17.82  1.75    Male     No   Sat  Dinner     2\n",
       "243       18.78  3.00  Female     No  Thur  Dinner     2\n",
       "\n",
       "[244 rows x 7 columns]"
      ]
     },
     "execution_count": 4,
     "metadata": {},
     "output_type": "execute_result"
    }
   ],
   "source": [
    "tips = pd.read_csv('../[K-Digital]Training_up0616/Python/pandas/tips.csv')\n",
    "tips"
   ]
  },
  {
   "cell_type": "code",
   "execution_count": 5,
   "id": "9d81529c-4969-4e9e-94c5-2818d9ecf267",
   "metadata": {},
   "outputs": [],
   "source": [
    "#tips = pd.read_csv('./tips.csv')"
   ]
  },
  {
   "cell_type": "code",
   "execution_count": 11,
   "id": "76f9f04f-0b29-4e49-acb0-9ecfa46c41e5",
   "metadata": {},
   "outputs": [],
   "source": []
  },
  {
   "cell_type": "code",
   "execution_count": 12,
   "id": "aadd915c-1bf7-439e-a7ec-de5d921b315a",
   "metadata": {},
   "outputs": [
    {
     "data": {
      "text/plain": [
       "<AxesSubplot:xlabel='day', ylabel='count'>"
      ]
     },
     "execution_count": 12,
     "metadata": {},
     "output_type": "execute_result"
    },
    {
     "data": {
      "image/png": "[encoded data removed]",
      "text/plain": [
       "<Figure size 432x288 with 1 Axes>"
      ]
     },
     "metadata": {
      "needs_background": "light"
     },
     "output_type": "display_data"
    }
   ],
   "source": [
    "sns.countplot(x='day', hue='sex', data=tips, order=['Sun', 'Sat', 'Fri', 'Thur'])"
   ]
  },
  {
   "cell_type": "code",
   "execution_count": 10,
   "id": "069804fc-9fa4-40fe-9c02-80a30f0d7f5a",
   "metadata": {},
   "outputs": [
    {
     "data": {
      "text/plain": [
       "<seaborn.axisgrid.FacetGrid at 0x7fb59613b5d0>"
      ]
     },
     "execution_count": 10,
     "metadata": {},
     "output_type": "execute_result"
    },
    {
     "data": {
      "image/png": "[encoded data removed]",
      "text/plain": [
       "<Figure size 792.125x360 with 2 Axes>"
      ]
     },
     "metadata": {
      "needs_background": "light"
     },
     "output_type": "display_data"
    }
   ],
   "source": [
    "# tips=tips.sort_values(by=['day'])\n",
    "sns.displot(x='day', hue='sex', data=tips,col='sex')"
   ]
  },
  {
   "cell_type": "code",
   "execution_count": null,
   "id": "5124dcbd-c351-48b9-af38-0b3caad5a1e5",
   "metadata": {},
   "outputs": [],
   "source": []
  },
  {
   "cell_type": "code",
   "execution_count": null,
   "id": "2c098a31-15c8-4541-85fc-3edb03e01b2d",
   "metadata": {},
   "outputs": [],
   "source": [
    "tips=tips.sort_values(by=['day'], axis=0, ascending=True)\n",
    "sns.displot(x='time', hue='sex', data=tips,col='sex')"
   ]
  },
  {
   "cell_type": "code",
   "execution_count": null,
   "id": "f4d1887b-2ecc-42a7-bf77-0a92f51dcc23",
   "metadata": {},
   "outputs": [],
   "source": [
    "tips.groupby(tips['day']).count() #d요일이 제일 많은 sun, sat이 예측이 어렵다."
   ]
  },
  {
   "cell_type": "code",
   "execution_count": null,
   "id": "ce6bd326-17e4-4314-8b61-9cc7f153392a",
   "metadata": {},
   "outputs": [],
   "source": [
    "tips.groupby([tips['day'],tips['time']]).count()"
   ]
  },
  {
   "cell_type": "code",
   "execution_count": null,
   "id": "1c819c0c-9f3e-4734-9d5c-efc5e05187f4",
   "metadata": {},
   "outputs": [],
   "source": [
    "tips.groupby([tips['sex'],tips['day']]).count()"
   ]
  },
  {
   "cell_type": "code",
   "execution_count": null,
   "id": "af64f931-00f1-4759-badf-4a3cfbc6f8f1",
   "metadata": {},
   "outputs": [],
   "source": [
    "tip_sex=tips.groupby([tips['tip'],tips['sex']]).count()"
   ]
  },
  {
   "cell_type": "code",
   "execution_count": null,
   "id": "084be6d0-51e5-4afe-9881-c7155a7d54fe",
   "metadata": {},
   "outputs": [],
   "source": [
    "total_bill_mean = tips.groupby([\"size\"]).agg({\"total_bill\": [np.mean]})\n",
    "total_bill_mean"
   ]
  },
  {
   "cell_type": "code",
   "execution_count": null,
   "id": "ccb78964-5c3a-4da2-bbce-ab469bd2150a",
   "metadata": {},
   "outputs": [],
   "source": [
    "sns.countplot(x = 'size', hue = 'sex', data = tips )\n",
    "\n",
    "plt.show()"
   ]
  },
  {
   "cell_type": "code",
   "execution_count": null,
   "id": "7ab5b1b8-6270-4489-9bb7-aab033b6dab1",
   "metadata": {},
   "outputs": [],
   "source": [
    "tips=tips.sort_values(by=['day'], axis=0)\n",
    "sns.displot(x='day', hue='sex', data=tips, col='sex')"
   ]
  },
  {
   "cell_type": "code",
   "execution_count": null,
   "id": "a2b725bd-3249-486e-b466-e0ba9fc5c829",
   "metadata": {},
   "outputs": [],
   "source": [
    "sns.displot(x='tip', hue='sex', data=tips, col='sex')"
   ]
  },
  {
   "cell_type": "code",
   "execution_count": null,
   "id": "659c828a-ff1e-4f45-a8b1-3f41326992f4",
   "metadata": {},
   "outputs": [],
   "source": [
    "tip_sex.tail(10)"
   ]
  },
  {
   "cell_type": "code",
   "execution_count": null,
   "id": "d0406ef3-7651-48ce-b7f3-e05d0037a78f",
   "metadata": {},
   "outputs": [],
   "source": [
    "sns.catplot(x=\"sex\", y=\"total_bill\",\n",
    "                  hue=\"time\", col=\"time\",\n",
    "                  data=tips, kind=\"box\")"
   ]
  },
  {
   "cell_type": "code",
   "execution_count": null,
   "id": "f78426c9-014b-4097-93e4-3269b4b526d0",
   "metadata": {},
   "outputs": [],
   "source": []
  },
  {
   "cell_type": "code",
   "execution_count": null,
   "id": "985466b8-85fb-47ba-9b41-059adeb7634a",
   "metadata": {},
   "outputs": [],
   "source": [
    "tip_sex.describe()"
   ]
  },
  {
   "cell_type": "code",
   "execution_count": null,
   "id": "c9f2121b-9442-46fa-bfe9-12b93cee0152",
   "metadata": {},
   "outputs": [],
   "source": [
    "tips.groupby([tips['sex'],tips['time']]).count()"
   ]
  },
  {
   "cell_type": "code",
   "execution_count": null,
   "id": "f69d94a8-cd09-404b-a239-1235ae7bc610",
   "metadata": {},
   "outputs": [],
   "source": [
    "tips.groupby([tips['sex'],tips['time']]).count()"
   ]
  },
  {
   "cell_type": "code",
   "execution_count": null,
   "id": "9a98bce9-6410-4d0d-8098-6068bbb1df57",
   "metadata": {},
   "outputs": [],
   "source": [
    "tips.head()"
   ]
  },
  {
   "cell_type": "code",
   "execution_count": null,
   "id": "30388186-b145-4ba9-b9c6-ae13f6d9fbee",
   "metadata": {},
   "outputs": [],
   "source": [
    "tips.total_bill.hist()"
   ]
  },
  {
   "cell_type": "code",
   "execution_count": null,
   "id": "ca8bc436-0b3e-4f33-a92e-b4aa2ddff452",
   "metadata": {},
   "outputs": [],
   "source": [
    "t_bill=tips.total_bill"
   ]
  },
  {
   "cell_type": "code",
   "execution_count": null,
   "id": "a931ef0f-6b97-4418-8bc0-5ca4512fe133",
   "metadata": {},
   "outputs": [],
   "source": [
    "plt.boxplot(t_bill, labels=['Total_bill'])\n",
    "plt.show()"
   ]
  },
  {
   "cell_type": "code",
   "execution_count": null,
   "id": "b3a00624-a5f3-4e81-b621-2c4f8ef75b80",
   "metadata": {},
   "outputs": [],
   "source": [
    "import seaborn as sns"
   ]
  },
  {
   "cell_type": "code",
   "execution_count": null,
   "id": "f005a62e-3e1a-4e4d-bdb3-478b66c755b8",
   "metadata": {},
   "outputs": [],
   "source": [
    "t_sns_bill=sns.boxplot(x='total_bill', data=tips)\n",
    "t_sns_bill"
   ]
  },
  {
   "cell_type": "code",
   "execution_count": null,
   "id": "dd0b96e2-28ba-44ae-a893-b4a1c61c6f3d",
   "metadata": {},
   "outputs": [],
   "source": [
    "t_tips =tips.tip"
   ]
  },
  {
   "cell_type": "code",
   "execution_count": null,
   "id": "e5a7622d-b469-4755-ac7c-6c97cea2c1ab",
   "metadata": {},
   "outputs": [],
   "source": [
    "plt.boxplot(t_tips, labels=['tip'])\n",
    "plt.show()  #t_bill보다 분산값이 더 크다. "
   ]
  },
  {
   "cell_type": "code",
   "execution_count": null,
   "id": "7617a810-cfc8-4b62-9482-760c27bfd9c3",
   "metadata": {},
   "outputs": [],
   "source": [
    "t_tips.describe()"
   ]
  },
  {
   "cell_type": "code",
   "execution_count": null,
   "id": "0e6e2b68-ae87-4839-94f6-46cf1e2da840",
   "metadata": {},
   "outputs": [],
   "source": [
    "sns.regplot(data=tips, x='size', y=\"tip\") #hue는 구분할 수 있는 클래스"
   ]
  },
  {
   "cell_type": "markdown",
   "id": "e8950347-d37c-44ae-b539-e4be6040ef70",
   "metadata": {},
   "source": [
    "계산서가 많으면 많이 먹는 선형회귀가 보인다. <br/>\n",
    "3-4명일때 아웃라이어가 크게 보인다. <br/>\n",
    "5-6일땐 안보인다.<br/> \n",
    "**5명이상오면 자녀와 올 확률이 많아서 팁을 많이 뿌리지 않을 거라는 인사이트를 얻는다.<br/>\n",
    "3-4명일땐 친구들과 함께 올 수 있는 확률이 높아서 팁을 많이 준다는 인사이트를 얻는다.**"
   ]
  },
  {
   "cell_type": "code",
   "execution_count": null,
   "id": "65a7bc08-2961-4832-a233-f8d00cefe7db",
   "metadata": {},
   "outputs": [],
   "source": [
    "sns.histplot(x=t_bill, bins=50)"
   ]
  },
  {
   "cell_type": "code",
   "execution_count": null,
   "id": "b73ef692-2ae0-4c99-8b8c-e029b66f6f3b",
   "metadata": {},
   "outputs": [],
   "source": [
    "sns.distplot(x=t_bill, bins=50)"
   ]
  },
  {
   "cell_type": "code",
   "execution_count": null,
   "id": "892a36b8-c472-48eb-a762-215b411aba6b",
   "metadata": {},
   "outputs": [],
   "source": [
    "tips.info()"
   ]
  },
  {
   "cell_type": "code",
   "execution_count": null,
   "id": "450a09b3-47ae-40a7-9350-75b89f9c2fc6",
   "metadata": {},
   "outputs": [],
   "source": [
    "size = pd.crosstab(index=tips['size'], columns='count') \n",
    "#1명의 방문횟수, 2명의 방문횟수, 3명의 방문횟수,... 6명의 방문 횟수  "
   ]
  },
  {
   "cell_type": "code",
   "execution_count": null,
   "id": "e6792c98-dc4f-46df-ab4f-63060df48f13",
   "metadata": {},
   "outputs": [],
   "source": [
    "size"
   ]
  },
  {
   "cell_type": "code",
   "execution_count": null,
   "id": "5343dfe5-9e88-4639-aeec-ce17b83a20d0",
   "metadata": {},
   "outputs": [],
   "source": [
    "pd.crosstab(index=tips['size'], columns='count')"
   ]
  },
  {
   "cell_type": "code",
   "execution_count": null,
   "id": "0c4a15b4-3518-4b27-8859-7f531d23c19e",
   "metadata": {},
   "outputs": [],
   "source": []
  },
  {
   "cell_type": "code",
   "execution_count": null,
   "id": "9f78e46e-2caf-4f85-9a5e-8ffc4843aa73",
   "metadata": {},
   "outputs": [],
   "source": [
    "size.plot.bar()"
   ]
  },
  {
   "cell_type": "code",
   "execution_count": null,
   "id": "111095e5-b706-45d8-8444-e44ea56c10d6",
   "metadata": {},
   "outputs": [],
   "source": [
    "size_tip = pd.crosstab(index=tips['size'], columns=tips['tip']) "
   ]
  },
  {
   "cell_type": "code",
   "execution_count": null,
   "id": "ce4bef9c-5d14-4682-96af-a3728f1082b8",
   "metadata": {},
   "outputs": [],
   "source": [
    "size_tip # 금액의 빈도수 "
   ]
  },
  {
   "cell_type": "code",
   "execution_count": null,
   "id": "df29451d-fe1d-4c78-a1ea-ae58bb477361",
   "metadata": {},
   "outputs": [],
   "source": [
    "size_t_bill=size_tip = pd.crosstab(index=tips['size'], columns=tips['total_bill']) "
   ]
  },
  {
   "cell_type": "code",
   "execution_count": null,
   "id": "3d61df46-5a70-40f4-a5f4-d4611f0e0dda",
   "metadata": {},
   "outputs": [],
   "source": [
    "size_t_bill"
   ]
  },
  {
   "cell_type": "code",
   "execution_count": null,
   "id": "e9625218-e89d-425a-bafd-d0aa815a83b2",
   "metadata": {},
   "outputs": [],
   "source": [
    "tip_rate=tips[\"tip\"]/tips[\"total_bill\"] #tip_rate 변수를 내가 하나 더 만든 것임 "
   ]
  },
  {
   "cell_type": "code",
   "execution_count": null,
   "id": "365821f6-755e-480f-917c-72caa7c0255f",
   "metadata": {},
   "outputs": [],
   "source": [
    "tips['tip_rate']=(tips['tip']/tips['total_bill'])"
   ]
  },
  {
   "cell_type": "code",
   "execution_count": null,
   "id": "8d83d6c7-99d2-471c-9cd1-39ef9dccbdee",
   "metadata": {},
   "outputs": [],
   "source": [
    "tips['tip_rate']"
   ]
  },
  {
   "cell_type": "code",
   "execution_count": null,
   "id": "2f64bde0-3f1b-409e-9885-777119bcb3b7",
   "metadata": {},
   "outputs": [],
   "source": [
    "tips.describe()"
   ]
  },
  {
   "cell_type": "code",
   "execution_count": null,
   "id": "ada2b0b8-266f-454b-86b9-625e14c07ffc",
   "metadata": {},
   "outputs": [],
   "source": [
    "import pandas_profiling"
   ]
  },
  {
   "cell_type": "code",
   "execution_count": null,
   "id": "f929c462-99c6-49e3-a810-e3f29a9768e0",
   "metadata": {},
   "outputs": [],
   "source": [
    "tips.head(3)"
   ]
  },
  {
   "cell_type": "raw",
   "id": "edb2430e-4c26-4df2-a9db-1dc766de0028",
   "metadata": {},
   "source": []
  },
  {
   "cell_type": "code",
   "execution_count": null,
   "id": "94e01af8-cc81-46b2-a30e-41b50176e8cd",
   "metadata": {},
   "outputs": [],
   "source": []
  },
  {
   "cell_type": "code",
   "execution_count": null,
   "id": "1fa3989e-099b-4600-8939-494a08e5ba3b",
   "metadata": {},
   "outputs": [],
   "source": [
    "tips.corr()"
   ]
  },
  {
   "cell_type": "markdown",
   "id": "60e3f15a-4dd5-4d6a-98f8-2ab3007d89b8",
   "metadata": {},
   "source": [
    "### profile_report 결과 해석\n",
    "비싸게 먹을수록 tip이 적어진다.\n",
    "2명씩 오는 것이 tip 비율이 높다.\n",
    "레스토랑 입장에선 단체보단 소수가 오는 것이 tip 비율이 더 높아 이득이다. \n",
    "\n",
    "-------\n",
    "상관관계는 예를 들어서 가설을 세운다. \n",
    "- 주가가 급등을 하니까 비싼차가 잘 팔려요. (양의 상관관계)\n"
   ]
  },
  {
   "cell_type": "code",
   "execution_count": null,
   "id": "70138e26-7239-4b8b-a375-b828deff0ddd",
   "metadata": {},
   "outputs": [],
   "source": [
    "tips['sex']=tips['sex'].replace({'Female':0, 'Male':1}) #범주형데이터를 인코딩하는 과정"
   ]
  },
  {
   "cell_type": "code",
   "execution_count": null,
   "id": "c487b857-72c3-4c7b-a1a9-8cb45f8bcf3f",
   "metadata": {},
   "outputs": [],
   "source": [
    "tips['sex'].unique"
   ]
  },
  {
   "cell_type": "code",
   "execution_count": null,
   "id": "103098e8-9e8a-4124-a196-da3391f0870d",
   "metadata": {},
   "outputs": [],
   "source": [
    "tips['smoker']=tips['smoker'].replace({'No':0, 'Yes':1}) #범주형데이터를 인코딩하는 과정"
   ]
  },
  {
   "cell_type": "code",
   "execution_count": null,
   "id": "dddd0484-13a9-49fa-9e0d-fb0525abc3f2",
   "metadata": {},
   "outputs": [],
   "source": [
    "tips['day'].unique()"
   ]
  },
  {
   "cell_type": "code",
   "execution_count": null,
   "id": "c44a6422-5545-4839-8f90-41d4b0805b92",
   "metadata": {},
   "outputs": [],
   "source": [
    "tips['day']=tips['day'].replace({'Thur':0, 'Fri':1, 'Sat':2, 'Sun':3})  #범주형데이터를 인코딩하는 과정"
   ]
  },
  {
   "cell_type": "code",
   "execution_count": null,
   "id": "927f441e-5f3c-4698-9a91-99f79d04e4a0",
   "metadata": {},
   "outputs": [],
   "source": [
    "tips['time']=tips['time'].replace({'Lunch':0, 'Dinner':1}) #범주형데이터를 인코딩하는 과정"
   ]
  },
  {
   "cell_type": "code",
   "execution_count": null,
   "id": "92a3efff-aead-437c-8468-61da782ff458",
   "metadata": {},
   "outputs": [],
   "source": [
    "tips.day.count()"
   ]
  },
  {
   "cell_type": "code",
   "execution_count": null,
   "id": "c93f4968-0a1d-48ec-bf1a-68595ff4316b",
   "metadata": {},
   "outputs": [],
   "source": [
    "top_tip = (tips['tip_rate']> 0.7)"
   ]
  },
  {
   "cell_type": "code",
   "execution_count": null,
   "id": "b53fc253-45e0-4849-9616-16c57e2a3bb3",
   "metadata": {},
   "outputs": [],
   "source": [
    "sns.pairplot(tips)   #복사하기"
   ]
  },
  {
   "cell_type": "code",
   "execution_count": null,
   "id": "4484d9ac-5bc7-4adc-bb14-b732e68ae34e",
   "metadata": {},
   "outputs": [],
   "source": []
  },
  {
   "cell_type": "code",
   "execution_count": null,
   "id": "3afa6392-1596-4182-8fe4-f77274eea8dd",
   "metadata": {},
   "outputs": [],
   "source": []
  },
  {
   "cell_type": "code",
   "execution_count": null,
   "id": "6f498894-7126-402e-a2eb-a244ac092667",
   "metadata": {},
   "outputs": [],
   "source": [
    "tips.corr()"
   ]
  },
  {
   "cell_type": "code",
   "execution_count": null,
   "id": "583c63ff-8336-461e-a084-d6f46dbec488",
   "metadata": {},
   "outputs": [],
   "source": [
    "tips.profile_report() #만든 tip_rate의 상관관계를 보기 위함"
   ]
  },
  {
   "cell_type": "code",
   "execution_count": null,
   "id": "c6a8b068-8db9-46f8-a201-3cf201b2e968",
   "metadata": {},
   "outputs": [],
   "source": [
    "tips.assign(tip_rate=tips[\"tip\"] / tips[\"total_bill\"]).head(5)"
   ]
  },
  {
   "cell_type": "code",
   "execution_count": null,
   "id": "6da2fa1a-64a4-4d38-a3b0-f170e6183c6e",
   "metadata": {},
   "outputs": [],
   "source": []
  },
  {
   "cell_type": "code",
   "execution_count": null,
   "id": "1cde5e53-997d-42d5-b12f-33378ccc8dc7",
   "metadata": {},
   "outputs": [],
   "source": [
    "tips[tips[\"time\"] == \"Dinner\"].head(5)"
   ]
  },
  {
   "cell_type": "code",
   "execution_count": null,
   "id": "816f0d6d-8ae5-4040-9cc7-5f8ac411e6c9",
   "metadata": {},
   "outputs": [],
   "source": [
    "week=tips.groupby('day').agg({'tip':np.mean, 'day':np.size})"
   ]
  },
  {
   "cell_type": "code",
   "execution_count": null,
   "id": "9e0caf47-8120-47e0-adc9-38f30e22c410",
   "metadata": {},
   "outputs": [],
   "source": [
    "week"
   ]
  },
  {
   "cell_type": "code",
   "execution_count": null,
   "id": "5f8bb8f9-9607-419b-9b43-c5164af6fc5f",
   "metadata": {},
   "outputs": [],
   "source": [
    "week.tip"
   ]
  },
  {
   "cell_type": "code",
   "execution_count": null,
   "id": "0de05a61-86fe-47be-854a-ba706a2a60aa",
   "metadata": {},
   "outputs": [],
   "source": [
    "week.tip.max()"
   ]
  },
  {
   "cell_type": "code",
   "execution_count": null,
   "id": "d1c57497-c8e1-4518-bddb-1c99f0196d2c",
   "metadata": {},
   "outputs": [],
   "source": [
    "week.tip.mean()"
   ]
  },
  {
   "cell_type": "code",
   "execution_count": null,
   "id": "92436d7c-f637-4de1-af8c-a5038a4a4387",
   "metadata": {},
   "outputs": [],
   "source": [
    "week.iloc[0,:]"
   ]
  },
  {
   "cell_type": "code",
   "execution_count": null,
   "id": "f7503811-3dda-46b4-a765-2bc09ee128d8",
   "metadata": {},
   "outputs": [],
   "source": [
    "week.loc['Fri','tip']"
   ]
  },
  {
   "cell_type": "code",
   "execution_count": null,
   "id": "c4bfaa45-c5db-444e-b046-c1dfe75cf538",
   "metadata": {},
   "outputs": [],
   "source": [
    "smoker0=tips.groupby([\"smoker\", \"day\"]).agg({\"tip\": [np.size, np.mean]})"
   ]
  },
  {
   "cell_type": "code",
   "execution_count": null,
   "id": "6540cf12-8f0b-41f3-ac5b-a754b5f62c82",
   "metadata": {},
   "outputs": [],
   "source": [
    "smoker0"
   ]
  },
  {
   "cell_type": "code",
   "execution_count": null,
   "id": "1972955c-2d28-443c-b97d-ada384aaf525",
   "metadata": {},
   "outputs": [],
   "source": [
    "smoker0.iloc[1, :]"
   ]
  },
  {
   "cell_type": "code",
   "execution_count": null,
   "id": "5948d738-94a3-4625-89f8-a8dcec08e68b",
   "metadata": {},
   "outputs": [],
   "source": [
    "smoker0.iloc[7,:]"
   ]
  },
  {
   "cell_type": "code",
   "execution_count": null,
   "id": "4b8f3ec7-d2c1-4aa4-bf42-761ec40494de",
   "metadata": {},
   "outputs": [],
   "source": []
  }
 ],
 "metadata": {
  "kernelspec": {
   "display_name": "Python Multi",
   "language": "python",
   "name": "multi"
  },
  "language_info": {
   "codemirror_mode": {
    "name": "ipython",
    "version": 3
   },
   "file_extension": ".py",
   "mimetype": "text/x-python",
   "name": "python",
   "nbconvert_exporter": "python",
   "pygments_lexer": "ipython3",
   "version": "3.7.6"
  }
 },
 "nbformat": 4,
 "nbformat_minor": 5
}
