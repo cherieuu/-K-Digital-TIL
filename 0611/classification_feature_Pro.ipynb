{
 "cells": [
  {
   "cell_type": "markdown",
   "id": "basic-nature",
   "metadata": {},
   "source": [
    "### Classification Feature Selection:\n",
    "(Numerical Input, Categorical Output)"
   ]
  },
  {
   "cell_type": "markdown",
   "id": "recorded-gregory",
   "metadata": {},
   "source": [
    "Feature selection is performed using ANOVA F measure via the f_classif() function."
   ]
  },
  {
   "cell_type": "code",
   "execution_count": 1,
   "id": "chemical-minute",
   "metadata": {},
   "outputs": [],
   "source": [
    "# ANOVA feature selection for numeric input and categorical output\n",
    "from sklearn.datasets import make_classification\n",
    "from sklearn.feature_selection import SelectKBest\n",
    "from sklearn.feature_selection import f_classif\n",
    "# generate dataset\n"
   ]
  },
  {
   "cell_type": "code",
   "execution_count": 8,
   "id": "angry-angola",
   "metadata": {},
   "outputs": [],
   "source": [
    "X, y = make_classification(n_samples=100, n_features=20, n_informative=2)\n",
    "# define feature selection\n"
   ]
  },
  {
   "cell_type": "code",
   "execution_count": 9,
   "id": "9c8abb45-d9a2-4ca0-b1c1-8f5ab498eac8",
   "metadata": {},
   "outputs": [
    {
     "data": {
      "text/plain": [
       "(20, 20)"
      ]
     },
     "execution_count": 9,
     "metadata": {},
     "output_type": "execute_result"
    }
   ],
   "source": [
    "X.shape"
   ]
  },
  {
   "cell_type": "code",
   "execution_count": 10,
   "id": "6266a749-6814-411d-80bd-bf586cb9e74f",
   "metadata": {},
   "outputs": [],
   "source": [
    "fs = SelectKBest(score_func=f_classif, k=2)\n",
    "# apply feature selection\n"
   ]
  },
  {
   "cell_type": "code",
   "execution_count": 11,
   "id": "f1408949-2055-4b37-b5a2-f96f81d3ecfa",
   "metadata": {},
   "outputs": [
    {
     "name": "stdout",
     "output_type": "stream",
     "text": [
      "(20, 2)\n"
     ]
    }
   ],
   "source": [
    "X_selected = fs.fit_transform(X, y)\n",
    "print(X_selected.shape)"
   ]
  },
  {
   "cell_type": "code",
   "execution_count": 12,
   "id": "a449fb1f-15c3-432e-8e39-4e12c13a9d8e",
   "metadata": {},
   "outputs": [
    {
     "data": {
      "text/plain": [
       "array([[ 1.6836821 , -1.18876857],\n",
       "       [ 0.426037  , -0.15316842],\n",
       "       [-0.08157819, -0.20353577],\n",
       "       [ 2.05459106, -1.64078167],\n",
       "       [ 1.02857905, -0.89546126],\n",
       "       [-0.03783726,  0.06661607],\n",
       "       [ 2.38455532, -2.0180347 ],\n",
       "       [ 0.44503431, -0.36431262],\n",
       "       [-0.09401187,  0.10843615],\n",
       "       [-1.35990291,  1.1812368 ],\n",
       "       [-0.20796472, -0.24067302],\n",
       "       [ 1.20829342, -0.80138468],\n",
       "       [-0.47353435,  0.24042429],\n",
       "       [ 1.40401611, -0.80988918],\n",
       "       [-0.37932568,  0.07068932],\n",
       "       [-3.76337345,  2.84339879],\n",
       "       [-0.58279838,  0.3151746 ],\n",
       "       [ 0.8547387 , -0.66483652],\n",
       "       [ 0.25036321,  0.05315073],\n",
       "       [ 1.79163294, -1.21090395]])"
      ]
     },
     "execution_count": 12,
     "metadata": {},
     "output_type": "execute_result"
    }
   ],
   "source": [
    "X_selected"
   ]
  },
  {
   "cell_type": "code",
   "execution_count": null,
   "id": "285bcf56-f403-4d8d-b691-ffe233dad630",
   "metadata": {},
   "outputs": [],
   "source": []
  }
 ],
 "metadata": {
  "kernelspec": {
   "display_name": "Python 3",
   "language": "python",
   "name": "python3"
  },
  "language_info": {
   "codemirror_mode": {
    "name": "ipython",
    "version": 3
   },
   "file_extension": ".py",
   "mimetype": "text/x-python",
   "name": "python",
   "nbconvert_exporter": "python",
   "pygments_lexer": "ipython3",
   "version": "3.7.6"
  }
 },
 "nbformat": 4,
 "nbformat_minor": 5
}
