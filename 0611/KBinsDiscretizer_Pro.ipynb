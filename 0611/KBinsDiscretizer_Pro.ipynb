{
 "cells": [
  {
   "cell_type": "markdown",
   "id": "peaceful-means",
   "metadata": {},
   "source": [
    "### KBinsDiscretizer"
   ]
  },
  {
   "cell_type": "code",
   "execution_count": 1,
   "id": "authorized-healing",
   "metadata": {},
   "outputs": [],
   "source": [
    "# discretize numeric input variables\n",
    "from sklearn.datasets import make_classification\n",
    "from sklearn.preprocessing import KBinsDiscretizer\n",
    "import pandas as pd"
   ]
  },
  {
   "cell_type": "code",
   "execution_count": 2,
   "id": "sound-sustainability",
   "metadata": {},
   "outputs": [],
   "source": [
    "# define dataset\n",
    "# X, y = make_classification(n_samples=1000, n_features=5, n_informative=5, n_redundant=0,\n",
    "# random_state=1)\n",
    "\n",
    "# summarize data before the transform\n",
    "#print(X[:3, :])"
   ]
  },
  {
   "cell_type": "code",
   "execution_count": 3,
   "id": "96629dc3-653d-4e08-86f8-925f18fa76bb",
   "metadata": {},
   "outputs": [],
   "source": [
    "X, y = make_classification(n_samples=10000000, n_features=5,n_redundant=0, random_state=1)\n"
   ]
  },
  {
   "cell_type": "code",
   "execution_count": 4,
   "id": "897cc73d-141b-417a-a749-771ef2108be3",
   "metadata": {},
   "outputs": [
    {
     "data": {
      "text/plain": [
       "(10000000, 5)"
      ]
     },
     "execution_count": 4,
     "metadata": {},
     "output_type": "execute_result"
    }
   ],
   "source": [
    "X.shape"
   ]
  },
  {
   "cell_type": "code",
   "execution_count": 5,
   "id": "ea0a8012-7c43-42af-9b9e-653d06b6de62",
   "metadata": {},
   "outputs": [
    {
     "data": {
      "text/plain": [
       "array([-0.96004414, -1.11930585, -0.99858071, -1.9548064 ,  0.19574245])"
      ]
     },
     "execution_count": 5,
     "metadata": {},
     "output_type": "execute_result"
    }
   ],
   "source": [
    "X[0,:]"
   ]
  },
  {
   "cell_type": "code",
   "execution_count": 6,
   "id": "3baf53ec-47a6-4d67-af87-38242cdcbc82",
   "metadata": {},
   "outputs": [
    {
     "data": {
      "text/plain": [
       "-0.0004055693215952229"
      ]
     },
     "execution_count": 6,
     "metadata": {},
     "output_type": "execute_result"
    }
   ],
   "source": [
    "X.mean()"
   ]
  },
  {
   "cell_type": "code",
   "execution_count": 7,
   "id": "07f2167a-b8ba-44d2-bfc3-973f2d68fcfb",
   "metadata": {},
   "outputs": [
    {
     "data": {
      "text/plain": [
       "5.936438315096373"
      ]
     },
     "execution_count": 7,
     "metadata": {},
     "output_type": "execute_result"
    }
   ],
   "source": [
    "X.max()"
   ]
  },
  {
   "cell_type": "code",
   "execution_count": 8,
   "id": "004d5f4e-44fd-473c-87c4-64eb7007f244",
   "metadata": {},
   "outputs": [
    {
     "data": {
      "text/plain": [
       "-7.169360364674251"
      ]
     },
     "execution_count": 8,
     "metadata": {},
     "output_type": "execute_result"
    }
   ],
   "source": [
    "X.min()"
   ]
  },
  {
   "cell_type": "code",
   "execution_count": 9,
   "id": "81bc8932-3799-44d1-8045-cdb95d73495e",
   "metadata": {},
   "outputs": [
    {
     "data": {
      "text/plain": [
       "(10000000,)"
      ]
     },
     "execution_count": 9,
     "metadata": {},
     "output_type": "execute_result"
    }
   ],
   "source": [
    "y.shape"
   ]
  },
  {
   "cell_type": "code",
   "execution_count": 10,
   "id": "46ae1eae-64bd-442c-885a-bb4dcd8f0440",
   "metadata": {},
   "outputs": [
    {
     "data": {
      "text/plain": [
       "0.4999867"
      ]
     },
     "execution_count": 10,
     "metadata": {},
     "output_type": "execute_result"
    }
   ],
   "source": [
    "y.mean()"
   ]
  },
  {
   "cell_type": "code",
   "execution_count": 11,
   "id": "exceptional-policy",
   "metadata": {},
   "outputs": [],
   "source": [
    "# define the transform\n",
    "trans = KBinsDiscretizer(n_bins=10, encode='ordinal', strategy='uniform')"
   ]
  },
  {
   "cell_type": "code",
   "execution_count": 12,
   "id": "ffe57da7-035f-4b59-ba1d-8127ce509a65",
   "metadata": {},
   "outputs": [
    {
     "data": {
      "text/plain": [
       "array([0, 1, 0, ..., 0, 0, 0])"
      ]
     },
     "execution_count": 12,
     "metadata": {},
     "output_type": "execute_result"
    }
   ],
   "source": [
    "y"
   ]
  },
  {
   "cell_type": "code",
   "execution_count": 13,
   "id": "261e6ce6-8bae-4d93-a03e-e758cd262017",
   "metadata": {},
   "outputs": [
    {
     "data": {
      "text/plain": [
       "1"
      ]
     },
     "execution_count": 13,
     "metadata": {},
     "output_type": "execute_result"
    }
   ],
   "source": [
    "y[1]"
   ]
  },
  {
   "cell_type": "markdown",
   "id": "135add6d-4e98-4f22-bd79-fe28321a26e9",
   "metadata": {},
   "source": []
  },
  {
   "cell_type": "code",
   "execution_count": 14,
   "id": "663fda0b-6e45-49e5-90af-4d910cf3a837",
   "metadata": {},
   "outputs": [],
   "source": [
    "# define the transform\n",
    "trans = KBinsDiscretizer(n_bins=10, encode='ordinal', strategy='uniform')"
   ]
  },
  {
   "cell_type": "code",
   "execution_count": 15,
   "id": "agreed-nursery",
   "metadata": {},
   "outputs": [],
   "source": [
    "# transform the data\n",
    "X_discrete = trans.fit_transform(X)"
   ]
  },
  {
   "cell_type": "code",
   "execution_count": 16,
   "id": "large-swedish",
   "metadata": {},
   "outputs": [
    {
     "name": "stdout",
     "output_type": "stream",
     "text": [
      "[[4. 4. 3. 3. 5.]\n",
      " [7. 7. 7. 4. 3.]\n",
      " [4. 5. 3. 3. 3.]]\n"
     ]
    }
   ],
   "source": [
    "# summarize data after the transform\n",
    "print(X_discrete[:3, :])"
   ]
  },
  {
   "cell_type": "code",
   "execution_count": 17,
   "id": "a1c0bae8-056d-48ea-81ff-581a85c1d84a",
   "metadata": {},
   "outputs": [
    {
     "data": {
      "text/plain": [
       "array([-0.96004414, -1.11930585, -0.99858071, -1.9548064 ,  0.19574245])"
      ]
     },
     "execution_count": 17,
     "metadata": {},
     "output_type": "execute_result"
    }
   ],
   "source": [
    "X[0, :]"
   ]
  },
  {
   "cell_type": "code",
   "execution_count": 18,
   "id": "625c3d6c-50f6-4fd8-92e8-a40c708a2c3e",
   "metadata": {},
   "outputs": [
    {
     "name": "stdout",
     "output_type": "stream",
     "text": [
      "[4. 4. 3. 3. 5.]\n"
     ]
    }
   ],
   "source": [
    "print(X_discrete[0, :])"
   ]
  },
  {
   "cell_type": "code",
   "execution_count": 23,
   "id": "cf20a49f-7992-4970-b73e-aa2801508895",
   "metadata": {},
   "outputs": [
    {
     "data": {
      "text/plain": [
       "array([-0.96004414, -1.11930585, -0.99858071, -1.9548064 ,  0.19574245])"
      ]
     },
     "execution_count": 23,
     "metadata": {},
     "output_type": "execute_result"
    }
   ],
   "source": [
    "X[0, :]"
   ]
  },
  {
   "cell_type": "code",
   "execution_count": 24,
   "id": "5009c24b-fd81-4840-ac3e-34d444ac3d6d",
   "metadata": {},
   "outputs": [
    {
     "name": "stdout",
     "output_type": "stream",
     "text": [
      "[7. 7. 7. 4. 3.]\n"
     ]
    }
   ],
   "source": [
    "print(X_discrete[1, :])"
   ]
  },
  {
   "cell_type": "code",
   "execution_count": 21,
   "id": "0c891ece-5fbe-48f8-a097-59669baaa46b",
   "metadata": {},
   "outputs": [],
   "source": [
    "data=pd.DataFrame(X)"
   ]
  },
  {
   "cell_type": "code",
   "execution_count": 22,
   "id": "1683a7da-a714-4b37-854d-32f501ad09d0",
   "metadata": {},
   "outputs": [
    {
     "data": {
      "text/html": [
       "<div>\n",
       "<style scoped>\n",
       "    .dataframe tbody tr th:only-of-type {\n",
       "        vertical-align: middle;\n",
       "    }\n",
       "\n",
       "    .dataframe tbody tr th {\n",
       "        vertical-align: top;\n",
       "    }\n",
       "\n",
       "    .dataframe thead th {\n",
       "        text-align: right;\n",
       "    }\n",
       "</style>\n",
       "<table border=\"1\" class=\"dataframe\">\n",
       "  <thead>\n",
       "    <tr style=\"text-align: right;\">\n",
       "      <th></th>\n",
       "      <th>0</th>\n",
       "      <th>1</th>\n",
       "      <th>2</th>\n",
       "      <th>3</th>\n",
       "      <th>4</th>\n",
       "    </tr>\n",
       "  </thead>\n",
       "  <tbody>\n",
       "    <tr>\n",
       "      <th>count</th>\n",
       "      <td>10000000.00</td>\n",
       "      <td>10000000.00</td>\n",
       "      <td>10000000.00</td>\n",
       "      <td>10000000.00</td>\n",
       "      <td>10000000.00</td>\n",
       "    </tr>\n",
       "    <tr>\n",
       "      <th>mean</th>\n",
       "      <td>-0.00</td>\n",
       "      <td>-0.00</td>\n",
       "      <td>-0.00</td>\n",
       "      <td>-0.00</td>\n",
       "      <td>-0.00</td>\n",
       "    </tr>\n",
       "    <tr>\n",
       "      <th>std</th>\n",
       "      <td>1.42</td>\n",
       "      <td>1.21</td>\n",
       "      <td>1.00</td>\n",
       "      <td>1.00</td>\n",
       "      <td>1.00</td>\n",
       "    </tr>\n",
       "    <tr>\n",
       "      <th>min</th>\n",
       "      <td>-7.17</td>\n",
       "      <td>-5.80</td>\n",
       "      <td>-5.07</td>\n",
       "      <td>-5.36</td>\n",
       "      <td>-6.12</td>\n",
       "    </tr>\n",
       "    <tr>\n",
       "      <th>25%</th>\n",
       "      <td>-1.04</td>\n",
       "      <td>-1.00</td>\n",
       "      <td>-0.68</td>\n",
       "      <td>-0.67</td>\n",
       "      <td>-0.68</td>\n",
       "    </tr>\n",
       "    <tr>\n",
       "      <th>50%</th>\n",
       "      <td>0.03</td>\n",
       "      <td>0.17</td>\n",
       "      <td>-0.00</td>\n",
       "      <td>-0.00</td>\n",
       "      <td>-0.00</td>\n",
       "    </tr>\n",
       "    <tr>\n",
       "      <th>75%</th>\n",
       "      <td>1.06</td>\n",
       "      <td>1.01</td>\n",
       "      <td>0.67</td>\n",
       "      <td>0.67</td>\n",
       "      <td>0.67</td>\n",
       "    </tr>\n",
       "    <tr>\n",
       "      <th>max</th>\n",
       "      <td>5.94</td>\n",
       "      <td>4.67</td>\n",
       "      <td>5.28</td>\n",
       "      <td>5.71</td>\n",
       "      <td>5.22</td>\n",
       "    </tr>\n",
       "  </tbody>\n",
       "</table>\n",
       "</div>"
      ],
      "text/plain": [
       "                 0            1            2            3            4\n",
       "count  10000000.00  10000000.00  10000000.00  10000000.00  10000000.00\n",
       "mean         -0.00        -0.00        -0.00        -0.00        -0.00\n",
       "std           1.42         1.21         1.00         1.00         1.00\n",
       "min          -7.17        -5.80        -5.07        -5.36        -6.12\n",
       "25%          -1.04        -1.00        -0.68        -0.67        -0.68\n",
       "50%           0.03         0.17        -0.00        -0.00        -0.00\n",
       "75%           1.06         1.01         0.67         0.67         0.67\n",
       "max           5.94         4.67         5.28         5.71         5.22"
      ]
     },
     "execution_count": 22,
     "metadata": {},
     "output_type": "execute_result"
    }
   ],
   "source": [
    "data.describe().round(2)  #하나의 독립변수에서 여러개가 되버리면 평균값과 분산값이 차이가 있냐 없냐를 판별하는게 ANOVA분산분석\n",
    "                # 샘플링이 랜덤으로 되고 있어서 "
   ]
  },
  {
   "cell_type": "code",
   "execution_count": null,
   "id": "1dae7d62-8db2-4e6a-ad18-af15496b3e96",
   "metadata": {},
   "outputs": [],
   "source": []
  }
 ],
 "metadata": {
  "kernelspec": {
   "display_name": "Python 3",
   "language": "python",
   "name": "python3"
  },
  "language_info": {
   "codemirror_mode": {
    "name": "ipython",
    "version": 3
   },
   "file_extension": ".py",
   "mimetype": "text/x-python",
   "name": "python",
   "nbconvert_exporter": "python",
   "pygments_lexer": "ipython3",
   "version": "3.7.6"
  }
 },
 "nbformat": 4,
 "nbformat_minor": 5
}
