{
 "cells": [
  {
   "cell_type": "code",
   "execution_count": 11,
   "id": "7a655f6d",
   "metadata": {
    "ExecuteTime": {
     "end_time": "2021-07-06T08:28:23.577869Z",
     "start_time": "2021-07-06T08:28:23.574016Z"
    }
   },
   "outputs": [],
   "source": [
    "# 함수선언부\n",
    "def binSearch(ary, fData):\n",
    "    pos=-1\n",
    "    start=0\n",
    "    end=len(ary)-1\n",
    "    \n",
    "    while(start <=end):\n",
    "        mid=(start+end)//2\n",
    "        if fData == ary[mid]:\n",
    "            return mid\n",
    "        elif fData>ary[mid]:\n",
    "            start=mid+1\n",
    "        else :\n",
    "            end = mid-1\n",
    "    return pos"
   ]
  },
  {
   "cell_type": "code",
   "execution_count": 12,
   "id": "0c9d2675",
   "metadata": {
    "ExecuteTime": {
     "end_time": "2021-07-06T08:28:24.009227Z",
     "start_time": "2021-07-06T08:28:24.006356Z"
    }
   },
   "outputs": [],
   "source": [
    "# 전역변수부\n",
    "dataAry =[50,60,105,120,150,160,162,168,177,188]\n",
    "findData =162"
   ]
  },
  {
   "cell_type": "code",
   "execution_count": 13,
   "id": "30a1a0f4",
   "metadata": {
    "ExecuteTime": {
     "end_time": "2021-07-06T08:28:24.315305Z",
     "start_time": "2021-07-06T08:28:24.311128Z"
    }
   },
   "outputs": [
    {
     "data": {
      "text/plain": [
       "('배열-->', [50, 60, 105, 120, 150, 160, 162, 168, 177, 188])"
      ]
     },
     "execution_count": 13,
     "metadata": {},
     "output_type": "execute_result"
    }
   ],
   "source": [
    "# 메인코드부\n",
    "'배열-->',dataAry"
   ]
  },
  {
   "cell_type": "code",
   "execution_count": 15,
   "id": "70865edb",
   "metadata": {
    "ExecuteTime": {
     "end_time": "2021-07-06T08:28:45.877329Z",
     "start_time": "2021-07-06T08:28:45.873958Z"
    }
   },
   "outputs": [
    {
     "name": "stdout",
     "output_type": "stream",
     "text": [
      "162 는 6 위치에 있음\n"
     ]
    }
   ],
   "source": [
    "position =binSearch(dataAry, findData)\n",
    "if position==-1:\n",
    "    print(findData, '가 없네요')\n",
    "else:\n",
    "    print(findData, f'는 {position} 위치에 있음')"
   ]
  },
  {
   "cell_type": "code",
   "execution_count": null,
   "id": "276baff0",
   "metadata": {},
   "outputs": [],
   "source": []
  }
 ],
 "metadata": {
  "hide_input": false,
  "kernelspec": {
   "display_name": "Python TSA",
   "language": "python",
   "name": "tsa"
  },
  "language_info": {
   "codemirror_mode": {
    "name": "ipython",
    "version": 3
   },
   "file_extension": ".py",
   "mimetype": "text/x-python",
   "name": "python",
   "nbconvert_exporter": "python",
   "pygments_lexer": "ipython3",
   "version": "3.9.5"
  },
  "latex_envs": {
   "LaTeX_envs_menu_present": true,
   "autoclose": false,
   "autocomplete": true,
   "bibliofile": "biblio.bib",
   "cite_by": "apalike",
   "current_citInitial": 1,
   "eqLabelWithNumbers": true,
   "eqNumInitial": 1,
   "hotkeys": {
    "equation": "Ctrl-E",
    "itemize": "Ctrl-I"
   },
   "labels_anchors": false,
   "latex_user_defs": false,
   "report_style_numbering": false,
   "user_envs_cfg": false
  },
  "toc": {
   "base_numbering": 1,
   "nav_menu": {},
   "number_sections": true,
   "sideBar": true,
   "skip_h1_title": false,
   "title_cell": "Table of Contents",
   "title_sidebar": "Contents",
   "toc_cell": false,
   "toc_position": {},
   "toc_section_display": true,
   "toc_window_display": false
  },
  "varInspector": {
   "cols": {
    "lenName": 16,
    "lenType": 16,
    "lenVar": 40
   },
   "kernels_config": {
    "python": {
     "delete_cmd_postfix": "",
     "delete_cmd_prefix": "del ",
     "library": "var_list.py",
     "varRefreshCmd": "print(var_dic_list())"
    },
    "r": {
     "delete_cmd_postfix": ") ",
     "delete_cmd_prefix": "rm(",
     "library": "var_list.r",
     "varRefreshCmd": "cat(var_dic_list()) "
    }
   },
   "types_to_exclude": [
    "module",
    "function",
    "builtin_function_or_method",
    "instance",
    "_Feature"
   ],
   "window_display": false
  }
 },
 "nbformat": 4,
 "nbformat_minor": 5
}
