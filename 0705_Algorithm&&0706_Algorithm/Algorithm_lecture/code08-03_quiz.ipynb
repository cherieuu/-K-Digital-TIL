{
 "cells": [
  {
   "cell_type": "code",
   "execution_count": 1,
   "id": "fd9486bb",
   "metadata": {
    "ExecuteTime": {
     "end_time": "2021-07-06T05:19:21.495757Z",
     "start_time": "2021-07-06T05:19:21.492108Z"
    }
   },
   "outputs": [],
   "source": [
    "class TreeNode():\n",
    "    def __init__(self):\n",
    "        self.left=None\n",
    "        self.right=None\n",
    "        self.data=None"
   ]
  },
  {
   "cell_type": "code",
   "execution_count": 2,
   "id": "263eec87",
   "metadata": {
    "ExecuteTime": {
     "end_time": "2021-07-06T05:19:22.363098Z",
     "start_time": "2021-07-06T05:19:22.360143Z"
    }
   },
   "outputs": [],
   "source": [
    "#전역변수\n",
    "memory=[]\n",
    "root=None\n",
    "\n",
    "nameAry=['블랙핑크', '레드벨벳','마마무','에이핑크','소녀시대','트와이스']"
   ]
  },
  {
   "cell_type": "code",
   "execution_count": 3,
   "id": "a91bf950",
   "metadata": {
    "ExecuteTime": {
     "end_time": "2021-07-06T05:19:23.223191Z",
     "start_time": "2021-07-06T05:19:23.220225Z"
    }
   },
   "outputs": [],
   "source": [
    "#첫번째 노드 생성 \n",
    "name=nameAry[0]\n",
    "node = TreeNode()\n",
    "node.data=name\n",
    "memory.append(node)\n",
    "root=node"
   ]
  },
  {
   "cell_type": "code",
   "execution_count": 4,
   "id": "6ae9991a",
   "metadata": {
    "ExecuteTime": {
     "end_time": "2021-07-06T05:19:25.008838Z",
     "start_time": "2021-07-06T05:19:25.004676Z"
    }
   },
   "outputs": [],
   "source": [
    "for name in nameAry[1:]:\n",
    "    node = TreeNode()\n",
    "    node.data=name\n",
    "    current = root\n",
    "    while 1:\n",
    "        if name < current.data:\n",
    "            if current.left == None:\n",
    "                current.left=node\n",
    "                break\n",
    "            current=current.left\n",
    "        else:\n",
    "            if current.right==None:\n",
    "                current.right=node\n",
    "                break\n",
    "            current=current.right\n",
    "            \n",
    "    memory.append(node)"
   ]
  },
  {
   "cell_type": "code",
   "execution_count": 5,
   "id": "06972b8f",
   "metadata": {
    "ExecuteTime": {
     "end_time": "2021-07-06T05:19:27.368036Z",
     "start_time": "2021-07-06T05:19:27.365423Z"
    }
   },
   "outputs": [],
   "source": [
    "findName='레드벨벳'\n",
    "current = root"
   ]
  },
  {
   "cell_type": "code",
   "execution_count": null,
   "id": "e7a4912e",
   "metadata": {},
   "outputs": [],
   "source": [
    "while 1:\n",
    "    if findName==current.data :\n",
    "        print(findName, '를 찾아다!! 야호!!')\n",
    "        break\n",
    "    elif findName<current.data:\n",
    "        if current.left ==None:\n",
    "            print('없어요')\n",
    "            break\n",
    "        current=current.left\n",
    "    else:\n",
    "        if current.right == None:\n",
    "            print('없어용 🥲')\n",
    "            break\n",
    "        current = current.right"
   ]
  }
 ],
 "metadata": {
  "hide_input": false,
  "kernelspec": {
   "display_name": "Python TSA",
   "language": "python",
   "name": "tsa"
  },
  "language_info": {
   "codemirror_mode": {
    "name": "ipython",
    "version": 3
   },
   "file_extension": ".py",
   "mimetype": "text/x-python",
   "name": "python",
   "nbconvert_exporter": "python",
   "pygments_lexer": "ipython3",
   "version": "3.9.5"
  },
  "latex_envs": {
   "LaTeX_envs_menu_present": true,
   "autoclose": false,
   "autocomplete": true,
   "bibliofile": "biblio.bib",
   "cite_by": "apalike",
   "current_citInitial": 1,
   "eqLabelWithNumbers": true,
   "eqNumInitial": 1,
   "hotkeys": {
    "equation": "Ctrl-E",
    "itemize": "Ctrl-I"
   },
   "labels_anchors": false,
   "latex_user_defs": false,
   "report_style_numbering": false,
   "user_envs_cfg": false
  },
  "toc": {
   "base_numbering": 1,
   "nav_menu": {},
   "number_sections": true,
   "sideBar": true,
   "skip_h1_title": false,
   "title_cell": "Table of Contents",
   "title_sidebar": "Contents",
   "toc_cell": false,
   "toc_position": {},
   "toc_section_display": true,
   "toc_window_display": false
  },
  "varInspector": {
   "cols": {
    "lenName": 16,
    "lenType": 16,
    "lenVar": 40
   },
   "kernels_config": {
    "python": {
     "delete_cmd_postfix": "",
     "delete_cmd_prefix": "del ",
     "library": "var_list.py",
     "varRefreshCmd": "print(var_dic_list())"
    },
    "r": {
     "delete_cmd_postfix": ") ",
     "delete_cmd_prefix": "rm(",
     "library": "var_list.r",
     "varRefreshCmd": "cat(var_dic_list()) "
    }
   },
   "types_to_exclude": [
    "module",
    "function",
    "builtin_function_or_method",
    "instance",
    "_Feature"
   ],
   "window_display": false
  }
 },
 "nbformat": 4,
 "nbformat_minor": 5
}
