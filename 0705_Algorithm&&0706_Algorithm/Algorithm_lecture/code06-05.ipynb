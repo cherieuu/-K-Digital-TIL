{
 "cells": [
  {
   "cell_type": "code",
   "execution_count": 1,
   "id": "49348ebf",
   "metadata": {
    "ExecuteTime": {
     "end_time": "2021-07-05T08:49:42.106053Z",
     "start_time": "2021-07-05T08:49:42.103575Z"
    }
   },
   "outputs": [],
   "source": [
    "SIZE= 5\n",
    "stack = [None for _ in range(SIZE)]\n",
    "top=-1"
   ]
  },
  {
   "cell_type": "code",
   "execution_count": 2,
   "id": "884ae47b",
   "metadata": {
    "ExecuteTime": {
     "end_time": "2021-07-05T08:49:42.113428Z",
     "start_time": "2021-07-05T08:49:42.110294Z"
    }
   },
   "outputs": [],
   "source": [
    "def isStackempty():\n",
    "    global SIZE, stack, top\n",
    "    if (top==-1):\n",
    "        return True\n",
    "    else : \n",
    "        return False"
   ]
  },
  {
   "cell_type": "code",
   "execution_count": 3,
   "id": "e08ba1e1",
   "metadata": {
    "ExecuteTime": {
     "end_time": "2021-07-05T08:49:42.120504Z",
     "start_time": "2021-07-05T08:49:42.116279Z"
    }
   },
   "outputs": [
    {
     "name": "stdout",
     "output_type": "stream",
     "text": [
      "스택이 비었는가? True\n"
     ]
    }
   ],
   "source": [
    "print('스택이 비었는가?', isStackempty())"
   ]
  },
  {
   "cell_type": "code",
   "execution_count": 4,
   "id": "102bbfc6",
   "metadata": {
    "ExecuteTime": {
     "end_time": "2021-07-05T08:49:42.125884Z",
     "start_time": "2021-07-05T08:49:42.122440Z"
    }
   },
   "outputs": [],
   "source": [
    "def pop():\n",
    "    global SIZE, stack, top\n",
    "    if isStackempty()==1:\n",
    "        print('스택이 텅텅!')\n",
    "        return None\n",
    "    data=stack[top]\n",
    "    stack[top]=None\n",
    "    top-=1\n",
    "    return data"
   ]
  },
  {
   "cell_type": "code",
   "execution_count": 5,
   "id": "1be2266f",
   "metadata": {
    "ExecuteTime": {
     "end_time": "2021-07-05T08:49:42.131452Z",
     "start_time": "2021-07-05T08:49:42.128530Z"
    }
   },
   "outputs": [],
   "source": [
    "SIZE= 5\n",
    "stack = ['커피', None, None, None, None,]\n",
    "top=0"
   ]
  },
  {
   "cell_type": "code",
   "execution_count": 6,
   "id": "b6fa6f63",
   "metadata": {
    "ExecuteTime": {
     "end_time": "2021-07-05T08:49:42.137902Z",
     "start_time": "2021-07-05T08:49:42.134241Z"
    }
   },
   "outputs": [
    {
     "name": "stdout",
     "output_type": "stream",
     "text": [
      "['커피', None, None, None, None]\n",
      "추출한 데이터 --> 커피\n"
     ]
    }
   ],
   "source": [
    "print(stack)\n",
    "retData=pop()\n",
    "print('추출한 데이터 -->', retData)\n"
   ]
  },
  {
   "cell_type": "code",
   "execution_count": 7,
   "id": "b660f720",
   "metadata": {
    "ExecuteTime": {
     "end_time": "2021-07-05T08:49:42.146183Z",
     "start_time": "2021-07-05T08:49:42.142584Z"
    }
   },
   "outputs": [
    {
     "name": "stdout",
     "output_type": "stream",
     "text": [
      "스택이 텅텅!\n",
      "추출한 데이터 --> None\n"
     ]
    }
   ],
   "source": [
    "retData=pop()\n",
    "print('추출한 데이터 -->', retData)"
   ]
  },
  {
   "cell_type": "code",
   "execution_count": null,
   "id": "b9354fbe",
   "metadata": {},
   "outputs": [],
   "source": []
  }
 ],
 "metadata": {
  "hide_input": false,
  "kernelspec": {
   "display_name": "Python TSA",
   "language": "python",
   "name": "tsa"
  },
  "language_info": {
   "codemirror_mode": {
    "name": "ipython",
    "version": 3
   },
   "file_extension": ".py",
   "mimetype": "text/x-python",
   "name": "python",
   "nbconvert_exporter": "python",
   "pygments_lexer": "ipython3",
   "version": "3.9.5"
  },
  "latex_envs": {
   "LaTeX_envs_menu_present": true,
   "autoclose": false,
   "autocomplete": true,
   "bibliofile": "biblio.bib",
   "cite_by": "apalike",
   "current_citInitial": 1,
   "eqLabelWithNumbers": true,
   "eqNumInitial": 1,
   "hotkeys": {
    "equation": "Ctrl-E",
    "itemize": "Ctrl-I"
   },
   "labels_anchors": false,
   "latex_user_defs": false,
   "report_style_numbering": false,
   "user_envs_cfg": false
  },
  "toc": {
   "base_numbering": 1,
   "nav_menu": {},
   "number_sections": true,
   "sideBar": true,
   "skip_h1_title": false,
   "title_cell": "Table of Contents",
   "title_sidebar": "Contents",
   "toc_cell": false,
   "toc_position": {},
   "toc_section_display": true,
   "toc_window_display": false
  },
  "varInspector": {
   "cols": {
    "lenName": 16,
    "lenType": 16,
    "lenVar": 40
   },
   "kernels_config": {
    "python": {
     "delete_cmd_postfix": "",
     "delete_cmd_prefix": "del ",
     "library": "var_list.py",
     "varRefreshCmd": "print(var_dic_list())"
    },
    "r": {
     "delete_cmd_postfix": ") ",
     "delete_cmd_prefix": "rm(",
     "library": "var_list.r",
     "varRefreshCmd": "cat(var_dic_list()) "
    }
   },
   "types_to_exclude": [
    "module",
    "function",
    "builtin_function_or_method",
    "instance",
    "_Feature"
   ],
   "window_display": false
  }
 },
 "nbformat": 4,
 "nbformat_minor": 5
}
