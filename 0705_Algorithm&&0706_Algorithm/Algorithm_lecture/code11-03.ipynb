{
 "cells": [
  {
   "cell_type": "code",
   "execution_count": 1,
   "id": "7029a404",
   "metadata": {
    "ExecuteTime": {
     "end_time": "2021-07-06T07:44:29.104662Z",
     "start_time": "2021-07-06T07:44:29.100633Z"
    }
   },
   "outputs": [],
   "source": [
    "# 함수 선언부\n",
    "def selectionSort(ary):\n",
    "    n = len(ary)\n",
    "    for i in range(0,n-1): # 사이클 (큰반복 3회)\n",
    "        minIdx = i\n",
    "        for k in range(i+1, n): #작은 반복\n",
    "            if(ary[minIdx]>ary[k]):\n",
    "                minIdx=k\n",
    "        ary[i], ary[minIdx]= ary[minIdx], ary[i]\n",
    "    return ary"
   ]
  },
  {
   "cell_type": "code",
   "execution_count": 2,
   "id": "09b4b426",
   "metadata": {
    "ExecuteTime": {
     "end_time": "2021-07-06T07:44:29.593468Z",
     "start_time": "2021-07-06T07:44:29.590566Z"
    }
   },
   "outputs": [],
   "source": [
    "#전역 변수부\n",
    "import random\n",
    "dataAry = [random.randint(50, 190) for _ in range(8)]"
   ]
  },
  {
   "cell_type": "code",
   "execution_count": 3,
   "id": "8b2b54fd",
   "metadata": {
    "ExecuteTime": {
     "end_time": "2021-07-06T07:44:30.096847Z",
     "start_time": "2021-07-06T07:44:30.086775Z"
    }
   },
   "outputs": [
    {
     "data": {
      "text/plain": [
       "('정렬전-->', [121, 183, 141, 66, 154, 64, 128, 118])"
      ]
     },
     "execution_count": 3,
     "metadata": {},
     "output_type": "execute_result"
    }
   ],
   "source": [
    "# 메인 코드부\n",
    "'정렬전-->', dataAry"
   ]
  },
  {
   "cell_type": "code",
   "execution_count": 4,
   "id": "c4dc189f",
   "metadata": {
    "ExecuteTime": {
     "end_time": "2021-07-06T07:44:30.772284Z",
     "start_time": "2021-07-06T07:44:30.768145Z"
    }
   },
   "outputs": [
    {
     "data": {
      "text/plain": [
       "('정렬후-->', [64, 66, 118, 121, 128, 141, 154, 183])"
      ]
     },
     "execution_count": 4,
     "metadata": {},
     "output_type": "execute_result"
    }
   ],
   "source": [
    "dataAry =selectionSort(dataAry)\n",
    "'정렬후-->', dataAry"
   ]
  },
  {
   "cell_type": "code",
   "execution_count": null,
   "id": "0b3ce42e",
   "metadata": {},
   "outputs": [],
   "source": []
  },
  {
   "cell_type": "code",
   "execution_count": null,
   "id": "ecd0c58c",
   "metadata": {},
   "outputs": [],
   "source": []
  },
  {
   "cell_type": "code",
   "execution_count": null,
   "id": "1f14c791",
   "metadata": {},
   "outputs": [],
   "source": []
  },
  {
   "cell_type": "code",
   "execution_count": null,
   "id": "a5dc653a",
   "metadata": {},
   "outputs": [],
   "source": []
  }
 ],
 "metadata": {
  "hide_input": false,
  "kernelspec": {
   "display_name": "Python TSA",
   "language": "python",
   "name": "tsa"
  },
  "language_info": {
   "codemirror_mode": {
    "name": "ipython",
    "version": 3
   },
   "file_extension": ".py",
   "mimetype": "text/x-python",
   "name": "python",
   "nbconvert_exporter": "python",
   "pygments_lexer": "ipython3",
   "version": "3.9.5"
  },
  "latex_envs": {
   "LaTeX_envs_menu_present": true,
   "autoclose": false,
   "autocomplete": true,
   "bibliofile": "biblio.bib",
   "cite_by": "apalike",
   "current_citInitial": 1,
   "eqLabelWithNumbers": true,
   "eqNumInitial": 1,
   "hotkeys": {
    "equation": "Ctrl-E",
    "itemize": "Ctrl-I"
   },
   "labels_anchors": false,
   "latex_user_defs": false,
   "report_style_numbering": false,
   "user_envs_cfg": false
  },
  "toc": {
   "base_numbering": 1,
   "nav_menu": {},
   "number_sections": true,
   "sideBar": true,
   "skip_h1_title": false,
   "title_cell": "Table of Contents",
   "title_sidebar": "Contents",
   "toc_cell": false,
   "toc_position": {},
   "toc_section_display": true,
   "toc_window_display": false
  },
  "varInspector": {
   "cols": {
    "lenName": 16,
    "lenType": 16,
    "lenVar": 40
   },
   "kernels_config": {
    "python": {
     "delete_cmd_postfix": "",
     "delete_cmd_prefix": "del ",
     "library": "var_list.py",
     "varRefreshCmd": "print(var_dic_list())"
    },
    "r": {
     "delete_cmd_postfix": ") ",
     "delete_cmd_prefix": "rm(",
     "library": "var_list.r",
     "varRefreshCmd": "cat(var_dic_list()) "
    }
   },
   "types_to_exclude": [
    "module",
    "function",
    "builtin_function_or_method",
    "instance",
    "_Feature"
   ],
   "window_display": false
  }
 },
 "nbformat": 4,
 "nbformat_minor": 5
}
