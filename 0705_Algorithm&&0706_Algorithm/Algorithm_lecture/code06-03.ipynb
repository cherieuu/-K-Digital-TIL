{
 "cells": [
  {
   "cell_type": "code",
   "execution_count": 1,
   "id": "ef592801",
   "metadata": {
    "ExecuteTime": {
     "end_time": "2021-07-05T08:34:26.614144Z",
     "start_time": "2021-07-05T08:34:26.609754Z"
    }
   },
   "outputs": [],
   "source": [
    "SIZE= 5\n",
    "stack = [None for _ in range(SIZE)]\n",
    "top=-1"
   ]
  },
  {
   "cell_type": "code",
   "execution_count": 2,
   "id": "bc7f3590",
   "metadata": {
    "ExecuteTime": {
     "end_time": "2021-07-05T08:34:26.620562Z",
     "start_time": "2021-07-05T08:34:26.617974Z"
    }
   },
   "outputs": [],
   "source": [
    "def isStackFull():\n",
    "    global SIZE, stack, top\n",
    "    if (top >= SIZE-1):\n",
    "        return True\n",
    "    else :\n",
    "        return False"
   ]
  },
  {
   "cell_type": "code",
   "execution_count": 3,
   "id": "484522cc",
   "metadata": {
    "ExecuteTime": {
     "end_time": "2021-07-05T08:34:26.626934Z",
     "start_time": "2021-07-05T08:34:26.623685Z"
    }
   },
   "outputs": [],
   "source": [
    "def push(data):\n",
    "    global SIZE, stack, top\n",
    "    if (isStackFull()) :\n",
    "        print('스택 꽉!')\n",
    "        return\n",
    "    top +=1\n",
    "    stack[top]=data"
   ]
  },
  {
   "cell_type": "code",
   "execution_count": 10,
   "id": "c8aa2671",
   "metadata": {
    "ExecuteTime": {
     "end_time": "2021-07-05T08:41:09.912403Z",
     "start_time": "2021-07-05T08:41:09.909050Z"
    }
   },
   "outputs": [],
   "source": [
    "def pop() :\n",
    "    global SIZE, stack, top\n",
    "    # 비었는지 체크\n",
    "    if (isStackempty()):\n",
    "        print('스택 텅텅!')\n",
    "        return\n",
    "    top-=1\n",
    "    stack[top]=data\n",
    "    "
   ]
  },
  {
   "cell_type": "code",
   "execution_count": 11,
   "id": "c8d94701",
   "metadata": {
    "ExecuteTime": {
     "end_time": "2021-07-05T08:41:54.630427Z",
     "start_time": "2021-07-05T08:41:54.627662Z"
    }
   },
   "outputs": [
    {
     "name": "stdout",
     "output_type": "stream",
     "text": [
      "[]\n"
     ]
    }
   ],
   "source": [
    "SIZE = 5\n",
    "#stack = ['커피', '녹차', '꿀물', '콜라', None]\n",
    "stack = []\n",
    "top =0\n",
    "\n",
    "print(stack)"
   ]
  },
  {
   "cell_type": "code",
   "execution_count": 5,
   "id": "68b9de14",
   "metadata": {
    "ExecuteTime": {
     "end_time": "2021-07-05T08:34:26.645724Z",
     "start_time": "2021-07-05T08:34:26.635983Z"
    }
   },
   "outputs": [
    {
     "data": {
      "text/plain": [
       "['커피', '녹차', '꿀물', '콜라', '환타']"
      ]
     },
     "execution_count": 5,
     "metadata": {},
     "output_type": "execute_result"
    }
   ],
   "source": [
    "push('환타')\n",
    "stack"
   ]
  },
  {
   "cell_type": "code",
   "execution_count": 6,
   "id": "37fac2fe",
   "metadata": {
    "ExecuteTime": {
     "end_time": "2021-07-05T08:34:26.652004Z",
     "start_time": "2021-07-05T08:34:26.647742Z"
    }
   },
   "outputs": [
    {
     "name": "stdout",
     "output_type": "stream",
     "text": [
      "스택 꽉!\n"
     ]
    },
    {
     "data": {
      "text/plain": [
       "['커피', '녹차', '꿀물', '콜라', '환타']"
      ]
     },
     "execution_count": 6,
     "metadata": {},
     "output_type": "execute_result"
    }
   ],
   "source": [
    "push('사이다')\n",
    "stack"
   ]
  },
  {
   "cell_type": "code",
   "execution_count": null,
   "id": "22f5fc2f",
   "metadata": {},
   "outputs": [],
   "source": []
  }
 ],
 "metadata": {
  "hide_input": false,
  "kernelspec": {
   "display_name": "Python TSA",
   "language": "python",
   "name": "tsa"
  },
  "language_info": {
   "codemirror_mode": {
    "name": "ipython",
    "version": 3
   },
   "file_extension": ".py",
   "mimetype": "text/x-python",
   "name": "python",
   "nbconvert_exporter": "python",
   "pygments_lexer": "ipython3",
   "version": "3.9.5"
  },
  "latex_envs": {
   "LaTeX_envs_menu_present": true,
   "autoclose": false,
   "autocomplete": true,
   "bibliofile": "biblio.bib",
   "cite_by": "apalike",
   "current_citInitial": 1,
   "eqLabelWithNumbers": true,
   "eqNumInitial": 1,
   "hotkeys": {
    "equation": "Ctrl-E",
    "itemize": "Ctrl-I"
   },
   "labels_anchors": false,
   "latex_user_defs": false,
   "report_style_numbering": false,
   "user_envs_cfg": false
  },
  "toc": {
   "base_numbering": 1,
   "nav_menu": {},
   "number_sections": true,
   "sideBar": true,
   "skip_h1_title": false,
   "title_cell": "Table of Contents",
   "title_sidebar": "Contents",
   "toc_cell": false,
   "toc_position": {},
   "toc_section_display": true,
   "toc_window_display": false
  },
  "varInspector": {
   "cols": {
    "lenName": 16,
    "lenType": 16,
    "lenVar": 40
   },
   "kernels_config": {
    "python": {
     "delete_cmd_postfix": "",
     "delete_cmd_prefix": "del ",
     "library": "var_list.py",
     "varRefreshCmd": "print(var_dic_list())"
    },
    "r": {
     "delete_cmd_postfix": ") ",
     "delete_cmd_prefix": "rm(",
     "library": "var_list.r",
     "varRefreshCmd": "cat(var_dic_list()) "
    }
   },
   "types_to_exclude": [
    "module",
    "function",
    "builtin_function_or_method",
    "instance",
    "_Feature"
   ],
   "window_display": false
  }
 },
 "nbformat": 4,
 "nbformat_minor": 5
}
