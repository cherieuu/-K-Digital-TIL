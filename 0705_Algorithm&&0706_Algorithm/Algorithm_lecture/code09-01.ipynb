{
 "cells": [
  {
   "cell_type": "code",
   "execution_count": 1,
   "id": "579b8009",
   "metadata": {
    "ExecuteTime": {
     "end_time": "2021-07-06T05:49:06.576974Z",
     "start_time": "2021-07-06T05:49:06.573295Z"
    }
   },
   "outputs": [],
   "source": [
    "class Graph():\n",
    "    def __init__(self, size):\n",
    "        self.SIZE=size\n",
    "        self.graph = [[0 for _ in range(size)]for _ in range(size)]\n",
    "        \n",
    "G1 = Graph(4)"
   ]
  },
  {
   "cell_type": "code",
   "execution_count": 2,
   "id": "d223370c",
   "metadata": {
    "ExecuteTime": {
     "end_time": "2021-07-06T05:49:51.460681Z",
     "start_time": "2021-07-06T05:49:51.457845Z"
    }
   },
   "outputs": [],
   "source": [
    "G1.graph[0][1]=1\n",
    "G1.graph[0][2]=1\n",
    "G1.graph[0][3]=1"
   ]
  },
  {
   "cell_type": "code",
   "execution_count": 3,
   "id": "90d68149",
   "metadata": {
    "ExecuteTime": {
     "end_time": "2021-07-06T05:50:11.945750Z",
     "start_time": "2021-07-06T05:50:11.942860Z"
    }
   },
   "outputs": [],
   "source": [
    "G1.graph[1][0]=1\n",
    "G1.graph[1][2]=1"
   ]
  },
  {
   "cell_type": "code",
   "execution_count": 4,
   "id": "e76b9c39",
   "metadata": {
    "ExecuteTime": {
     "end_time": "2021-07-06T05:50:58.397397Z",
     "start_time": "2021-07-06T05:50:58.393852Z"
    }
   },
   "outputs": [],
   "source": [
    "G1.graph[2][0]=1\n",
    "G1.graph[2][1]=1\n",
    "G1.graph[2][3]=1\n",
    "G1.graph[3][0]=1\n",
    "G1.graph[3][2]=1"
   ]
  },
  {
   "cell_type": "code",
   "execution_count": 6,
   "id": "72c020f7",
   "metadata": {
    "ExecuteTime": {
     "end_time": "2021-07-06T05:53:19.779593Z",
     "start_time": "2021-07-06T05:53:19.776929Z"
    }
   },
   "outputs": [],
   "source": [
    "G1,G3=None, None\n",
    "G1=Graph(4)\n"
   ]
  },
  {
   "cell_type": "markdown",
   "id": "53a2e427",
   "metadata": {
    "ExecuteTime": {
     "end_time": "2021-07-06T05:58:37.518775Z",
     "start_time": "2021-07-06T05:58:37.514219Z"
    }
   },
   "source": [
    "**G1 무방향 그래프**"
   ]
  },
  {
   "cell_type": "code",
   "execution_count": 9,
   "id": "b57a72e4",
   "metadata": {
    "ExecuteTime": {
     "end_time": "2021-07-06T05:55:41.958881Z",
     "start_time": "2021-07-06T05:55:41.954206Z"
    }
   },
   "outputs": [
    {
     "name": "stdout",
     "output_type": "stream",
     "text": [
      "0 0 0 0 \n",
      "0 0 0 0 \n",
      "0 0 0 0 \n",
      "0 0 0 0 \n"
     ]
    }
   ],
   "source": [
    "for row in range(4):\n",
    "    for col in range(4):\n",
    "        print(G1.graph[row][col], end = ' ')\n",
    "    print()"
   ]
  },
  {
   "cell_type": "code",
   "execution_count": 10,
   "id": "6b9525aa",
   "metadata": {
    "ExecuteTime": {
     "end_time": "2021-07-06T05:56:50.352282Z",
     "start_time": "2021-07-06T05:56:50.348968Z"
    }
   },
   "outputs": [],
   "source": [
    "G3 = Graph(4)\n",
    "G3.graph[0][1]=1; G3.graph[0][2]=1\n",
    "G3.graph[3][0]=1; G3.graph[3][2]=1"
   ]
  },
  {
   "cell_type": "markdown",
   "id": "979e99a1",
   "metadata": {
    "ExecuteTime": {
     "end_time": "2021-07-06T05:57:55.003186Z",
     "start_time": "2021-07-06T05:57:54.992328Z"
    }
   },
   "source": [
    "**G3 방향 그래프**"
   ]
  },
  {
   "cell_type": "code",
   "execution_count": 11,
   "id": "31e7821c",
   "metadata": {
    "ExecuteTime": {
     "end_time": "2021-07-06T05:57:27.160293Z",
     "start_time": "2021-07-06T05:57:27.155702Z"
    }
   },
   "outputs": [
    {
     "name": "stdout",
     "output_type": "stream",
     "text": [
      "0 1 1 0 \n",
      "0 0 0 0 \n",
      "0 0 0 0 \n",
      "1 0 1 0 \n"
     ]
    }
   ],
   "source": [
    "for row in range(4):\n",
    "    for col in range(4):\n",
    "        print(G3.graph[row][col], end=' ')\n",
    "    print()"
   ]
  },
  {
   "cell_type": "code",
   "execution_count": null,
   "id": "4ed4cdf6",
   "metadata": {},
   "outputs": [],
   "source": []
  }
 ],
 "metadata": {
  "hide_input": false,
  "kernelspec": {
   "display_name": "Python TSA",
   "language": "python",
   "name": "tsa"
  },
  "language_info": {
   "codemirror_mode": {
    "name": "ipython",
    "version": 3
   },
   "file_extension": ".py",
   "mimetype": "text/x-python",
   "name": "python",
   "nbconvert_exporter": "python",
   "pygments_lexer": "ipython3",
   "version": "3.9.5"
  },
  "latex_envs": {
   "LaTeX_envs_menu_present": true,
   "autoclose": false,
   "autocomplete": true,
   "bibliofile": "biblio.bib",
   "cite_by": "apalike",
   "current_citInitial": 1,
   "eqLabelWithNumbers": true,
   "eqNumInitial": 1,
   "hotkeys": {
    "equation": "Ctrl-E",
    "itemize": "Ctrl-I"
   },
   "labels_anchors": false,
   "latex_user_defs": false,
   "report_style_numbering": false,
   "user_envs_cfg": false
  },
  "toc": {
   "base_numbering": 1,
   "nav_menu": {},
   "number_sections": true,
   "sideBar": true,
   "skip_h1_title": false,
   "title_cell": "Table of Contents",
   "title_sidebar": "Contents",
   "toc_cell": false,
   "toc_position": {},
   "toc_section_display": true,
   "toc_window_display": false
  },
  "varInspector": {
   "cols": {
    "lenName": 16,
    "lenType": 16,
    "lenVar": 40
   },
   "kernels_config": {
    "python": {
     "delete_cmd_postfix": "",
     "delete_cmd_prefix": "del ",
     "library": "var_list.py",
     "varRefreshCmd": "print(var_dic_list())"
    },
    "r": {
     "delete_cmd_postfix": ") ",
     "delete_cmd_prefix": "rm(",
     "library": "var_list.r",
     "varRefreshCmd": "cat(var_dic_list()) "
    }
   },
   "types_to_exclude": [
    "module",
    "function",
    "builtin_function_or_method",
    "instance",
    "_Feature"
   ],
   "window_display": false
  }
 },
 "nbformat": 4,
 "nbformat_minor": 5
}
