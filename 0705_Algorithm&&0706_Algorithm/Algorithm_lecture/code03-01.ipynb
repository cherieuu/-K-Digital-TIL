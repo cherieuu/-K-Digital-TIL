{
 "cells": [
  {
   "cell_type": "code",
   "execution_count": 1,
   "id": "28a433b1",
   "metadata": {
    "ExecuteTime": {
     "end_time": "2021-07-05T02:14:43.648441Z",
     "start_time": "2021-07-05T02:14:43.645498Z"
    }
   },
   "outputs": [],
   "source": [
    "katok = [] # 빈배열"
   ]
  },
  {
   "cell_type": "code",
   "execution_count": 2,
   "id": "4ed90614",
   "metadata": {
    "ExecuteTime": {
     "end_time": "2021-07-05T02:14:43.654194Z",
     "start_time": "2021-07-05T02:14:43.650894Z"
    }
   },
   "outputs": [],
   "source": [
    "def add_data(friend) :\n",
    "    katok.append(None)\n",
    "    kLen = len(katok)\n",
    "    katok[kLen-1]=friend"
   ]
  },
  {
   "cell_type": "code",
   "execution_count": 3,
   "id": "d581d510",
   "metadata": {
    "ExecuteTime": {
     "end_time": "2021-07-05T02:14:43.660785Z",
     "start_time": "2021-07-05T02:14:43.657308Z"
    }
   },
   "outputs": [],
   "source": [
    "add_data('다현')\n",
    "add_data('정연')\n",
    "add_data('쯔위')\n",
    "add_data('사나')\n",
    "add_data('지효')"
   ]
  },
  {
   "cell_type": "code",
   "execution_count": 4,
   "id": "59c882b5",
   "metadata": {
    "ExecuteTime": {
     "end_time": "2021-07-05T02:14:43.671666Z",
     "start_time": "2021-07-05T02:14:43.662726Z"
    }
   },
   "outputs": [
    {
     "data": {
      "text/plain": [
       "['다현', '정연', '쯔위', '사나', '지효']"
      ]
     },
     "execution_count": 4,
     "metadata": {},
     "output_type": "execute_result"
    }
   ],
   "source": [
    "katok"
   ]
  },
  {
   "cell_type": "code",
   "execution_count": null,
   "id": "65d8f9f0",
   "metadata": {},
   "outputs": [],
   "source": []
  }
 ],
 "metadata": {
  "hide_input": false,
  "kernelspec": {
   "display_name": "Python TSA",
   "language": "python",
   "name": "tsa"
  },
  "language_info": {
   "codemirror_mode": {
    "name": "ipython",
    "version": 3
   },
   "file_extension": ".py",
   "mimetype": "text/x-python",
   "name": "python",
   "nbconvert_exporter": "python",
   "pygments_lexer": "ipython3",
   "version": "3.9.5"
  },
  "latex_envs": {
   "LaTeX_envs_menu_present": true,
   "autoclose": false,
   "autocomplete": true,
   "bibliofile": "biblio.bib",
   "cite_by": "apalike",
   "current_citInitial": 1,
   "eqLabelWithNumbers": true,
   "eqNumInitial": 1,
   "hotkeys": {
    "equation": "Ctrl-E",
    "itemize": "Ctrl-I"
   },
   "labels_anchors": false,
   "latex_user_defs": false,
   "report_style_numbering": false,
   "user_envs_cfg": false
  },
  "toc": {
   "base_numbering": 1,
   "nav_menu": {},
   "number_sections": true,
   "sideBar": true,
   "skip_h1_title": false,
   "title_cell": "Table of Contents",
   "title_sidebar": "Contents",
   "toc_cell": false,
   "toc_position": {},
   "toc_section_display": true,
   "toc_window_display": false
  },
  "varInspector": {
   "cols": {
    "lenName": 16,
    "lenType": 16,
    "lenVar": 40
   },
   "kernels_config": {
    "python": {
     "delete_cmd_postfix": "",
     "delete_cmd_prefix": "del ",
     "library": "var_list.py",
     "varRefreshCmd": "print(var_dic_list())"
    },
    "r": {
     "delete_cmd_postfix": ") ",
     "delete_cmd_prefix": "rm(",
     "library": "var_list.r",
     "varRefreshCmd": "cat(var_dic_list()) "
    }
   },
   "types_to_exclude": [
    "module",
    "function",
    "builtin_function_or_method",
    "instance",
    "_Feature"
   ],
   "window_display": false
  }
 },
 "nbformat": 4,
 "nbformat_minor": 5
}
