{
 "cells": [
  {
   "cell_type": "code",
   "execution_count": 1,
   "id": "ce1c6a93",
   "metadata": {
    "ExecuteTime": {
     "end_time": "2021-07-06T06:54:45.844767Z",
     "start_time": "2021-07-06T06:54:45.841656Z"
    }
   },
   "outputs": [],
   "source": [
    "import random\n",
    "\n",
    "def arySum(arr, n):\n",
    "    if n <=0:\n",
    "        return arr[0]\n",
    "    return arySum(arr, n-1)+arr[n]"
   ]
  },
  {
   "cell_type": "code",
   "execution_count": 2,
   "id": "b92b81e0",
   "metadata": {
    "ExecuteTime": {
     "end_time": "2021-07-06T06:55:27.945660Z",
     "start_time": "2021-07-06T06:55:27.942177Z"
    }
   },
   "outputs": [],
   "source": [
    "ary = [random.randint(0,255)for _ in range(random.randint(10,20))]"
   ]
  },
  {
   "cell_type": "code",
   "execution_count": 3,
   "id": "a9a8938c",
   "metadata": {
    "ExecuteTime": {
     "end_time": "2021-07-06T06:55:32.736821Z",
     "start_time": "2021-07-06T06:55:32.727196Z"
    }
   },
   "outputs": [
    {
     "data": {
      "text/plain": [
       "[33, 68, 136, 114, 72, 176, 143, 70, 129, 9, 238, 67, 126]"
      ]
     },
     "execution_count": 3,
     "metadata": {},
     "output_type": "execute_result"
    }
   ],
   "source": [
    "ary"
   ]
  },
  {
   "cell_type": "code",
   "execution_count": 4,
   "id": "12d1728c",
   "metadata": {
    "ExecuteTime": {
     "end_time": "2021-07-06T06:56:06.390469Z",
     "start_time": "2021-07-06T06:56:06.386351Z"
    }
   },
   "outputs": [
    {
     "data": {
      "text/plain": [
       "('배열 합계 -->', 1381)"
      ]
     },
     "execution_count": 4,
     "metadata": {},
     "output_type": "execute_result"
    }
   ],
   "source": [
    "'배열 합계 -->', arySum(ary, len(ary)-1)"
   ]
  },
  {
   "cell_type": "code",
   "execution_count": null,
   "id": "b924c54e",
   "metadata": {},
   "outputs": [],
   "source": []
  }
 ],
 "metadata": {
  "hide_input": false,
  "kernelspec": {
   "display_name": "Python TSA",
   "language": "python",
   "name": "tsa"
  },
  "language_info": {
   "codemirror_mode": {
    "name": "ipython",
    "version": 3
   },
   "file_extension": ".py",
   "mimetype": "text/x-python",
   "name": "python",
   "nbconvert_exporter": "python",
   "pygments_lexer": "ipython3",
   "version": "3.9.5"
  },
  "latex_envs": {
   "LaTeX_envs_menu_present": true,
   "autoclose": false,
   "autocomplete": true,
   "bibliofile": "biblio.bib",
   "cite_by": "apalike",
   "current_citInitial": 1,
   "eqLabelWithNumbers": true,
   "eqNumInitial": 1,
   "hotkeys": {
    "equation": "Ctrl-E",
    "itemize": "Ctrl-I"
   },
   "labels_anchors": false,
   "latex_user_defs": false,
   "report_style_numbering": false,
   "user_envs_cfg": false
  },
  "toc": {
   "base_numbering": 1,
   "nav_menu": {},
   "number_sections": true,
   "sideBar": true,
   "skip_h1_title": false,
   "title_cell": "Table of Contents",
   "title_sidebar": "Contents",
   "toc_cell": false,
   "toc_position": {},
   "toc_section_display": true,
   "toc_window_display": false
  },
  "varInspector": {
   "cols": {
    "lenName": 16,
    "lenType": 16,
    "lenVar": 40
   },
   "kernels_config": {
    "python": {
     "delete_cmd_postfix": "",
     "delete_cmd_prefix": "del ",
     "library": "var_list.py",
     "varRefreshCmd": "print(var_dic_list())"
    },
    "r": {
     "delete_cmd_postfix": ") ",
     "delete_cmd_prefix": "rm(",
     "library": "var_list.r",
     "varRefreshCmd": "cat(var_dic_list()) "
    }
   },
   "types_to_exclude": [
    "module",
    "function",
    "builtin_function_or_method",
    "instance",
    "_Feature"
   ],
   "window_display": false
  }
 },
 "nbformat": 4,
 "nbformat_minor": 5
}
