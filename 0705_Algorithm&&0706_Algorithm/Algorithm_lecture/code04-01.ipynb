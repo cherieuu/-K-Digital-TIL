{
 "cells": [
  {
   "cell_type": "code",
   "execution_count": 1,
   "id": "9376662c",
   "metadata": {
    "ExecuteTime": {
     "end_time": "2021-07-05T04:27:56.597526Z",
     "start_time": "2021-07-05T04:27:56.594637Z"
    }
   },
   "outputs": [],
   "source": [
    "class Node() :\n",
    "    def __init__(self):\n",
    "        self.data = None\n",
    "        self.link = None"
   ]
  },
  {
   "cell_type": "code",
   "execution_count": 2,
   "id": "11e3a13d",
   "metadata": {
    "ExecuteTime": {
     "end_time": "2021-07-05T04:28:14.374887Z",
     "start_time": "2021-07-05T04:28:14.372500Z"
    }
   },
   "outputs": [],
   "source": [
    "node1 = Node()\n",
    "node1.data = '다현'"
   ]
  },
  {
   "cell_type": "code",
   "execution_count": 3,
   "id": "b37b0297",
   "metadata": {
    "ExecuteTime": {
     "end_time": "2021-07-05T04:28:51.293828Z",
     "start_time": "2021-07-05T04:28:51.291383Z"
    }
   },
   "outputs": [],
   "source": [
    "node2 = Node()\n",
    "node2.data = '정연'\n",
    "node1.link = node2"
   ]
  },
  {
   "cell_type": "code",
   "execution_count": 4,
   "id": "391add98",
   "metadata": {
    "ExecuteTime": {
     "end_time": "2021-07-05T04:29:16.914674Z",
     "start_time": "2021-07-05T04:29:16.912052Z"
    }
   },
   "outputs": [],
   "source": [
    "node3 = Node()\n",
    "node3.data = '쯔위'\n",
    "node2.link = node3"
   ]
  },
  {
   "cell_type": "code",
   "execution_count": 5,
   "id": "5a3f352f",
   "metadata": {
    "ExecuteTime": {
     "end_time": "2021-07-05T04:29:30.909924Z",
     "start_time": "2021-07-05T04:29:30.905768Z"
    }
   },
   "outputs": [],
   "source": [
    "node4 = Node()\n",
    "node4.data = '사나'\n",
    "node3.link = node4"
   ]
  },
  {
   "cell_type": "code",
   "execution_count": 6,
   "id": "54b01d0a",
   "metadata": {
    "ExecuteTime": {
     "end_time": "2021-07-05T04:29:44.958289Z",
     "start_time": "2021-07-05T04:29:44.955273Z"
    }
   },
   "outputs": [],
   "source": [
    "node5 = Node()\n",
    "node5.data = '지효'\n",
    "node4.link = node5"
   ]
  },
  {
   "cell_type": "code",
   "execution_count": 7,
   "id": "7545e7b6",
   "metadata": {
    "ExecuteTime": {
     "end_time": "2021-07-05T04:29:59.796460Z",
     "start_time": "2021-07-05T04:29:59.793094Z"
    }
   },
   "outputs": [
    {
     "name": "stdout",
     "output_type": "stream",
     "text": [
      "다현"
     ]
    }
   ],
   "source": [
    "print(node1.data, end='')"
   ]
  },
  {
   "cell_type": "code",
   "execution_count": 12,
   "id": "eec287b5",
   "metadata": {
    "ExecuteTime": {
     "end_time": "2021-07-05T04:32:22.475636Z",
     "start_time": "2021-07-05T04:32:22.471557Z"
    }
   },
   "outputs": [
    {
     "name": "stdout",
     "output_type": "stream",
     "text": [
      "다현 정연 쯔위 사나 지효 "
     ]
    }
   ],
   "source": [
    "print(node1.data, end=' ')\n",
    "print(node1.link.data, end=' ')\n",
    "print(node1.link.link.data, end=' ')\n",
    "print(node1.link.link.link.data, end=' ')\n",
    "print(node1.link.link.link.link.data, end=' ')\n",
    "\n",
    "# 이것도 점점 많아지면 link를 붙이는 게 힘들어진다."
   ]
  },
  {
   "cell_type": "code",
   "execution_count": 18,
   "id": "d1787177",
   "metadata": {
    "ExecuteTime": {
     "end_time": "2021-07-05T04:39:54.411766Z",
     "start_time": "2021-07-05T04:39:54.406043Z"
    }
   },
   "outputs": [],
   "source": [
    "node2.link = node3.link\n",
    "del(node3)"
   ]
  },
  {
   "cell_type": "code",
   "execution_count": 19,
   "id": "2a039ddb",
   "metadata": {
    "ExecuteTime": {
     "end_time": "2021-07-05T04:39:55.584479Z",
     "start_time": "2021-07-05T04:39:55.582036Z"
    }
   },
   "outputs": [],
   "source": [
    "# newNode=Node()\n",
    "# newNode.data = '재남'\n",
    "# newNode.link=node2.link\n",
    "# node2.link=newNode"
   ]
  },
  {
   "cell_type": "code",
   "execution_count": 20,
   "id": "d1877d09",
   "metadata": {
    "ExecuteTime": {
     "end_time": "2021-07-05T04:39:56.507825Z",
     "start_time": "2021-07-05T04:39:56.503309Z"
    }
   },
   "outputs": [
    {
     "name": "stdout",
     "output_type": "stream",
     "text": [
      "다현 정연 사나 지효 "
     ]
    }
   ],
   "source": [
    "current=node1\n",
    "print(current.data, end=' ')\n",
    "while current.link !=None:\n",
    "    current=current.link\n",
    "    print(current.data, end=' ')"
   ]
  },
  {
   "cell_type": "code",
   "execution_count": null,
   "id": "b24f796c",
   "metadata": {},
   "outputs": [],
   "source": []
  }
 ],
 "metadata": {
  "hide_input": false,
  "kernelspec": {
   "display_name": "Python TSA",
   "language": "python",
   "name": "tsa"
  },
  "language_info": {
   "codemirror_mode": {
    "name": "ipython",
    "version": 3
   },
   "file_extension": ".py",
   "mimetype": "text/x-python",
   "name": "python",
   "nbconvert_exporter": "python",
   "pygments_lexer": "ipython3",
   "version": "3.9.5"
  },
  "latex_envs": {
   "LaTeX_envs_menu_present": true,
   "autoclose": false,
   "autocomplete": true,
   "bibliofile": "biblio.bib",
   "cite_by": "apalike",
   "current_citInitial": 1,
   "eqLabelWithNumbers": true,
   "eqNumInitial": 1,
   "hotkeys": {
    "equation": "Ctrl-E",
    "itemize": "Ctrl-I"
   },
   "labels_anchors": false,
   "latex_user_defs": false,
   "report_style_numbering": false,
   "user_envs_cfg": false
  },
  "toc": {
   "base_numbering": 1,
   "nav_menu": {},
   "number_sections": true,
   "sideBar": true,
   "skip_h1_title": false,
   "title_cell": "Table of Contents",
   "title_sidebar": "Contents",
   "toc_cell": false,
   "toc_position": {},
   "toc_section_display": true,
   "toc_window_display": false
  },
  "varInspector": {
   "cols": {
    "lenName": 16,
    "lenType": 16,
    "lenVar": 40
   },
   "kernels_config": {
    "python": {
     "delete_cmd_postfix": "",
     "delete_cmd_prefix": "del ",
     "library": "var_list.py",
     "varRefreshCmd": "print(var_dic_list())"
    },
    "r": {
     "delete_cmd_postfix": ") ",
     "delete_cmd_prefix": "rm(",
     "library": "var_list.r",
     "varRefreshCmd": "cat(var_dic_list()) "
    }
   },
   "types_to_exclude": [
    "module",
    "function",
    "builtin_function_or_method",
    "instance",
    "_Feature"
   ],
   "window_display": false
  }
 },
 "nbformat": 4,
 "nbformat_minor": 5
}
