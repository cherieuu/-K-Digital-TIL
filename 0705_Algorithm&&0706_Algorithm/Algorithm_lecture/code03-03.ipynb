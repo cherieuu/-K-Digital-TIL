{
 "cells": [
  {
   "cell_type": "code",
   "execution_count": 1,
   "id": "9b9907c6",
   "metadata": {
    "ExecuteTime": {
     "end_time": "2021-07-05T02:22:14.295224Z",
     "start_time": "2021-07-05T02:22:14.292634Z"
    }
   },
   "outputs": [],
   "source": [
    "katok = ['다현', '정연', '쯔위', '사나', '지효']"
   ]
  },
  {
   "cell_type": "code",
   "execution_count": 2,
   "id": "4b9412ac",
   "metadata": {
    "ExecuteTime": {
     "end_time": "2021-07-05T02:24:54.323827Z",
     "start_time": "2021-07-05T02:24:54.320279Z"
    }
   },
   "outputs": [],
   "source": [
    "def delete_data(position):\n",
    "    kLen=len(katok)\n",
    "    katok[position]=None\n",
    "    \n",
    "    for i in range(position+1, kLen, 1):\n",
    "        katok[i-1] = katok[i]\n",
    "        katok[i] = None\n",
    "        \n",
    "    del(katok[kLen-1])"
   ]
  },
  {
   "cell_type": "code",
   "execution_count": 3,
   "id": "09b81e60",
   "metadata": {
    "ExecuteTime": {
     "end_time": "2021-07-05T02:25:05.968124Z",
     "start_time": "2021-07-05T02:25:05.965300Z"
    }
   },
   "outputs": [],
   "source": [
    "delete_data(1)"
   ]
  },
  {
   "cell_type": "code",
   "execution_count": 4,
   "id": "b259ef2a",
   "metadata": {
    "ExecuteTime": {
     "end_time": "2021-07-05T02:25:11.179853Z",
     "start_time": "2021-07-05T02:25:11.170034Z"
    }
   },
   "outputs": [
    {
     "data": {
      "text/plain": [
       "['다현', '쯔위', '사나', '지효']"
      ]
     },
     "execution_count": 4,
     "metadata": {},
     "output_type": "execute_result"
    }
   ],
   "source": [
    "katok"
   ]
  },
  {
   "cell_type": "code",
   "execution_count": 5,
   "id": "4ec327e6",
   "metadata": {
    "ExecuteTime": {
     "end_time": "2021-07-05T02:25:20.896686Z",
     "start_time": "2021-07-05T02:25:20.892588Z"
    }
   },
   "outputs": [
    {
     "data": {
      "text/plain": [
       "['다현', '쯔위', '사나']"
      ]
     },
     "execution_count": 5,
     "metadata": {},
     "output_type": "execute_result"
    }
   ],
   "source": [
    "delete_data(3)\n",
    "katok"
   ]
  },
  {
   "cell_type": "code",
   "execution_count": null,
   "id": "cf4bcb7b",
   "metadata": {},
   "outputs": [],
   "source": []
  }
 ],
 "metadata": {
  "hide_input": false,
  "kernelspec": {
   "display_name": "Python TSA",
   "language": "python",
   "name": "tsa"
  },
  "language_info": {
   "codemirror_mode": {
    "name": "ipython",
    "version": 3
   },
   "file_extension": ".py",
   "mimetype": "text/x-python",
   "name": "python",
   "nbconvert_exporter": "python",
   "pygments_lexer": "ipython3",
   "version": "3.9.5"
  },
  "latex_envs": {
   "LaTeX_envs_menu_present": true,
   "autoclose": false,
   "autocomplete": true,
   "bibliofile": "biblio.bib",
   "cite_by": "apalike",
   "current_citInitial": 1,
   "eqLabelWithNumbers": true,
   "eqNumInitial": 1,
   "hotkeys": {
    "equation": "Ctrl-E",
    "itemize": "Ctrl-I"
   },
   "labels_anchors": false,
   "latex_user_defs": false,
   "report_style_numbering": false,
   "user_envs_cfg": false
  },
  "toc": {
   "base_numbering": 1,
   "nav_menu": {},
   "number_sections": true,
   "sideBar": true,
   "skip_h1_title": false,
   "title_cell": "Table of Contents",
   "title_sidebar": "Contents",
   "toc_cell": false,
   "toc_position": {},
   "toc_section_display": true,
   "toc_window_display": false
  },
  "varInspector": {
   "cols": {
    "lenName": 16,
    "lenType": 16,
    "lenVar": 40
   },
   "kernels_config": {
    "python": {
     "delete_cmd_postfix": "",
     "delete_cmd_prefix": "del ",
     "library": "var_list.py",
     "varRefreshCmd": "print(var_dic_list())"
    },
    "r": {
     "delete_cmd_postfix": ") ",
     "delete_cmd_prefix": "rm(",
     "library": "var_list.r",
     "varRefreshCmd": "cat(var_dic_list()) "
    }
   },
   "types_to_exclude": [
    "module",
    "function",
    "builtin_function_or_method",
    "instance",
    "_Feature"
   ],
   "window_display": false
  }
 },
 "nbformat": 4,
 "nbformat_minor": 5
}
