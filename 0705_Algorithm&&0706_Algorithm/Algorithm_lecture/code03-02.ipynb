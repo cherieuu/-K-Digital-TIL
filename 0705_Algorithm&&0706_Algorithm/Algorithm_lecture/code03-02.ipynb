{
 "cells": [
  {
   "cell_type": "code",
   "execution_count": 1,
   "id": "f2cf4f92",
   "metadata": {
    "ExecuteTime": {
     "end_time": "2021-07-05T02:15:59.010308Z",
     "start_time": "2021-07-05T02:15:59.007625Z"
    }
   },
   "outputs": [],
   "source": [
    "katok = ['다현', '정연', '쯔위', '사나', '지효']"
   ]
  },
  {
   "cell_type": "code",
   "execution_count": 2,
   "id": "3c97c283",
   "metadata": {
    "ExecuteTime": {
     "end_time": "2021-07-05T02:20:21.328515Z",
     "start_time": "2021-07-05T02:20:21.324347Z"
    }
   },
   "outputs": [],
   "source": [
    "def insert_data(position, friend):\n",
    "    katok.append(None)\n",
    "    kLen=len(katok)\n",
    "    \n",
    "    for i in range(kLen-1,position,-1):\n",
    "        katok[i]=katok[i-1]\n",
    "        katok[i-1]=None\n",
    "        \n",
    "    katok[position]=friend    \n",
    "    "
   ]
  },
  {
   "cell_type": "code",
   "execution_count": 3,
   "id": "6bb1ce9e",
   "metadata": {
    "ExecuteTime": {
     "end_time": "2021-07-05T02:20:30.710798Z",
     "start_time": "2021-07-05T02:20:30.708029Z"
    }
   },
   "outputs": [],
   "source": [
    "insert_data(2, '솔라')"
   ]
  },
  {
   "cell_type": "code",
   "execution_count": 4,
   "id": "18554193",
   "metadata": {
    "ExecuteTime": {
     "end_time": "2021-07-05T02:20:35.187408Z",
     "start_time": "2021-07-05T02:20:35.176873Z"
    }
   },
   "outputs": [
    {
     "data": {
      "text/plain": [
       "['다현', '정연', '솔라', '쯔위', '사나', '지효']"
      ]
     },
     "execution_count": 4,
     "metadata": {},
     "output_type": "execute_result"
    }
   ],
   "source": [
    "katok"
   ]
  },
  {
   "cell_type": "code",
   "execution_count": 5,
   "id": "b7d71dd6",
   "metadata": {
    "ExecuteTime": {
     "end_time": "2021-07-05T02:21:14.163796Z",
     "start_time": "2021-07-05T02:21:14.160406Z"
    }
   },
   "outputs": [],
   "source": [
    "insert_data(6,'문별')"
   ]
  },
  {
   "cell_type": "code",
   "execution_count": 6,
   "id": "68475075",
   "metadata": {
    "ExecuteTime": {
     "end_time": "2021-07-05T02:21:17.817787Z",
     "start_time": "2021-07-05T02:21:17.814635Z"
    }
   },
   "outputs": [
    {
     "data": {
      "text/plain": [
       "['다현', '정연', '솔라', '쯔위', '사나', '지효', '문별']"
      ]
     },
     "execution_count": 6,
     "metadata": {},
     "output_type": "execute_result"
    }
   ],
   "source": [
    "katok"
   ]
  },
  {
   "cell_type": "code",
   "execution_count": null,
   "id": "0df89c57",
   "metadata": {},
   "outputs": [],
   "source": []
  }
 ],
 "metadata": {
  "hide_input": false,
  "kernelspec": {
   "display_name": "Python TSA",
   "language": "python",
   "name": "tsa"
  },
  "language_info": {
   "codemirror_mode": {
    "name": "ipython",
    "version": 3
   },
   "file_extension": ".py",
   "mimetype": "text/x-python",
   "name": "python",
   "nbconvert_exporter": "python",
   "pygments_lexer": "ipython3",
   "version": "3.9.5"
  },
  "latex_envs": {
   "LaTeX_envs_menu_present": true,
   "autoclose": false,
   "autocomplete": true,
   "bibliofile": "biblio.bib",
   "cite_by": "apalike",
   "current_citInitial": 1,
   "eqLabelWithNumbers": true,
   "eqNumInitial": 1,
   "hotkeys": {
    "equation": "Ctrl-E",
    "itemize": "Ctrl-I"
   },
   "labels_anchors": false,
   "latex_user_defs": false,
   "report_style_numbering": false,
   "user_envs_cfg": false
  },
  "toc": {
   "base_numbering": 1,
   "nav_menu": {},
   "number_sections": true,
   "sideBar": true,
   "skip_h1_title": false,
   "title_cell": "Table of Contents",
   "title_sidebar": "Contents",
   "toc_cell": false,
   "toc_position": {},
   "toc_section_display": true,
   "toc_window_display": false
  },
  "varInspector": {
   "cols": {
    "lenName": 16,
    "lenType": 16,
    "lenVar": 40
   },
   "kernels_config": {
    "python": {
     "delete_cmd_postfix": "",
     "delete_cmd_prefix": "del ",
     "library": "var_list.py",
     "varRefreshCmd": "print(var_dic_list())"
    },
    "r": {
     "delete_cmd_postfix": ") ",
     "delete_cmd_prefix": "rm(",
     "library": "var_list.r",
     "varRefreshCmd": "cat(var_dic_list()) "
    }
   },
   "types_to_exclude": [
    "module",
    "function",
    "builtin_function_or_method",
    "instance",
    "_Feature"
   ],
   "window_display": false
  }
 },
 "nbformat": 4,
 "nbformat_minor": 5
}
