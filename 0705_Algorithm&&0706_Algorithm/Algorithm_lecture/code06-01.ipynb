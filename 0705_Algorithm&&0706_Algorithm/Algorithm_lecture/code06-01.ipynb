{
 "cells": [
  {
   "cell_type": "code",
   "execution_count": 1,
   "id": "a67db7b1",
   "metadata": {
    "ExecuteTime": {
     "end_time": "2021-07-05T08:25:42.641560Z",
     "start_time": "2021-07-05T08:25:42.638822Z"
    }
   },
   "outputs": [],
   "source": [
    "stack = [None for _ in range(5)]\n",
    "top=-1"
   ]
  },
  {
   "cell_type": "code",
   "execution_count": 2,
   "id": "773f2d4a",
   "metadata": {
    "ExecuteTime": {
     "end_time": "2021-07-05T08:25:43.215544Z",
     "start_time": "2021-07-05T08:25:43.205218Z"
    }
   },
   "outputs": [
    {
     "data": {
      "text/plain": [
       "['커피', '녹차', '꿀물', None, None]"
      ]
     },
     "execution_count": 2,
     "metadata": {},
     "output_type": "execute_result"
    }
   ],
   "source": [
    "top+=1\n",
    "stack[top]='커피'\n",
    "top+=1\n",
    "stack[top]='녹차'\n",
    "top+=1\n",
    "stack[top]='꿀물'\n",
    "\n",
    "stack\n"
   ]
  },
  {
   "cell_type": "code",
   "execution_count": 3,
   "id": "dec97463",
   "metadata": {
    "ExecuteTime": {
     "end_time": "2021-07-05T08:25:44.012601Z",
     "start_time": "2021-07-05T08:25:44.009395Z"
    }
   },
   "outputs": [
    {
     "name": "stdout",
     "output_type": "stream",
     "text": [
      "꿀물\n"
     ]
    }
   ],
   "source": [
    "data = stack[top]\n",
    "stack[top] = None\n",
    "top-=1\n",
    "print(data)\n"
   ]
  },
  {
   "cell_type": "code",
   "execution_count": 4,
   "id": "dbd1aeec",
   "metadata": {
    "ExecuteTime": {
     "end_time": "2021-07-05T08:25:44.735232Z",
     "start_time": "2021-07-05T08:25:44.731527Z"
    }
   },
   "outputs": [
    {
     "name": "stdout",
     "output_type": "stream",
     "text": [
      "녹차\n"
     ]
    }
   ],
   "source": [
    "data = stack[top]\n",
    "stack[top] = None\n",
    "top-=1\n",
    "print(data)"
   ]
  },
  {
   "cell_type": "code",
   "execution_count": 5,
   "id": "3407e7fd",
   "metadata": {
    "ExecuteTime": {
     "end_time": "2021-07-05T08:25:45.456459Z",
     "start_time": "2021-07-05T08:25:45.453126Z"
    }
   },
   "outputs": [
    {
     "name": "stdout",
     "output_type": "stream",
     "text": [
      "커피\n"
     ]
    }
   ],
   "source": [
    "data = stack[top]\n",
    "stack[top] = None\n",
    "top-=1\n",
    "print(data)"
   ]
  },
  {
   "cell_type": "code",
   "execution_count": null,
   "id": "7a8e5e1b",
   "metadata": {},
   "outputs": [],
   "source": []
  }
 ],
 "metadata": {
  "hide_input": false,
  "kernelspec": {
   "display_name": "Python TSA",
   "language": "python",
   "name": "tsa"
  },
  "language_info": {
   "codemirror_mode": {
    "name": "ipython",
    "version": 3
   },
   "file_extension": ".py",
   "mimetype": "text/x-python",
   "name": "python",
   "nbconvert_exporter": "python",
   "pygments_lexer": "ipython3",
   "version": "3.9.5"
  },
  "latex_envs": {
   "LaTeX_envs_menu_present": true,
   "autoclose": false,
   "autocomplete": true,
   "bibliofile": "biblio.bib",
   "cite_by": "apalike",
   "current_citInitial": 1,
   "eqLabelWithNumbers": true,
   "eqNumInitial": 1,
   "hotkeys": {
    "equation": "Ctrl-E",
    "itemize": "Ctrl-I"
   },
   "labels_anchors": false,
   "latex_user_defs": false,
   "report_style_numbering": false,
   "user_envs_cfg": false
  },
  "toc": {
   "base_numbering": 1,
   "nav_menu": {},
   "number_sections": true,
   "sideBar": true,
   "skip_h1_title": false,
   "title_cell": "Table of Contents",
   "title_sidebar": "Contents",
   "toc_cell": false,
   "toc_position": {},
   "toc_section_display": true,
   "toc_window_display": false
  },
  "varInspector": {
   "cols": {
    "lenName": 16,
    "lenType": 16,
    "lenVar": 40
   },
   "kernels_config": {
    "python": {
     "delete_cmd_postfix": "",
     "delete_cmd_prefix": "del ",
     "library": "var_list.py",
     "varRefreshCmd": "print(var_dic_list())"
    },
    "r": {
     "delete_cmd_postfix": ") ",
     "delete_cmd_prefix": "rm(",
     "library": "var_list.r",
     "varRefreshCmd": "cat(var_dic_list()) "
    }
   },
   "types_to_exclude": [
    "module",
    "function",
    "builtin_function_or_method",
    "instance",
    "_Feature"
   ],
   "window_display": false
  }
 },
 "nbformat": 4,
 "nbformat_minor": 5
}
