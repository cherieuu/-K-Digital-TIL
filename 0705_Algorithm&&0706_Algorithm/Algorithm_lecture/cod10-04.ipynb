{
 "cells": [
  {
   "cell_type": "code",
   "execution_count": 3,
   "id": "c9e86770",
   "metadata": {
    "ExecuteTime": {
     "end_time": "2021-07-06T06:37:26.259794Z",
     "start_time": "2021-07-06T06:37:26.256262Z"
    }
   },
   "outputs": [],
   "source": [
    "def factorial(num):\n",
    "    if num<=1:\n",
    "        print('1 반환')\n",
    "        return 1\n",
    "    print(f'{num} * {num-1} 호출!')\n",
    "    retVal=factorial(num-1)\n",
    "    \n",
    "    print(f'{num} * {num-1}! (={retVal}) 호출!')\n",
    "    return num * retVal"
   ]
  },
  {
   "cell_type": "code",
   "execution_count": 4,
   "id": "2575023b",
   "metadata": {
    "ExecuteTime": {
     "end_time": "2021-07-06T06:37:56.401117Z",
     "start_time": "2021-07-06T06:37:56.397611Z"
    }
   },
   "outputs": [
    {
     "name": "stdout",
     "output_type": "stream",
     "text": [
      "5 * 4 호출!\n",
      "4 * 3 호출!\n",
      "3 * 2 호출!\n",
      "2 * 1 호출!\n",
      "1 반환\n",
      "2 * 1! (=1) 호출!\n",
      "3 * 2! (=2) 호출!\n",
      "4 * 3! (=6) 호출!\n",
      "5 * 4! (=24) 호출!\n",
      "\n",
      "5!= 120\n"
     ]
    }
   ],
   "source": [
    "print('\\n5!=', factorial(5))"
   ]
  },
  {
   "cell_type": "code",
   "execution_count": null,
   "id": "3fc89c43",
   "metadata": {},
   "outputs": [],
   "source": []
  }
 ],
 "metadata": {
  "hide_input": false,
  "kernelspec": {
   "display_name": "Python TSA",
   "language": "python",
   "name": "tsa"
  },
  "language_info": {
   "codemirror_mode": {
    "name": "ipython",
    "version": 3
   },
   "file_extension": ".py",
   "mimetype": "text/x-python",
   "name": "python",
   "nbconvert_exporter": "python",
   "pygments_lexer": "ipython3",
   "version": "3.9.5"
  },
  "latex_envs": {
   "LaTeX_envs_menu_present": true,
   "autoclose": false,
   "autocomplete": true,
   "bibliofile": "biblio.bib",
   "cite_by": "apalike",
   "current_citInitial": 1,
   "eqLabelWithNumbers": true,
   "eqNumInitial": 1,
   "hotkeys": {
    "equation": "Ctrl-E",
    "itemize": "Ctrl-I"
   },
   "labels_anchors": false,
   "latex_user_defs": false,
   "report_style_numbering": false,
   "user_envs_cfg": false
  },
  "toc": {
   "base_numbering": 1,
   "nav_menu": {},
   "number_sections": true,
   "sideBar": true,
   "skip_h1_title": false,
   "title_cell": "Table of Contents",
   "title_sidebar": "Contents",
   "toc_cell": false,
   "toc_position": {},
   "toc_section_display": true,
   "toc_window_display": false
  },
  "varInspector": {
   "cols": {
    "lenName": 16,
    "lenType": 16,
    "lenVar": 40
   },
   "kernels_config": {
    "python": {
     "delete_cmd_postfix": "",
     "delete_cmd_prefix": "del ",
     "library": "var_list.py",
     "varRefreshCmd": "print(var_dic_list())"
    },
    "r": {
     "delete_cmd_postfix": ") ",
     "delete_cmd_prefix": "rm(",
     "library": "var_list.r",
     "varRefreshCmd": "cat(var_dic_list()) "
    }
   },
   "types_to_exclude": [
    "module",
    "function",
    "builtin_function_or_method",
    "instance",
    "_Feature"
   ],
   "window_display": false
  }
 },
 "nbformat": 4,
 "nbformat_minor": 5
}
