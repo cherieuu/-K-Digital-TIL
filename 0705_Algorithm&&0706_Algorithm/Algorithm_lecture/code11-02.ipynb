{
 "cells": [
  {
   "cell_type": "code",
   "execution_count": 1,
   "id": "7fa7ac03",
   "metadata": {
    "ExecuteTime": {
     "end_time": "2021-07-06T07:17:42.047224Z",
     "start_time": "2021-07-06T07:17:42.043837Z"
    }
   },
   "outputs": [],
   "source": [
    "def findMinIdx(ary):\n",
    "    minIdx=0\n",
    "    for i in range(1, len(ary)):\n",
    "        if (ary[minIdx] > ary[i]):\n",
    "            minIdx = i\n",
    "    return minIdx"
   ]
  },
  {
   "cell_type": "code",
   "execution_count": 2,
   "id": "b1d87556",
   "metadata": {
    "ExecuteTime": {
     "end_time": "2021-07-06T07:17:42.554068Z",
     "start_time": "2021-07-06T07:17:42.551015Z"
    }
   },
   "outputs": [],
   "source": [
    "#전역 변수부\n",
    "import random\n",
    "before = [random.randint(50,190) for _ in range(8)]\n",
    "after =[]"
   ]
  },
  {
   "cell_type": "code",
   "execution_count": 3,
   "id": "cefe34de",
   "metadata": {
    "ExecuteTime": {
     "end_time": "2021-07-06T07:17:43.095056Z",
     "start_time": "2021-07-06T07:17:43.086123Z"
    }
   },
   "outputs": [
    {
     "data": {
      "text/plain": [
       "('정렬전 -->', [54, 186, 155, 144, 73, 120, 84, 66])"
      ]
     },
     "execution_count": 3,
     "metadata": {},
     "output_type": "execute_result"
    }
   ],
   "source": [
    "# 메인 코드부\n",
    "'정렬전 -->', before"
   ]
  },
  {
   "cell_type": "code",
   "execution_count": 4,
   "id": "15da1fd3",
   "metadata": {
    "ExecuteTime": {
     "end_time": "2021-07-06T07:17:44.364066Z",
     "start_time": "2021-07-06T07:17:44.361067Z"
    }
   },
   "outputs": [],
   "source": [
    "for i in range(len(before)):\n",
    "    minPos = findMinIdx(before)\n",
    "    after.append(before[minPos])\n",
    "    del(before[minPos])"
   ]
  },
  {
   "cell_type": "code",
   "execution_count": 5,
   "id": "52afc764",
   "metadata": {
    "ExecuteTime": {
     "end_time": "2021-07-06T07:17:45.870468Z",
     "start_time": "2021-07-06T07:17:45.866513Z"
    }
   },
   "outputs": [
    {
     "data": {
      "text/plain": [
       "('정렬후 -->', [54, 66, 73, 84, 120, 144, 155, 186])"
      ]
     },
     "execution_count": 5,
     "metadata": {},
     "output_type": "execute_result"
    }
   ],
   "source": [
    "'정렬후 -->', after"
   ]
  },
  {
   "cell_type": "code",
   "execution_count": null,
   "id": "c91e2dec",
   "metadata": {},
   "outputs": [],
   "source": []
  }
 ],
 "metadata": {
  "hide_input": false,
  "kernelspec": {
   "display_name": "Python TSA",
   "language": "python",
   "name": "tsa"
  },
  "language_info": {
   "codemirror_mode": {
    "name": "ipython",
    "version": 3
   },
   "file_extension": ".py",
   "mimetype": "text/x-python",
   "name": "python",
   "nbconvert_exporter": "python",
   "pygments_lexer": "ipython3",
   "version": "3.9.5"
  },
  "latex_envs": {
   "LaTeX_envs_menu_present": true,
   "autoclose": false,
   "autocomplete": true,
   "bibliofile": "biblio.bib",
   "cite_by": "apalike",
   "current_citInitial": 1,
   "eqLabelWithNumbers": true,
   "eqNumInitial": 1,
   "hotkeys": {
    "equation": "Ctrl-E",
    "itemize": "Ctrl-I"
   },
   "labels_anchors": false,
   "latex_user_defs": false,
   "report_style_numbering": false,
   "user_envs_cfg": false
  },
  "toc": {
   "base_numbering": 1,
   "nav_menu": {},
   "number_sections": true,
   "sideBar": true,
   "skip_h1_title": false,
   "title_cell": "Table of Contents",
   "title_sidebar": "Contents",
   "toc_cell": false,
   "toc_position": {},
   "toc_section_display": true,
   "toc_window_display": false
  },
  "varInspector": {
   "cols": {
    "lenName": 16,
    "lenType": 16,
    "lenVar": 40
   },
   "kernels_config": {
    "python": {
     "delete_cmd_postfix": "",
     "delete_cmd_prefix": "del ",
     "library": "var_list.py",
     "varRefreshCmd": "print(var_dic_list())"
    },
    "r": {
     "delete_cmd_postfix": ") ",
     "delete_cmd_prefix": "rm(",
     "library": "var_list.r",
     "varRefreshCmd": "cat(var_dic_list()) "
    }
   },
   "types_to_exclude": [
    "module",
    "function",
    "builtin_function_or_method",
    "instance",
    "_Feature"
   ],
   "window_display": false
  }
 },
 "nbformat": 4,
 "nbformat_minor": 5
}
