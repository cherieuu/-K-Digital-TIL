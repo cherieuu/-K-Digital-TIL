{
 "cells": [
  {
   "cell_type": "code",
   "execution_count": 1,
   "id": "f7cc9d12",
   "metadata": {
    "ExecuteTime": {
     "end_time": "2021-07-06T04:16:53.817978Z",
     "start_time": "2021-07-06T04:16:53.814999Z"
    }
   },
   "outputs": [],
   "source": [
    "class TreeNode():\n",
    "    def __init__(self):\n",
    "        self.left = None\n",
    "        self.data = None\n",
    "        self.right = None"
   ]
  },
  {
   "cell_type": "code",
   "execution_count": 2,
   "id": "2b75cc5c",
   "metadata": {
    "ExecuteTime": {
     "end_time": "2021-07-06T04:17:14.617181Z",
     "start_time": "2021-07-06T04:17:14.613259Z"
    }
   },
   "outputs": [],
   "source": [
    "node1= TreeNode()\n",
    "node1.data = '화사'"
   ]
  },
  {
   "cell_type": "code",
   "execution_count": 4,
   "id": "7764c481",
   "metadata": {
    "ExecuteTime": {
     "end_time": "2021-07-06T04:18:13.175103Z",
     "start_time": "2021-07-06T04:18:13.172093Z"
    }
   },
   "outputs": [],
   "source": [
    "node2= TreeNode()\n",
    "node2.data = '솔라'\n",
    "node1.left = node2"
   ]
  },
  {
   "cell_type": "code",
   "execution_count": 12,
   "id": "f729d1d1",
   "metadata": {
    "ExecuteTime": {
     "end_time": "2021-07-06T04:24:00.700543Z",
     "start_time": "2021-07-06T04:24:00.696053Z"
    }
   },
   "outputs": [],
   "source": [
    "node3=TreeNode()\n",
    "node3.data='문별'\n",
    "node1.right = node3"
   ]
  },
  {
   "cell_type": "code",
   "execution_count": 13,
   "id": "b221e31c",
   "metadata": {
    "ExecuteTime": {
     "end_time": "2021-07-06T04:27:24.696821Z",
     "start_time": "2021-07-06T04:27:24.694124Z"
    }
   },
   "outputs": [],
   "source": [
    "node4=TreeNode()\n",
    "node4.data='휘인'\n",
    "node2.left=node4"
   ]
  },
  {
   "cell_type": "code",
   "execution_count": 14,
   "id": "58bf5900",
   "metadata": {
    "ExecuteTime": {
     "end_time": "2021-07-06T04:28:05.626853Z",
     "start_time": "2021-07-06T04:28:05.623967Z"
    }
   },
   "outputs": [],
   "source": [
    "node5=TreeNode()\n",
    "node5.data='쯔위'\n",
    "node2.right=node5"
   ]
  },
  {
   "cell_type": "code",
   "execution_count": 15,
   "id": "9f278c27",
   "metadata": {
    "ExecuteTime": {
     "end_time": "2021-07-06T04:28:45.893892Z",
     "start_time": "2021-07-06T04:28:45.890799Z"
    }
   },
   "outputs": [],
   "source": [
    "node6=TreeNode()\n",
    "node6.data='선미'\n",
    "node3.left=node6"
   ]
  },
  {
   "cell_type": "code",
   "execution_count": 16,
   "id": "410c66cd",
   "metadata": {
    "ExecuteTime": {
     "end_time": "2021-07-06T04:29:45.804388Z",
     "start_time": "2021-07-06T04:29:45.798884Z"
    }
   },
   "outputs": [
    {
     "name": "stdout",
     "output_type": "stream",
     "text": [
      "화사 \n",
      "솔라 \n",
      "휘인 쯔위 선미 "
     ]
    }
   ],
   "source": [
    "print(node1.data, end = ' ')\n",
    "print()\n",
    "print(node1.left.data, end= ' ')\n",
    "print()\n",
    "print(node1.left.left.data, node1.left.right.data, node1.right.left.data, end=' ')"
   ]
  },
  {
   "cell_type": "code",
   "execution_count": null,
   "id": "d7bc304d",
   "metadata": {},
   "outputs": [],
   "source": []
  }
 ],
 "metadata": {
  "hide_input": false,
  "kernelspec": {
   "display_name": "Python TSA",
   "language": "python",
   "name": "tsa"
  },
  "language_info": {
   "codemirror_mode": {
    "name": "ipython",
    "version": 3
   },
   "file_extension": ".py",
   "mimetype": "text/x-python",
   "name": "python",
   "nbconvert_exporter": "python",
   "pygments_lexer": "ipython3",
   "version": "3.9.5"
  },
  "latex_envs": {
   "LaTeX_envs_menu_present": true,
   "autoclose": false,
   "autocomplete": true,
   "bibliofile": "biblio.bib",
   "cite_by": "apalike",
   "current_citInitial": 1,
   "eqLabelWithNumbers": true,
   "eqNumInitial": 1,
   "hotkeys": {
    "equation": "Ctrl-E",
    "itemize": "Ctrl-I"
   },
   "labels_anchors": false,
   "latex_user_defs": false,
   "report_style_numbering": false,
   "user_envs_cfg": false
  },
  "toc": {
   "base_numbering": 1,
   "nav_menu": {},
   "number_sections": true,
   "sideBar": true,
   "skip_h1_title": false,
   "title_cell": "Table of Contents",
   "title_sidebar": "Contents",
   "toc_cell": false,
   "toc_position": {},
   "toc_section_display": true,
   "toc_window_display": false
  },
  "varInspector": {
   "cols": {
    "lenName": 16,
    "lenType": 16,
    "lenVar": 40
   },
   "kernels_config": {
    "python": {
     "delete_cmd_postfix": "",
     "delete_cmd_prefix": "del ",
     "library": "var_list.py",
     "varRefreshCmd": "print(var_dic_list())"
    },
    "r": {
     "delete_cmd_postfix": ") ",
     "delete_cmd_prefix": "rm(",
     "library": "var_list.r",
     "varRefreshCmd": "cat(var_dic_list()) "
    }
   },
   "types_to_exclude": [
    "module",
    "function",
    "builtin_function_or_method",
    "instance",
    "_Feature"
   ],
   "window_display": false
  }
 },
 "nbformat": 4,
 "nbformat_minor": 5
}
