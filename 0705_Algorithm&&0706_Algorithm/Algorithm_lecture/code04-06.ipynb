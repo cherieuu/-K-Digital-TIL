{
 "cells": [
  {
   "cell_type": "code",
   "execution_count": 1,
   "id": "f94a5a1e",
   "metadata": {
    "ExecuteTime": {
     "end_time": "2021-07-05T07:17:49.581811Z",
     "start_time": "2021-07-05T07:17:49.578782Z"
    }
   },
   "outputs": [],
   "source": [
    "class Node():\n",
    "    def __init__(self):\n",
    "        self.data=None\n",
    "        self.link=None"
   ]
  },
  {
   "cell_type": "code",
   "execution_count": 2,
   "id": "fb37f32c",
   "metadata": {
    "ExecuteTime": {
     "end_time": "2021-07-05T07:17:50.004684Z",
     "start_time": "2021-07-05T07:17:50.000897Z"
    }
   },
   "outputs": [],
   "source": [
    "def printNodes(start):\n",
    "    current=start\n",
    "    print(current.data, end=' ')\n",
    "    while current.link != None:\n",
    "        current=current.link\n",
    "        print(current.data, end=' ')\n",
    "    print()"
   ]
  },
  {
   "cell_type": "code",
   "execution_count": 3,
   "id": "f10aa2ec",
   "metadata": {
    "ExecuteTime": {
     "end_time": "2021-07-05T07:17:50.518149Z",
     "start_time": "2021-07-05T07:17:50.513390Z"
    }
   },
   "outputs": [],
   "source": [
    "def insertNode(findData, insertData):\n",
    "    global memory, head, current, pre\n",
    "    \n",
    "    if head.data==findData:\n",
    "        node=Node()\n",
    "        node.data=insertData\n",
    "        node.link=head\n",
    "        head=node\n",
    "        return\n",
    "    \n",
    "    current=head\n",
    "    while current.link != None:\n",
    "        pre =current\n",
    "        current=current.link\n",
    "        if current.data==findData:\n",
    "            node=Node()\n",
    "            node.data=insertData\n",
    "            node.link=current\n",
    "            pre.link=node\n",
    "            return\n",
    "        \n",
    "    node=Node()\n",
    "    node.data=insertData\n",
    "    current.link=node"
   ]
  },
  {
   "cell_type": "code",
   "execution_count": 4,
   "id": "ad72762a",
   "metadata": {
    "ExecuteTime": {
     "end_time": "2021-07-05T07:17:51.170973Z",
     "start_time": "2021-07-05T07:17:51.167999Z"
    }
   },
   "outputs": [],
   "source": [
    "memory = []\n",
    "head, current, pre = None, None, None\n",
    "dataArray=['다현', '정연', '쯔위', '사나', '지효']"
   ]
  },
  {
   "cell_type": "code",
   "execution_count": 5,
   "id": "6d80e4ea",
   "metadata": {
    "ExecuteTime": {
     "end_time": "2021-07-05T07:17:52.246303Z",
     "start_time": "2021-07-05T07:17:52.240606Z"
    }
   },
   "outputs": [
    {
     "name": "stdout",
     "output_type": "stream",
     "text": [
      "화사 다현 정연 쯔위 사나 지효 \n",
      "화사 다현 정연 쯔위 솔라 사나 지효 \n",
      "화사 다현 정연 쯔위 솔라 사나 지효 문별 \n"
     ]
    }
   ],
   "source": [
    "if __name__ == '__main__':\n",
    "    \n",
    "    node = Node()\n",
    "    node.data = dataArray[0]\n",
    "    head=node\n",
    "    memory.append(node)\n",
    "    \n",
    "    for data in dataArray[1:]:\n",
    "        pre = node\n",
    "        node = Node()\n",
    "        node.data=data\n",
    "        pre.link =node\n",
    "        memory.append(node)\n",
    "        \n",
    "    insertNode('다현','화사')\n",
    "    printNodes(head)\n",
    "    \n",
    "    insertNode('사나','솔라')\n",
    "    printNodes(head)\n",
    "    \n",
    "    insertNode('재남','문별')\n",
    "    printNodes(head)"
   ]
  },
  {
   "cell_type": "code",
   "execution_count": 6,
   "id": "3a9adf42",
   "metadata": {
    "ExecuteTime": {
     "end_time": "2021-07-05T07:17:58.206399Z",
     "start_time": "2021-07-05T07:17:58.202947Z"
    }
   },
   "outputs": [
    {
     "name": "stdout",
     "output_type": "stream",
     "text": [
      "화사 다현 정연 쯔위 솔라 사나 지효 문별 \n"
     ]
    }
   ],
   "source": [
    "printNodes(head)"
   ]
  },
  {
   "cell_type": "code",
   "execution_count": null,
   "id": "441bde3a",
   "metadata": {},
   "outputs": [],
   "source": []
  },
  {
   "cell_type": "code",
   "execution_count": null,
   "id": "047d853c",
   "metadata": {},
   "outputs": [],
   "source": []
  }
 ],
 "metadata": {
  "hide_input": false,
  "kernelspec": {
   "display_name": "Python TSA",
   "language": "python",
   "name": "tsa"
  },
  "language_info": {
   "codemirror_mode": {
    "name": "ipython",
    "version": 3
   },
   "file_extension": ".py",
   "mimetype": "text/x-python",
   "name": "python",
   "nbconvert_exporter": "python",
   "pygments_lexer": "ipython3",
   "version": "3.9.5"
  },
  "latex_envs": {
   "LaTeX_envs_menu_present": true,
   "autoclose": false,
   "autocomplete": true,
   "bibliofile": "biblio.bib",
   "cite_by": "apalike",
   "current_citInitial": 1,
   "eqLabelWithNumbers": true,
   "eqNumInitial": 1,
   "hotkeys": {
    "equation": "Ctrl-E",
    "itemize": "Ctrl-I"
   },
   "labels_anchors": false,
   "latex_user_defs": false,
   "report_style_numbering": false,
   "user_envs_cfg": false
  },
  "toc": {
   "base_numbering": 1,
   "nav_menu": {},
   "number_sections": true,
   "sideBar": true,
   "skip_h1_title": false,
   "title_cell": "Table of Contents",
   "title_sidebar": "Contents",
   "toc_cell": false,
   "toc_position": {},
   "toc_section_display": true,
   "toc_window_display": false
  },
  "varInspector": {
   "cols": {
    "lenName": 16,
    "lenType": 16,
    "lenVar": 40
   },
   "kernels_config": {
    "python": {
     "delete_cmd_postfix": "",
     "delete_cmd_prefix": "del ",
     "library": "var_list.py",
     "varRefreshCmd": "print(var_dic_list())"
    },
    "r": {
     "delete_cmd_postfix": ") ",
     "delete_cmd_prefix": "rm(",
     "library": "var_list.r",
     "varRefreshCmd": "cat(var_dic_list()) "
    }
   },
   "types_to_exclude": [
    "module",
    "function",
    "builtin_function_or_method",
    "instance",
    "_Feature"
   ],
   "window_display": false
  }
 },
 "nbformat": 4,
 "nbformat_minor": 5
}
