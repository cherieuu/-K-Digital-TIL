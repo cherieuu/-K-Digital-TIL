{
 "cells": [
  {
   "cell_type": "code",
   "execution_count": 2,
   "id": "6c936217",
   "metadata": {
    "ExecuteTime": {
     "end_time": "2021-07-06T08:53:26.977356Z",
     "start_time": "2021-07-06T08:53:26.973109Z"
    }
   },
   "outputs": [],
   "source": [
    "ARRAY_LENGTH = 5  # 배열의 행과 열 크기(고정)\n",
    "\n",
    "def replaceData(numData): # numData\t2차원 정수 배열\n",
    "    retData = [] # 조건에 따라서 전처리된 2차원 배열\n",
    "\n",
    "    ###########   여기부터 코딩 (1) ---------------->\n",
    "    retData = numData[:]\n",
    "    \n",
    "    for i in range(ARRAY_LENGTH):\n",
    "        for j in range(ARRAY_LENGTH):\n",
    "            if retData[i][j]<0:\n",
    "                retData[i][j]=0\n",
    "            if retData[i][j]>100:\n",
    "                retData[i][j]=retData[i][j] %100\n",
    "        \n",
    "    \n",
    "    ###########   <-------------- 여기까지 코딩 (1)\n",
    "        return retData"
   ]
  },
  {
   "cell_type": "code",
   "execution_count": 3,
   "id": "51a8c5c9",
   "metadata": {
    "ExecuteTime": {
     "end_time": "2021-07-06T08:53:27.439536Z",
     "start_time": "2021-07-06T08:53:27.432930Z"
    }
   },
   "outputs": [
    {
     "ename": "NameError",
     "evalue": "name 'retData' is not defined",
     "output_type": "error",
     "traceback": [
      "\u001b[0;31m---------------------------------------------------------------------------\u001b[0m",
      "\u001b[0;31mNameError\u001b[0m                                 Traceback (most recent call last)",
      "\u001b[0;32m<ipython-input-3-49c8e9f6b283>\u001b[0m in \u001b[0;36m<module>\u001b[0;34m\u001b[0m\n\u001b[0;32m----> 1\u001b[0;31m \u001b[0mretData\u001b[0m\u001b[0;34m\u001b[0m\u001b[0;34m\u001b[0m\u001b[0m\n\u001b[0m",
      "\u001b[0;31mNameError\u001b[0m: name 'retData' is not defined"
     ]
    }
   ],
   "source": [
    "retData"
   ]
  },
  {
   "cell_type": "code",
   "execution_count": null,
   "id": "e2b35f91",
   "metadata": {
    "ExecuteTime": {
     "end_time": "2021-07-05T08:09:12.818579Z",
     "start_time": "2021-07-05T08:09:12.814626Z"
    }
   },
   "outputs": [],
   "source": [
    "# 2x2 크기의 배열의 최대합을 구한다.\n",
    "def getMaxSum(numData): # 요구 사항에 맞춰 처리된 2차원 정수 배열\n",
    "    maxSum = 0 # 최대합\n",
    "\n",
    "    ###########   여기부터 코딩 (2) ---------------->\n",
    "    for i in range(ARRAY_LENGTH-1):\n",
    "        for j in range(ARRAY_LENGTH-1):\n",
    "            hap = numData[i][j] + numData[i+1][j]+\\\n",
    "                numData[i][j+1] + numData[i+1][j+1]\n",
    "            if hap > maxSum :\n",
    "                maxSum = hap\n",
    "\n",
    "    ###########   <-------------- 여기까지 코딩 (2)\n",
    "\n",
    "    return maxSum"
   ]
  },
  {
   "cell_type": "code",
   "execution_count": null,
   "id": "9f8b3c47",
   "metadata": {},
   "outputs": [],
   "source": [
    "## 전역 변수 선언 부분\n",
    "numData =[] # 5x5 배열\n",
    "ARRAY_LENGTH = 5 # 배열의 행과 열 크기(고정)\n",
    "\n",
    "def main() :\n",
    "        global numData\n",
    "\n",
    "        loadData() # 2차원 배열 읽어오기\n",
    "\n",
    "        ## 원본 출력\n",
    "        print(' ----- 초기 배열 -----')\n",
    "        printData()\n",
    "\n",
    "        # 1. 데이터 치환 작업\n",
    "        numData = replaceData(numData)\n",
    "        print(' ----- 치환 후 배열 -----')\n",
    "        printData()\n",
    "\n",
    "        # 2. 최대 합 구하기.(2x2 크기)\n",
    "        maxSum = getMaxSum(numData)\n",
    "        print('최대 영역의 합: %d' % maxSum)"
   ]
  },
  {
   "cell_type": "code",
   "execution_count": null,
   "id": "83825d1a",
   "metadata": {},
   "outputs": [],
   "source": [
    "       \n",
    "## 함수 선언 부분\n",
    "def  loadData() : # 데이터 불러오기\n",
    "    global numData\n",
    "\n",
    "    ###########\n",
    "    # 제공 데이터 세트 1 \n",
    "    # 5x5 숫자 배열. \n",
    "    ###########\n",
    "    numData = \\\n",
    "    [\n",
    "        [ 5, 7, -5, 100, 73 ],\n",
    "        [ 35, 23, 4, 190, 33 ],\n",
    "        [ 49, 85, 662, 39, 81 ],\n",
    "        [ 124, -59, 86, 46, 52 ],\n",
    "        [ 27, 7, 8, 33, -56 ] \n",
    "    ]\n",
    "    \n",
    "    \n",
    "\n",
    "def printData() :\n",
    "        for i in range(0, ARRAY_LENGTH) :\n",
    "                for k in range(0, ARRAY_LENGTH) :\n",
    "                        try :\n",
    "                                print(\"%5d\" % numData[i][k], end='')\n",
    "                        except :\n",
    "                                pass\n",
    "                print()\n",
    "        print('--------------------------------------')"
   ]
  },
  {
   "cell_type": "code",
   "execution_count": null,
   "id": "2d892090",
   "metadata": {},
   "outputs": [],
   "source": [
    "## 메인 함수 호출 ##\n",
    "if __name__ == \"__main__\" :\n",
    "    main()"
   ]
  },
  {
   "cell_type": "markdown",
   "id": "0aba73ad",
   "metadata": {},
   "source": [
    "# 문제풀이"
   ]
  },
  {
   "cell_type": "code",
   "execution_count": 4,
   "id": "a2810592",
   "metadata": {
    "ExecuteTime": {
     "end_time": "2021-07-06T08:53:59.791750Z",
     "start_time": "2021-07-06T08:53:59.779380Z"
    }
   },
   "outputs": [
    {
     "name": "stdout",
     "output_type": "stream",
     "text": [
      " ----- 초기 배열 -----\n",
      "    5    7   -5  100   73\n",
      "   35   23    4  190   33\n",
      "   49   85  662   39   81\n",
      "  124  -59   86   46   52\n",
      "   27    7    8   33  -56\n",
      "--------------------------------------\n",
      " ----- 치환 후 배열 -----\n",
      "    5    7    0  100   73\n",
      "   35   23    4   90   33\n",
      "   49   85   62   39   81\n",
      "   24    0   86   46   52\n",
      "   27    7    8   33    0\n",
      "--------------------------------------\n",
      "최대 영역의 합: 296\n"
     ]
    }
   ],
   "source": [
    "ARRAY_LENGTH = 5  # 배열의 행과 열 크기(고정)\n",
    "\n",
    "def replaceData(numData): # numData\t2차원 정수 배열\n",
    "    retData = [] # 조건에 따라서 전처리된 2차원 배열\n",
    "\n",
    "    ###########   여기부터 코딩 (1) ---------------->\n",
    "\n",
    "    retData = numData[:]\n",
    "\n",
    "    for i in range(ARRAY_LENGTH) :\n",
    "        for j in range(ARRAY_LENGTH) :\n",
    "            if retData[i][j] < 0 :\n",
    "                retData[i][j] = 0\n",
    "            if retData[i][j] > 100 :\n",
    "                retData[i][j] = retData[i][j] % 100\n",
    "\n",
    "    ###########   <-------------- 여기까지 코딩 (1)\n",
    "\n",
    "    return retData\n",
    "\n",
    "\n",
    "# 2x2 크기의 배열의 최대합을 구한다.\n",
    "def getMaxSum(numData): # 요구 사항에 맞춰 처리된 2차원 정수 배열\n",
    "    maxSum = 0 # 최대합\n",
    "\n",
    "    ###########   여기부터 코딩 (2) ---------------->\n",
    "\n",
    "    for i in range(ARRAY_LENGTH -1) :\n",
    "        for j in range(ARRAY_LENGTH -1) :\n",
    "            hap = numData[i][j] + numData[i+1][j] + \\\n",
    "                numData[i][j+1] + numData[i+1][j+1]\n",
    "            if hap > maxSum :\n",
    "                maxSum = hap\n",
    "\n",
    "    ###########   <-------------- 여기까지 코딩 (2)\n",
    "\n",
    "    return maxSum\n",
    "\n",
    "## 전역 변수 선언 부분\n",
    "numData =[] # 5x5 배열\n",
    "ARRAY_LENGTH = 5 # 배열의 행과 열 크기(고정)\n",
    "\n",
    "def main() :\n",
    "        global numData\n",
    "\n",
    "        loadData() # 2차원 배열 읽어오기\n",
    "\n",
    "        ## 원본 출력\n",
    "        print(' ----- 초기 배열 -----')\n",
    "        printData()\n",
    "\n",
    "        # 1. 데이터 치환 작업\n",
    "        numData = replaceData(numData)\n",
    "        print(' ----- 치환 후 배열 -----')\n",
    "        printData()\n",
    "\n",
    "        # 2. 최대 합 구하기.(2x2 크기)\n",
    "        maxSum = getMaxSum(numData)\n",
    "        print('최대 영역의 합: %d' % maxSum)\n",
    "\n",
    "       \n",
    "## 함수 선언 부분\n",
    "def  loadData() : # 데이터 불러오기\n",
    "    global numData\n",
    "\n",
    "    ###########\n",
    "    # 제공 데이터 세트 1 \n",
    "    # 5x5 숫자 배열. \n",
    "    ###########\n",
    "    numData = \\\n",
    "    [\n",
    "        [ 5, 7, -5, 100, 73 ],\n",
    "        [ 35, 23, 4, 190, 33 ],\n",
    "        [ 49, 85, 662, 39, 81 ],\n",
    "        [ 124, -59, 86, 46, 52 ],\n",
    "        [ 27, 7, 8, 33, -56 ] \n",
    "    ]\n",
    "    \n",
    "    \n",
    "\n",
    "def printData() :\n",
    "        for i in range(0, ARRAY_LENGTH) :\n",
    "                for k in range(0, ARRAY_LENGTH) :\n",
    "                        try :\n",
    "                                print(\"%5d\" % numData[i][k], end='')\n",
    "                        except :\n",
    "                                pass\n",
    "                print()\n",
    "        print('--------------------------------------')\n",
    "\n",
    "## 메인 함수 호출 ##\n",
    "if __name__ == \"__main__\" :\n",
    "    main()"
   ]
  },
  {
   "cell_type": "code",
   "execution_count": null,
   "id": "4c77f098",
   "metadata": {},
   "outputs": [],
   "source": []
  }
 ],
 "metadata": {
  "hide_input": false,
  "kernelspec": {
   "display_name": "Python TSA",
   "language": "python",
   "name": "tsa"
  },
  "language_info": {
   "codemirror_mode": {
    "name": "ipython",
    "version": 3
   },
   "file_extension": ".py",
   "mimetype": "text/x-python",
   "name": "python",
   "nbconvert_exporter": "python",
   "pygments_lexer": "ipython3",
   "version": "3.9.5"
  },
  "latex_envs": {
   "LaTeX_envs_menu_present": true,
   "autoclose": false,
   "autocomplete": true,
   "bibliofile": "biblio.bib",
   "cite_by": "apalike",
   "current_citInitial": 1,
   "eqLabelWithNumbers": true,
   "eqNumInitial": 1,
   "hotkeys": {
    "equation": "Ctrl-E",
    "itemize": "Ctrl-I"
   },
   "labels_anchors": false,
   "latex_user_defs": false,
   "report_style_numbering": false,
   "user_envs_cfg": false
  },
  "toc": {
   "base_numbering": 1,
   "nav_menu": {},
   "number_sections": true,
   "sideBar": true,
   "skip_h1_title": false,
   "title_cell": "Table of Contents",
   "title_sidebar": "Contents",
   "toc_cell": false,
   "toc_position": {},
   "toc_section_display": true,
   "toc_window_display": false
  },
  "varInspector": {
   "cols": {
    "lenName": 16,
    "lenType": 16,
    "lenVar": 40
   },
   "kernels_config": {
    "python": {
     "delete_cmd_postfix": "",
     "delete_cmd_prefix": "del ",
     "library": "var_list.py",
     "varRefreshCmd": "print(var_dic_list())"
    },
    "r": {
     "delete_cmd_postfix": ") ",
     "delete_cmd_prefix": "rm(",
     "library": "var_list.r",
     "varRefreshCmd": "cat(var_dic_list()) "
    }
   },
   "types_to_exclude": [
    "module",
    "function",
    "builtin_function_or_method",
    "instance",
    "_Feature"
   ],
   "window_display": false
  }
 },
 "nbformat": 4,
 "nbformat_minor": 5
}
