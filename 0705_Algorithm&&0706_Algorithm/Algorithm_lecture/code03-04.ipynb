{
 "cells": [
  {
   "cell_type": "code",
   "execution_count": null,
   "id": "cf9c90e5",
   "metadata": {
    "ExecuteTime": {
     "start_time": "2021-07-05T02:52:30.157Z"
    },
    "code_folding": []
   },
   "outputs": [],
   "source": [
    "katok = []\n",
    "def add_data(friend):\n",
    "    katok.append(None)\n",
    "    kLen=len(katok)\n",
    "    katok[kLen-1]=friend\n",
    "    \n",
    "def insert_data(position, friend):\n",
    "    katok.append(None)\n",
    "    kLen=len(katok)\n",
    "    \n",
    "    for i in range(kLen-1, position, -1):\n",
    "        katok[i]=katok[i-1]\n",
    "        katok[i-1]=None\n",
    "    \n",
    "    katok[position]=friend\n",
    "    \n",
    "def delete_data(position):\n",
    "    kLen=len(katok)\n",
    "    katok[position]=None\n",
    "    \n",
    "    for i in range(position+1, kLen, 1):\n",
    "        katok[i-1]=katok[i]\n",
    "        katok[i]=None\n",
    "        \n",
    "    del(katok[kLen-1])\n",
    "    \n",
    "      \n",
    "        "
   ]
  },
  {
   "cell_type": "code",
   "execution_count": 2,
   "id": "e285064f",
   "metadata": {
    "ExecuteTime": {
     "end_time": "2021-07-05T02:50:15.101706Z",
     "start_time": "2021-07-05T02:50:15.098974Z"
    }
   },
   "outputs": [],
   "source": [
    "katok = []\n",
    "select=-1"
   ]
  },
  {
   "cell_type": "code",
   "execution_count": null,
   "id": "dd582375",
   "metadata": {
    "ExecuteTime": {
     "start_time": "2021-07-05T02:50:16.238Z"
    },
    "code_folding": []
   },
   "outputs": [
    {
     "name": "stdout",
     "output_type": "stream",
     "text": [
      "선택하세요(1: 추가, 2: 삽입, 3: 삭제, 4: 종료)-->1\n",
      "추가할 데이터 -->다현\n",
      "['다현']\n",
      "선택하세요(1: 추가, 2: 삽입, 3: 삭제, 4: 종료)-->1\n",
      "추가할 데이터 -->수지\n",
      "['다현', '수지']\n",
      "선택하세요(1: 추가, 2: 삽입, 3: 삭제, 4: 종료)-->1\n",
      "추가할 데이터 -->조이\n",
      "['다현', '수지', '조이']\n",
      "선택하세요(1: 추가, 2: 삽입, 3: 삭제, 4: 종료)-->1\n",
      "추가할 데이터 -->슬기\n",
      "['다현', '수지', '조이', '슬기']\n",
      "선택하세요(1: 추가, 2: 삽입, 3: 삭제, 4: 종료)-->1\n",
      "추가할 데이터 -->웬디\n",
      "['다현', '수지', '조이', '슬기', '웬디']\n",
      "선택하세요(1: 추가, 2: 삽입, 3: 삭제, 4: 종료)-->2\n",
      "삽입할 위치 -->3\n",
      "추가할 데이터 -->윤아\n",
      "['다현', '수지', '조이', '윤아', '슬기', '웬디']\n",
      "선택하세요(1: 추가, 2: 삽입, 3: 삭제, 4: 종료)-->3\n",
      "삭제할 위치 -->2\n",
      "['수지', None, '윤아', '슬기', '웬디']\n",
      "선택하세요(1: 추가, 2: 삽입, 3: 삭제, 4: 종료)-->3\n",
      "삭제할 위치 -->2\n",
      "[None, None, '슬기', '웬디']\n"
     ]
    }
   ],
   "source": [
    "if __name__ == \"__main__\":\n",
    "    while (select!=4):\n",
    "        select = int(input('선택하세요(1: 추가, 2: 삽입, 3: 삭제, 4: 종료)-->'))\n",
    "        \n",
    "        if (select==1):\n",
    "            data=input('추가할 데이터 -->')\n",
    "            add_data(data)\n",
    "            print(katok)\n",
    "            \n",
    "        elif (select==2):\n",
    "            pos=int(input('삽입할 위치 -->'))\n",
    "            data=input('추가할 데이터 -->')\n",
    "            insert_data(pos,data)\n",
    "            print(katok)\n",
    "            \n",
    "        elif (select==3):\n",
    "            pos=int(input('삭제할 위치 -->'))\n",
    "            delete_data(pos)\n",
    "            print(katok)\n",
    "            \n",
    "        elif (select==4):\n",
    "            print(katok)\n",
    "            exit\n",
    "        else:\n",
    "            print('1~4 중 하나를 입력하세요.')\n",
    "            continue"
   ]
  },
  {
   "cell_type": "code",
   "execution_count": null,
   "id": "3215f501",
   "metadata": {},
   "outputs": [],
   "source": []
  }
 ],
 "metadata": {
  "hide_input": false,
  "kernelspec": {
   "display_name": "Python TSA",
   "language": "python",
   "name": "tsa"
  },
  "language_info": {
   "codemirror_mode": {
    "name": "ipython",
    "version": 3
   },
   "file_extension": ".py",
   "mimetype": "text/x-python",
   "name": "python",
   "nbconvert_exporter": "python",
   "pygments_lexer": "ipython3",
   "version": "3.9.5"
  },
  "latex_envs": {
   "LaTeX_envs_menu_present": true,
   "autoclose": false,
   "autocomplete": true,
   "bibliofile": "biblio.bib",
   "cite_by": "apalike",
   "current_citInitial": 1,
   "eqLabelWithNumbers": true,
   "eqNumInitial": 1,
   "hotkeys": {
    "equation": "Ctrl-E",
    "itemize": "Ctrl-I"
   },
   "labels_anchors": false,
   "latex_user_defs": false,
   "report_style_numbering": false,
   "user_envs_cfg": false
  },
  "toc": {
   "base_numbering": 1,
   "nav_menu": {},
   "number_sections": true,
   "sideBar": true,
   "skip_h1_title": false,
   "title_cell": "Table of Contents",
   "title_sidebar": "Contents",
   "toc_cell": false,
   "toc_position": {},
   "toc_section_display": true,
   "toc_window_display": false
  },
  "varInspector": {
   "cols": {
    "lenName": 16,
    "lenType": 16,
    "lenVar": 40
   },
   "kernels_config": {
    "python": {
     "delete_cmd_postfix": "",
     "delete_cmd_prefix": "del ",
     "library": "var_list.py",
     "varRefreshCmd": "print(var_dic_list())"
    },
    "r": {
     "delete_cmd_postfix": ") ",
     "delete_cmd_prefix": "rm(",
     "library": "var_list.r",
     "varRefreshCmd": "cat(var_dic_list()) "
    }
   },
   "types_to_exclude": [
    "module",
    "function",
    "builtin_function_or_method",
    "instance",
    "_Feature"
   ],
   "window_display": false
  }
 },
 "nbformat": 4,
 "nbformat_minor": 5
}
