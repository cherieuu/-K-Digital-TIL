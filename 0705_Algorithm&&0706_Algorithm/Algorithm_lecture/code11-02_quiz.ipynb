{
 "cells": [
  {
   "cell_type": "code",
   "execution_count": 1,
   "id": "bc8167d6",
   "metadata": {
    "ExecuteTime": {
     "end_time": "2021-07-06T07:23:57.272454Z",
     "start_time": "2021-07-06T07:23:57.269143Z"
    }
   },
   "outputs": [],
   "source": [
    "import random"
   ]
  },
  {
   "cell_type": "code",
   "execution_count": 18,
   "id": "6958a092",
   "metadata": {
    "ExecuteTime": {
     "end_time": "2021-07-06T07:34:10.414712Z",
     "start_time": "2021-07-06T07:34:10.410880Z"
    }
   },
   "outputs": [],
   "source": [
    "def koreanIdx(ary):\n",
    "    minIdx=0\n",
    "    for i in range(1,len(ary)):\n",
    "        if ary[minIdx] > ary[i]:\n",
    "            minIdx = i\n",
    "    return minIdx"
   ]
  },
  {
   "cell_type": "code",
   "execution_count": 19,
   "id": "a72bb4cc",
   "metadata": {
    "ExecuteTime": {
     "end_time": "2021-07-06T07:34:11.132560Z",
     "start_time": "2021-07-06T07:34:11.129640Z"
    }
   },
   "outputs": [],
   "source": [
    "import random\n",
    "before = [chr(random.randint(44032, 55203)) for _ in range(30)]\n",
    "after = []"
   ]
  },
  {
   "cell_type": "code",
   "execution_count": 20,
   "id": "4d4e01c0",
   "metadata": {
    "ExecuteTime": {
     "end_time": "2021-07-06T07:34:11.365024Z",
     "start_time": "2021-07-06T07:34:11.360037Z"
    }
   },
   "outputs": [
    {
     "data": {
      "text/plain": [
       "('정렬전 -->',\n",
       " ['땶',\n",
       "  '깒',\n",
       "  '몁',\n",
       "  '콶',\n",
       "  '캤',\n",
       "  '쏱',\n",
       "  '벉',\n",
       "  '츬',\n",
       "  '놼',\n",
       "  '먾',\n",
       "  '웹',\n",
       "  '봴',\n",
       "  '펼',\n",
       "  '쭡',\n",
       "  '뾯',\n",
       "  '편',\n",
       "  '쁀',\n",
       "  '좂',\n",
       "  '틽',\n",
       "  '당',\n",
       "  '녎',\n",
       "  '촐',\n",
       "  '해',\n",
       "  '쇨',\n",
       "  '귑',\n",
       "  '죐',\n",
       "  '먈',\n",
       "  '쨤',\n",
       "  '챝',\n",
       "  '폹'])"
      ]
     },
     "execution_count": 20,
     "metadata": {},
     "output_type": "execute_result"
    }
   ],
   "source": [
    "'정렬전 -->', before "
   ]
  },
  {
   "cell_type": "code",
   "execution_count": 21,
   "id": "9f8c7c60",
   "metadata": {
    "ExecuteTime": {
     "end_time": "2021-07-06T07:34:11.729926Z",
     "start_time": "2021-07-06T07:34:11.726525Z"
    }
   },
   "outputs": [],
   "source": [
    "for i in range(len(before)):\n",
    "    minPos=koreanIdx(before)\n",
    "    after.append(before[minPos])\n",
    "    del(before[minPos])"
   ]
  },
  {
   "cell_type": "code",
   "execution_count": 22,
   "id": "371c76f3",
   "metadata": {
    "ExecuteTime": {
     "end_time": "2021-07-06T07:34:12.629714Z",
     "start_time": "2021-07-06T07:34:12.625336Z"
    }
   },
   "outputs": [
    {
     "data": {
      "text/plain": [
       "('정렬후 -->',\n",
       " ['귑',\n",
       "  '깒',\n",
       "  '녎',\n",
       "  '놼',\n",
       "  '당',\n",
       "  '땶',\n",
       "  '먈',\n",
       "  '먾',\n",
       "  '몁',\n",
       "  '벉',\n",
       "  '봴',\n",
       "  '뾯',\n",
       "  '쁀',\n",
       "  '쇨',\n",
       "  '쏱',\n",
       "  '웹',\n",
       "  '좂',\n",
       "  '죐',\n",
       "  '쨤',\n",
       "  '쭡',\n",
       "  '챝',\n",
       "  '촐',\n",
       "  '츬',\n",
       "  '캤',\n",
       "  '콶',\n",
       "  '틽',\n",
       "  '편',\n",
       "  '펼',\n",
       "  '폹',\n",
       "  '해'])"
      ]
     },
     "execution_count": 22,
     "metadata": {},
     "output_type": "execute_result"
    }
   ],
   "source": [
    "'정렬후 -->', after"
   ]
  },
  {
   "cell_type": "code",
   "execution_count": 24,
   "id": "3ac49285",
   "metadata": {
    "ExecuteTime": {
     "end_time": "2021-07-06T07:47:57.381860Z",
     "start_time": "2021-07-06T07:47:57.377329Z"
    }
   },
   "outputs": [],
   "source": [
    "def selectionSort(ary):\n",
    "    n=len(ary)\n",
    "    for i in range(0,n-1):\n",
    "        minIdx=i\n",
    "        for k in range(i+1, n):\n",
    "            if (ary[minIdx]>ary[k]):\n",
    "                minIdx=k\n",
    "        ary[i], ary[minIdx]=ary[minIdx], ary[i]\n",
    "    return ary"
   ]
  },
  {
   "cell_type": "code",
   "execution_count": 25,
   "id": "4a568203",
   "metadata": {
    "ExecuteTime": {
     "end_time": "2021-07-06T07:48:06.353707Z",
     "start_time": "2021-07-06T07:48:06.351432Z"
    }
   },
   "outputs": [],
   "source": [
    "import random"
   ]
  },
  {
   "cell_type": "code",
   "execution_count": 36,
   "id": "1b59835a",
   "metadata": {
    "ExecuteTime": {
     "end_time": "2021-07-06T07:51:36.338386Z",
     "start_time": "2021-07-06T07:51:36.335072Z"
    }
   },
   "outputs": [],
   "source": [
    "dataAry =[chr(random.randint(44032, 55203))for _ in range(30)]"
   ]
  },
  {
   "cell_type": "code",
   "execution_count": 35,
   "id": "2127090c",
   "metadata": {
    "ExecuteTime": {
     "end_time": "2021-07-06T07:51:30.392037Z",
     "start_time": "2021-07-06T07:51:30.387279Z"
    }
   },
   "outputs": [
    {
     "data": {
      "text/plain": [
       "('정렬전-->',\n",
       " ['뱎',\n",
       "  '뼾',\n",
       "  '퓘',\n",
       "  '꽋',\n",
       "  '봠',\n",
       "  '삵',\n",
       "  '뉢',\n",
       "  '뼴',\n",
       "  '씇',\n",
       "  '텇',\n",
       "  '쩧',\n",
       "  '뭚',\n",
       "  '풩',\n",
       "  '삅',\n",
       "  '걤',\n",
       "  '죢',\n",
       "  '뮺',\n",
       "  '썴',\n",
       "  '겱',\n",
       "  '꿫',\n",
       "  '곭',\n",
       "  '뫝',\n",
       "  '팁',\n",
       "  '뻓',\n",
       "  '곘',\n",
       "  '츮',\n",
       "  '픦',\n",
       "  '귏',\n",
       "  '됥',\n",
       "  '뙜'])"
      ]
     },
     "execution_count": 35,
     "metadata": {},
     "output_type": "execute_result"
    }
   ],
   "source": [
    "'정렬전-->', dataAry"
   ]
  },
  {
   "cell_type": "code",
   "execution_count": 33,
   "id": "670d0dc7",
   "metadata": {
    "ExecuteTime": {
     "end_time": "2021-07-06T07:50:53.955515Z",
     "start_time": "2021-07-06T07:50:53.951148Z"
    }
   },
   "outputs": [
    {
     "data": {
      "text/plain": [
       "('정렬후-->',\n",
       " ['괉',\n",
       "  '냁',\n",
       "  '넅',\n",
       "  '늃',\n",
       "  '뎃',\n",
       "  '뎄',\n",
       "  '됱',\n",
       "  '뤭',\n",
       "  '릪',\n",
       "  '멒',\n",
       "  '뺂',\n",
       "  '쁓',\n",
       "  '셆',\n",
       "  '쇐',\n",
       "  '슓',\n",
       "  '씍',\n",
       "  '잞',\n",
       "  '잸',\n",
       "  '쟆',\n",
       "  '쥫',\n",
       "  '쪘',\n",
       "  '첞',\n",
       "  '췒',\n",
       "  '캇',\n",
       "  '톈',\n",
       "  '퇄',\n",
       "  '퍒',\n",
       "  '헕',\n",
       "  '홦',\n",
       "  '훞'])"
      ]
     },
     "execution_count": 33,
     "metadata": {},
     "output_type": "execute_result"
    }
   ],
   "source": [
    "dataAry = selectionSort(dataAry)\n",
    "'정렬후-->', dataAry"
   ]
  },
  {
   "cell_type": "code",
   "execution_count": null,
   "id": "b4e6d434",
   "metadata": {},
   "outputs": [],
   "source": []
  }
 ],
 "metadata": {
  "hide_input": false,
  "kernelspec": {
   "display_name": "Python TSA",
   "language": "python",
   "name": "tsa"
  },
  "language_info": {
   "codemirror_mode": {
    "name": "ipython",
    "version": 3
   },
   "file_extension": ".py",
   "mimetype": "text/x-python",
   "name": "python",
   "nbconvert_exporter": "python",
   "pygments_lexer": "ipython3",
   "version": "3.9.5"
  },
  "latex_envs": {
   "LaTeX_envs_menu_present": true,
   "autoclose": false,
   "autocomplete": true,
   "bibliofile": "biblio.bib",
   "cite_by": "apalike",
   "current_citInitial": 1,
   "eqLabelWithNumbers": true,
   "eqNumInitial": 1,
   "hotkeys": {
    "equation": "Ctrl-E",
    "itemize": "Ctrl-I"
   },
   "labels_anchors": false,
   "latex_user_defs": false,
   "report_style_numbering": false,
   "user_envs_cfg": false
  },
  "toc": {
   "base_numbering": 1,
   "nav_menu": {},
   "number_sections": true,
   "sideBar": true,
   "skip_h1_title": false,
   "title_cell": "Table of Contents",
   "title_sidebar": "Contents",
   "toc_cell": false,
   "toc_position": {},
   "toc_section_display": true,
   "toc_window_display": false
  },
  "varInspector": {
   "cols": {
    "lenName": 16,
    "lenType": 16,
    "lenVar": 40
   },
   "kernels_config": {
    "python": {
     "delete_cmd_postfix": "",
     "delete_cmd_prefix": "del ",
     "library": "var_list.py",
     "varRefreshCmd": "print(var_dic_list())"
    },
    "r": {
     "delete_cmd_postfix": ") ",
     "delete_cmd_prefix": "rm(",
     "library": "var_list.r",
     "varRefreshCmd": "cat(var_dic_list()) "
    }
   },
   "types_to_exclude": [
    "module",
    "function",
    "builtin_function_or_method",
    "instance",
    "_Feature"
   ],
   "window_display": false
  }
 },
 "nbformat": 4,
 "nbformat_minor": 5
}
