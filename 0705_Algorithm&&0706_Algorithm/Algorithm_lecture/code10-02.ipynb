{
 "cells": [
  {
   "cell_type": "code",
   "execution_count": 1,
   "id": "0bde5807",
   "metadata": {
    "ExecuteTime": {
     "end_time": "2021-07-06T06:14:14.083484Z",
     "start_time": "2021-07-06T06:14:14.079498Z"
    }
   },
   "outputs": [],
   "source": [
    "def openBox():\n",
    "    global count\n",
    "    print('박스 열기~')\n",
    "    count -=1\n",
    "    if count==0:\n",
    "        print('### 반지 넣기 ###')\n",
    "        return\n",
    "    openBox()\n",
    "    print('박스 닫기 !! ')"
   ]
  },
  {
   "cell_type": "code",
   "execution_count": 2,
   "id": "8a9117b8",
   "metadata": {
    "ExecuteTime": {
     "end_time": "2021-07-06T06:14:15.496474Z",
     "start_time": "2021-07-06T06:14:15.493442Z"
    }
   },
   "outputs": [],
   "source": [
    "#전역변수\n",
    "count=10"
   ]
  },
  {
   "cell_type": "code",
   "execution_count": 3,
   "id": "6a55dd63",
   "metadata": {
    "ExecuteTime": {
     "end_time": "2021-07-06T06:14:16.043372Z",
     "start_time": "2021-07-06T06:14:16.039300Z"
    }
   },
   "outputs": [
    {
     "name": "stdout",
     "output_type": "stream",
     "text": [
      "박스 열기~\n",
      "박스 열기~\n",
      "박스 열기~\n",
      "박스 열기~\n",
      "박스 열기~\n",
      "박스 열기~\n",
      "박스 열기~\n",
      "박스 열기~\n",
      "박스 열기~\n",
      "박스 열기~\n",
      "### 반지 넣기 ###\n",
      "박스 닫기 !! \n",
      "박스 닫기 !! \n",
      "박스 닫기 !! \n",
      "박스 닫기 !! \n",
      "박스 닫기 !! \n",
      "박스 닫기 !! \n",
      "박스 닫기 !! \n",
      "박스 닫기 !! \n",
      "박스 닫기 !! \n"
     ]
    }
   ],
   "source": [
    "openBox()"
   ]
  },
  {
   "cell_type": "code",
   "execution_count": 4,
   "id": "d422aab2",
   "metadata": {
    "ExecuteTime": {
     "end_time": "2021-07-06T06:17:52.773545Z",
     "start_time": "2021-07-06T06:17:52.770178Z"
    }
   },
   "outputs": [],
   "source": [
    "def openBox():\n",
    "    global count\n",
    "    print('box열기')\n",
    "    count-=1\n",
    "    if count==0:\n",
    "        print('반지 넣기')\n",
    "        return\n",
    "    openBox()\n",
    "    print('닫아')"
   ]
  },
  {
   "cell_type": "code",
   "execution_count": 5,
   "id": "68837d83",
   "metadata": {
    "ExecuteTime": {
     "end_time": "2021-07-06T06:18:02.322940Z",
     "start_time": "2021-07-06T06:18:02.320501Z"
    }
   },
   "outputs": [],
   "source": [
    "count = 5"
   ]
  },
  {
   "cell_type": "code",
   "execution_count": 6,
   "id": "14f93974",
   "metadata": {
    "ExecuteTime": {
     "end_time": "2021-07-06T06:18:09.372104Z",
     "start_time": "2021-07-06T06:18:09.369005Z"
    }
   },
   "outputs": [
    {
     "name": "stdout",
     "output_type": "stream",
     "text": [
      "box열기\n",
      "box열기\n",
      "box열기\n",
      "box열기\n",
      "box열기\n",
      "반지 넣기\n",
      "닫아\n",
      "닫아\n",
      "닫아\n",
      "닫아\n"
     ]
    }
   ],
   "source": [
    "openBox()"
   ]
  },
  {
   "cell_type": "code",
   "execution_count": null,
   "id": "cb8f0067",
   "metadata": {},
   "outputs": [],
   "source": []
  }
 ],
 "metadata": {
  "hide_input": false,
  "kernelspec": {
   "display_name": "Python TSA",
   "language": "python",
   "name": "tsa"
  },
  "language_info": {
   "codemirror_mode": {
    "name": "ipython",
    "version": 3
   },
   "file_extension": ".py",
   "mimetype": "text/x-python",
   "name": "python",
   "nbconvert_exporter": "python",
   "pygments_lexer": "ipython3",
   "version": "3.9.5"
  },
  "latex_envs": {
   "LaTeX_envs_menu_present": true,
   "autoclose": false,
   "autocomplete": true,
   "bibliofile": "biblio.bib",
   "cite_by": "apalike",
   "current_citInitial": 1,
   "eqLabelWithNumbers": true,
   "eqNumInitial": 1,
   "hotkeys": {
    "equation": "Ctrl-E",
    "itemize": "Ctrl-I"
   },
   "labels_anchors": false,
   "latex_user_defs": false,
   "report_style_numbering": false,
   "user_envs_cfg": false
  },
  "toc": {
   "base_numbering": 1,
   "nav_menu": {},
   "number_sections": true,
   "sideBar": true,
   "skip_h1_title": false,
   "title_cell": "Table of Contents",
   "title_sidebar": "Contents",
   "toc_cell": false,
   "toc_position": {},
   "toc_section_display": true,
   "toc_window_display": false
  },
  "varInspector": {
   "cols": {
    "lenName": 16,
    "lenType": 16,
    "lenVar": 40
   },
   "kernels_config": {
    "python": {
     "delete_cmd_postfix": "",
     "delete_cmd_prefix": "del ",
     "library": "var_list.py",
     "varRefreshCmd": "print(var_dic_list())"
    },
    "r": {
     "delete_cmd_postfix": ") ",
     "delete_cmd_prefix": "rm(",
     "library": "var_list.r",
     "varRefreshCmd": "cat(var_dic_list()) "
    }
   },
   "types_to_exclude": [
    "module",
    "function",
    "builtin_function_or_method",
    "instance",
    "_Feature"
   ],
   "window_display": false
  }
 },
 "nbformat": 4,
 "nbformat_minor": 5
}
