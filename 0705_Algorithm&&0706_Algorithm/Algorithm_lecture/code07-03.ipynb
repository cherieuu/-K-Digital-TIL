{
 "cells": [
  {
   "cell_type": "code",
   "execution_count": 1,
   "id": "339e4483",
   "metadata": {
    "ExecuteTime": {
     "end_time": "2021-07-06T01:45:50.266848Z",
     "start_time": "2021-07-06T01:45:50.262954Z"
    }
   },
   "outputs": [],
   "source": [
    "# 함수 선언부\n",
    "def isQueueFull():\n",
    "    global SIZE, queue, front, rear\n",
    "    if (rear == SIZE-1) :\n",
    "        return True\n",
    "    else : \n",
    "        return False\n"
   ]
  },
  {
   "cell_type": "code",
   "execution_count": 2,
   "id": "51b41232",
   "metadata": {
    "ExecuteTime": {
     "end_time": "2021-07-06T01:45:50.274073Z",
     "start_time": "2021-07-06T01:45:50.270353Z"
    }
   },
   "outputs": [],
   "source": [
    "def isQueueEmpty():\n",
    "    global SIZE, queue, front, rear\n",
    "    if (front == rear):\n",
    "        return True\n",
    "    else:\n",
    "        return False"
   ]
  },
  {
   "cell_type": "code",
   "execution_count": 3,
   "id": "cd613cad",
   "metadata": {
    "ExecuteTime": {
     "end_time": "2021-07-06T01:45:50.281075Z",
     "start_time": "2021-07-06T01:45:50.277512Z"
    }
   },
   "outputs": [],
   "source": [
    "def enQueue(data):\n",
    "    global SIZE, queue, front, rear\n",
    "    if (isQueueFull()):\n",
    "        print('큐 꽉!')\n",
    "        return\n",
    "    rear+=1\n",
    "    queue[rear]=data\n",
    "    "
   ]
  },
  {
   "cell_type": "code",
   "execution_count": 4,
   "id": "76687291",
   "metadata": {
    "ExecuteTime": {
     "end_time": "2021-07-06T01:45:50.287577Z",
     "start_time": "2021-07-06T01:45:50.284151Z"
    }
   },
   "outputs": [],
   "source": [
    "def deQueue(data):\n",
    "    global SIZE, queue, front, rear\n",
    "    if (isQueueEmpty()):\n",
    "        print('큐 텅텅!')\n",
    "        return\n",
    "    front=+1\n",
    "    data =queue[front]\n",
    "    queue[front]=None\n",
    "    return data"
   ]
  },
  {
   "cell_type": "code",
   "execution_count": 5,
   "id": "738d654c",
   "metadata": {
    "ExecuteTime": {
     "end_time": "2021-07-06T01:45:50.292907Z",
     "start_time": "2021-07-06T01:45:50.289650Z"
    }
   },
   "outputs": [],
   "source": [
    "# 전역변수부\n",
    "SIZE = 5\n",
    "queue = [None for _ in range(SIZE)]\n",
    "front = rear = -1"
   ]
  },
  {
   "cell_type": "code",
   "execution_count": 6,
   "id": "188a5be5",
   "metadata": {
    "ExecuteTime": {
     "end_time": "2021-07-06T01:45:50.297044Z",
     "start_time": "2021-07-06T01:45:50.295307Z"
    }
   },
   "outputs": [],
   "source": [
    "# 메인 코드부\n",
    "# queue = ['화사','솔라','문별','휘인','선미']\n",
    "# front = -1\n",
    "# rear = "
   ]
  },
  {
   "cell_type": "code",
   "execution_count": 7,
   "id": "61af6b28",
   "metadata": {
    "ExecuteTime": {
     "end_time": "2021-07-06T01:45:50.304358Z",
     "start_time": "2021-07-06T01:45:50.300523Z"
    }
   },
   "outputs": [
    {
     "name": "stdout",
     "output_type": "stream",
     "text": [
      "[None, None, None, None, None]\n"
     ]
    }
   ],
   "source": [
    "print(queue)"
   ]
  },
  {
   "cell_type": "code",
   "execution_count": 8,
   "id": "e3d42096",
   "metadata": {
    "ExecuteTime": {
     "end_time": "2021-07-06T01:45:50.310257Z",
     "start_time": "2021-07-06T01:45:50.307420Z"
    }
   },
   "outputs": [],
   "source": [
    "enQueue('정우'); enQueue('백현'); enQueue('시우민'); enQueue('재현')"
   ]
  },
  {
   "cell_type": "code",
   "execution_count": 9,
   "id": "161c0875",
   "metadata": {
    "ExecuteTime": {
     "end_time": "2021-07-06T01:45:50.322027Z",
     "start_time": "2021-07-06T01:45:50.312738Z"
    }
   },
   "outputs": [
    {
     "data": {
      "text/plain": [
       "['정우', '백현', '시우민', '재현', None]"
      ]
     },
     "execution_count": 9,
     "metadata": {},
     "output_type": "execute_result"
    }
   ],
   "source": [
    "queue"
   ]
  },
  {
   "cell_type": "code",
   "execution_count": null,
   "id": "393b3928",
   "metadata": {},
   "outputs": [],
   "source": []
  }
 ],
 "metadata": {
  "hide_input": false,
  "kernelspec": {
   "display_name": "Python TSA",
   "language": "python",
   "name": "tsa"
  },
  "language_info": {
   "codemirror_mode": {
    "name": "ipython",
    "version": 3
   },
   "file_extension": ".py",
   "mimetype": "text/x-python",
   "name": "python",
   "nbconvert_exporter": "python",
   "pygments_lexer": "ipython3",
   "version": "3.9.5"
  },
  "latex_envs": {
   "LaTeX_envs_menu_present": true,
   "autoclose": false,
   "autocomplete": true,
   "bibliofile": "biblio.bib",
   "cite_by": "apalike",
   "current_citInitial": 1,
   "eqLabelWithNumbers": true,
   "eqNumInitial": 1,
   "hotkeys": {
    "equation": "Ctrl-E",
    "itemize": "Ctrl-I"
   },
   "labels_anchors": false,
   "latex_user_defs": false,
   "report_style_numbering": false,
   "user_envs_cfg": false
  },
  "toc": {
   "base_numbering": 1,
   "nav_menu": {},
   "number_sections": true,
   "sideBar": true,
   "skip_h1_title": false,
   "title_cell": "Table of Contents",
   "title_sidebar": "Contents",
   "toc_cell": false,
   "toc_position": {},
   "toc_section_display": true,
   "toc_window_display": false
  },
  "varInspector": {
   "cols": {
    "lenName": 16,
    "lenType": 16,
    "lenVar": 40
   },
   "kernels_config": {
    "python": {
     "delete_cmd_postfix": "",
     "delete_cmd_prefix": "del ",
     "library": "var_list.py",
     "varRefreshCmd": "print(var_dic_list())"
    },
    "r": {
     "delete_cmd_postfix": ") ",
     "delete_cmd_prefix": "rm(",
     "library": "var_list.r",
     "varRefreshCmd": "cat(var_dic_list()) "
    }
   },
   "types_to_exclude": [
    "module",
    "function",
    "builtin_function_or_method",
    "instance",
    "_Feature"
   ],
   "window_display": false
  }
 },
 "nbformat": 4,
 "nbformat_minor": 5
}
