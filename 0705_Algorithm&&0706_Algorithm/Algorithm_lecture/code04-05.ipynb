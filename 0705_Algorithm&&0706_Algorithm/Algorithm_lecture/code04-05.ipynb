{
 "cells": [
  {
   "cell_type": "markdown",
   "id": "22a2c43d",
   "metadata": {},
   "source": [
    "### 클래스 또는 함수 선언부 "
   ]
  },
  {
   "cell_type": "code",
   "execution_count": 1,
   "id": "c564d397",
   "metadata": {
    "ExecuteTime": {
     "end_time": "2021-07-05T05:13:59.740069Z",
     "start_time": "2021-07-05T05:13:59.737250Z"
    }
   },
   "outputs": [],
   "source": [
    "class Node() :\n",
    "    def __init__(self):\n",
    "        self.data = None\n",
    "        self.link = None"
   ]
  },
  {
   "cell_type": "code",
   "execution_count": 5,
   "id": "81daa206",
   "metadata": {
    "ExecuteTime": {
     "end_time": "2021-07-05T05:21:18.283610Z",
     "start_time": "2021-07-05T05:21:18.280251Z"
    }
   },
   "outputs": [],
   "source": [
    "def printNodes(start):\n",
    "    current=start\n",
    "    print(current.data, end=' ')\n",
    "    while current.link !=None:\n",
    "        current=current.link\n",
    "        print(current.data, end=' ')\n",
    "    print()"
   ]
  },
  {
   "cell_type": "markdown",
   "id": "d2c080b8",
   "metadata": {
    "ExecuteTime": {
     "end_time": "2021-07-05T05:15:45.267994Z",
     "start_time": "2021-07-05T05:15:45.264965Z"
    }
   },
   "source": [
    "### 전역 변수부"
   ]
  },
  {
   "cell_type": "code",
   "execution_count": 6,
   "id": "9d20b482",
   "metadata": {
    "ExecuteTime": {
     "end_time": "2021-07-05T05:24:30.871027Z",
     "start_time": "2021-07-05T05:24:30.867570Z"
    }
   },
   "outputs": [],
   "source": [
    "memory = []\n",
    "head, current, pre = None, None, None\n",
    "#dataArray=['다현', '정연', '쯔위', '사나', '지효'] #DB, 크롤링"
   ]
  },
  {
   "cell_type": "code",
   "execution_count": 9,
   "id": "fcac5ab3",
   "metadata": {
    "ExecuteTime": {
     "end_time": "2021-07-05T05:31:08.208810Z",
     "start_time": "2021-07-05T05:31:08.205705Z"
    }
   },
   "outputs": [],
   "source": [
    "import random\n",
    "dataArray = [random.randint(1000,9999) for _ in range(20)]"
   ]
  },
  {
   "cell_type": "markdown",
   "id": "294c05f1",
   "metadata": {
    "ExecuteTime": {
     "end_time": "2021-07-05T05:15:57.763149Z",
     "start_time": "2021-07-05T05:15:57.760647Z"
    }
   },
   "source": [
    "### 메인 코드부"
   ]
  },
  {
   "cell_type": "code",
   "execution_count": 10,
   "id": "8e95183b",
   "metadata": {
    "ExecuteTime": {
     "end_time": "2021-07-05T05:31:10.571831Z",
     "start_time": "2021-07-05T05:31:10.567456Z"
    }
   },
   "outputs": [],
   "source": [
    "if __name__=='__main__' : #C, Jave, C++, C# ==< main() 함수\n",
    "    \n",
    "    node = Node()\n",
    "    node.data = dataArray[0]\n",
    "    head = node\n",
    "    memory.append(node)\n",
    "    \n",
    "    \n",
    "    for data in dataArray[1:]: #다현을 제외한 나머자 ['정연', '쯔위', '사나', '지효']\n",
    "        pre = node\n",
    "        node = Node() #정연, 쯔위 ...\n",
    "        node.data = data\n",
    "        pre.link = node\n",
    "        memory.append(node)"
   ]
  },
  {
   "cell_type": "code",
   "execution_count": 11,
   "id": "a463d3bd",
   "metadata": {
    "ExecuteTime": {
     "end_time": "2021-07-05T05:31:12.226085Z",
     "start_time": "2021-07-05T05:31:12.221785Z"
    }
   },
   "outputs": [
    {
     "name": "stdout",
     "output_type": "stream",
     "text": [
      "9782 1377 8792 2152 7847 2374 5870 8467 3139 5043 9910 7694 3332 8019 9840 4269 6662 4779 9215 9342 \n"
     ]
    }
   ],
   "source": [
    "printNodes(head)"
   ]
  },
  {
   "cell_type": "code",
   "execution_count": null,
   "id": "b6d91afd",
   "metadata": {},
   "outputs": [],
   "source": []
  }
 ],
 "metadata": {
  "hide_input": false,
  "kernelspec": {
   "display_name": "Python TSA",
   "language": "python",
   "name": "tsa"
  },
  "language_info": {
   "codemirror_mode": {
    "name": "ipython",
    "version": 3
   },
   "file_extension": ".py",
   "mimetype": "text/x-python",
   "name": "python",
   "nbconvert_exporter": "python",
   "pygments_lexer": "ipython3",
   "version": "3.9.5"
  },
  "latex_envs": {
   "LaTeX_envs_menu_present": true,
   "autoclose": false,
   "autocomplete": true,
   "bibliofile": "biblio.bib",
   "cite_by": "apalike",
   "current_citInitial": 1,
   "eqLabelWithNumbers": true,
   "eqNumInitial": 1,
   "hotkeys": {
    "equation": "Ctrl-E",
    "itemize": "Ctrl-I"
   },
   "labels_anchors": false,
   "latex_user_defs": false,
   "report_style_numbering": false,
   "user_envs_cfg": false
  },
  "toc": {
   "base_numbering": 1,
   "nav_menu": {},
   "number_sections": true,
   "sideBar": true,
   "skip_h1_title": false,
   "title_cell": "Table of Contents",
   "title_sidebar": "Contents",
   "toc_cell": false,
   "toc_position": {},
   "toc_section_display": true,
   "toc_window_display": false
  },
  "varInspector": {
   "cols": {
    "lenName": 16,
    "lenType": 16,
    "lenVar": 40
   },
   "kernels_config": {
    "python": {
     "delete_cmd_postfix": "",
     "delete_cmd_prefix": "del ",
     "library": "var_list.py",
     "varRefreshCmd": "print(var_dic_list())"
    },
    "r": {
     "delete_cmd_postfix": ") ",
     "delete_cmd_prefix": "rm(",
     "library": "var_list.r",
     "varRefreshCmd": "cat(var_dic_list()) "
    }
   },
   "types_to_exclude": [
    "module",
    "function",
    "builtin_function_or_method",
    "instance",
    "_Feature"
   ],
   "window_display": false
  }
 },
 "nbformat": 4,
 "nbformat_minor": 5
}
