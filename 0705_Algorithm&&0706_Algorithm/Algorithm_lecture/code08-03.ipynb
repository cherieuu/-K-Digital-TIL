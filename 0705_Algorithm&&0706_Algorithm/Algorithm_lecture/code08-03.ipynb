{
 "cells": [
  {
   "cell_type": "code",
   "execution_count": 1,
   "id": "ffc10f53",
   "metadata": {
    "ExecuteTime": {
     "end_time": "2021-07-06T04:33:54.060093Z",
     "start_time": "2021-07-06T04:33:54.055647Z"
    }
   },
   "outputs": [],
   "source": [
    "class TreeNode():\n",
    "    def __init__(self):\n",
    "        self.left = None\n",
    "        self.data = None\n",
    "        self.right = None"
   ]
  },
  {
   "cell_type": "code",
   "execution_count": 2,
   "id": "6900e3d0",
   "metadata": {
    "ExecuteTime": {
     "end_time": "2021-07-06T04:35:12.205234Z",
     "start_time": "2021-07-06T04:35:12.202633Z"
    }
   },
   "outputs": [],
   "source": [
    "#전역 변수\n",
    "memory=[]\n",
    "root = None\n",
    "\n",
    "#데이터 베이스 또는 크롤링으로 얻은 로우 데이터 집합\n",
    "nameAry = ['블랙핑크','레드벨벳','에이핑크','걸스데이','트와이스','마마무']"
   ]
  },
  {
   "cell_type": "code",
   "execution_count": 3,
   "id": "5b62bc76",
   "metadata": {
    "ExecuteTime": {
     "end_time": "2021-07-06T04:35:41.831079Z",
     "start_time": "2021-07-06T04:35:41.828641Z"
    }
   },
   "outputs": [],
   "source": [
    "#첫번재 노드 생성 : 첫번째 노드는 조금 달라야한다.\n",
    "name = nameAry[0]\n"
   ]
  },
  {
   "cell_type": "code",
   "execution_count": 8,
   "id": "e694de28",
   "metadata": {
    "ExecuteTime": {
     "end_time": "2021-07-06T04:46:33.104917Z",
     "start_time": "2021-07-06T04:46:33.102043Z"
    }
   },
   "outputs": [],
   "source": [
    "node = TreeNode()\n",
    "node.data=name\n",
    "memory.append(node)\n",
    "root=node"
   ]
  },
  {
   "cell_type": "code",
   "execution_count": 13,
   "id": "1de578a1",
   "metadata": {
    "ExecuteTime": {
     "end_time": "2021-07-06T04:47:49.699766Z",
     "start_time": "2021-07-06T04:47:49.695769Z"
    }
   },
   "outputs": [],
   "source": [
    "for name in nameAry[1:]:\n",
    "    node = TreeNode()\n",
    "    node.data = name\n",
    "    current = root\n",
    "    while True:\n",
    "        if name < current.data:\n",
    "            if current.left == None :\n",
    "                current.left=node\n",
    "                break\n",
    "            current = current.left\n",
    "            \n",
    "        else: \n",
    "            if current.right ==None:\n",
    "                current.right=node\n",
    "                break\n",
    "            current = current.right\n",
    "        \n",
    "    memory.append(node)"
   ]
  },
  {
   "cell_type": "code",
   "execution_count": 14,
   "id": "267d412d",
   "metadata": {
    "ExecuteTime": {
     "end_time": "2021-07-06T05:01:27.760455Z",
     "start_time": "2021-07-06T05:01:27.751281Z"
    }
   },
   "outputs": [
    {
     "data": {
      "text/plain": [
       "[<__main__.TreeNode at 0x7fa411ac2fd0>,\n",
       " <__main__.TreeNode at 0x7fa4117d96a0>,\n",
       " <__main__.TreeNode at 0x7fa411ec23a0>,\n",
       " <__main__.TreeNode at 0x7fa411ec2a00>,\n",
       " <__main__.TreeNode at 0x7fa411ec2640>,\n",
       " <__main__.TreeNode at 0x7fa411ec2460>,\n",
       " <__main__.TreeNode at 0x7fa411ec25b0>]"
      ]
     },
     "execution_count": 14,
     "metadata": {},
     "output_type": "execute_result"
    }
   ],
   "source": [
    "memory"
   ]
  },
  {
   "cell_type": "code",
   "execution_count": 17,
   "id": "51a4d3d5",
   "metadata": {
    "ExecuteTime": {
     "end_time": "2021-07-06T05:07:47.419531Z",
     "start_time": "2021-07-06T05:07:47.417255Z"
    }
   },
   "outputs": [],
   "source": [
    "findName='마마무'\n",
    "current=root"
   ]
  },
  {
   "cell_type": "code",
   "execution_count": 18,
   "id": "43e22590",
   "metadata": {
    "ExecuteTime": {
     "end_time": "2021-07-06T05:07:48.023039Z",
     "start_time": "2021-07-06T05:07:48.018586Z"
    }
   },
   "outputs": [
    {
     "name": "stdout",
     "output_type": "stream",
     "text": [
      "마마무 를 찾았다!!!! 야호!!\n"
     ]
    }
   ],
   "source": [
    "while 1:\n",
    "    if findName==current.data :\n",
    "        print(findName, '를 찾았다!!!! 야호!!')\n",
    "        break\n",
    "    elif findName < current.data :\n",
    "        if current.left == None:\n",
    "            print('없어요. 🥲')\n",
    "            break\n",
    "        current= current.left\n",
    "    else :\n",
    "        if current.right == None:\n",
    "            print('없어요. 🥲')\n",
    "            break\n",
    "        current= current.right"
   ]
  },
  {
   "cell_type": "code",
   "execution_count": null,
   "id": "fb22d691",
   "metadata": {},
   "outputs": [],
   "source": [
    "class TreeNode():\n",
    "    def __init__(self):\n",
    "        self.left"
   ]
  }
 ],
 "metadata": {
  "hide_input": false,
  "kernelspec": {
   "display_name": "Python TSA",
   "language": "python",
   "name": "tsa"
  },
  "language_info": {
   "codemirror_mode": {
    "name": "ipython",
    "version": 3
   },
   "file_extension": ".py",
   "mimetype": "text/x-python",
   "name": "python",
   "nbconvert_exporter": "python",
   "pygments_lexer": "ipython3",
   "version": "3.9.5"
  },
  "latex_envs": {
   "LaTeX_envs_menu_present": true,
   "autoclose": false,
   "autocomplete": true,
   "bibliofile": "biblio.bib",
   "cite_by": "apalike",
   "current_citInitial": 1,
   "eqLabelWithNumbers": true,
   "eqNumInitial": 1,
   "hotkeys": {
    "equation": "Ctrl-E",
    "itemize": "Ctrl-I"
   },
   "labels_anchors": false,
   "latex_user_defs": false,
   "report_style_numbering": false,
   "user_envs_cfg": false
  },
  "toc": {
   "base_numbering": 1,
   "nav_menu": {},
   "number_sections": true,
   "sideBar": true,
   "skip_h1_title": false,
   "title_cell": "Table of Contents",
   "title_sidebar": "Contents",
   "toc_cell": false,
   "toc_position": {},
   "toc_section_display": true,
   "toc_window_display": false
  },
  "varInspector": {
   "cols": {
    "lenName": 16,
    "lenType": 16,
    "lenVar": 40
   },
   "kernels_config": {
    "python": {
     "delete_cmd_postfix": "",
     "delete_cmd_prefix": "del ",
     "library": "var_list.py",
     "varRefreshCmd": "print(var_dic_list())"
    },
    "r": {
     "delete_cmd_postfix": ") ",
     "delete_cmd_prefix": "rm(",
     "library": "var_list.r",
     "varRefreshCmd": "cat(var_dic_list()) "
    }
   },
   "types_to_exclude": [
    "module",
    "function",
    "builtin_function_or_method",
    "instance",
    "_Feature"
   ],
   "window_display": false
  }
 },
 "nbformat": 4,
 "nbformat_minor": 5
}
