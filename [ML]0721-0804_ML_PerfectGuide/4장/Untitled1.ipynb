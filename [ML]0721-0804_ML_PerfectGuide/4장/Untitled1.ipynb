{
 "cells": [
  {
   "cell_type": "code",
   "execution_count": 1,
   "id": "2a2766fb-e874-417d-9d78-9d0ea2752f1c",
   "metadata": {
    "execution": {
     "iopub.execute_input": "2021-07-29T03:33:44.854444Z",
     "iopub.status.busy": "2021-07-29T03:33:44.854142Z",
     "iopub.status.idle": "2021-07-29T03:33:44.942475Z",
     "shell.execute_reply": "2021-07-29T03:33:44.941263Z",
     "shell.execute_reply.started": "2021-07-29T03:33:44.854368Z"
    }
   },
   "outputs": [
    {
     "ename": "NameError",
     "evalue": "name 'fm' is not defined",
     "output_type": "error",
     "traceback": [
      "\u001b[0;31m---------------------------------------------------------------------------\u001b[0m",
      "\u001b[0;31mNameError\u001b[0m                                 Traceback (most recent call last)",
      "\u001b[0;32m<ipython-input-1-6c29c8bc241f>\u001b[0m in \u001b[0;36m<module>\u001b[0;34m\u001b[0m\n\u001b[0;32m----> 1\u001b[0;31m \u001b[0;32mfor\u001b[0m \u001b[0mf\u001b[0m \u001b[0;32min\u001b[0m \u001b[0mfm\u001b[0m\u001b[0;34m.\u001b[0m\u001b[0mfontManager\u001b[0m\u001b[0;34m.\u001b[0m\u001b[0mttflist\u001b[0m\u001b[0;34m:\u001b[0m\u001b[0;34m\u001b[0m\u001b[0;34m\u001b[0m\u001b[0m\n\u001b[0m\u001b[1;32m      2\u001b[0m     \u001b[0;32mif\u001b[0m \u001b[0;34m'Nanum'\u001b[0m \u001b[0;32min\u001b[0m \u001b[0mf\u001b[0m\u001b[0;34m.\u001b[0m\u001b[0mname\u001b[0m\u001b[0;34m:\u001b[0m\u001b[0;34m\u001b[0m\u001b[0;34m\u001b[0m\u001b[0m\n\u001b[1;32m      3\u001b[0m         \u001b[0mprint\u001b[0m\u001b[0;34m(\u001b[0m\u001b[0mf\u001b[0m\u001b[0;34m.\u001b[0m\u001b[0mname\u001b[0m\u001b[0;34m)\u001b[0m\u001b[0;34m\u001b[0m\u001b[0;34m\u001b[0m\u001b[0m\n",
      "\u001b[0;31mNameError\u001b[0m: name 'fm' is not defined"
     ]
    }
   ],
   "source": [
    "for f in fm.fontManager.ttflist:\n",
    "    if 'Nanum' in f.name:\n",
    "        print(f.name)"
   ]
  },
  {
   "cell_type": "code",
   "execution_count": 2,
   "id": "99034fcc-a7f6-4e0f-913f-a713d846bfc9",
   "metadata": {
    "execution": {
     "iopub.execute_input": "2021-07-29T03:33:59.974984Z",
     "iopub.status.busy": "2021-07-29T03:33:59.974713Z",
     "iopub.status.idle": "2021-07-29T03:34:00.523874Z",
     "shell.execute_reply": "2021-07-29T03:34:00.523241Z",
     "shell.execute_reply.started": "2021-07-29T03:33:59.974954Z"
    }
   },
   "outputs": [],
   "source": [
    "import matplotlib.font_manager as fm"
   ]
  },
  {
   "cell_type": "code",
   "execution_count": 4,
   "id": "0e644bdb-83a8-4686-8209-3cc279d394b7",
   "metadata": {
    "execution": {
     "iopub.execute_input": "2021-07-29T03:37:39.887906Z",
     "iopub.status.busy": "2021-07-29T03:37:39.887673Z",
     "iopub.status.idle": "2021-07-29T03:37:39.892019Z",
     "shell.execute_reply": "2021-07-29T03:37:39.891226Z",
     "shell.execute_reply.started": "2021-07-29T03:37:39.887879Z"
    },
    "tags": []
   },
   "outputs": [
    {
     "name": "stdout",
     "output_type": "stream",
     "text": [
      "Noto Sans KR\n",
      "Noto Sans KR\n",
      "Noto Sans KR\n",
      "Noto Sans KR\n",
      "Noto Sans KR\n",
      "Noto Sans KR\n"
     ]
    }
   ],
   "source": [
    "for f in fm.fontManager.ttflist:\n",
    "    if 'Noto Sans KR' in f.name:\n",
    "        print(f.name)"
   ]
  },
  {
   "cell_type": "code",
   "execution_count": 5,
   "id": "d8f17538-589b-494c-9bd9-faa0a23f898a",
   "metadata": {
    "execution": {
     "iopub.execute_input": "2021-07-29T03:38:17.123725Z",
     "iopub.status.busy": "2021-07-29T03:38:17.123472Z",
     "iopub.status.idle": "2021-07-29T03:38:17.128357Z",
     "shell.execute_reply": "2021-07-29T03:38:17.127512Z",
     "shell.execute_reply.started": "2021-07-29T03:38:17.123699Z"
    }
   },
   "outputs": [
    {
     "name": "stdout",
     "output_type": "stream",
     "text": [
      "Font: Noto Sans KR, Path: /Users/yoohwayoung/Library/Fonts/NotoSansKR-Thin.otf\n",
      "Font: Noto Sans KR, Path: /Users/yoohwayoung/Library/Fonts/NotoSansKR-Black.otf\n",
      "Font: Noto Sans KR, Path: /Users/yoohwayoung/Library/Fonts/NotoSansKR-Regular.otf\n",
      "Font: Noto Sans KR, Path: /Users/yoohwayoung/Library/Fonts/NotoSansKR-Light.otf\n",
      "Font: Noto Sans KR, Path: /Users/yoohwayoung/Library/Fonts/NotoSansKR-Medium.otf\n",
      "Font: Noto Sans KR, Path: /Users/yoohwayoung/Library/Fonts/NotoSansKR-Bold.otf\n"
     ]
    }
   ],
   "source": [
    "for f in fm.fontManager.ttflist:\n",
    "    if 'Noto Sans KR' == f.name:\n",
    "        print(f'Font: {f.name}, Path: {f.fname}')\n"
   ]
  },
  {
   "cell_type": "code",
   "execution_count": 6,
   "id": "f8e02562-2626-47ba-9ea0-f0e7b421a63b",
   "metadata": {
    "execution": {
     "iopub.execute_input": "2021-07-29T03:41:14.826516Z",
     "iopub.status.busy": "2021-07-29T03:41:14.826268Z",
     "iopub.status.idle": "2021-07-29T03:41:14.842300Z",
     "shell.execute_reply": "2021-07-29T03:41:14.841713Z",
     "shell.execute_reply.started": "2021-07-29T03:41:14.826488Z"
    }
   },
   "outputs": [],
   "source": [
    "font_path ='/Users/yoohwayoung/Library/Fonts/NotoSansKR-Regular.otf'\n",
    "font_prop = fm.FontProperties(fname=font_path)\n",
    "font_name = font_prop.get_name()"
   ]
  },
  {
   "cell_type": "code",
   "execution_count": 8,
   "id": "f9f4ded6-9865-432b-addd-4aa0c8b38e44",
   "metadata": {
    "execution": {
     "iopub.execute_input": "2021-07-29T03:41:42.102505Z",
     "iopub.status.busy": "2021-07-29T03:41:42.102163Z",
     "iopub.status.idle": "2021-07-29T03:41:42.106667Z",
     "shell.execute_reply": "2021-07-29T03:41:42.105794Z",
     "shell.execute_reply.started": "2021-07-29T03:41:42.102465Z"
    },
    "tags": []
   },
   "outputs": [],
   "source": [
    "import matplotlib as mat\n",
    "mat.rc('font',family=font_name)"
   ]
  },
  {
   "cell_type": "code",
   "execution_count": 14,
   "id": "f147e897-5059-4677-bd29-de5886657b16",
   "metadata": {
    "execution": {
     "iopub.execute_input": "2021-07-29T04:06:33.520144Z",
     "iopub.status.busy": "2021-07-29T04:06:33.518526Z",
     "iopub.status.idle": "2021-07-29T04:06:33.657963Z",
     "shell.execute_reply": "2021-07-29T04:06:33.657031Z",
     "shell.execute_reply.started": "2021-07-29T04:06:33.520053Z"
    },
    "tags": []
   },
   "outputs": [
    {
     "data": {
      "image/png": "[encoded data removed]",
      "text/plain": [
       "<Figure size 720x720 with 1 Axes>"
      ]
     },
     "metadata": {
      "needs_background": "light"
     },
     "output_type": "display_data"
    }
   ],
   "source": [
    "import matplotlib as mat\n",
    "import matplotlib.pyplot as plt\n",
    "import matplotlib.font_manager as fm\n",
    " \n",
    "## 예제용 데이터\n",
    "frequency = [10,11,5,8,11] ## 빈도수\n",
    "label = ['가','나','다','라','마'] ## 그룹\n",
    " \n",
    "## 시각화 하기\n",
    "fig = plt.figure(figsize=(10,10))\n",
    " \n",
    "xpos = list(range(len(frequency))) ## 네모 바가 그려질 x 좌표\n",
    " \n",
    "plt.bar(xpos, height=frequency) ## 바차트 그리기\n",
    "plt.xticks(xpos, label) ## 바차트 눈금 설정\n",
    "plt.title('그룹별 빈도수')\n",
    "plt.show()"
   ]
  },
  {
   "cell_type": "code",
   "execution_count": 11,
   "id": "ed7a0aae-67e6-4605-8250-edaf22e4948f",
   "metadata": {
    "execution": {
     "iopub.execute_input": "2021-07-29T03:43:22.201817Z",
     "iopub.status.busy": "2021-07-29T03:43:22.201565Z",
     "iopub.status.idle": "2021-07-29T03:43:22.205727Z",
     "shell.execute_reply": "2021-07-29T03:43:22.204988Z",
     "shell.execute_reply.started": "2021-07-29T03:43:22.201790Z"
    }
   },
   "outputs": [
    {
     "name": "stdout",
     "output_type": "stream",
     "text": [
      "/Users/anaconda3/envs/tsa/lib/python3.9/site-packages/matplotlib/mpl-data/matplotlibrc\n"
     ]
    }
   ],
   "source": [
    "import matplotlib as mat\n",
    " \n",
    "## 기본 설정 파일 경로\n",
    "print(mat.matplotlib_fname())"
   ]
  },
  {
   "cell_type": "code",
   "execution_count": 12,
   "id": "f8683e69-4a28-4418-9563-28d63708372b",
   "metadata": {
    "execution": {
     "iopub.execute_input": "2021-07-29T03:47:44.900718Z",
     "iopub.status.busy": "2021-07-29T03:47:44.900435Z",
     "iopub.status.idle": "2021-07-29T03:47:44.904278Z",
     "shell.execute_reply": "2021-07-29T03:47:44.903394Z",
     "shell.execute_reply.started": "2021-07-29T03:47:44.900687Z"
    }
   },
   "outputs": [],
   "source": [
    "mat.rcParams['font.family'] = 'Noto Sans KR'"
   ]
  },
  {
   "cell_type": "code",
   "execution_count": 15,
   "id": "781046a5-f7e2-402e-8a88-e4d13f91da6a",
   "metadata": {
    "execution": {
     "iopub.execute_input": "2021-07-29T04:06:38.653673Z",
     "iopub.status.busy": "2021-07-29T04:06:38.653433Z",
     "iopub.status.idle": "2021-07-29T04:06:38.770593Z",
     "shell.execute_reply": "2021-07-29T04:06:38.769968Z",
     "shell.execute_reply.started": "2021-07-29T04:06:38.653648Z"
    },
    "tags": []
   },
   "outputs": [
    {
     "data": {
      "image/png": "[encoded data removed]",
      "text/plain": [
       "<Figure size 720x720 with 1 Axes>"
      ]
     },
     "metadata": {
      "needs_background": "light"
     },
     "output_type": "display_data"
    }
   ],
   "source": [
    "frequency = [10,11,5,8,11] ## 빈도수\n",
    "label = ['가','나','다','라','마'] ## 그룹\n",
    " \n",
    "## 시각화 하기\n",
    "fig = plt.figure(figsize=(10,10))\n",
    " \n",
    "xpos = list(range(len(frequency))) ## 네모 바가 그려질 x 좌표\n",
    " \n",
    "plt.bar(xpos, height=frequency) ## 바차트 그리기\n",
    "plt.xticks(xpos, label) ## 바차트 눈금 설정\n",
    "plt.title('그룹별 빈도수')\n",
    "plt.show()"
   ]
  },
  {
   "cell_type": "code",
   "execution_count": null,
   "id": "6f49a04b-32e0-401f-b778-136551b2f6a2",
   "metadata": {},
   "outputs": [],
   "source": []
  }
 ],
 "metadata": {
  "kernelspec": {
   "display_name": "Python TSA",
   "language": "python",
   "name": "tsa"
  },
  "language_info": {
   "codemirror_mode": {
    "name": "ipython",
    "version": 3
   },
   "file_extension": ".py",
   "mimetype": "text/x-python",
   "name": "python",
   "nbconvert_exporter": "python",
   "pygments_lexer": "ipython3",
   "version": "3.9.5"
  }
 },
 "nbformat": 4,
 "nbformat_minor": 5
}
