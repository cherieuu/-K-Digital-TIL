{
 "cells": [
  {
   "cell_type": "code",
   "execution_count": 1,
   "id": "invisible-viking",
   "metadata": {},
   "outputs": [],
   "source": [
    "!cd"
   ]
  },
  {
   "cell_type": "code",
   "execution_count": 1,
   "id": "f9f002d1-3387-4562-a641-e286bd285510",
   "metadata": {},
   "outputs": [],
   "source": [
    "import pymysql.cursors\n",
    "# Connect to the database\n",
    "import pandas as pd"
   ]
  },
  {
   "cell_type": "code",
   "execution_count": 2,
   "id": "b2601349-6596-42ef-af10-8a11499fb840",
   "metadata": {},
   "outputs": [],
   "source": [
    "# localhost or 127.0.0.0"
   ]
  },
  {
   "cell_type": "code",
   "execution_count": 3,
   "id": "cf980bd4-7341-4a1f-b20e-a9da69ee4d0b",
   "metadata": {},
   "outputs": [
    {
     "name": "stdout",
     "output_type": "stream",
     "text": [
      "{'count(total_bill)': 3}\n"
     ]
    }
   ],
   "source": [
    "connection = pymysql.connect(host='localhost',\n",
    "        user='yoohwayoung',\n",
    "        password='jslee818++',\n",
    "        db='tip',\n",
    "        charset='utf8',\n",
    "        cursorclass=pymysql.cursors.DictCursor)\n",
    "try:\n",
    "    with connection.cursor() as cursor:\n",
    "        # Read a single record\n",
    "        #sql = \"SELECT count(total_bill) FROM tip.tips where tip >= 7;\" \n",
    "        #=> count를 하는 습관을 들여라! 몇개가 있는지 파악하고 해야지 메모리를 안잡아먹는다.\n",
    "        sql = \"SELECT count(total_bill) FROM tip.tips where tip >= 7;\"\n",
    "        cursor.execute(sql)\n",
    "        result = cursor.fetchone()\n",
    "        print(result)\n",
    "finally:\n",
    "    connection.close()"
   ]
  },
  {
   "cell_type": "code",
   "execution_count": null,
   "id": "f995efdb-d6c3-4d46-a206-d1dc5c3e14fb",
   "metadata": {},
   "outputs": [],
   "source": []
  },
  {
   "cell_type": "code",
   "execution_count": 4,
   "id": "80cfe26f-45fc-4810-be71-200da64a4752",
   "metadata": {},
   "outputs": [],
   "source": [
    "import pymysql.cursors\n",
    "# Connect to the database\n",
    "import pandas as pd"
   ]
  },
  {
   "cell_type": "code",
   "execution_count": 11,
   "id": "e616984f-cc22-4f7b-b2d1-d2648625a2e7",
   "metadata": {},
   "outputs": [
    {
     "name": "stdout",
     "output_type": "stream",
     "text": [
      "   total_bill\n",
      "0       39.42\n",
      "1       50.81\n",
      "2       48.33\n"
     ]
    }
   ],
   "source": [
    "# MySQL DB에서 데이터 받아와서 DataFrame에 저장\n",
    "\n",
    "conn = pymysql.connect(host='localhost',\n",
    "        user='yoohwayoung',\n",
    "        password='jslee818++',\n",
    "        db='tip',\n",
    "        charset='utf8',\n",
    "        autocommit=True, cursorclass=pymysql.cursors.DictCursor)\n",
    "try:\n",
    "\n",
    "   with conn.cursor() as curs:\n",
    "      sql = \"SELECT total_bill FROM tip.tips where tip >= 7;\"\n",
    "      curs.execute(sql)\n",
    "      rs = curs.fetchall()\n",
    "\n",
    "      # DB에서 받아온 값을 DataFrame에 넣음\n",
    "\n",
    "      df = pd.DataFrame(rs)\n",
    "      print(df)\n",
    "\n",
    "    #df.to_csv('query.csv')\n",
    "    \n",
    "\n",
    "    \n",
    "finally:\n",
    "\n",
    "   conn.close()"
   ]
  },
  {
   "cell_type": "code",
   "execution_count": 17,
   "id": "219a7e0b-23cf-42ee-897d-99cc8e34fa63",
   "metadata": {},
   "outputs": [
    {
     "data": {
      "text/plain": [
       "<AxesSubplot:>"
      ]
     },
     "execution_count": 17,
     "metadata": {},
     "output_type": "execute_result"
    },
    {
     "data": {
      "image/png": "[encoded data removed]",
      "text/plain": [
       "<Figure size 432x288 with 1 Axes>"
      ]
     },
     "metadata": {
      "needs_background": "light"
     },
     "output_type": "display_data"
    }
   ],
   "source": [
    "df['total_bill'].hist()"
   ]
  },
  {
   "cell_type": "markdown",
   "id": "3b9edb60-7421-48c5-ba39-01857645fb19",
   "metadata": {},
   "source": [
    "## 새출발"
   ]
  },
  {
   "cell_type": "code",
   "execution_count": 13,
   "id": "097a6b1b-edec-4b8a-8359-7de6b48050b7",
   "metadata": {},
   "outputs": [],
   "source": [
    "import pymysql.cursors\n",
    "# Connect to the database\n",
    "import pandas as pd"
   ]
  },
  {
   "cell_type": "code",
   "execution_count": 14,
   "id": "0235c213-876d-4a7b-bda8-2ba723558b2e",
   "metadata": {},
   "outputs": [],
   "source": [
    "# sql = 'select customers.customerName, payments.checkNumber from customers\\\n",
    "# Left join payments on customers.customerNumber = payments.customerNumber\\\n",
    "# where payments.paymentDate >= \"2004-10-06\";'"
   ]
  },
  {
   "cell_type": "code",
   "execution_count": 22,
   "id": "19a65d06-4f7b-4660-922a-21475737e26a",
   "metadata": {},
   "outputs": [],
   "source": [
    "sql=\"select customers.state, \\\n",
    "customers.customerName, payments.checkNumber \\\n",
    "from customers \\\n",
    "LEFT JOIN payments on customers.customerNumber \\\n",
    "= payments.customerNumber where payments.paymentDate >= '2004-10-06';\""
   ]
  },
  {
   "cell_type": "code",
   "execution_count": 23,
   "id": "86d77c75-19b4-46ff-bc20-02be53380d27",
   "metadata": {},
   "outputs": [
    {
     "name": "stdout",
     "output_type": "stream",
     "text": [
      "       state                  customerName checkNumber\n",
      "0       None             Atelier graphique    HQ336336\n",
      "1       None             Atelier graphique    OM314933\n",
      "2         NV            Signal Gift Stores    BO864823\n",
      "3   Victoria    Australian Collectors, Co.    MA765515\n",
      "4       None             La Rochelle Gifts    DB933704\n",
      "..       ...                           ...         ...\n",
      "84        MA              FunGiftIdeas.com    PE176846\n",
      "85      None    Iberia Gift Imports, Corp.    GK294076\n",
      "86        PA  Motor Mint Distributors Inc.     HS86661\n",
      "87      None             Kelly's Gift Shop    EU531600\n",
      "88      None             Kelly's Gift Shop     MN89921\n",
      "\n",
      "[89 rows x 3 columns]\n"
     ]
    }
   ],
   "source": [
    "conn = pymysql.connect(host='localhost',\n",
    "        user='yoohwayoung',\n",
    "        password='jslee818++',\n",
    "        db='classicmodels',\n",
    "        charset='utf8',\n",
    "        autocommit=True, cursorclass=pymysql.cursors.DictCursor)\n",
    "try:\n",
    "\n",
    "   with conn.cursor() as curs:\n",
    "      curs.execute(sql)\n",
    "      rs = curs.fetchall()\n",
    "\n",
    "      # DB에서 받아온 값을 DataFrame에 넣음\n",
    "\n",
    "      df = pd.DataFrame(rs)\n",
    "      print(df)\n",
    "\n",
    "    #df.to_csv('query.csv')\n",
    "    \n",
    "\n",
    "    \n",
    "finally:\n",
    "\n",
    "   conn.close()"
   ]
  },
  {
   "cell_type": "code",
   "execution_count": null,
   "id": "0e6302ba-6e3e-48f4-bde6-fec38645733f",
   "metadata": {},
   "outputs": [],
   "source": []
  }
 ],
 "metadata": {
  "kernelspec": {
   "display_name": "Python Multi",
   "language": "python",
   "name": "multi"
  },
  "language_info": {
   "codemirror_mode": {
    "name": "ipython",
    "version": 3
   },
   "file_extension": ".py",
   "mimetype": "text/x-python",
   "name": "python",
   "nbconvert_exporter": "python",
   "pygments_lexer": "ipython3",
   "version": "3.7.6"
  }
 },
 "nbformat": 4,
 "nbformat_minor": 5
}
