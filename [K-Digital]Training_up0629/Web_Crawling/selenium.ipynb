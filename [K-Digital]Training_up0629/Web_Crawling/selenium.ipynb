{
 "cells": [
  {
   "cell_type": "code",
   "execution_count": 5,
   "metadata": {
    "execution": {
     "iopub.execute_input": "2021-06-29T01:47:38.400258Z",
     "iopub.status.busy": "2021-06-29T01:47:38.399973Z",
     "iopub.status.idle": "2021-06-29T01:47:41.849918Z",
     "shell.execute_reply": "2021-06-29T01:47:41.849091Z",
     "shell.execute_reply.started": "2021-06-29T01:47:38.400229Z"
    }
   },
   "outputs": [
    {
     "name": "stdout",
     "output_type": "stream",
     "text": [
      "Collecting beautifulsoup4\n",
      "  Downloading beautifulsoup4-4.9.3-py3-none-any.whl (115 kB)\n",
      "\u001b[K     |████████████████████████████████| 115 kB 863 kB/s eta 0:00:01\n",
      "\u001b[?25hCollecting soupsieve>1.2\n",
      "  Downloading soupsieve-2.2.1-py3-none-any.whl (33 kB)\n",
      "Installing collected packages: soupsieve, beautifulsoup4\n",
      "Successfully installed beautifulsoup4-4.9.3 soupsieve-2.2.1\n"
     ]
    }
   ],
   "source": [
    "!pip install beautifulsoup4"
   ]
  },
  {
   "cell_type": "code",
   "execution_count": null,
   "metadata": {},
   "outputs": [],
   "source": [
    "#!pip install selenium==4.0.0a6"
   ]
  },
  {
   "cell_type": "code",
   "execution_count": 6,
   "metadata": {
    "execution": {
     "iopub.execute_input": "2021-06-29T01:47:47.056147Z",
     "iopub.status.busy": "2021-06-29T01:47:47.055938Z",
     "iopub.status.idle": "2021-06-29T01:47:47.059250Z",
     "shell.execute_reply": "2021-06-29T01:47:47.058475Z",
     "shell.execute_reply.started": "2021-06-29T01:47:47.056123Z"
    },
    "tags": []
   },
   "outputs": [],
   "source": [
    "# 위에는 구 버전 / 아래에는 새롭게 개발한 버전\n",
    "\n",
    "from google_images_download import google_images_download as gid"
   ]
  },
  {
   "cell_type": "code",
   "execution_count": 7,
   "metadata": {
    "execution": {
     "iopub.execute_input": "2021-06-29T01:47:48.201833Z",
     "iopub.status.busy": "2021-06-29T01:47:48.201593Z",
     "iopub.status.idle": "2021-06-29T01:47:49.900826Z",
     "shell.execute_reply": "2021-06-29T01:47:49.900319Z",
     "shell.execute_reply.started": "2021-06-29T01:47:48.201806Z"
    },
    "tags": []
   },
   "outputs": [],
   "source": [
    "# def search_maybe(search_name, search_limit, search_path) :\n",
    "#     res = gid.googleimagesdownload()\n",
    "#     keyword_map = { \"keywords\" : search_name, \"limit\" : 2, \"print_urls\" : True, \"output_directory\" : search_path }\n",
    "\n",
    "#     keyword_map_print = res.download( keyword_map )\n",
    "#     print( keyword_map_print )\n",
    "\n",
    "\n",
    "from selenium import webdriver\n",
    "from bs4 import BeautifulSoup as soups"
   ]
  },
  {
   "cell_type": "code",
   "execution_count": 18,
   "metadata": {
    "execution": {
     "iopub.execute_input": "2021-06-29T01:58:01.397692Z",
     "iopub.status.busy": "2021-06-29T01:58:01.397429Z",
     "iopub.status.idle": "2021-06-29T01:58:01.529267Z",
     "shell.execute_reply": "2021-06-29T01:58:01.528024Z",
     "shell.execute_reply.started": "2021-06-29T01:58:01.397665Z"
    }
   },
   "outputs": [
    {
     "name": "stdout",
     "output_type": "stream",
     "text": [
      "/Users/yoohwayoung/[K-Digital]TIL/[K-Digital]Training_up0616/Web_Crawling\n"
     ]
    }
   ],
   "source": [
    "!pwd"
   ]
  },
  {
   "cell_type": "code",
   "execution_count": 21,
   "metadata": {
    "execution": {
     "iopub.execute_input": "2021-06-29T01:59:15.802743Z",
     "iopub.status.busy": "2021-06-29T01:59:15.802474Z",
     "iopub.status.idle": "2021-06-29T01:59:15.808439Z",
     "shell.execute_reply": "2021-06-29T01:59:15.807407Z",
     "shell.execute_reply.started": "2021-06-29T01:59:15.802714Z"
    },
    "tags": []
   },
   "outputs": [],
   "source": [
    "def search_selenium(search_name, search_path, search_limit) :\n",
    "    search_url = \"https://www.google.com/search?q=\" + str(search_name) + \"&hl=ko&tbm=isch\"\n",
    "    \n",
    "    browser = webdriver.Chrome(\"./chromedriver\")\n",
    "    browser.get(search_url)\n",
    "    \n",
    "    image_count = len(browser.find_elements_by_tag_name(\"img\"))\n",
    "    \n",
    "    print(\"로드된 이미지 개수 : \", image_count)\n",
    "\n",
    "    browser.implicitly_wait(2)\n",
    "\n",
    "    for i in range( search_limit ) :\n",
    "        image = browser.find_elements_by_tag_name(\"img\")[i]\n",
    "        image.screenshot(\"./images/\" + search_name + str(i) + \".png\")\n",
    "\n",
    "    browser.close()"
   ]
  },
  {
   "cell_type": "code",
   "execution_count": 22,
   "metadata": {
    "execution": {
     "iopub.execute_input": "2021-06-29T01:59:16.340956Z",
     "iopub.status.busy": "2021-06-29T01:59:16.340569Z",
     "iopub.status.idle": "2021-06-29T01:59:26.535164Z",
     "shell.execute_reply": "2021-06-29T01:59:26.534311Z",
     "shell.execute_reply.started": "2021-06-29T01:59:16.340911Z"
    },
    "tags": []
   },
   "outputs": [
    {
     "name": "stdin",
     "output_type": "stream",
     "text": [
      "검색하고 싶은 키워드 :  사과\n",
      "원하는 이미지 수집 개수 :  1\n"
     ]
    },
    {
     "name": "stdout",
     "output_type": "stream",
     "text": [
      "로드된 이미지 개수 :  84\n"
     ]
    }
   ],
   "source": [
    "if __name__ == \"__main__\" :\n",
    "\n",
    "    search_name = input(\"검색하고 싶은 키워드 : \")\n",
    "    search_limit = int(input(\"원하는 이미지 수집 개수 : \"))\n",
    "    search_path = \"Your Path\"\n",
    "    # search_maybe(search_name, search_limit, search_path)\n",
    "    search_selenium(search_name, search_path, search_limit)"
   ]
  },
  {
   "cell_type": "code",
   "execution_count": null,
   "metadata": {},
   "outputs": [],
   "source": []
  }
 ],
 "metadata": {
  "kernelspec": {
   "display_name": "Python Multi",
   "language": "python",
   "name": "multi"
  },
  "language_info": {
   "codemirror_mode": {
    "name": "ipython",
    "version": 3
   },
   "file_extension": ".py",
   "mimetype": "text/x-python",
   "name": "python",
   "nbconvert_exporter": "python",
   "pygments_lexer": "ipython3",
   "version": "3.7.6"
  }
 },
 "nbformat": 4,
 "nbformat_minor": 4
}
