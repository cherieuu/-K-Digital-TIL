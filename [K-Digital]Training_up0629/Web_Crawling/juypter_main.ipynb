{
 "cells": [
  {
   "cell_type": "markdown",
   "metadata": {},
   "source": [
    "<h3>Google Image Scrapper for Juypter Notebook</h3>"
   ]
  },
  {
   "cell_type": "code",
   "execution_count": 13,
   "metadata": {
    "execution": {
     "iopub.execute_input": "2021-06-29T01:32:32.476386Z",
     "iopub.status.busy": "2021-06-29T01:32:32.476117Z",
     "iopub.status.idle": "2021-06-29T01:32:35.784621Z",
     "shell.execute_reply": "2021-06-29T01:32:35.783582Z",
     "shell.execute_reply.started": "2021-06-29T01:32:32.476354Z"
    }
   },
   "outputs": [
    {
     "name": "stdout",
     "output_type": "stream",
     "text": [
      "Collecting google_images_download\n",
      "  Downloading google_images_download-2.8.0.tar.gz (14 kB)\n",
      "Requirement already satisfied: selenium in /Users/anaconda3/envs/multi/lib/python3.7/site-packages (from google_images_download) (3.141.0)\n",
      "Requirement already satisfied: urllib3 in /Users/anaconda3/envs/multi/lib/python3.7/site-packages (from selenium->google_images_download) (1.26.5)\n",
      "Building wheels for collected packages: google-images-download\n",
      "  Building wheel for google-images-download (setup.py) ... \u001b[?25ldone\n",
      "\u001b[?25h  Created wheel for google-images-download: filename=google_images_download-2.8.0-py2.py3-none-any.whl size=14549 sha256=6626307d1e81f95237aa0945f01c7a793314737ab04ffc54302331747b278443\n",
      "  Stored in directory: /Users/yoohwayoung/Library/Caches/pip/wheels/e3/98/42/0d3a76d46cd5a6659afb2f5612d4908ca42d34060973d46727\n",
      "Successfully built google-images-download\n",
      "Installing collected packages: google-images-download\n",
      "Successfully installed google-images-download-2.8.0\n"
     ]
    }
   ],
   "source": [
    "!pip install google_images_download"
   ]
  },
  {
   "cell_type": "code",
   "execution_count": 5,
   "metadata": {
    "execution": {
     "iopub.execute_input": "2021-06-29T01:23:31.919449Z",
     "iopub.status.busy": "2021-06-29T01:23:31.919209Z",
     "iopub.status.idle": "2021-06-29T01:23:32.047103Z",
     "shell.execute_reply": "2021-06-29T01:23:32.045154Z",
     "shell.execute_reply.started": "2021-06-29T01:23:31.919422Z"
    }
   },
   "outputs": [
    {
     "name": "stdout",
     "output_type": "stream",
     "text": [
      "/Users/yoohwayoung/[K-Digital]TIL/[K-Digital]Training_up0616/Web_Crawling\n"
     ]
    }
   ],
   "source": [
    "!pwd"
   ]
  },
  {
   "cell_type": "code",
   "execution_count": 8,
   "metadata": {
    "execution": {
     "iopub.execute_input": "2021-06-29T01:29:35.788441Z",
     "iopub.status.busy": "2021-06-29T01:29:35.788162Z",
     "iopub.status.idle": "2021-06-29T01:29:38.811034Z",
     "shell.execute_reply": "2021-06-29T01:29:38.809653Z",
     "shell.execute_reply.started": "2021-06-29T01:29:35.788411Z"
    }
   },
   "outputs": [
    {
     "name": "stdout",
     "output_type": "stream",
     "text": [
      "Collecting selenium\n",
      "  Downloading selenium-3.141.0-py2.py3-none-any.whl (904 kB)\n",
      "\u001b[K     |████████████████████████████████| 904 kB 2.3 MB/s eta 0:00:01\n",
      "\u001b[?25hRequirement already satisfied: urllib3 in /Users/anaconda3/envs/multi/lib/python3.7/site-packages (from selenium) (1.26.5)\n",
      "Installing collected packages: selenium\n",
      "Successfully installed selenium-3.141.0\n"
     ]
    }
   ],
   "source": [
    "!pip install selenium"
   ]
  },
  {
   "cell_type": "code",
   "execution_count": 9,
   "metadata": {
    "execution": {
     "iopub.execute_input": "2021-06-29T01:29:42.475622Z",
     "iopub.status.busy": "2021-06-29T01:29:42.475368Z",
     "iopub.status.idle": "2021-06-29T01:29:42.611593Z",
     "shell.execute_reply": "2021-06-29T01:29:42.610438Z",
     "shell.execute_reply.started": "2021-06-29T01:29:42.475594Z"
    },
    "tags": []
   },
   "outputs": [],
   "source": [
    "from GoogleImageScrapper import GoogleImageScraper"
   ]
  },
  {
   "cell_type": "code",
   "execution_count": 10,
   "metadata": {
    "execution": {
     "iopub.execute_input": "2021-06-29T01:29:43.274549Z",
     "iopub.status.busy": "2021-06-29T01:29:43.274285Z",
     "iopub.status.idle": "2021-06-29T01:29:43.278139Z",
     "shell.execute_reply": "2021-06-29T01:29:43.277355Z",
     "shell.execute_reply.started": "2021-06-29T01:29:43.274519Z"
    },
    "tags": []
   },
   "outputs": [],
   "source": [
    "import os\n",
    "import time\n",
    "\n",
    "sleep_between_interactions = 1\n",
    "webdriver_path = os.getcwd()+\"/chromedriver\""
   ]
  },
  {
   "cell_type": "code",
   "execution_count": 19,
   "metadata": {
    "execution": {
     "iopub.execute_input": "2021-06-29T01:40:31.880679Z",
     "iopub.status.busy": "2021-06-29T01:40:31.880344Z",
     "iopub.status.idle": "2021-06-29T01:40:31.884689Z",
     "shell.execute_reply": "2021-06-29T01:40:31.883706Z",
     "shell.execute_reply.started": "2021-06-29T01:40:31.880584Z"
    },
    "tags": []
   },
   "outputs": [],
   "source": [
    "image_path = os.getcwd()+\"./images/\""
   ]
  },
  {
   "cell_type": "code",
   "execution_count": 20,
   "metadata": {
    "execution": {
     "iopub.execute_input": "2021-06-29T01:40:33.249492Z",
     "iopub.status.busy": "2021-06-29T01:40:33.249033Z",
     "iopub.status.idle": "2021-06-29T01:41:46.672710Z",
     "shell.execute_reply": "2021-06-29T01:41:46.670934Z",
     "shell.execute_reply.started": "2021-06-29T01:40:33.249453Z"
    },
    "tags": []
   },
   "outputs": [
    {
     "name": "stdout",
     "output_type": "stream",
     "text": [
      "GoogleImageScraper Notification: Image path not found. Creating a new folder.\n",
      "GoogleImageScraper Notification: Scraping for image link... Please wait.\n",
      "GoogleImageScraper Notification: Saving Image... Please wait.\n",
      "GoogleImageScraper Notification: Download Completed.\n"
     ]
    }
   ],
   "source": [
    "#image_path = os.getcwd()+\"\\\\photos\"\n",
    "#add new search key into array [\"cat\",\"t-shirt\",\"apple\",\"orange\",\"pear\",\"fish\"]\n",
    "#search_keys= [\"woodpecker\",\"owl\"]\n",
    "search_keys= [\"raccoon\"]\n",
    "number_of_images = 10\n",
    "headless = False\n",
    "#min_resolution = (width,height)\n",
    "min_resolution=(0,0)\n",
    "#max_resolution = (width,height)\n",
    "max_resolution=(2000,2000)\n",
    "for search_key in search_keys:\n",
    "    image_scrapper = GoogleImageScraper(webdriver_path,image_path,search_key,number_of_images,headless,min_resolution,max_resolution)\n",
    "    image_urls = image_scrapper.find_image_urls()\n",
    "    image_scrapper.save_images(image_urls)\n",
    "    time.sleep(sleep_between_interactions)"
   ]
  },
  {
   "cell_type": "code",
   "execution_count": null,
   "metadata": {},
   "outputs": [],
   "source": []
  }
 ],
 "metadata": {
  "kernelspec": {
   "display_name": "Python Multi",
   "language": "python",
   "name": "multi"
  },
  "language_info": {
   "codemirror_mode": {
    "name": "ipython",
    "version": 3
   },
   "file_extension": ".py",
   "mimetype": "text/x-python",
   "name": "python",
   "nbconvert_exporter": "python",
   "pygments_lexer": "ipython3",
   "version": "3.7.6"
  }
 },
 "nbformat": 4,
 "nbformat_minor": 4
}
