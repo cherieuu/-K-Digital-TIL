{
 "cells": [
  {
   "cell_type": "code",
   "execution_count": 1,
   "id": "837c269c-3781-4bd7-bfd1-b35b65853203",
   "metadata": {},
   "outputs": [],
   "source": [
    "# # 고양이 슬라이싱\n",
    "# src = cv2.imread('.\\\\data3.png', cv2.IMREAD_UNCHANGED)\n",
    "# src.shape\n",
    "# src_cat = src[270:400, 430:540]\n",
    "# cv2.imshow('Cat Face', src_cat)\n",
    "# cv2.\n",
    "# cv2.waitKey(0)\n",
    "# cv2.destroyAllWindows()"
   ]
  },
  {
   "cell_type": "code",
   "execution_count": 6,
   "id": "94168305-bd27-4b79-9318-528833392161",
   "metadata": {},
   "outputs": [],
   "source": [
    "import cv2\n",
    "import platform"
   ]
  },
  {
   "cell_type": "code",
   "execution_count": 7,
   "id": "d5a2c299-fe8f-40a1-be29-c2088d98c4d6",
   "metadata": {},
   "outputs": [],
   "source": [
    "src = cv2.imread('/Users/yoohwayoung/[Study]TIL/0608/giraffe.jpg', cv2.IMREAD_UNCHANGED)"
   ]
  },
  {
   "cell_type": "code",
   "execution_count": 8,
   "id": "8af0982a-ace0-475b-99f1-8b3c01adc5d0",
   "metadata": {},
   "outputs": [
    {
     "data": {
      "text/plain": [
       "(480, 640, 3)"
      ]
     },
     "execution_count": 8,
     "metadata": {},
     "output_type": "execute_result"
    }
   ],
   "source": [
    "src.shape"
   ]
  },
  {
   "cell_type": "code",
   "execution_count": 9,
   "id": "f4833b15-18be-4970-9a63-23e891774762",
   "metadata": {
    "tags": []
   },
   "outputs": [],
   "source": [
    "src_giraffe = src[30:430, 150:540]"
   ]
  },
  {
   "cell_type": "code",
   "execution_count": null,
   "id": "2a8d0b7c-c108-4e43-b3f9-c8471b3c0553",
   "metadata": {},
   "outputs": [],
   "source": [
    "cv2.imshow('giraffe Face', src_giraffe)\n",
    "cv2.imwrite('.//giraffe.png', src_giraffe)\n",
    "cv2.waitKey(0)\n",
    "cv2.destroyAllWindows()"
   ]
  },
  {
   "cell_type": "code",
   "execution_count": null,
   "id": "eda22ff5-7712-4533-96e2-412c1290d389",
   "metadata": {},
   "outputs": [],
   "source": []
  },
  {
   "cell_type": "code",
   "execution_count": null,
   "id": "3fc3bb7d-ce42-4adc-9166-13d8f5a0723e",
   "metadata": {},
   "outputs": [],
   "source": [
    "cv2.imwrite('.//giraffe.png', src_giraffe)"
   ]
  },
  {
   "cell_type": "code",
   "execution_count": null,
   "id": "9c6193f8-a3e5-490d-aedd-8c8356cd463b",
   "metadata": {},
   "outputs": [],
   "source": []
  },
  {
   "cell_type": "code",
   "execution_count": null,
   "id": "2d9414e0-0672-4b5a-99e5-55e6aff853c1",
   "metadata": {},
   "outputs": [],
   "source": [
    "# import cv2\n",
    "# import platform\n",
    "# src = cv2.imread('/Users/yoohwayoung/[Study]TIL/0608/giraffe.jpg', cv2.IMREAD_UNCHANGED)\n",
    "# src.shape\n",
    "# src_giraffe = src[50:430, 150:540]\n",
    "# cv2.imshow('giraffe Face', src_giraffe)\n",
    "# cv2.waitKey(0)\n",
    "# cv2.destroyAllWindows()"
   ]
  },
  {
   "cell_type": "code",
   "execution_count": null,
   "id": "19d28318-70e5-4e8a-8607-d1b47b497c8d",
   "metadata": {},
   "outputs": [],
   "source": []
  }
 ],
 "metadata": {
  "kernelspec": {
   "display_name": "Python Multi",
   "language": "python",
   "name": "multi"
  },
  "language_info": {
   "codemirror_mode": {
    "name": "ipython",
    "version": 3
   },
   "file_extension": ".py",
   "mimetype": "text/x-python",
   "name": "python",
   "nbconvert_exporter": "python",
   "pygments_lexer": "ipython3",
   "version": "3.7.6"
  }
 },
 "nbformat": 4,
 "nbformat_minor": 5
}
