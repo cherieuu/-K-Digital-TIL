{
 "cells": [
  {
   "cell_type": "code",
   "execution_count": 3,
   "id": "1f4d459f-2dbe-4a08-9616-845b7a5ec7e0",
   "metadata": {},
   "outputs": [],
   "source": [
    "import cv2\n",
    "import platform"
   ]
  },
  {
   "cell_type": "code",
   "execution_count": 4,
   "id": "23407699-a91d-47f6-9141-1177ba1bb526",
   "metadata": {},
   "outputs": [],
   "source": [
    "# # 고양이 슬라이싱\n",
    "# src = cv2.imread('.\\\\data3.png', cv2.IMREAD_UNCHANGED)\n",
    "# src.shape\n",
    "# src_cat = src[270:400, 430:540]\n",
    "# cv2.imshow('Cat Face', src_cat)\n",
    "# cv2.\n",
    "# cv2.waitKey(0)\n",
    "# cv2.destroyAllWindows()"
   ]
  },
  {
   "cell_type": "code",
   "execution_count": 5,
   "id": "e0691f9a-d58f-4a89-ab41-267ddd88dc59",
   "metadata": {},
   "outputs": [
    {
     "data": {
      "text/plain": [
       "'4.5.2'"
      ]
     },
     "execution_count": 5,
     "metadata": {},
     "output_type": "execute_result"
    }
   ],
   "source": [
    "cv2.__version__"
   ]
  },
  {
   "cell_type": "code",
   "execution_count": 6,
   "id": "08705929-2d8c-4455-a767-45d0246ac407",
   "metadata": {},
   "outputs": [],
   "source": [
    "src = cv2.imread('/Users/yoohwayoung/[Study]TIL/0608/data3.png', cv2.IMREAD_UNCHANGED)"
   ]
  },
  {
   "cell_type": "code",
   "execution_count": 7,
   "id": "50bcc83e-6018-484e-9a6d-e0ed99f28f67",
   "metadata": {},
   "outputs": [
    {
     "data": {
      "text/plain": [
       "(441, 592, 3)"
      ]
     },
     "execution_count": 7,
     "metadata": {},
     "output_type": "execute_result"
    }
   ],
   "source": [
    "src.shape"
   ]
  },
  {
   "cell_type": "code",
   "execution_count": 8,
   "id": "8004f76a-0c9b-4a1e-940b-5ad3950f8256",
   "metadata": {},
   "outputs": [],
   "source": [
    "src_cat =src[280:380, 445:565]"
   ]
  },
  {
   "cell_type": "code",
   "execution_count": null,
   "id": "d269b15a-6238-4cac-9eda-ec1c579f73f0",
   "metadata": {},
   "outputs": [],
   "source": [
    "cv2.imshow('Cat Face', src_cat)\n",
    "cv2.imwrite('.//Cat.png', src_cat)\n",
    "cv2.waitKey(0)\n",
    "cv2.destroyAllWindow"
   ]
  },
  {
   "cell_type": "code",
   "execution_count": null,
   "id": "b7a45039-de05-400d-9e2f-52811a49cfbc",
   "metadata": {},
   "outputs": [],
   "source": [
    "1"
   ]
  },
  {
   "cell_type": "code",
   "execution_count": null,
   "id": "5a7c6a95-94fd-4f01-a4e7-ce8da36dce46",
   "metadata": {},
   "outputs": [],
   "source": []
  }
 ],
 "metadata": {
  "kernelspec": {
   "display_name": "Python Multi",
   "language": "python",
   "name": "multi"
  },
  "language_info": {
   "codemirror_mode": {
    "name": "ipython",
    "version": 3
   },
   "file_extension": ".py",
   "mimetype": "text/x-python",
   "name": "python",
   "nbconvert_exporter": "python",
   "pygments_lexer": "ipython3",
   "version": "3.7.6"
  }
 },
 "nbformat": 4,
 "nbformat_minor": 5
}
