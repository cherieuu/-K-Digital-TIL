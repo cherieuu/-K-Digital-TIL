{
 "cells": [
  {
   "cell_type": "markdown",
   "metadata": {
    "colab_type": "text",
    "id": "view-in-github"
   },
   "source": [
    "<a href=\"https://colab.research.google.com/github/JSJeong-me/2021-K-Digital-Training/blob/main/1_Pandas.ipynb\" target=\"_parent\"><img src=\"https://colab.research.google.com/assets/colab-badge.svg\" alt=\"Open In Colab\"/></a>"
   ]
  },
  {
   "cell_type": "markdown",
   "metadata": {
    "id": "VRB-sWlqYIup"
   },
   "source": [
    "## Google Colab 사용 방법\n",
    "\n",
    "- 방향키 ↑↓: 셀 간 이동\n",
    "- Enter: 편집모드\n",
    "- Ctrl + Enter: 셀 실행\n",
    "- Shift + Enter: 셀 실행 + 다음 셀 선택\n",
    "\n",
    "---\n",
    "\n",
    "- Ctrl +M D: 셀 삭제\n",
    "- Ctrl + M K: 셀 위로 이동\n",
    "- Ctrl + M J: 셀 아래로 이동"
   ]
  },
  {
   "cell_type": "markdown",
   "metadata": {},
   "source": [
    "### np.shape\n",
    "### np.ndim\n",
    "### np.strides\n",
    "### np.array() -> 배열을 만들기 위해 리스트를 집어 넣는다."
   ]
  },
  {
   "cell_type": "code",
   "execution_count": null,
   "metadata": {},
   "outputs": [],
   "source": []
  },
  {
   "cell_type": "markdown",
   "metadata": {
    "id": "yAWciHLQszCL",
    "tags": []
   },
   "source": [
    "### panas.info()\n",
    "### pandas.describe()\n",
    "### dp.profiling_report()\n",
    "\n",
    "## **판다스는 데이터 구조가 크게 두가지가 있다.**\n",
    "#### df. Series()-key value -> Map/Reduce\n",
    "#### df.DataFrame() index column\n",
    "\n",
    "대부분의 데이터 관리는 거의 key와 value로 한다. 최근 로그 데이터는 대부분 키와 밸류로 이뤄져 있다.\n",
    "검색은 스플로크 엘라스틱서치?로 관리하는 추세\n",
    "하둡을 쓸 예정\n"
   ]
  },
  {
   "cell_type": "markdown",
   "metadata": {
    "id": "PKpOg-rotBW4"
   },
   "source": [
    "# 1. Pandas\n",
    "\n",
    "Pandas는 다음과 같은 특징을 같습니다.\n",
    "- NumPy를 내부적으로 활용함(NumPy의 특징을 그대로 가짐)\n",
    "- 데이터분석에 특화된 데이터 구조 제공\n",
    "- 다양한 데이터 분석 함수 제공\n",
    "- 데이터베이스에 쉽게 연결 가능\n",
    "\n",
    "## Cheat Sheet\n",
    "\n",
    "판다스는 많은 기능을 제공합니다. 이번 강의에서는 이러한 기능들을 학습할 예정입니다.</br>\n",
    "그러나 이 모든 기능을 외울 순 없습니다. 외울 필요도 없고요.\n",
    "\n",
    "**아래는 판다스를 한 장에 정리해 둔 치트시트입니다**\n",
    "\n",
    "어떠한 기능들을 하는 함수들이 있다는것만 학습한 뒤 해당 기능이 필요할 때 아래의 치트시트를 참조해가며 판다스를 사용하면 됩니다.\n",
    "\n"
   ]
  },
  {
   "cell_type": "markdown",
   "metadata": {
    "id": "pX5WXMBTu9ag"
   },
   "source": [
    "![](http://drive.google.com/uc?export=view&id=12qAWxrdhFmdYN61uYbqM58jHm1y9PWJ3)"
   ]
  },
  {
   "cell_type": "markdown",
   "metadata": {
    "id": "JQR47prJwEF0"
   },
   "source": [
    "파이썬에서 pandas를 사용할 때는 일반적으로 다음과 같이 pd형태로 임포트해서 사용합니다"
   ]
  },
  {
   "cell_type": "code",
   "execution_count": null,
   "metadata": {
    "id": "38c6YhsGs0Tv"
   },
   "outputs": [],
   "source": [
    "import pandas as pd"
   ]
  },
  {
   "cell_type": "code",
   "execution_count": null,
   "metadata": {
    "colab": {
     "base_uri": "https://localhost:8080/",
     "height": 35
    },
    "id": "JAiLRzP6CLF4",
    "outputId": "f5492fd1-906f-4cbc-cb3d-8606b4100fb0"
   },
   "outputs": [],
   "source": [
    "pd.__version__"
   ]
  },
  {
   "cell_type": "code",
   "execution_count": null,
   "metadata": {
    "id": "8yP45ujfS8vk"
   },
   "outputs": [],
   "source": [
    "# numpy와 matplotlib 임포트\n",
    "# %matplotlib inline # 노트북에서 그래프를 보여주기 위해 추가해주는 코드\n",
    "import numpy as np\n",
    "import matplotlib.pyplot as plt"
   ]
  },
  {
   "cell_type": "markdown",
   "metadata": {
    "id": "hNImNha73T5l"
   },
   "source": [
    "Pandas의 모든 API는 help 함수를 이용하여 도움말을 확인할 수 있습니다."
   ]
  },
  {
   "cell_type": "code",
   "execution_count": null,
   "metadata": {
    "id": "JZ4ZjzFZ3UZz"
   },
   "outputs": [],
   "source": [
    "# help(pd)\n",
    "# help(pd.read_csv)\n",
    "#help(pd.DataFrame)\n",
    "# pd.DataFrame?"
   ]
  },
  {
   "cell_type": "markdown",
   "metadata": {
    "id": "-yNHIoMstJZl"
   },
   "source": [
    "# 2. Pandas 데이터 구조"
   ]
  },
  {
   "cell_type": "markdown",
   "metadata": {
    "id": "AK3p2FFkxWz6"
   },
   "source": [
    "![](http://drive.google.com/uc?export=view&id=1B0ZpHC2hCXfoeYKxMT4DRHqKrQbEbztj)\n",
    "\n",
    "## Series\n",
    "- 1차원 데이터 구조\n",
    "- 일반적으로 s 또는 sr로 이름 붙임\n",
    "\n",
    "![](http://drive.google.com/uc?export=view&id=1msqZqjnrFLJXlaBGF7DsLf2B0_lA_J07)\n",
    "\n",
    "Series는 **pd.Series()** 로 생성합니다."
   ]
  },
  {
   "cell_type": "code",
   "execution_count": null,
   "metadata": {
    "id": "wSCeAj_pCpgO"
   },
   "outputs": [],
   "source": [
    "import pandas"
   ]
  },
  {
   "cell_type": "code",
   "execution_count": null,
   "metadata": {
    "id": "doteWblhtMxj"
   },
   "outputs": [],
   "source": [
    "s = pandas.Series([3, -5, 7, 4]) # 인덱스 없이 생성"
   ]
  },
  {
   "cell_type": "code",
   "execution_count": null,
   "metadata": {
    "colab": {
     "base_uri": "https://localhost:8080/"
    },
    "id": "Msp-X6nixlnY",
    "outputId": "8512e2b0-e3d1-411a-8c7a-ba8622eed073"
   },
   "outputs": [],
   "source": [
    "s"
   ]
  },
  {
   "cell_type": "code",
   "execution_count": null,
   "metadata": {
    "colab": {
     "base_uri": "https://localhost:8080/"
    },
    "id": "kyR1c_cDC0pB",
    "outputId": "6ae994dc-0ed9-449c-84fc-453fb2e540b1"
   },
   "outputs": [],
   "source": [
    "s[0]"
   ]
  },
  {
   "cell_type": "code",
   "execution_count": null,
   "metadata": {
    "colab": {
     "base_uri": "https://localhost:8080/"
    },
    "id": "VKIHjVrxC4z8",
    "outputId": "5d1f9023-d09a-4c43-a6eb-09a6130f9933"
   },
   "outputs": [],
   "source": [
    "s[3]"
   ]
  },
  {
   "cell_type": "code",
   "execution_count": null,
   "metadata": {
    "colab": {
     "base_uri": "https://localhost:8080/"
    },
    "id": "MRX_FxMuC-ry",
    "outputId": "c8cadc5b-3ba6-4555-a5a8-74619ca3d0d4"
   },
   "outputs": [],
   "source": [
    "s[:]"
   ]
  },
  {
   "cell_type": "code",
   "execution_count": null,
   "metadata": {
    "colab": {
     "base_uri": "https://localhost:8080/"
    },
    "id": "o93uplaoDBx_",
    "outputId": "4a871cd9-f6d3-4e36-ce76-8bc0a0b3a56f"
   },
   "outputs": [],
   "source": [
    "s[0:4]"
   ]
  },
  {
   "cell_type": "markdown",
   "metadata": {
    "id": "SRc6GQUKU64O"
   },
   "source": [
    "인덱스를 특별히 지정해주지 않으면 NumPy 다차원배열처럼 0부터 인덱스가 시작됩니다.\n",
    "\n",
    "NumPy 다차원 배열과 다르게 Pandas Series는 인덱스를 지정해 줄 수 있으며 숫자가 아닌 문자열도 인덱스가 될 수 있습니다."
   ]
  },
  {
   "cell_type": "code",
   "execution_count": null,
   "metadata": {
    "id": "iOpUNH4ZGldy"
   },
   "outputs": [],
   "source": []
  },
  {
   "cell_type": "code",
   "execution_count": null,
   "metadata": {
    "id": "ErsjLCMSGdrG"
   },
   "outputs": [],
   "source": [
    "data = [3, -5, 7, 4]"
   ]
  },
  {
   "cell_type": "code",
   "execution_count": null,
   "metadata": {
    "id": "3nUYDZ3gU7X_"
   },
   "outputs": [],
   "source": [
    "s = pandas.Series(data, index=['a', 'b', 'c', 'd'])"
   ]
  },
  {
   "cell_type": "code",
   "execution_count": null,
   "metadata": {
    "colab": {
     "base_uri": "https://localhost:8080/"
    },
    "id": "KokRyLH9U7yd",
    "outputId": "e80ab61b-472a-4ee9-efe1-4770050b2349"
   },
   "outputs": [],
   "source": [
    "s"
   ]
  },
  {
   "cell_type": "code",
   "execution_count": null,
   "metadata": {
    "id": "n4zxdtBDGp3X"
   },
   "outputs": [],
   "source": [
    "s = pandas.Series(data, index=['가', '나', '다', '라'])"
   ]
  },
  {
   "cell_type": "code",
   "execution_count": null,
   "metadata": {
    "colab": {
     "base_uri": "https://localhost:8080/"
    },
    "id": "zTBDf26gG3Ak",
    "outputId": "25593796-2737-4987-b08c-d3f6d21e1310"
   },
   "outputs": [],
   "source": [
    "s"
   ]
  },
  {
   "cell_type": "markdown",
   "metadata": {
    "id": "G88ENaia4xvy"
   },
   "source": [
    "**type()**을 통해 데이터타입이 Series인 걸 확인할 수 있습니다."
   ]
  },
  {
   "cell_type": "code",
   "execution_count": null,
   "metadata": {
    "colab": {
     "base_uri": "https://localhost:8080/"
    },
    "id": "a4cGRxYi1KX5",
    "outputId": "d13b5b23-2f62-424e-cab0-865fd80edb18"
   },
   "outputs": [],
   "source": [
    "type(s)"
   ]
  },
  {
   "cell_type": "markdown",
   "metadata": {
    "id": "KhuUWc2ZYEO5"
   },
   "source": [
    "### 속성"
   ]
  },
  {
   "cell_type": "markdown",
   "metadata": {
    "id": "24tY76qdTh1S"
   },
   "source": [
    "Series는 index와 values를 가집니다."
   ]
  },
  {
   "cell_type": "code",
   "execution_count": null,
   "metadata": {
    "colab": {
     "base_uri": "https://localhost:8080/"
    },
    "id": "mNOuTlUKTkrJ",
    "outputId": "7fbf93e8-8908-4870-93b2-eedbcbca963f"
   },
   "outputs": [],
   "source": [
    "s.index"
   ]
  },
  {
   "cell_type": "code",
   "execution_count": null,
   "metadata": {
    "colab": {
     "base_uri": "https://localhost:8080/"
    },
    "id": "QOpkc9SATknp",
    "outputId": "ac9b3b04-b6ee-412a-82e3-e73d1f17e9fa"
   },
   "outputs": [],
   "source": [
    "s.values"
   ]
  },
  {
   "cell_type": "code",
   "execution_count": null,
   "metadata": {
    "colab": {
     "base_uri": "https://localhost:8080/"
    },
    "id": "mIXMjiDoHXk0",
    "outputId": "07f30b80-10eb-4a07-9d0c-d23f1fc8ee58"
   },
   "outputs": [],
   "source": [
    "s.dtype"
   ]
  },
  {
   "cell_type": "code",
   "execution_count": null,
   "metadata": {
    "colab": {
     "base_uri": "https://localhost:8080/"
    },
    "id": "OZOCdEIpHecr",
    "outputId": "095feabb-ce33-4c56-cde4-98b82072b8af"
   },
   "outputs": [],
   "source": [
    "s.shape"
   ]
  },
  {
   "cell_type": "code",
   "execution_count": null,
   "metadata": {
    "colab": {
     "base_uri": "https://localhost:8080/"
    },
    "id": "t0SoEs_oHxEH",
    "outputId": "8733669e-3df9-4342-8539-7ca1062cba16"
   },
   "outputs": [],
   "source": [
    "s.ndim"
   ]
  },
  {
   "cell_type": "code",
   "execution_count": null,
   "metadata": {
    "colab": {
     "base_uri": "https://localhost:8080/"
    },
    "id": "MGOXLUypIBug",
    "outputId": "019b2134-8d64-49eb-ed2a-383e83a5a683"
   },
   "outputs": [],
   "source": [
    "s.value_counts"
   ]
  },
  {
   "cell_type": "markdown",
   "metadata": {
    "id": "MvPMnq8tYF6G"
   },
   "source": [
    "### 인덱싱"
   ]
  },
  {
   "cell_type": "markdown",
   "metadata": {
    "id": "JLRJKNh_TxDp"
   },
   "source": [
    "Series는 요소는 index명 또는 index의 순서를 통해 인덱싱할 수 있습니다."
   ]
  },
  {
   "cell_type": "code",
   "execution_count": null,
   "metadata": {
    "id": "HxichMzXToNB"
   },
   "outputs": [],
   "source": [
    "# index명으로 조회\n",
    "s['a']"
   ]
  },
  {
   "cell_type": "code",
   "execution_count": null,
   "metadata": {
    "id": "_U60FIMMTkiA"
   },
   "outputs": [],
   "source": [
    "# index순서로 조회\n",
    "s[0]"
   ]
  },
  {
   "cell_type": "markdown",
   "metadata": {
    "id": "h25RGBmaYLLI"
   },
   "source": [
    "### 파이썬 딕셔너리와 Pandas Series의 공통점, 차이점"
   ]
  },
  {
   "cell_type": "markdown",
   "metadata": {
    "id": "t1UVLe3CU1bP"
   },
   "source": [
    "Index와 value를 가진다는 점에서 key와 value를 가지는 파이썬 딕셔너리와 유사하다 볼 수 있습니다.\n",
    "\n",
    "그렇기에 파이썬 딕셔너리를 통해 Series를 생성할 수 있습니다."
   ]
  },
  {
   "cell_type": "code",
   "execution_count": null,
   "metadata": {
    "colab": {
     "base_uri": "https://localhost:8080/"
    },
    "id": "1lmS9H8KVmYc",
    "outputId": "b532c462-e949-4cee-f5c3-1f33aba7431f"
   },
   "outputs": [],
   "source": [
    "# pop_dict는 파이썬 딕셔너리\n",
    "pop_dict = {'Germany': 81.3, \n",
    "            'Belgium': 11.3, \n",
    "            'France': 64.3, \n",
    "            'United Kingdom': 64.9, \n",
    "            'Netherlands': 16.9}\n",
    "\n",
    "# pop_dict로 Series 생성\n",
    "population = pandas.Series(pop_dict)\n",
    "population"
   ]
  },
  {
   "cell_type": "markdown",
   "metadata": {
    "id": "eMr79qK7V2O7"
   },
   "source": [
    "딕셔너리에서 key값을 이용해 value를 조회하듯 Series에서 index를 이용해 value를 조회할 수 있습니다."
   ]
  },
  {
   "cell_type": "code",
   "execution_count": null,
   "metadata": {
    "colab": {
     "base_uri": "https://localhost:8080/"
    },
    "id": "UM5IIA3fI7YV",
    "outputId": "dd17ffe0-57c8-405a-a581-47db8c1e5a04"
   },
   "outputs": [],
   "source": [
    "population"
   ]
  },
  {
   "cell_type": "code",
   "execution_count": null,
   "metadata": {
    "colab": {
     "base_uri": "https://localhost:8080/"
    },
    "id": "9I1TeWdVWMYY",
    "outputId": "c97c98bb-306a-4b13-f6fb-59416a4c17ca"
   },
   "outputs": [],
   "source": [
    "pop_dict['United Kingdom']"
   ]
  },
  {
   "cell_type": "code",
   "execution_count": null,
   "metadata": {
    "id": "6aKhymr5zerK"
   },
   "outputs": [],
   "source": []
  },
  {
   "cell_type": "code",
   "execution_count": null,
   "metadata": {
    "colab": {
     "base_uri": "https://localhost:8080/"
    },
    "id": "st0IKIMzV5IX",
    "outputId": "d711a5a4-2997-49fb-a486-3af25b82a636"
   },
   "outputs": [],
   "source": [
    "population['France']"
   ]
  },
  {
   "cell_type": "markdown",
   "metadata": {
    "id": "AzyUebKvWC2J"
   },
   "source": [
    "딕셔너리와 Series의 차이점은, 딕셔너리의 Key는 순서가 없고 pandas Series의 index는 순서가 있다는 점입니다.\n",
    "그렇기에 Series는 index의 순서를 통해서도 value 조회가 가능합니다."
   ]
  },
  {
   "cell_type": "code",
   "execution_count": null,
   "metadata": {
    "colab": {
     "base_uri": "https://localhost:8080/"
    },
    "id": "mmq8pkx9WYie",
    "outputId": "1ec896e9-3706-4177-d33e-3ff585514e13"
   },
   "outputs": [],
   "source": [
    "# KeyError 발생(2라는 Key 값은 없음)\n",
    "pop_dict['Germany']"
   ]
  },
  {
   "cell_type": "code",
   "execution_count": null,
   "metadata": {
    "colab": {
     "base_uri": "https://localhost:8080/"
    },
    "id": "R6dTfwFsWVuD",
    "outputId": "91bcbd16-0fa7-4c09-80d5-fc410d2f83ff"
   },
   "outputs": [],
   "source": [
    "population[4]"
   ]
  },
  {
   "cell_type": "code",
   "execution_count": null,
   "metadata": {
    "colab": {
     "base_uri": "https://localhost:8080/"
    },
    "id": "T5UZTQzOJ-AJ",
    "outputId": "693ea2c0-5e90-42dc-ffe7-ebb2cf56f0b1"
   },
   "outputs": [],
   "source": [
    "population[:]"
   ]
  },
  {
   "cell_type": "code",
   "execution_count": null,
   "metadata": {
    "id": "hNaLUhGjKBlT"
   },
   "outputs": [],
   "source": [
    "population[0:4]"
   ]
  },
  {
   "cell_type": "markdown",
   "metadata": {
    "id": "MLs-gxb9WrQg"
   },
   "source": [
    "또한 Series는 딕셔너리와 다르게 아래와 같은 연산이 가능합니다."
   ]
  },
  {
   "cell_type": "code",
   "execution_count": null,
   "metadata": {
    "colab": {
     "base_uri": "https://localhost:8080/"
    },
    "id": "bAFr4JvALeDY",
    "outputId": "184a39ca-0016-4d7e-fd3e-508dd80c1a28"
   },
   "outputs": [],
   "source": [
    "population.index"
   ]
  },
  {
   "cell_type": "code",
   "execution_count": null,
   "metadata": {
    "colab": {
     "base_uri": "https://localhost:8080/"
    },
    "id": "O_dGZfEiKsQl",
    "outputId": "b43ca0ef-8e8d-4049-b548-e4dac056206c"
   },
   "outputs": [],
   "source": [
    "  population[-2]"
   ]
  },
  {
   "cell_type": "code",
   "execution_count": null,
   "metadata": {
    "colab": {
     "base_uri": "https://localhost:8080/"
    },
    "id": "GnmNuWBVKP00",
    "outputId": "9006fe5e-17ce-4c3f-e40b-1813b89e60b0"
   },
   "outputs": [],
   "source": [
    "population.dtype"
   ]
  },
  {
   "cell_type": "code",
   "execution_count": null,
   "metadata": {
    "colab": {
     "base_uri": "https://localhost:8080/"
    },
    "id": "C5_h-zgDVoQ7",
    "outputId": "9ea868de-f2bb-44d7-bb81-6eff3ec9b2c0"
   },
   "outputs": [],
   "source": [
    "population*1000"
   ]
  },
  {
   "cell_type": "code",
   "execution_count": null,
   "metadata": {
    "id": "3w7YrxnFKW5d"
   },
   "outputs": [],
   "source": [
    "population"
   ]
  },
  {
   "cell_type": "code",
   "execution_count": null,
   "metadata": {
    "id": "cfh8lqWDKdNH"
   },
   "outputs": [],
   "source": [
    "pop_dict.dtype"
   ]
  },
  {
   "cell_type": "code",
   "execution_count": null,
   "metadata": {
    "id": "Z1cd8YubWnvh"
   },
   "outputs": [],
   "source": [
    "# TypeError발생 (dict * int)\n",
    "pop_dict * 1000"
   ]
  },
  {
   "cell_type": "markdown",
   "metadata": {
    "id": "vhWewv3-T_V2"
   },
   "source": [
    "## 참고. Index가 문자열에 저장된 숫자일 경우\n",
    "\n",
    "Series의 요소를 조회하는데 혼돈이 올 수 있으니 숫자 Index를 원할 경우,\n",
    "- 문자가 아닌 정수형으로 index를 지정합시다.\n",
    "- 1이 아닌 0부터 index를 지정합시다."
   ]
  },
  {
   "cell_type": "code",
   "execution_count": null,
   "metadata": {
    "id": "Hg58y-X8T_0u"
   },
   "outputs": [],
   "source": [
    "sr = pd.Series([1, 2, 3, 4], index=['1', '2', '3', '4'])"
   ]
  },
  {
   "cell_type": "code",
   "execution_count": null,
   "metadata": {
    "id": "WFVUKnzKUG5r"
   },
   "outputs": [],
   "source": [
    "# index명으로 접근\n",
    "sr['1']"
   ]
  },
  {
   "cell_type": "code",
   "execution_count": null,
   "metadata": {
    "id": "__cA7-tQUHAU"
   },
   "outputs": [],
   "source": [
    "# index순서로 접근\n",
    "sr[1]"
   ]
  },
  {
   "cell_type": "code",
   "execution_count": null,
   "metadata": {
    "colab": {
     "base_uri": "https://localhost:8080/"
    },
    "id": "2clmO3DzMwOz",
    "outputId": "1734cdf1-1ee9-45af-c202-613c0528dbbc"
   },
   "outputs": [],
   "source": [
    "population"
   ]
  },
  {
   "cell_type": "markdown",
   "metadata": {
    "id": "w0qclLbeYZ7R"
   },
   "source": [
    "DataFrame에서도 마찬가지로 숫자 Index를 사용할 경우 염두해두어야 합니다."
   ]
  },
  {
   "cell_type": "markdown",
   "metadata": {
    "id": "c_SOMZ_jxm1j"
   },
   "source": [
    "## DataFrame\n",
    "- 2차원 데이터 구조\n",
    "- 일반적으로 df로 이름 붙임\n",
    "- 엑셀 스프레드시트, 데이터베이스등과 동일한 2차원 구조\n",
    "- 가장 많이 활용하게될 구조\n",
    "- Series가 합쳐진 형태\n",
    "\n",
    "![](http://drive.google.com/uc?export=view&id=1lixriaQy119N0nNM0e_TTQ1DfuSNMk76)\n",
    "\n",
    "DataFrame은 **pd.DataFrame()** 으로 생성합니다."
   ]
  },
  {
   "cell_type": "markdown",
   "metadata": {
    "id": "lDU7pjLOXMV1"
   },
   "source": [
    "중첩된 리스트나 딕셔너리를 통해 DataFrame을 생성할 수 있습니다."
   ]
  },
  {
   "cell_type": "code",
   "execution_count": null,
   "metadata": {
    "colab": {
     "base_uri": "https://localhost:8080/",
     "height": 141
    },
    "id": "7ng-KW4O5RD_",
    "outputId": "dbab97e0-af7c-4344-c33d-f8089455f5bd"
   },
   "outputs": [],
   "source": [
    "# 중첩된 리스트를 통한 데이터 생성\n",
    "# 각 행을 리스트로 만들어야 함\n",
    "data = [['Belgium', 'Brussels', 11190846],\n",
    "        ['India', 'New Delhi', 1303171035],\n",
    "        ['Brazil', 'Brasília', 207847528]]\n",
    "\n",
    "df = pandas.DataFrame(data)\n",
    "\n",
    "df"
   ]
  },
  {
   "cell_type": "code",
   "execution_count": null,
   "metadata": {
    "colab": {
     "base_uri": "https://localhost:8080/"
    },
    "id": "MwsXq0kZNTQb",
    "outputId": "23665127-d473-4807-c103-43d105b0fb13"
   },
   "outputs": [],
   "source": [
    "df[0]"
   ]
  },
  {
   "cell_type": "code",
   "execution_count": null,
   "metadata": {
    "colab": {
     "base_uri": "https://localhost:8080/"
    },
    "id": "J_UU1gGkNqWu",
    "outputId": "155cbba9-687f-4497-8ca2-b461f3e34be4"
   },
   "outputs": [],
   "source": [
    "df[1]"
   ]
  },
  {
   "cell_type": "code",
   "execution_count": null,
   "metadata": {
    "id": "KujLru8ENsno"
   },
   "outputs": [],
   "source": []
  },
  {
   "cell_type": "markdown",
   "metadata": {
    "id": "T26fEspK6bfp"
   },
   "source": [
    "columns 파라메터를 통해 칼럼명 역시 정해줄 수 있습니다."
   ]
  },
  {
   "cell_type": "code",
   "execution_count": null,
   "metadata": {
    "colab": {
     "base_uri": "https://localhost:8080/",
     "height": 141
    },
    "id": "Jdb1iQCU6VEM",
    "outputId": "c5a37060-b1fe-444a-c1f9-cf44341ddaeb"
   },
   "outputs": [],
   "source": [
    "# 중첩된 리스트를 통한 데이터 생성\n",
    "# 각 행을 리스트로 만들어야 함\n",
    "data = [['Belgium', 'Brussels', 11190846],\n",
    "        ['India', 'New Delhi', 1303171035],\n",
    "        ['Brazil', 'Brasília', 207847528]]\n",
    "\n",
    "df = pandas.DataFrame(data, columns=['Country', 'Capital', 'Population'])\n",
    "\n",
    "df"
   ]
  },
  {
   "cell_type": "code",
   "execution_count": null,
   "metadata": {
    "colab": {
     "base_uri": "https://localhost:8080/"
    },
    "id": "-D6cOpWaOAvE",
    "outputId": "5a84f75d-2aea-4ecd-bf7a-d8e75c3f342a"
   },
   "outputs": [],
   "source": [
    "df['Country']"
   ]
  },
  {
   "cell_type": "code",
   "execution_count": null,
   "metadata": {
    "colab": {
     "base_uri": "https://localhost:8080/"
    },
    "id": "kizANc2GOGMV",
    "outputId": "c606c92c-9b0f-49aa-cae4-2035622ed84d"
   },
   "outputs": [],
   "source": [
    "df.Country"
   ]
  },
  {
   "cell_type": "markdown",
   "metadata": {
    "id": "cytnMis_5o6z"
   },
   "source": [
    "데이터프레임의 데이터는 딕셔너리로 넘겨주는게 일반적입니다.\n",
    "\n",
    "- 칼럼명을 함께 넘겨줄 수 있기 때문입니다.\n",
    "- **동일한 데이터타입끼리 함께 묶어서 넘겨줄 수 있기 때문입니다.**"
   ]
  },
  {
   "cell_type": "code",
   "execution_count": null,
   "metadata": {
    "colab": {
     "base_uri": "https://localhost:8080/",
     "height": 141
    },
    "id": "NFntK2xQyiPE",
    "outputId": "7c09e3de-3a7c-454f-dec4-996f8e6a80c3"
   },
   "outputs": [],
   "source": [
    "data = {'Country': ['Belgium', 'India', 'Brazil'],\n",
    "        'Capital': ['Brussels', 'New Delhi', 'Brasília'],\n",
    "        'Population': [11190846, 1303171035, 207847528]}\n",
    "\n",
    "df = pandas.DataFrame(data)\n",
    "\n",
    "df"
   ]
  },
  {
   "cell_type": "markdown",
   "metadata": {
    "id": "GSOca-hb6pMi"
   },
   "source": [
    "칼럼명과 마찬가지로 인덱스 역시 변경할 수 있습니다."
   ]
  },
  {
   "cell_type": "code",
   "execution_count": null,
   "metadata": {
    "colab": {
     "base_uri": "https://localhost:8080/",
     "height": 141
    },
    "id": "9SKuwsU6yk9N",
    "outputId": "dd51beae-5269-4131-c8b1-713ef50d1fa0"
   },
   "outputs": [],
   "source": [
    "data = {'Country': ['Belgium', 'India', 'Brazil'],\n",
    "        'Capital': ['Brussels', 'New Delhi', 'Brasília'],\n",
    "        'Population': [11190846, 1303171035, 207847528]}\n",
    "\n",
    "df_2 = pandas.DataFrame(data,\n",
    "                    index=['aa', 'bb', 'cc'])\n",
    "\n",
    "df_2"
   ]
  },
  {
   "cell_type": "markdown",
   "metadata": {
    "id": "nanFpU7S07zL"
   },
   "source": [
    "**type()**을 통해 데이터타입이 DataFrame인 걸 확인할 수 있습니다."
   ]
  },
  {
   "cell_type": "code",
   "execution_count": null,
   "metadata": {
    "colab": {
     "base_uri": "https://localhost:8080/"
    },
    "id": "yNtFh6z51Fzh",
    "outputId": "7a598c91-41bf-45bd-ed42-1a3bf5ff1947"
   },
   "outputs": [],
   "source": [
    "type(df)"
   ]
  },
  {
   "cell_type": "markdown",
   "metadata": {
    "id": "lLDAnDLW1Nch"
   },
   "source": [
    "데이터프레임의 하나의 열은 어떤 데이터구조로 되어있을까요?"
   ]
  },
  {
   "cell_type": "code",
   "execution_count": null,
   "metadata": {
    "colab": {
     "base_uri": "https://localhost:8080/"
    },
    "id": "fYiwdVogO620",
    "outputId": "c4892f57-01af-4cae-89af-336f3d8f3b5f"
   },
   "outputs": [],
   "source": [
    "df.info()"
   ]
  },
  {
   "cell_type": "code",
   "execution_count": null,
   "metadata": {
    "colab": {
     "base_uri": "https://localhost:8080/"
    },
    "id": "KBbzpqfFPGRU",
    "outputId": "005a9668-a516-4367-fdbf-dba51d1d2227"
   },
   "outputs": [],
   "source": [
    "df.Country.dtype"
   ]
  },
  {
   "cell_type": "code",
   "execution_count": null,
   "metadata": {
    "colab": {
     "base_uri": "https://localhost:8080/"
    },
    "id": "aBB_KeuY08Xp",
    "outputId": "17920dfa-d3ca-42e3-e558-5b866689dec2"
   },
   "outputs": [],
   "source": [
    "type(df['Country'])"
   ]
  },
  {
   "cell_type": "code",
   "execution_count": null,
   "metadata": {
    "id": "1AeevSeHzerY"
   },
   "outputs": [],
   "source": [
    "df.Country"
   ]
  },
  {
   "cell_type": "markdown",
   "metadata": {
    "id": "TxseQAKI1U22"
   },
   "source": [
    "데이터프레임 각 열의 데이터타입은 Series라는걸 알 수 있습니다."
   ]
  },
  {
   "cell_type": "markdown",
   "metadata": {
    "id": "CuKrfCFZXzfM"
   },
   "source": [
    "### 속성\n",
    "\n",
    "아래와 같은 속성을 가집니다.\n",
    "\n",
    "- index\n",
    "- columns\n",
    "- dtypes\n",
    "- values"
   ]
  },
  {
   "cell_type": "code",
   "execution_count": null,
   "metadata": {
    "colab": {
     "base_uri": "https://localhost:8080/"
    },
    "id": "FeLlouFuX2xg",
    "outputId": "cdce2590-20f5-4bb3-d881-0666fef61c06"
   },
   "outputs": [],
   "source": [
    "df.index"
   ]
  },
  {
   "cell_type": "code",
   "execution_count": null,
   "metadata": {
    "colab": {
     "base_uri": "https://localhost:8080/"
    },
    "id": "CAle5ksHY94i",
    "outputId": "8d40d59b-511c-41b8-9a42-f44d4c4be976"
   },
   "outputs": [],
   "source": [
    "df.columns"
   ]
  },
  {
   "cell_type": "code",
   "execution_count": null,
   "metadata": {
    "colab": {
     "base_uri": "https://localhost:8080/"
    },
    "id": "WyVwLH5nY9tZ",
    "outputId": "c28268f3-60ba-437b-eca1-5d89e28a6a83"
   },
   "outputs": [],
   "source": [
    "df.dtypes"
   ]
  },
  {
   "cell_type": "code",
   "execution_count": null,
   "metadata": {
    "colab": {
     "base_uri": "https://localhost:8080/"
    },
    "id": "1_gOFVdmZHBI",
    "outputId": "dc4db804-9840-4171-80dd-3dae59b3f5cc"
   },
   "outputs": [],
   "source": [
    "df.values"
   ]
  },
  {
   "cell_type": "markdown",
   "metadata": {
    "id": "KINUU5yxZM3f"
   },
   "source": [
    "Index, columns, dtypes를 한번에 조회하고 싶다면 info()를 사용하세요."
   ]
  },
  {
   "cell_type": "code",
   "execution_count": null,
   "metadata": {
    "colab": {
     "base_uri": "https://localhost:8080/"
    },
    "id": "j062-g28Y9G6",
    "outputId": "e51d6c5d-cd2a-4250-ae93-528179011362"
   },
   "outputs": [],
   "source": [
    "df.info()"
   ]
  },
  {
   "cell_type": "markdown",
   "metadata": {
    "id": "v8tklKsAZsl3"
   },
   "source": [
    "특정한 칼럼을 index로 사용할수도 있습니다."
   ]
  },
  {
   "cell_type": "code",
   "execution_count": null,
   "metadata": {
    "colab": {
     "base_uri": "https://localhost:8080/",
     "height": 141
    },
    "id": "h0bOGfoEZG7E",
    "outputId": "4054d543-1a62-4d56-8e1d-a5775739bc36"
   },
   "outputs": [],
   "source": [
    "df"
   ]
  },
  {
   "cell_type": "code",
   "execution_count": null,
   "metadata": {
    "colab": {
     "base_uri": "https://localhost:8080/",
     "height": 171
    },
    "id": "1sZg4i5pZ2H2",
    "outputId": "f15d11fd-9acb-4e4c-beed-bd50093e5277"
   },
   "outputs": [],
   "source": [
    "df_index_with_country = df.set_index('Country')\n",
    "\n",
    "df_index_with_country"
   ]
  },
  {
   "cell_type": "markdown",
   "metadata": {
    "id": "eHHIiKfqaIiB"
   },
   "source": [
    "하나의 인덱스만 가능한것은 아닙니다. DataFrame은 여러개의 인덱스를 가질 수 있습니다."
   ]
  },
  {
   "cell_type": "code",
   "execution_count": null,
   "metadata": {
    "colab": {
     "base_uri": "https://localhost:8080/",
     "height": 171
    },
    "id": "-fQTkQ8haBj_",
    "outputId": "827f13a4-129b-4c5e-89be-9989bcfe5340"
   },
   "outputs": [],
   "source": [
    "df_index_with_country_and_capital = df.set_index(['Country', 'Capital'])\n",
    "\n",
    "df_index_with_country_and_capital"
   ]
  },
  {
   "cell_type": "code",
   "execution_count": null,
   "metadata": {
    "id": "TReiu48S4CF7"
   },
   "outputs": [],
   "source": [
    "# 인덱싱\n",
    "df_index_with_country_and_capital.loc[['Belgium', 'Brusseles']]"
   ]
  },
  {
   "cell_type": "markdown",
   "metadata": {
    "id": "NTH3IiH5x4WC"
   },
   "source": [
    "### Dataframe의 column은 어떤 데이터타입일까\n",
    "\n",
    "기존에 학습한 데이터프레임 생성 방식은 아래처럼 모든 데이터를 직접 명시해주는 것이었습니다.\n",
    "\n",
    "아래 코드는 각 열을 파이썬의 리스트 형태로 입력하는 방식입니다.\n",
    "리스트 형태로 입력된 데이터를 기반으로 판다스가 Series를 만들고 Series들로 DataFrame을 만드는 것이죠."
   ]
  },
  {
   "cell_type": "code",
   "execution_count": null,
   "metadata": {
    "colab": {
     "base_uri": "https://localhost:8080/",
     "height": 171
    },
    "id": "gbK4KNcUyO-A",
    "outputId": "ca4d78b1-ec04-40a0-91ac-f627069d2158"
   },
   "outputs": [],
   "source": [
    "data = {'col1': [1, 2, 3, 4],\n",
    "        'col2': [5, 6, 7, 8],\n",
    "        'col3': [9, 10, 11, 12]}\n",
    "\n",
    "df_3 = pandas.DataFrame(data, \n",
    "                    index=['A', 'B', 'C', 'D'])\n",
    "\n",
    "df_3"
   ]
  },
  {
   "cell_type": "markdown",
   "metadata": {
    "id": "wIASxZicuBM6"
   },
   "source": [
    "\n",
    "\n",
    "![](http://drive.google.com/uc?export=view&id=1vXLOGcypyLgT12DGNIGTnmna8BIW1pvK)\n",
    "\n",
    "\n"
   ]
  },
  {
   "cell_type": "markdown",
   "metadata": {
    "id": "LwqNG8Vy1rcE"
   },
   "source": [
    "파이썬 리스트가 아닌 Series를 통해서도 DataFrame을 생성할 수 있습니다."
   ]
  },
  {
   "cell_type": "code",
   "execution_count": null,
   "metadata": {
    "id": "4QJnSeOKRCjY"
   },
   "outputs": [],
   "source": []
  },
  {
   "cell_type": "code",
   "execution_count": null,
   "metadata": {
    "colab": {
     "base_uri": "https://localhost:8080/",
     "height": 167
    },
    "id": "wsImXajZunqs",
    "outputId": "dd5d048f-5132-4fc3-f7ff-7a530ee92542"
   },
   "outputs": [],
   "source": [
    "s_1 =pandas.Series([1, 2, 3, 4], index=['A', 'B', 'C', 'D'])\n",
    "s_2 = pandas.Series([5, 6, 7, 8], index=['A', 'B', 'C', 'D'])\n",
    "s_3 = pandas.Series([9, 10, 11, 12], index=['A', 'B', 'C', 'D'])\n",
    "\n",
    "data = {'col1': s_1,\n",
    "        'col2': s_2,\n",
    "        'col3': s_3}\n",
    "\n",
    "df_4 = pandas.DataFrame(data, index=['A', 'B', 'C', 'D'])\n",
    "\n",
    "df_4"
   ]
  },
  {
   "cell_type": "markdown",
   "metadata": {
    "id": "Jo2XT4f8a73H"
   },
   "source": [
    "## NumPy ndarray와 비교"
   ]
  },
  {
   "cell_type": "markdown",
   "metadata": {
    "id": "0iyjucgZbRls"
   },
   "source": [
    "### 공통점\n",
    "\n",
    "NumPy 다차원배열처럼 많은 연산들이 요소들간에 이루어집니다.(Elementwise-operation)"
   ]
  },
  {
   "cell_type": "code",
   "execution_count": null,
   "metadata": {
    "id": "aNNINWrdbdO5"
   },
   "outputs": [],
   "source": [
    "s"
   ]
  },
  {
   "cell_type": "code",
   "execution_count": null,
   "metadata": {
    "id": "sso4sI80bgME"
   },
   "outputs": [],
   "source": [
    "s + 10"
   ]
  },
  {
   "cell_type": "code",
   "execution_count": null,
   "metadata": {
    "id": "19nHeT3hb6-Y"
   },
   "outputs": [],
   "source": [
    "df"
   ]
  },
  {
   "cell_type": "code",
   "execution_count": null,
   "metadata": {
    "id": "s_AleGwpbih2"
   },
   "outputs": [],
   "source": [
    "df['Population'] / 1000"
   ]
  },
  {
   "cell_type": "code",
   "execution_count": null,
   "metadata": {
    "id": "_-3ylexJb9h6"
   },
   "outputs": [],
   "source": [
    "df['Country'] + df['Capital']"
   ]
  },
  {
   "cell_type": "markdown",
   "metadata": {
    "id": "nlzyAgCZbSst"
   },
   "source": [
    "### 차이점\n",
    "\n",
    "Series간 연산을 하는 경우, index를 기반으로 이루어집니다. \n",
    "\n",
    "(모든 NumPy 다차원배열은 shape가 동일하다면 index도 동일하기에 index가 달라 연산이 이루어지지 않는 경우는 없음.)"
   ]
  },
  {
   "cell_type": "code",
   "execution_count": null,
   "metadata": {
    "id": "DVDH0OsucHb3"
   },
   "outputs": [],
   "source": [
    "s"
   ]
  },
  {
   "cell_type": "code",
   "execution_count": null,
   "metadata": {
    "id": "o5eN9gnbcJLd"
   },
   "outputs": [],
   "source": [
    "s1 = s[['a', 'b']]\n",
    "s2 = s[['b', 'c']]"
   ]
  },
  {
   "cell_type": "code",
   "execution_count": null,
   "metadata": {
    "id": "7XS0v9FPcIqM"
   },
   "outputs": [],
   "source": [
    "s1"
   ]
  },
  {
   "cell_type": "code",
   "execution_count": null,
   "metadata": {
    "id": "W7yZcyV9cUV0"
   },
   "outputs": [],
   "source": [
    "s2"
   ]
  },
  {
   "cell_type": "code",
   "execution_count": null,
   "metadata": {
    "id": "7OHKXm9scUSa"
   },
   "outputs": [],
   "source": [
    "s1 + s2"
   ]
  },
  {
   "cell_type": "markdown",
   "metadata": {
    "id": "Do8I5trIzsxo"
   },
   "source": [
    "## 실습"
   ]
  },
  {
   "cell_type": "code",
   "execution_count": null,
   "metadata": {
    "id": "Sk6FDoAozxv6"
   },
   "outputs": [],
   "source": [
    "df_index_with_country"
   ]
  },
  {
   "cell_type": "markdown",
   "metadata": {
    "id": "fCOg8j6nzvYd"
   },
   "source": [
    "<div class=\"alert alert-success\">\n",
    "    <b>EXERCISE</b>: df_index_with_country이 데이터로 주어졌을때 각 국가의 수도 인구는 벨기에 수도 인구 대비 몇 배인지 구하세요.\n",
    "</div>"
   ]
  },
  {
   "cell_type": "code",
   "execution_count": null,
   "metadata": {
    "id": "XoHaynG60L1L"
   },
   "outputs": [],
   "source": [
    "df_index_with_country[?] / df_index_with_country[?][?]"
   ]
  },
  {
   "cell_type": "markdown",
   "metadata": {
    "id": "lMeyci4y7l9v"
   },
   "source": [
    "# 3. Pandas Importing/Exproting\n",
    "\n",
    "직접 데이터를 입력하여 DataFrame이나 Series를 생성할 일은 실무에서 많지 않습니다.<br>\n",
    "실무에서는 이미 데이터가 존재하는 경우가 많고 그 데이터를 판다스로 importing해서 분석을 진행합니다.\n",
    "\n",
    "CSV나 엑셀 형태의 파일로 저장된 데이터를 판다스로 가져오거나 직접 데이터베이스에 연결해서 데이터를 가져와서 작업하는 경우가 일반적입니다.\n",
    "\n",
    "pandas가 지원하는 Importing/Exporting 포맷은 아래와 같습니다.\n",
    "- csv (모든 text파일 연결에 사용)\n",
    "- excel\n",
    "- sql (모든 데이터베이스 연결에 사용)\n",
    "- hdf5\n",
    "- json\n",
    "- html\n",
    "- pickle\n",
    "- ..."
   ]
  },
  {
   "cell_type": "markdown",
   "metadata": {
    "id": "zuWUpYF2dbJv"
   },
   "source": [
    "Importing 함수의 경우 **pd.read** 형태를 가지며 Exporting 함수의 경우 **df.to** 형태를 가집니다.\n",
    "\n",
    "\n",
    "예시) json의 경우"
   ]
  },
  {
   "cell_type": "code",
   "execution_count": null,
   "metadata": {
    "id": "EMZbcUmXd-ul"
   },
   "outputs": [],
   "source": [
    "json_data = df.to_json()\n",
    "json_data"
   ]
  },
  {
   "cell_type": "code",
   "execution_count": null,
   "metadata": {
    "id": "xHQAhb2jeNoq"
   },
   "outputs": [],
   "source": [
    "pd.read_json(json_data)"
   ]
  },
  {
   "cell_type": "markdown",
   "metadata": {
    "id": "645kKNXhf3U7"
   },
   "source": [
    "## 1) CSV\n",
    "\n",
    "하나의 파일로 관리 가능한 크기의 데이터라면, 데이터를 파일로 저장할때 일반적으로 CSV포맷을 활용합니다.\n",
    "\n",
    "CSV는 comma-separated values의 약자이며 값들을 ,로 구분합니다."
   ]
  },
  {
   "cell_type": "markdown",
   "metadata": {
    "id": "DdFs7FPCf6Wc"
   },
   "source": [
    "### Importing"
   ]
  },
  {
   "cell_type": "code",
   "execution_count": null,
   "metadata": {
    "id": "7_FfXUw5z5yz"
   },
   "outputs": [],
   "source": [
    "# 파일다운로드 받기\n",
    "!wget -O 'iris_sample.csv' https://raw.githubusercontent.com/duc-ke/edu_jupyter_pandas/master/dataset/iris_sample.csv"
   ]
  },
  {
   "cell_type": "code",
   "execution_count": null,
   "metadata": {
    "id": "Bx58Zcp8TPuJ"
   },
   "outputs": [],
   "source": [
    "df_iris_sample = pd.read_csv('iris_sample.csv')"
   ]
  },
  {
   "cell_type": "code",
   "execution_count": null,
   "metadata": {
    "id": "pJs1yxi8UQ7b"
   },
   "outputs": [],
   "source": [
    "df_iris_sample"
   ]
  },
  {
   "cell_type": "markdown",
   "metadata": {
    "id": "1GSSEjj8Y2te"
   },
   "source": [
    "csv뿐만 아니라 tsv, txt도 read_csv()파일을 통해 읽어올 수 있습니다.\n",
    "\n",
    "파일 관점에서 보면 csv, tsv, txt는 동일합니다. csv, tsv역시 txt파일이며 값을 구분하는 구분자가 콤마냐 탭이냐의 차이입니다."
   ]
  },
  {
   "cell_type": "markdown",
   "metadata": {
    "id": "1kwwPCibZpJU"
   },
   "source": [
    "#### txt"
   ]
  },
  {
   "cell_type": "code",
   "execution_count": null,
   "metadata": {
    "id": "ou1Gp4MRY3MN"
   },
   "outputs": [],
   "source": [
    "# 'iris_sample.txt' 로 확장자를 바꿔 파일다운로드 받기\n",
    "!wget -O 'iris_sample.txt' https://raw.githubusercontent.com/duc-ke/edu_jupyter_pandas/master/dataset/iris_sample.csv"
   ]
  },
  {
   "cell_type": "code",
   "execution_count": null,
   "metadata": {
    "id": "VoTlAO0AZAfJ"
   },
   "outputs": [],
   "source": [
    "pd.read_csv('iris_sample.txt')"
   ]
  },
  {
   "cell_type": "markdown",
   "metadata": {
    "id": "uh8sWiisZq2Y"
   },
   "source": [
    "#### tsv\n",
    "\n",
    "TSV는 tab-separated values의 약자이며 값들을 tab으로 구분합니다."
   ]
  },
  {
   "cell_type": "code",
   "execution_count": null,
   "metadata": {
    "id": "c4RCDKf1Zthi"
   },
   "outputs": [],
   "source": [
    "!wget -O 'tsv_sample.tsv' https://gist.githubusercontent.com/mbostock/3305937/raw/a5be7c5fd55c4fa0ca8a400cb68d658a40989966/data.tsv"
   ]
  },
  {
   "cell_type": "code",
   "execution_count": null,
   "metadata": {
    "id": "3fAObB4QafeG"
   },
   "outputs": [],
   "source": [
    "pd.read_csv('tsv_sample.tsv')"
   ]
  },
  {
   "cell_type": "code",
   "execution_count": null,
   "metadata": {
    "id": "cgSUF8mSafTS"
   },
   "outputs": [],
   "source": [
    "pd.read_csv('tsv_sample.tsv', sep='\\t')"
   ]
  },
  {
   "cell_type": "code",
   "execution_count": null,
   "metadata": {
    "id": "Qm-z0tyjVQ89"
   },
   "outputs": [],
   "source": [
    "# 새출발"
   ]
  },
  {
   "cell_type": "code",
   "execution_count": null,
   "metadata": {
    "colab": {
     "base_uri": "https://localhost:8080/"
    },
    "id": "rbFETnQgVUaJ",
    "outputId": "5202f56f-c8d2-450d-ccf3-51bb5d0c4039"
   },
   "outputs": [],
   "source": [
    "!ls -l"
   ]
  },
  {
   "cell_type": "code",
   "execution_count": null,
   "metadata": {
    "id": "G0CyralGYr6B"
   },
   "outputs": [],
   "source": [
    "!pip install pandas-profiling==2.11.0"
   ]
  },
  {
   "cell_type": "code",
   "execution_count": null,
   "metadata": {
    "id": "H7Da_CWoWsRy"
   },
   "outputs": [],
   "source": [
    "import pandas as pd"
   ]
  },
  {
   "cell_type": "code",
   "execution_count": null,
   "metadata": {
    "id": "yg4jSsGyY564"
   },
   "outputs": [],
   "source": [
    "import pandas_profiling"
   ]
  },
  {
   "cell_type": "code",
   "execution_count": null,
   "metadata": {
    "colab": {
     "base_uri": "https://localhost:8080/",
     "height": 284
    },
    "id": "h4fZ-KJTcfUe",
    "outputId": "5df763d4-4827-44e3-e68b-ed2c6103c96a"
   },
   "outputs": [],
   "source": [
    "df.describe()"
   ]
  },
  {
   "cell_type": "code",
   "execution_count": null,
   "metadata": {
    "id": "auIzurB1WZI0"
   },
   "outputs": [],
   "source": [
    "df = pd.read_csv('./tips.csv')"
   ]
  },
  {
   "cell_type": "code",
   "execution_count": null,
   "metadata": {
    "id": "Gh8izeUablyj"
   },
   "outputs": [],
   "source": [
    "df.profile_report()"
   ]
  },
  {
   "cell_type": "code",
   "execution_count": null,
   "metadata": {
    "colab": {
     "base_uri": "https://localhost:8080/",
     "height": 35
    },
    "id": "0a04Nns6ajEL",
    "outputId": "7f250046-88c0-4a94-a41f-d42242cbc4ff"
   },
   "outputs": [],
   "source": [
    "pd.__version__"
   ]
  },
  {
   "cell_type": "code",
   "execution_count": null,
   "metadata": {
    "id": "vUMsET9sZFoo"
   },
   "outputs": [],
   "source": [
    "\n"
   ]
  },
  {
   "cell_type": "code",
   "execution_count": null,
   "metadata": {
    "colab": {
     "base_uri": "https://localhost:8080/",
     "height": 284
    },
    "id": "uLsUUc_XW29F",
    "outputId": "99d507ea-9fb4-4bef-e8d6-21be7122063b"
   },
   "outputs": [],
   "source": [
    "df.describe()"
   ]
  },
  {
   "cell_type": "code",
   "execution_count": null,
   "metadata": {
    "colab": {
     "base_uri": "https://localhost:8080/"
    },
    "id": "IwuFGzCWXEp7",
    "outputId": "db355274-ae7d-4439-bdfb-ff9a4b39dff5"
   },
   "outputs": [],
   "source": [
    "df.info()"
   ]
  },
  {
   "cell_type": "code",
   "execution_count": null,
   "metadata": {
    "colab": {
     "base_uri": "https://localhost:8080/"
    },
    "id": "QIGIw8aMXUUP",
    "outputId": "88e11f44-7dfe-4b4a-eed4-a062fa7c853d"
   },
   "outputs": [],
   "source": [
    "df.columns"
   ]
  },
  {
   "cell_type": "code",
   "execution_count": null,
   "metadata": {
    "colab": {
     "base_uri": "https://localhost:8080/",
     "height": 415
    },
    "id": "aPkseq98Xdek",
    "outputId": "95fc6007-c207-4a9a-9719-9db109316639"
   },
   "outputs": [],
   "source": [
    "df"
   ]
  },
  {
   "cell_type": "markdown",
   "metadata": {
    "id": "ocxS1eGeXlIi"
   },
   "source": [
    "### Exporting\n",
    "csv를 통해 생성한 df_iris_sample에서 첫 5행만 'iris_sample_2.csv'로 저장해봅시다"
   ]
  },
  {
   "cell_type": "code",
   "execution_count": null,
   "metadata": {
    "id": "Tgt6e9S-XysT"
   },
   "outputs": [],
   "source": [
    "df_iris_sample.head()"
   ]
  },
  {
   "cell_type": "code",
   "execution_count": null,
   "metadata": {
    "id": "_BBXNvVSXgCR"
   },
   "outputs": [],
   "source": [
    "df_iris_sample_2 = df_iris_sample.head()"
   ]
  },
  {
   "cell_type": "code",
   "execution_count": null,
   "metadata": {
    "id": "uk-39yFBYO6V"
   },
   "outputs": [],
   "source": [
    "df_iris_sample_2"
   ]
  },
  {
   "cell_type": "code",
   "execution_count": null,
   "metadata": {
    "id": "hm092WujYP_-"
   },
   "outputs": [],
   "source": [
    "df_iris_sample_2.to_csv('iris_sample_2.csv')"
   ]
  },
  {
   "cell_type": "markdown",
   "metadata": {
    "id": "Neo2qDkTYXQS"
   },
   "source": [
    "잘 저장되었는지 다시 확인해보겠습니다."
   ]
  },
  {
   "cell_type": "code",
   "execution_count": null,
   "metadata": {
    "id": "QOSCOkw9YSzS"
   },
   "outputs": [],
   "source": [
    "pd.read_csv('iris_sample_2.csv')"
   ]
  },
  {
   "cell_type": "markdown",
   "metadata": {
    "id": "_UgpOYJaYmRD"
   },
   "source": [
    "**Unnamed: 0** 라는 열이 들어가 있습니다. 이는 to_csv()시 index도 함께 파일에 저장되기에 생기는 문제입니다.\n",
    "\n",
    "저장시 index=False 를 통해 이 문제를 해결할 수 있습니다."
   ]
  },
  {
   "cell_type": "code",
   "execution_count": null,
   "metadata": {
    "id": "eSLGS_a_Yces"
   },
   "outputs": [],
   "source": [
    "df_iris_sample_2.to_csv('iris_sample_2_no_index.csv', index=False)"
   ]
  },
  {
   "cell_type": "code",
   "execution_count": null,
   "metadata": {
    "id": "BPDXvSSCbNty"
   },
   "outputs": [],
   "source": [
    "pd.read_csv('iris_sample_2_no_index.csv')"
   ]
  },
  {
   "cell_type": "markdown",
   "metadata": {
    "id": "xXcD1LGSf_te"
   },
   "source": [
    "txt, tsv도 동일한 to_csv()로 다룰 수 있습니다."
   ]
  },
  {
   "cell_type": "markdown",
   "metadata": {
    "id": "g-03_vB6fg-5"
   },
   "source": [
    "## 2) 엑셀\n",
    "\n",
    "엑셀파일은 read_excel(), to_excel() 을 활용해서 다룹니다."
   ]
  },
  {
   "cell_type": "markdown",
   "metadata": {
    "id": "o0OV3clFgFKb"
   },
   "source": [
    "### 입력"
   ]
  },
  {
   "cell_type": "code",
   "execution_count": null,
   "metadata": {
    "id": "Pp5x85GybPqj"
   },
   "outputs": [],
   "source": [
    "# 파일다운로드 받기\n",
    "!wget -O '성적표.xlsx' https://www.dropbox.com/s/zubhmxf4aj9eg7y/%EC%84%B1%EC%A0%81%ED%91%9C.xlsx?dl=0"
   ]
  },
  {
   "cell_type": "code",
   "execution_count": null,
   "metadata": {
    "id": "s2FkttfjgVCd"
   },
   "outputs": [],
   "source": [
    "pd.read_excel('성적표.xlsx')"
   ]
  },
  {
   "cell_type": "markdown",
   "metadata": {
    "id": "yld23AfZsVyg"
   },
   "source": [
    "기본적으로 read_excel()은 첫번째 시트를 가져옵니다. 위 코드는 sheet_name=0이 생략되어있으며 아래의 코드와 동일한 결과를 보입니다. "
   ]
  },
  {
   "cell_type": "code",
   "execution_count": null,
   "metadata": {
    "id": "-oK6akytsO8J"
   },
   "outputs": [],
   "source": [
    "pd.read_excel('성적표.xlsx', sheet_name=0)"
   ]
  },
  {
   "cell_type": "markdown",
   "metadata": {
    "id": "fQSW5lB3sfKc"
   },
   "source": [
    "두 번째 시트를 가져오려면 sheet_name 파라메터에 1을 전달해야 합니다."
   ]
  },
  {
   "cell_type": "code",
   "execution_count": null,
   "metadata": {
    "id": "O9RemV47sk3W"
   },
   "outputs": [],
   "source": [
    "pd.read_excel('성적표.xlsx', sheet_name=1)"
   ]
  },
  {
   "cell_type": "markdown",
   "metadata": {
    "id": "s4dbCdVcsnl-"
   },
   "source": [
    "또는 시트의 이름을 명시해서 가져올수도 있습니다."
   ]
  },
  {
   "cell_type": "code",
   "execution_count": null,
   "metadata": {
    "id": "PPhGh3z4gbAW"
   },
   "outputs": [],
   "source": [
    "pd.read_excel('성적표.xlsx', sheet_name='Sheet2')"
   ]
  },
  {
   "cell_type": "markdown",
   "metadata": {
    "id": "N_drj7GggGpC"
   },
   "source": [
    "### 출력"
   ]
  },
  {
   "cell_type": "markdown",
   "metadata": {
    "id": "avfxaDS_s25y"
   },
   "source": [
    "to_excel()로 엑셀 파일 쓰기가 가능합니다.\n",
    "\n",
    "sheet_name 파라메터를 통해 시트명을 정할 수 있습니다.\n",
    "\n",
    "> to_excel()을 사용하기 위해선 ‘openpyxl’ 또는 ‘xlsxwriter’ 라이브러리가 필요합니다."
   ]
  },
  {
   "cell_type": "code",
   "execution_count": null,
   "metadata": {
    "id": "WyUMAjavta9o"
   },
   "outputs": [],
   "source": [
    "# xlsxwriter 라이브러리 설치\n",
    "!pip install xlsxwriter"
   ]
  },
  {
   "cell_type": "code",
   "execution_count": null,
   "metadata": {
    "id": "khKOIgArgHGN"
   },
   "outputs": [],
   "source": [
    "df_sheet2 = pd.read_excel('성적표.xlsx', sheet_name='Sheet2')\n",
    "\n",
    "df_sheet2.to_excel('to_excel.xlsx', sheet_name='이름을 적어주세요')\n",
    "# df_sheet2.to_excel('to_excel.xlsx', sheet_name='이름을 적어주세요', index=False)"
   ]
  },
  {
   "cell_type": "code",
   "execution_count": null,
   "metadata": {
    "id": "R24J-mp9hS2i"
   },
   "outputs": [],
   "source": [
    "pd.read_excel('to_excel.xlsx')"
   ]
  },
  {
   "cell_type": "markdown",
   "metadata": {
    "id": "sQ121Aq9IrxW"
   },
   "source": [
    "## 3) 데이터베이스"
   ]
  },
  {
   "cell_type": "code",
   "execution_count": null,
   "metadata": {
    "id": "cvN2cphNH70V"
   },
   "outputs": [],
   "source": [
    "#  라이브러리 설치\n",
    "!pip install mysql-connector-python"
   ]
  },
  {
   "cell_type": "code",
   "execution_count": null,
   "metadata": {
    "id": "xXghBj6LIzdk"
   },
   "outputs": [],
   "source": [
    "import sqlalchemy\n",
    "\n",
    "user = \"anonymous\"\n",
    "host = \"ensembldb.ensembl.org\"\n",
    "port = 3337\n",
    "database = \"ailuropoda_melanoleuca_core_79_1\"\n",
    "\n",
    "url = f\"mysql+mysqlconnector://{user}@{host}:{port}/{database}\"\n",
    "# url = f\"mysql+mysqlconnector://{user}:{password}@{host}:{port}/{database}\"\n",
    "\n",
    "connection = sqlalchemy.create_engine(url)"
   ]
  },
  {
   "cell_type": "code",
   "execution_count": null,
   "metadata": {
    "id": "LKispu2iI2CS"
   },
   "outputs": [],
   "source": [
    "pd.read_sql(\"select * from analysis limit 10\", connection)"
   ]
  },
  {
   "cell_type": "markdown",
   "metadata": {},
   "source": [
    "------------\n",
    "# 06_08"
   ]
  },
  {
   "cell_type": "markdown",
   "metadata": {
    "id": "QwBNMLnavK0F"
   },
   "source": [
    "# 4. 인덱싱/슬라이싱 \n"
   ]
  },
  {
   "cell_type": "markdown",
   "metadata": {
    "id": "hdkJcRl2ggbu"
   },
   "source": [
    "## 0) [ ] \n",
    "\n",
    "- **[ ]** 연산자를 활용해 데이터를 가져올 수 있습니다.\n",
    "- 간단히 사용하기에는 좋지만 불규칙적이라 loc, iloc를 통한 인덱싱/슬라이싱을 추천합니다."
   ]
  },
  {
   "cell_type": "code",
   "execution_count": null,
   "metadata": {
    "id": "konD4Inigjzw"
   },
   "outputs": [],
   "source": [
    "df"
   ]
  },
  {
   "cell_type": "markdown",
   "metadata": {
    "id": "InL7DbCPgoSK"
   },
   "source": [
    "- 단일 칼럼 조회"
   ]
  },
  {
   "cell_type": "code",
   "execution_count": null,
   "metadata": {
    "id": "_5pql3ZVgl4-"
   },
   "outputs": [],
   "source": [
    "df['Country']"
   ]
  },
  {
   "cell_type": "markdown",
   "metadata": {
    "id": "M4qdK7lNgrSW"
   },
   "source": [
    "- 복수 칼럼 조회"
   ]
  },
  {
   "cell_type": "code",
   "execution_count": null,
   "metadata": {
    "id": "pZSHpQiYgsS2"
   },
   "outputs": [],
   "source": [
    "df[['Country', 'Population']]"
   ]
  },
  {
   "cell_type": "markdown",
   "metadata": {
    "id": "SIJHWDJggziN"
   },
   "source": [
    "- 슬라이싱\n",
    "  - **[ ]** 를 통한 슬라이싱은 row(행)에 적용됩니다."
   ]
  },
  {
   "cell_type": "code",
   "execution_count": null,
   "metadata": {
    "id": "PNskjZYZgr0X"
   },
   "outputs": [],
   "source": [
    "# index 슬라이싱. 2 미포함\n",
    "df[0:2]"
   ]
  },
  {
   "cell_type": "markdown",
   "metadata": {
    "id": "8Uv0ciZ9hxqA"
   },
   "source": [
    "- 슬라이싱\n",
    "  - index로 슬라이싱 하지 않고 label로 슬라이싱 하는 경우, 마지막 라벨은 포함됩니다."
   ]
  },
  {
   "cell_type": "code",
   "execution_count": 2,
   "metadata": {},
   "outputs": [],
   "source": [
    "import pandas as pd"
   ]
  },
  {
   "cell_type": "code",
   "execution_count": 3,
   "metadata": {
    "id": "G7uPuFNfhsre"
   },
   "outputs": [
    {
     "data": {
      "text/html": [
       "<div>\n",
       "<style scoped>\n",
       "    .dataframe tbody tr th:only-of-type {\n",
       "        vertical-align: middle;\n",
       "    }\n",
       "\n",
       "    .dataframe tbody tr th {\n",
       "        vertical-align: top;\n",
       "    }\n",
       "\n",
       "    .dataframe thead th {\n",
       "        text-align: right;\n",
       "    }\n",
       "</style>\n",
       "<table border=\"1\" class=\"dataframe\">\n",
       "  <thead>\n",
       "    <tr style=\"text-align: right;\">\n",
       "      <th></th>\n",
       "      <th>Country</th>\n",
       "      <th>Capital</th>\n",
       "      <th>Population</th>\n",
       "    </tr>\n",
       "  </thead>\n",
       "  <tbody>\n",
       "    <tr>\n",
       "      <th>aa</th>\n",
       "      <td>Belgium</td>\n",
       "      <td>Brussels</td>\n",
       "      <td>11190846</td>\n",
       "    </tr>\n",
       "    <tr>\n",
       "      <th>bb</th>\n",
       "      <td>India</td>\n",
       "      <td>New Delhi</td>\n",
       "      <td>1303171035</td>\n",
       "    </tr>\n",
       "    <tr>\n",
       "      <th>cc</th>\n",
       "      <td>Brazil</td>\n",
       "      <td>Brasília</td>\n",
       "      <td>207847528</td>\n",
       "    </tr>\n",
       "  </tbody>\n",
       "</table>\n",
       "</div>"
      ],
      "text/plain": [
       "    Country    Capital  Population\n",
       "aa  Belgium   Brussels    11190846\n",
       "bb    India  New Delhi  1303171035\n",
       "cc   Brazil   Brasília   207847528"
      ]
     },
     "execution_count": 3,
     "metadata": {},
     "output_type": "execute_result"
    }
   ],
   "source": [
    "data = {'Country': ['Belgium', 'India', 'Brazil'],\n",
    "        'Capital': ['Brussels', 'New Delhi', 'Brasília'],\n",
    "        'Population': [11190846, 1303171035, 207847528]}\n",
    "\n",
    "df_2 = pd.DataFrame(data\n",
    "                  , index=['aa', 'bb', 'cc']                  \n",
    "                 )\n",
    "\n",
    "df_2"
   ]
  },
  {
   "cell_type": "code",
   "execution_count": 4,
   "metadata": {
    "id": "Jcd0_N5ahuFR"
   },
   "outputs": [
    {
     "data": {
      "text/html": [
       "<div>\n",
       "<style scoped>\n",
       "    .dataframe tbody tr th:only-of-type {\n",
       "        vertical-align: middle;\n",
       "    }\n",
       "\n",
       "    .dataframe tbody tr th {\n",
       "        vertical-align: top;\n",
       "    }\n",
       "\n",
       "    .dataframe thead th {\n",
       "        text-align: right;\n",
       "    }\n",
       "</style>\n",
       "<table border=\"1\" class=\"dataframe\">\n",
       "  <thead>\n",
       "    <tr style=\"text-align: right;\">\n",
       "      <th></th>\n",
       "      <th>Country</th>\n",
       "      <th>Capital</th>\n",
       "      <th>Population</th>\n",
       "    </tr>\n",
       "  </thead>\n",
       "  <tbody>\n",
       "    <tr>\n",
       "      <th>aa</th>\n",
       "      <td>Belgium</td>\n",
       "      <td>Brussels</td>\n",
       "      <td>11190846</td>\n",
       "    </tr>\n",
       "    <tr>\n",
       "      <th>bb</th>\n",
       "      <td>India</td>\n",
       "      <td>New Delhi</td>\n",
       "      <td>1303171035</td>\n",
       "    </tr>\n",
       "    <tr>\n",
       "      <th>cc</th>\n",
       "      <td>Brazil</td>\n",
       "      <td>Brasília</td>\n",
       "      <td>207847528</td>\n",
       "    </tr>\n",
       "  </tbody>\n",
       "</table>\n",
       "</div>"
      ],
      "text/plain": [
       "    Country    Capital  Population\n",
       "aa  Belgium   Brussels    11190846\n",
       "bb    India  New Delhi  1303171035\n",
       "cc   Brazil   Brasília   207847528"
      ]
     },
     "execution_count": 4,
     "metadata": {},
     "output_type": "execute_result"
    }
   ],
   "source": [
    "# label 슬라이싱. 'cc' 포함\n",
    "df_2['aa':'cc']"
   ]
  },
  {
   "cell_type": "markdown",
   "metadata": {
    "id": "VYysdk6hvMGO"
   },
   "source": [
    "## 1) 인덱싱\n",
    "\n",
    "- loc (Label based indexing)\n",
    "- iloc (Positional indexing)\n",
    "- ix (사용 권장하지 않음)"
   ]
  },
  {
   "cell_type": "code",
   "execution_count": 6,
   "metadata": {
    "id": "xSB-KJbowIsy"
   },
   "outputs": [
    {
     "data": {
      "text/plain": [
       "'Belgium'"
      ]
     },
     "execution_count": 6,
     "metadata": {},
     "output_type": "execute_result"
    }
   ],
   "source": [
    "df_2.iloc[0,0] # 위치를 통한 인덱싱"
   ]
  },
  {
   "cell_type": "code",
   "execution_count": 7,
   "metadata": {
    "id": "3i2yQzSFwPgp"
   },
   "outputs": [
    {
     "data": {
      "text/plain": [
       "'Belgium'"
      ]
     },
     "execution_count": 7,
     "metadata": {},
     "output_type": "execute_result"
    }
   ],
   "source": [
    "df_2.iat[0,0] # 위치를 통한 인덱싱"
   ]
  },
  {
   "cell_type": "code",
   "execution_count": 11,
   "metadata": {
    "id": "KKle-rq4wPd9"
   },
   "outputs": [
    {
     "data": {
      "text/plain": [
       "'Belgium'"
      ]
     },
     "execution_count": 11,
     "metadata": {},
     "output_type": "execute_result"
    }
   ],
   "source": [
    "df_2.loc['aa', 'Country'] # 라벨을 통한 인덱싱"
   ]
  },
  {
   "cell_type": "code",
   "execution_count": 12,
   "metadata": {
    "id": "RHFmAXn1wPbP"
   },
   "outputs": [
    {
     "data": {
      "text/plain": [
       "'Belgium'"
      ]
     },
     "execution_count": 12,
     "metadata": {},
     "output_type": "execute_result"
    }
   ],
   "source": [
    "df_2.at['aa', 'Country'] # 라벨을 통한 인덱싱"
   ]
  },
  {
   "cell_type": "code",
   "execution_count": 14,
   "metadata": {
    "id": "iTZvdpcywPYk"
   },
   "outputs": [
    {
     "ename": "AttributeError",
     "evalue": "'DataFrame' object has no attribute 'ix'",
     "output_type": "error",
     "traceback": [
      "\u001b[0;31m---------------------------------------------------------------------------\u001b[0m",
      "\u001b[0;31mAttributeError\u001b[0m                            Traceback (most recent call last)",
      "\u001b[0;32m<ipython-input-14-7beb22a9a626>\u001b[0m in \u001b[0;36m<module>\u001b[0;34m\u001b[0m\n\u001b[0;32m----> 1\u001b[0;31m \u001b[0mdf_2\u001b[0m\u001b[0;34m.\u001b[0m\u001b[0mix\u001b[0m\u001b[0;34m[\u001b[0m\u001b[0;36m1\u001b[0m\u001b[0;34m,\u001b[0m \u001b[0;34m'Capital'\u001b[0m\u001b[0;34m]\u001b[0m \u001b[0;31m# 위치/라벨을 통한 인덱싱 (사용하지 말것을 권장)\u001b[0m\u001b[0;34m\u001b[0m\u001b[0;34m\u001b[0m\u001b[0m\n\u001b[0m\u001b[1;32m      2\u001b[0m                     \u001b[0;31m# 행은 위치, 열은 라벨을 통해 인덱싱\u001b[0m\u001b[0;34m\u001b[0m\u001b[0;34m\u001b[0m\u001b[0;34m\u001b[0m\u001b[0m\n",
      "\u001b[0;32m/Users/anaconda3/envs/multi/lib/python3.7/site-packages/pandas/core/generic.py\u001b[0m in \u001b[0;36m__getattr__\u001b[0;34m(self, name)\u001b[0m\n\u001b[1;32m   5463\u001b[0m             \u001b[0;32mif\u001b[0m \u001b[0mself\u001b[0m\u001b[0;34m.\u001b[0m\u001b[0m_info_axis\u001b[0m\u001b[0;34m.\u001b[0m\u001b[0m_can_hold_identifiers_and_holds_name\u001b[0m\u001b[0;34m(\u001b[0m\u001b[0mname\u001b[0m\u001b[0;34m)\u001b[0m\u001b[0;34m:\u001b[0m\u001b[0;34m\u001b[0m\u001b[0;34m\u001b[0m\u001b[0m\n\u001b[1;32m   5464\u001b[0m                 \u001b[0;32mreturn\u001b[0m \u001b[0mself\u001b[0m\u001b[0;34m[\u001b[0m\u001b[0mname\u001b[0m\u001b[0;34m]\u001b[0m\u001b[0;34m\u001b[0m\u001b[0;34m\u001b[0m\u001b[0m\n\u001b[0;32m-> 5465\u001b[0;31m             \u001b[0;32mreturn\u001b[0m \u001b[0mobject\u001b[0m\u001b[0;34m.\u001b[0m\u001b[0m__getattribute__\u001b[0m\u001b[0;34m(\u001b[0m\u001b[0mself\u001b[0m\u001b[0;34m,\u001b[0m \u001b[0mname\u001b[0m\u001b[0;34m)\u001b[0m\u001b[0;34m\u001b[0m\u001b[0;34m\u001b[0m\u001b[0m\n\u001b[0m\u001b[1;32m   5466\u001b[0m \u001b[0;34m\u001b[0m\u001b[0m\n\u001b[1;32m   5467\u001b[0m     \u001b[0;32mdef\u001b[0m \u001b[0m__setattr__\u001b[0m\u001b[0;34m(\u001b[0m\u001b[0mself\u001b[0m\u001b[0;34m,\u001b[0m \u001b[0mname\u001b[0m\u001b[0;34m:\u001b[0m \u001b[0mstr\u001b[0m\u001b[0;34m,\u001b[0m \u001b[0mvalue\u001b[0m\u001b[0;34m)\u001b[0m \u001b[0;34m->\u001b[0m \u001b[0;32mNone\u001b[0m\u001b[0;34m:\u001b[0m\u001b[0;34m\u001b[0m\u001b[0;34m\u001b[0m\u001b[0m\n",
      "\u001b[0;31mAttributeError\u001b[0m: 'DataFrame' object has no attribute 'ix'"
     ]
    }
   ],
   "source": [
    "# df_2.ix[1, 'Capital'] # 위치/라벨을 통한 인덱싱 (사용하지 말것을 권장)\n",
    "                    # 행은 위치, 열은 라벨을 통해 인덱싱"
   ]
  },
  {
   "cell_type": "markdown",
   "metadata": {
    "id": "L3Z0O-wKvNPT"
   },
   "source": [
    "## 2) 슬라이싱"
   ]
  },
  {
   "cell_type": "code",
   "execution_count": 44,
   "metadata": {},
   "outputs": [
    {
     "data": {
      "text/html": [
       "<div>\n",
       "<style scoped>\n",
       "    .dataframe tbody tr th:only-of-type {\n",
       "        vertical-align: middle;\n",
       "    }\n",
       "\n",
       "    .dataframe tbody tr th {\n",
       "        vertical-align: top;\n",
       "    }\n",
       "\n",
       "    .dataframe thead th {\n",
       "        text-align: right;\n",
       "    }\n",
       "</style>\n",
       "<table border=\"1\" class=\"dataframe\">\n",
       "  <thead>\n",
       "    <tr style=\"text-align: right;\">\n",
       "      <th></th>\n",
       "      <th>Country</th>\n",
       "      <th>Capital</th>\n",
       "      <th>Population</th>\n",
       "    </tr>\n",
       "  </thead>\n",
       "  <tbody>\n",
       "    <tr>\n",
       "      <th>0</th>\n",
       "      <td>Belgium</td>\n",
       "      <td>Brussels</td>\n",
       "      <td>11190846</td>\n",
       "    </tr>\n",
       "    <tr>\n",
       "      <th>1</th>\n",
       "      <td>India</td>\n",
       "      <td>New Delhi</td>\n",
       "      <td>1303171035</td>\n",
       "    </tr>\n",
       "    <tr>\n",
       "      <th>2</th>\n",
       "      <td>Brazil</td>\n",
       "      <td>Brasília</td>\n",
       "      <td>207847528</td>\n",
       "    </tr>\n",
       "  </tbody>\n",
       "</table>\n",
       "</div>"
      ],
      "text/plain": [
       "   Country    Capital  Population\n",
       "0  Belgium   Brussels    11190846\n",
       "1    India  New Delhi  1303171035\n",
       "2   Brazil   Brasília   207847528"
      ]
     },
     "execution_count": 44,
     "metadata": {},
     "output_type": "execute_result"
    }
   ],
   "source": [
    "data = {'Country': ['Belgium', 'India', 'Brazil'],\n",
    "        'Capital': ['Brussels', 'New Delhi', 'Brasília'],\n",
    "        'Population': [11190846, 1303171035, 207847528]}\n",
    "\n",
    "df = pd.DataFrame(data)\n",
    "\n",
    "df"
   ]
  },
  {
   "cell_type": "code",
   "execution_count": 45,
   "metadata": {},
   "outputs": [
    {
     "data": {
      "text/html": [
       "<div>\n",
       "<style scoped>\n",
       "    .dataframe tbody tr th:only-of-type {\n",
       "        vertical-align: middle;\n",
       "    }\n",
       "\n",
       "    .dataframe tbody tr th {\n",
       "        vertical-align: top;\n",
       "    }\n",
       "\n",
       "    .dataframe thead th {\n",
       "        text-align: right;\n",
       "    }\n",
       "</style>\n",
       "<table border=\"1\" class=\"dataframe\">\n",
       "  <thead>\n",
       "    <tr style=\"text-align: right;\">\n",
       "      <th></th>\n",
       "      <th>Country</th>\n",
       "      <th>Capital</th>\n",
       "    </tr>\n",
       "  </thead>\n",
       "  <tbody>\n",
       "    <tr>\n",
       "      <th>0</th>\n",
       "      <td>Belgium</td>\n",
       "      <td>Brussels</td>\n",
       "    </tr>\n",
       "    <tr>\n",
       "      <th>1</th>\n",
       "      <td>India</td>\n",
       "      <td>New Delhi</td>\n",
       "    </tr>\n",
       "  </tbody>\n",
       "</table>\n",
       "</div>"
      ],
      "text/plain": [
       "   Country    Capital\n",
       "0  Belgium   Brussels\n",
       "1    India  New Delhi"
      ]
     },
     "execution_count": 45,
     "metadata": {},
     "output_type": "execute_result"
    }
   ],
   "source": [
    "df.loc[0:1, 'Country':'Capital'] "
   ]
  },
  {
   "cell_type": "code",
   "execution_count": 15,
   "metadata": {
    "id": "hdofFctTwT_3"
   },
   "outputs": [
    {
     "data": {
      "text/html": [
       "<div>\n",
       "<style scoped>\n",
       "    .dataframe tbody tr th:only-of-type {\n",
       "        vertical-align: middle;\n",
       "    }\n",
       "\n",
       "    .dataframe tbody tr th {\n",
       "        vertical-align: top;\n",
       "    }\n",
       "\n",
       "    .dataframe thead th {\n",
       "        text-align: right;\n",
       "    }\n",
       "</style>\n",
       "<table border=\"1\" class=\"dataframe\">\n",
       "  <thead>\n",
       "    <tr style=\"text-align: right;\">\n",
       "      <th></th>\n",
       "      <th>Country</th>\n",
       "      <th>Capital</th>\n",
       "    </tr>\n",
       "  </thead>\n",
       "  <tbody>\n",
       "    <tr>\n",
       "      <th>aa</th>\n",
       "      <td>Belgium</td>\n",
       "      <td>Brussels</td>\n",
       "    </tr>\n",
       "  </tbody>\n",
       "</table>\n",
       "</div>"
      ],
      "text/plain": [
       "    Country   Capital\n",
       "aa  Belgium  Brussels"
      ]
     },
     "execution_count": 15,
     "metadata": {},
     "output_type": "execute_result"
    }
   ],
   "source": [
    "df_2.iloc[0:1,0:2] # 위치를 통한 슬라이싱 (끝은 미포함)"
   ]
  },
  {
   "cell_type": "code",
   "execution_count": 31,
   "metadata": {
    "id": "A0e1013MwT6d"
   },
   "outputs": [
    {
     "data": {
      "text/plain": [
       "Country     Belgium\n",
       "Capital    Brussels\n",
       "Name: aa, dtype: object"
      ]
     },
     "execution_count": 31,
     "metadata": {},
     "output_type": "execute_result"
    }
   ],
   "source": [
    "df_2.loc['aa', 'Country':'Capital'] # 라벨을 통한 슬라이싱 (끝 포함)"
   ]
  },
  {
   "cell_type": "code",
   "execution_count": 32,
   "metadata": {},
   "outputs": [
    {
     "data": {
      "text/plain": [
       "Country        India\n",
       "Capital    New Delhi\n",
       "Name: bb, dtype: object"
      ]
     },
     "execution_count": 32,
     "metadata": {},
     "output_type": "execute_result"
    }
   ],
   "source": [
    "df_2.loc['bb', 'Country':'Capital']"
   ]
  },
  {
   "cell_type": "code",
   "execution_count": 22,
   "metadata": {},
   "outputs": [
    {
     "data": {
      "text/plain": [
       "Country        Belgium\n",
       "Capital       Brussels\n",
       "Population    11190846\n",
       "Name: aa, dtype: object"
      ]
     },
     "execution_count": 22,
     "metadata": {},
     "output_type": "execute_result"
    }
   ],
   "source": [
    "df_2.iloc[0,:]"
   ]
  },
  {
   "cell_type": "code",
   "execution_count": 23,
   "metadata": {},
   "outputs": [
    {
     "data": {
      "text/plain": [
       "Country        Belgium\n",
       "Capital       Brussels\n",
       "Population    11190846\n",
       "Name: aa, dtype: object"
      ]
     },
     "execution_count": 23,
     "metadata": {},
     "output_type": "execute_result"
    }
   ],
   "source": [
    "df_2.loc['aa',:]"
   ]
  },
  {
   "cell_type": "code",
   "execution_count": 30,
   "metadata": {},
   "outputs": [
    {
     "data": {
      "text/plain": [
       "Country            India\n",
       "Capital        New Delhi\n",
       "Population    1303171035\n",
       "Name: bb, dtype: object"
      ]
     },
     "execution_count": 30,
     "metadata": {},
     "output_type": "execute_result"
    }
   ],
   "source": [
    "df_2.loc['bb',:]"
   ]
  },
  {
   "cell_type": "markdown",
   "metadata": {
    "id": "dxOlwh3XvPM1"
   },
   "source": [
    "## 3) 불리언 인덱싱 (필터링)\n",
    "- 조건을 제시하고 조건이 True인 요소만을 조회하는 방식\n",
    "- 필터링이라고도 불리웁니다."
   ]
  },
  {
   "cell_type": "code",
   "execution_count": null,
   "metadata": {
    "id": "1xI6_LdhwYgw"
   },
   "outputs": [],
   "source": [
    "df"
   ]
  },
  {
   "cell_type": "code",
   "execution_count": null,
   "metadata": {
    "id": "FaI-4-5JwZvj"
   },
   "outputs": [],
   "source": [
    "df['Population'] > 200000000"
   ]
  },
  {
   "cell_type": "code",
   "execution_count": null,
   "metadata": {
    "id": "rwdRR5QpwcXP"
   },
   "outputs": [],
   "source": [
    "df[df['Population'] > 200000000] "
   ]
  },
  {
   "cell_type": "markdown",
   "metadata": {
    "id": "Ht4SZP9r1SId"
   },
   "source": [
    "## 실습"
   ]
  },
  {
   "cell_type": "code",
   "execution_count": null,
   "metadata": {
    "id": "z_0-TueP1TG_"
   },
   "outputs": [],
   "source": [
    "# dataframe\n",
    "data = {'country': ['Belgium', 'France', 'Germany', 'Netherlands', 'United Kingdom'],\n",
    "        'population': [11.3, 64.3, 81.3, 16.9, 64.9],\n",
    "        'area': [30510, 671308, 357050, 41526, 244820],\n",
    "        'capital': ['Brussels', 'Paris', 'Berlin', 'Amsterdam', 'London']}\n",
    "countries = pd.DataFrame(data)\n",
    "countries = countries.set_index('country') # 인덱스 지정\n",
    "countries"
   ]
  },
  {
   "cell_type": "markdown",
   "metadata": {
    "id": "6SznKDyR1k7R"
   },
   "source": [
    "---\n",
    "\n",
    "<div class=\"alert alert-success\">\n",
    "    <b>EXERCISE</b>: 인구밀도를 의미하는 `density` 칼럼을 추가하세요. (주의: 현재 'population' 칼럼은 10만 단위로 표기되어 있습니다)  \n",
    "  \n",
    "</div>"
   ]
  },
  {
   "cell_type": "code",
   "execution_count": null,
   "metadata": {
    "id": "-OlQOEiN144s"
   },
   "outputs": [],
   "source": [
    "countries['density'] = countries[?]*1000000 / countries[?]\n",
    "countries"
   ]
  },
  {
   "cell_type": "markdown",
   "metadata": {
    "id": "bqITcsFi18mG"
   },
   "source": [
    "<div class=\"alert alert-success\">\n",
    "    <b>EXERCISE</b>: 인구밀도가 300을 초과하는 국가(country)의 수도(capital)과 인구(population)을 선택해주세요.  \n",
    "  \n",
    "</div>"
   ]
  },
  {
   "cell_type": "code",
   "execution_count": null,
   "metadata": {
    "id": "mBbhH1xf19Ev"
   },
   "outputs": [],
   "source": [
    "countries.loc[countries[?] > 300, [?]]"
   ]
  },
  {
   "cell_type": "markdown",
   "metadata": {
    "id": "XPGBIDXT2TL7"
   },
   "source": [
    "<div class=\"alert alert-success\">\n",
    "    <b>EXERCISE</b>: 'density_ratio' 칼럼을 추가해주세요. (density_ratio = 인구밀도/평균 인구밀도)\n",
    "</div>"
   ]
  },
  {
   "cell_type": "code",
   "execution_count": null,
   "metadata": {
    "id": "5YqWGkoo2S0C"
   },
   "outputs": [],
   "source": [
    "countries['density_ratio'] = \n",
    "countries"
   ]
  },
  {
   "cell_type": "markdown",
   "metadata": {
    "id": "qehg-_vu2i3U"
   },
   "source": [
    "<div class=\"alert alert-success\">\n",
    "    <b>EXERCISE</b>: 영국(United Kingdom)의 수도(capital)를 'Cambridge'로 변경해주세요.\n",
    "</div>"
   ]
  },
  {
   "cell_type": "code",
   "execution_count": null,
   "metadata": {
    "id": "zDjD-qnw2jS5"
   },
   "outputs": [],
   "source": [
    "countries.loc[?, ?] = 'Cambridge'\n",
    "countries"
   ]
  },
  {
   "cell_type": "markdown",
   "metadata": {
    "id": "AffG6gW021ru"
   },
   "source": [
    "<div class=\"alert alert-success\">\n",
    "    <b>EXERCISE</b>: 인구 밀도가 100 초과, 300 미만인 국가들을 표시해주세요.  \n",
    "</div>"
   ]
  },
  {
   "cell_type": "code",
   "execution_count": null,
   "metadata": {
    "id": "qfeknDLB22U3"
   },
   "outputs": [],
   "source": []
  },
  {
   "cell_type": "markdown",
   "metadata": {
    "id": "zY2tEY6Ol1LN"
   },
   "source": [
    "\n",
    "\n",
    "---\n",
    "\n"
   ]
  },
  {
   "cell_type": "markdown",
   "metadata": {
    "id": "XTDQx7-XLnH7"
   },
   "source": [
    "- 스트링 다루는 법"
   ]
  },
  {
   "cell_type": "code",
   "execution_count": null,
   "metadata": {
    "id": "xpwX7RBvmFRc"
   },
   "outputs": [],
   "source": [
    "countries['capital'].str.len()"
   ]
  },
  {
   "cell_type": "markdown",
   "metadata": {
    "id": "XTz_7CPwl1iQ"
   },
   "source": [
    "\n",
    "\n",
    "---\n",
    "\n"
   ]
  },
  {
   "cell_type": "markdown",
   "metadata": {
    "id": "zuaQGg6ukTUs"
   },
   "source": [
    "<div class=\"alert alert-success\">\n",
    "    <b>EXERCISE</b>: 수도가 7글자 이상인 국가들을 표시해주세요. (힌트: string의 len( )를 사용하세요.)\n",
    "</div>"
   ]
  },
  {
   "cell_type": "code",
   "execution_count": null,
   "metadata": {
    "id": "_lMYHULGkWqT"
   },
   "outputs": [],
   "source": []
  },
  {
   "cell_type": "markdown",
   "metadata": {
    "id": "6oYKCYktkY6U"
   },
   "source": [
    "<div class=\"alert alert-success\">\n",
    "    <b>EXERCISE</b>: 수도에 'am' 이 포함되는 국가들을 표시해주세요. (힌트: string의 contains( )를 사용하세요.)\n",
    "</div>"
   ]
  },
  {
   "cell_type": "code",
   "execution_count": null,
   "metadata": {
    "id": "eTdOWVp7kag4"
   },
   "outputs": [],
   "source": []
  },
  {
   "cell_type": "markdown",
   "metadata": {
    "id": "edNt-GSWjtif"
   },
   "source": [
    "# 5. 삭제"
   ]
  },
  {
   "cell_type": "markdown",
   "metadata": {
    "id": "W-zkvEE0vRU9"
   },
   "source": [
    "## 1) Row(행) 삭제\n",
    "\n",
    "\n",
    "- axis=0\n",
    "- axis의 기본 값이 0이니 생략 가능"
   ]
  },
  {
   "cell_type": "markdown",
   "metadata": {
    "id": "yMsi3RVHvRSa"
   },
   "source": [
    "### 단일 행 삭제"
   ]
  },
  {
   "cell_type": "code",
   "execution_count": null,
   "metadata": {
    "id": "SsK2d2WQw8aR"
   },
   "outputs": [],
   "source": [
    "df.drop(1)"
   ]
  },
  {
   "cell_type": "markdown",
   "metadata": {
    "id": "1zgd5gTrvRPz"
   },
   "source": [
    "### 복수 행 삭제"
   ]
  },
  {
   "cell_type": "code",
   "execution_count": null,
   "metadata": {
    "id": "25VYZLmHw-hI"
   },
   "outputs": [],
   "source": [
    "df.drop([0,1])"
   ]
  },
  {
   "cell_type": "markdown",
   "metadata": {
    "id": "8vDTXYysvRNJ"
   },
   "source": [
    "## 2) Column(열) 삭제\n",
    "\n",
    "- axis=1"
   ]
  },
  {
   "cell_type": "markdown",
   "metadata": {
    "id": "hhT8jOZBvREm"
   },
   "source": [
    "### 단일 열 삭제"
   ]
  },
  {
   "cell_type": "code",
   "execution_count": null,
   "metadata": {
    "id": "MsmBlJGJxBtz"
   },
   "outputs": [],
   "source": [
    "df.drop('Country', axis=1)"
   ]
  },
  {
   "cell_type": "markdown",
   "metadata": {
    "id": "eK8S43T6vsLc"
   },
   "source": [
    "### 복수 열 삭제"
   ]
  },
  {
   "cell_type": "code",
   "execution_count": null,
   "metadata": {
    "id": "CGZD7ZK6xCop"
   },
   "outputs": [],
   "source": [
    "df.drop(['Country', 'Population'], axis=1)"
   ]
  },
  {
   "cell_type": "markdown",
   "metadata": {
    "id": "DASrakJWvsJG"
   },
   "source": [
    "## 참조. Series 삭제"
   ]
  },
  {
   "cell_type": "code",
   "execution_count": null,
   "metadata": {
    "id": "AbZ1jPAQj8l8"
   },
   "outputs": [],
   "source": [
    "s"
   ]
  },
  {
   "cell_type": "code",
   "execution_count": null,
   "metadata": {
    "id": "1aJ4d_4PxDwU"
   },
   "outputs": [],
   "source": [
    "s.drop(['a', 'c'])\n",
    "# s = s.drop(['a', 'c']) # 삭제한 결과를 사용하고 싶다면 다시 변수로 선언해주어야 한다"
   ]
  },
  {
   "cell_type": "code",
   "execution_count": null,
   "metadata": {
    "id": "abgLjKyoj0dF"
   },
   "outputs": [],
   "source": [
    "s"
   ]
  },
  {
   "cell_type": "markdown",
   "metadata": {
    "id": "j5VpMhKHvsGT"
   },
   "source": [
    "# 6. Pandas 함수"
   ]
  },
  {
   "cell_type": "code",
   "execution_count": null,
   "metadata": {
    "id": "jyYhtTPexTyi"
   },
   "outputs": [],
   "source": [
    "df"
   ]
  },
  {
   "cell_type": "markdown",
   "metadata": {
    "id": "UBDrf9t1n946"
   },
   "source": [
    "##  데이터 탐색에 유용한 함수"
   ]
  },
  {
   "cell_type": "code",
   "execution_count": null,
   "metadata": {
    "id": "-wI1yFMfxTmH"
   },
   "outputs": [],
   "source": [
    "df.describe() # 숫자 열에만 적용. 숫자열의 통계값과 최대최소값등을 보여줌"
   ]
  },
  {
   "cell_type": "code",
   "execution_count": null,
   "metadata": {
    "id": "3zttj97FnVEc"
   },
   "outputs": [],
   "source": [
    "df.head(2) # 초반 n행을 보여줌. default는 5\n",
    "# df.head(n=2)"
   ]
  },
  {
   "cell_type": "code",
   "execution_count": null,
   "metadata": {
    "id": "zmzUTnvzpEW3"
   },
   "outputs": [],
   "source": [
    "df.sort_values('Population') # 오름차순 정렬"
   ]
  },
  {
   "cell_type": "code",
   "execution_count": null,
   "metadata": {
    "id": "I5iDixxGpYVm"
   },
   "outputs": [],
   "source": [
    "df.sort_values('Population', ascending=False) # 내림차순 정렬"
   ]
  },
  {
   "cell_type": "code",
   "execution_count": null,
   "metadata": {
    "id": "CQOj1KgCpxjD"
   },
   "outputs": [],
   "source": [
    "df.isnull() # null값이 있는지 확인"
   ]
  },
  {
   "cell_type": "code",
   "execution_count": null,
   "metadata": {
    "id": "VQ5JcBxup9CK"
   },
   "outputs": [],
   "source": [
    "# column(열)별로 null값이 있는지 확인\n",
    "df.isnull().any() # axis=0이 생략된 형태\n",
    "# df.isnull().any(axis=0)"
   ]
  },
  {
   "cell_type": "code",
   "execution_count": null,
   "metadata": {
    "id": "0K9YoRRTqQ5G"
   },
   "outputs": [],
   "source": [
    "# row(행)별로 null값이 있는지 확인\n",
    "df.isnull().any(axis=1)"
   ]
  },
  {
   "cell_type": "code",
   "execution_count": null,
   "metadata": {
    "id": "rrGSHnCTrijK"
   },
   "outputs": [],
   "source": [
    "# null값이 DataFrame내에 하나라도 있는지 확인\n",
    "df.isnull().any().any()"
   ]
  },
  {
   "cell_type": "code",
   "execution_count": null,
   "metadata": {
    "id": "m108eaDWDPzw"
   },
   "outputs": [],
   "source": [
    "df2 = df.copy()"
   ]
  },
  {
   "cell_type": "code",
   "execution_count": null,
   "metadata": {
    "id": "d99-rLruDSHC"
   },
   "outputs": [],
   "source": [
    "df2"
   ]
  },
  {
   "cell_type": "code",
   "execution_count": null,
   "metadata": {
    "id": "Dnud_my4Da9L"
   },
   "outputs": [],
   "source": [
    "df2.loc[0, 'Population'] = None"
   ]
  },
  {
   "cell_type": "code",
   "execution_count": null,
   "metadata": {
    "id": "sZa1Mx4ZDgUP"
   },
   "outputs": [],
   "source": [
    "df2"
   ]
  },
  {
   "cell_type": "code",
   "execution_count": null,
   "metadata": {
    "id": "ZGeyq9kSDkp9"
   },
   "outputs": [],
   "source": [
    "df2.isnull().any()"
   ]
  },
  {
   "cell_type": "markdown",
   "metadata": {
    "id": "4p6mLrynn11C"
   },
   "source": [
    "## aggregate 함수"
   ]
  },
  {
   "cell_type": "code",
   "execution_count": null,
   "metadata": {
    "id": "tlLg0TJ7xQsL"
   },
   "outputs": [],
   "source": [
    "df.count()"
   ]
  },
  {
   "cell_type": "code",
   "execution_count": null,
   "metadata": {
    "id": "czXuQWy7xTvF"
   },
   "outputs": [],
   "source": [
    "df.sum()"
   ]
  },
  {
   "cell_type": "code",
   "execution_count": null,
   "metadata": {
    "id": "VpH-9bqVxTr-"
   },
   "outputs": [],
   "source": [
    "df.min()"
   ]
  },
  {
   "cell_type": "code",
   "execution_count": null,
   "metadata": {
    "id": "DtS1jUIXxTo6"
   },
   "outputs": [],
   "source": [
    "df.max()"
   ]
  },
  {
   "cell_type": "code",
   "execution_count": null,
   "metadata": {
    "id": "B7Xm-6vexTjS"
   },
   "outputs": [],
   "source": [
    "df.mean() # 숫자 열에만 적용"
   ]
  },
  {
   "cell_type": "code",
   "execution_count": null,
   "metadata": {
    "id": "qB5keamKxTgG"
   },
   "outputs": [],
   "source": [
    "df.median() # 숫자 열에만 적용"
   ]
  },
  {
   "cell_type": "markdown",
   "metadata": {
    "id": "Fz6LzszIpkqw"
   },
   "source": [
    "## 실습"
   ]
  },
  {
   "cell_type": "code",
   "execution_count": null,
   "metadata": {
    "id": "wPZtCT9ntSPh"
   },
   "outputs": [],
   "source": [
    "!wget -O 'titles.csv' https://docs.google.com/spreadsheets/d/1fiioUPMRurfE523yWGaRF3ckO-TUHu1AaIAI6Eo7Ti8/export?format=csv"
   ]
  },
  {
   "cell_type": "code",
   "execution_count": null,
   "metadata": {
    "id": "WxKnfG_gthPz"
   },
   "outputs": [],
   "source": [
    "titles = pd.read_csv('titles.csv')\n",
    "titles.head()"
   ]
  },
  {
   "cell_type": "markdown",
   "metadata": {
    "id": "dVuuo1i2t7db"
   },
   "source": [
    "<div class=\"alert alert-success\">\n",
    "    <b>EXERCISE</b>: titles 데이터프레임에는 몇 개의 영화가 기록되어 있나요?\n",
    "</div>"
   ]
  },
  {
   "cell_type": "code",
   "execution_count": null,
   "metadata": {
    "id": "FAIaWolpuCgp"
   },
   "outputs": [],
   "source": []
  },
  {
   "cell_type": "markdown",
   "metadata": {
    "id": "VKqeNALFt7So"
   },
   "source": [
    "<div class=\"alert alert-success\">\n",
    "    <b>EXERCISE</b>: titles에서 가장 빠른 시기에 제작된 영화 두 개를 표시하세요.\n",
    "</div>"
   ]
  },
  {
   "cell_type": "code",
   "execution_count": null,
   "metadata": {
    "id": "atYpzTLVu-iQ"
   },
   "outputs": [],
   "source": []
  },
  {
   "cell_type": "markdown",
   "metadata": {
    "id": "tmubd6MHvBm6"
   },
   "source": [
    "<div class=\"alert alert-success\">\n",
    "    <b>EXERCISE</b>: 제목(title)이 \"Hamlet\"인 영화는 몇 개가 있나요?\n",
    "</div>"
   ]
  },
  {
   "cell_type": "code",
   "execution_count": null,
   "metadata": {
    "id": "nY2w0m1ouFSV"
   },
   "outputs": [],
   "source": []
  },
  {
   "cell_type": "markdown",
   "metadata": {
    "id": "Flu72UB2uHU3"
   },
   "source": [
    "<div class=\"alert alert-success\">\n",
    "    <b>EXERCISE</b>: 제목(title)이 \"Treasure Island\"인 영화를 제작년도(year)의 오름차순에 따라 표시하세요. (df.sort_values())\n",
    "</div>"
   ]
  },
  {
   "cell_type": "code",
   "execution_count": null,
   "metadata": {
    "id": "dV90ztSTuIuT"
   },
   "outputs": [],
   "source": []
  },
  {
   "cell_type": "markdown",
   "metadata": {
    "id": "Xzv9S4B8uNNc"
   },
   "source": [
    "<div class=\"alert alert-success\">\n",
    "    <b>EXERCISE</b>: 1590년에서 1959년 사이 몇 개의 영화가 만들어졌나요?(1950 <= 제작년도 <= 1959)\n",
    "</div>"
   ]
  },
  {
   "cell_type": "code",
   "execution_count": null,
   "metadata": {
    "id": "929NCyFBuP6V"
   },
   "outputs": [],
   "source": []
  },
  {
   "cell_type": "markdown",
   "metadata": {
    "id": "7jrPWSiDvxvM"
   },
   "source": [
    "# 7. apply 함수\n",
    "\n",
    "- apply함수는 요소별로 적용됨"
   ]
  },
  {
   "cell_type": "markdown",
   "metadata": {
    "id": "WpEUE2Ndvxtc"
   },
   "source": [
    "## 하나의 요소를 활용하는 경우"
   ]
  },
  {
   "cell_type": "code",
   "execution_count": null,
   "metadata": {
    "id": "u2vkhvJpxcKF"
   },
   "outputs": [],
   "source": [
    "df.loc[:, 'Population':'Population']"
   ]
  },
  {
   "cell_type": "markdown",
   "metadata": {
    "id": "yp-6dNfDxfLW"
   },
   "source": [
    "- 각 Population에 1씩 추가"
   ]
  },
  {
   "cell_type": "code",
   "execution_count": null,
   "metadata": {
    "id": "KgLRd--nxd7z"
   },
   "outputs": [],
   "source": [
    "df.loc[:, 'Population':'Population'].apply(lambda x: x + 1)"
   ]
  },
  {
   "cell_type": "markdown",
   "metadata": {
    "id": "zwSZ_yfqvxqu"
   },
   "source": [
    "## 여러개의 요소를 활용하는 경우"
   ]
  },
  {
   "cell_type": "code",
   "execution_count": null,
   "metadata": {
    "id": "jwQLS3NwxkBF"
   },
   "outputs": [],
   "source": [
    "df.loc[:, 'Country':'Capital']"
   ]
  },
  {
   "cell_type": "markdown",
   "metadata": {
    "id": "Mz5pHeH5xrIa"
   },
   "source": [
    "칼럼명(Country, Capital)을 사용해도 되고 칼럼 위치(0, 1)를 사용해도 됩니다."
   ]
  },
  {
   "cell_type": "code",
   "execution_count": null,
   "metadata": {
    "id": "5gai9cLaxm_V"
   },
   "outputs": [],
   "source": [
    "df.loc[:, 'Country':'Capital'].apply(lambda x: x['Country'] + \"'s capital is \" + x['Capital'], axis=1)"
   ]
  },
  {
   "cell_type": "code",
   "execution_count": null,
   "metadata": {
    "id": "bc4kEaKMxl4Q"
   },
   "outputs": [],
   "source": [
    "df.loc[:, 'Country':'Capital'].apply(lambda x: x[0] + \"'s capital is \" + x[1], axis=1)"
   ]
  },
  {
   "cell_type": "markdown",
   "metadata": {
    "id": "XegFt123tJrR"
   },
   "source": [
    "# 8. GroupBy"
   ]
  },
  {
   "cell_type": "markdown",
   "metadata": {
    "id": "KM59wHpotpeX"
   },
   "source": [
    "dataframe을 key값에 따라 나눈 뒤 각각에 특정한 함수를 적용한 뒤 다시 합치고 싶을때 사용합니다.\n",
    "\n",
    "groupby는 Split-Apply-Combine 단계를 거칩니다.\n",
    "\n",
    "- **Split**: Key값에 따라 나눈 뒤\n",
    "- **Apply**: 함수를 적용\n",
    "- **Combine**: 다시 합치기\n",
    "\n",
    "\n",
    "SQL의 **GROUP BY**와 유사합니다."
   ]
  },
  {
   "cell_type": "markdown",
   "metadata": {
    "id": "41PEjkBrtTHZ"
   },
   "source": [
    "![alt text](https://github.com/jorisvandenbossche/pandas-tutorial/blob/master/img/splitApplyCombine.png?raw=true)"
   ]
  },
  {
   "cell_type": "markdown",
   "metadata": {
    "id": "KsoNGg6LuopT"
   },
   "source": [
    "아래 데이터로 Groupby 예를 들어 보겠습니다."
   ]
  },
  {
   "cell_type": "code",
   "execution_count": null,
   "metadata": {
    "id": "5-hMQ1CwtJJe"
   },
   "outputs": [],
   "source": [
    "df = pd.DataFrame({'key':['A','B','C','A','B','C','A','B','C'],\n",
    "                   'data': [0, 5, 10, 5, 10, 15, 10, 15, 20]})\n",
    "df"
   ]
  },
  {
   "cell_type": "markdown",
   "metadata": {
    "id": "l_1Np7byumvr"
   },
   "source": [
    "key값에 따라 data의 합을 구하고 싶다면 어떻게 해야 할까요?\n",
    "\n",
    "key값대로 불리언인덱싱을 한 후 sum()함수를 취해주면 됩니다."
   ]
  },
  {
   "cell_type": "code",
   "execution_count": null,
   "metadata": {
    "id": "ASPS5_nKuwNp"
   },
   "outputs": [],
   "source": [
    "df['key'].unique()"
   ]
  },
  {
   "cell_type": "markdown",
   "metadata": {
    "id": "wQShoJgVu8ta"
   },
   "source": [
    "key는 'A', 'B', 'C' 이렇게 세 개가 있고 각각의 키값에 대해 불리언 인덱싱을 한 후 sum()해보겠습니다."
   ]
  },
  {
   "cell_type": "code",
   "execution_count": null,
   "metadata": {
    "id": "i85WituUuU_e"
   },
   "outputs": [],
   "source": [
    "df[df['key'] == \"A\"].sum()"
   ]
  },
  {
   "cell_type": "code",
   "execution_count": null,
   "metadata": {
    "id": "h0FIs2I5udAn"
   },
   "outputs": [],
   "source": [
    "df[df['key'] == \"B\"].sum()"
   ]
  },
  {
   "cell_type": "code",
   "execution_count": null,
   "metadata": {
    "id": "wW7eiYvkuhF2"
   },
   "outputs": [],
   "source": [
    "df[df['key'] == \"C\"].sum()"
   ]
  },
  {
   "cell_type": "markdown",
   "metadata": {
    "id": "rsI1qgPfvETm"
   },
   "source": [
    "이 과정을 groupby를 사용하면 한번에 수행할 수 있습니다."
   ]
  },
  {
   "cell_type": "code",
   "execution_count": null,
   "metadata": {
    "id": "UlFzm2vruilS"
   },
   "outputs": [],
   "source": [
    "df.groupby('key').sum()\n",
    "# df.groupby('key').aggregate(np.sum)  # 'sum'"
   ]
  },
  {
   "cell_type": "markdown",
   "metadata": {
    "id": "0B-YnD_svWFZ"
   },
   "source": [
    "## 실습"
   ]
  },
  {
   "cell_type": "code",
   "execution_count": null,
   "metadata": {
    "id": "7Wy6SdnfvJVf"
   },
   "outputs": [],
   "source": [
    "df = pd.read_csv('https://raw.githubusercontent.com/jorisvandenbossche/pandas-tutorial/master/data/titanic.csv')"
   ]
  },
  {
   "cell_type": "code",
   "execution_count": null,
   "metadata": {
    "id": "2Fo8R8J-vLJT"
   },
   "outputs": [],
   "source": [
    "df.head()"
   ]
  },
  {
   "cell_type": "markdown",
   "metadata": {
    "id": "lFdZ25VqwMQ_"
   },
   "source": [
    "타이타닉 데이터셋을 df라는 판다스 데이터프레임으로 불러왔습니다. 이 데이터로 아래 실습을 진행해주세요."
   ]
  },
  {
   "cell_type": "markdown",
   "metadata": {
    "id": "ldLQf18gwCsV"
   },
   "source": [
    "<div class=\"alert alert-success\">\n",
    "    <b>EXERCISE</b>: groupby()를 사용하여 각 성별(sex)의 평균 나이(age)를 구하세요.\n",
    "</div>"
   ]
  },
  {
   "cell_type": "code",
   "execution_count": null,
   "metadata": {
    "id": "uzFJ8ZOvwC4F"
   },
   "outputs": [],
   "source": []
  },
  {
   "cell_type": "markdown",
   "metadata": {
    "id": "kNS2xisOwUc7"
   },
   "source": [
    "<div class=\"alert alert-success\">\n",
    "    <b>EXERCISE</b>: 전체 승객(passenger)의 평균 생존율을 구하세요.\n",
    "</div>"
   ]
  },
  {
   "cell_type": "code",
   "execution_count": null,
   "metadata": {
    "id": "QnFOw1xlwJro"
   },
   "outputs": [],
   "source": []
  },
  {
   "cell_type": "markdown",
   "metadata": {
    "id": "Rk69GUpOwWXO"
   },
   "source": [
    "<div class=\"alert alert-success\">\n",
    "    <b>EXERCISE</b>: 25세 이하 승객의 생존율을 구하세요. (힌트: 불리언 인덱싱)\n",
    "</div>"
   ]
  },
  {
   "cell_type": "code",
   "execution_count": null,
   "metadata": {
    "id": "Ebd0k35LwYt9"
   },
   "outputs": [],
   "source": []
  },
  {
   "cell_type": "markdown",
   "metadata": {
    "id": "0mXpGeDJwWVG"
   },
   "source": [
    "<div class=\"alert alert-success\">\n",
    "    <b>EXERCISE</b>: 남성의 생존율을 구하세요. 여성의 생존율을 구하세요. (힌트: 불리언 인덱싱)\n",
    "</div>"
   ]
  },
  {
   "cell_type": "code",
   "execution_count": null,
   "metadata": {
    "id": "nnCfAQcCxF8X"
   },
   "outputs": [],
   "source": []
  },
  {
   "cell_type": "markdown",
   "metadata": {
    "id": "u-giWLt_xtHN"
   },
   "source": [
    "<div class=\"alert alert-success\">\n",
    "    <b>EXERCISE</b>: 생존율을 구하는 함수가 작성되어 있습니다. 성별 생존율을 groupby를 활용해 구하기 위해 ?부분을 알맞게 채워주세요.\n",
    "</div>"
   ]
  },
  {
   "cell_type": "code",
   "execution_count": null,
   "metadata": {
    "id": "louE30KJwcYw"
   },
   "outputs": [],
   "source": [
    "def survival_ratio(survived):\n",
    "    return survived.sum() / len(survived)\n",
    "  \n",
    "df.groupby(?)[?].aggregate(survival_ratio)  "
   ]
  },
  {
   "cell_type": "markdown",
   "metadata": {
    "id": "dO4sA6wXwWQW"
   },
   "source": [
    "<div class=\"alert alert-success\">\n",
    "    <b>EXERCISE</b>: 'Pclass'별로 생존율을 보기 위해 bar 차트를 그리고자 합니다. ?부분을 알맞게 채워서 bar 차트를 그려주세요.\n",
    "</div>"
   ]
  },
  {
   "cell_type": "code",
   "execution_count": null,
   "metadata": {
    "id": "bZVSD5w0wgv3"
   },
   "outputs": [],
   "source": [
    "df.groupby(?)[?].aggregate(survival_ratio).plot(kind='bar')"
   ]
  }
 ],
 "metadata": {
  "colab": {
   "collapsed_sections": [],
   "include_colab_link": true,
   "name": "0-Pandas.ipynb",
   "provenance": [],
   "toc_visible": true
  },
  "kernelspec": {
   "display_name": "Python Multi",
   "language": "python",
   "name": "multi"
  },
  "language_info": {
   "codemirror_mode": {
    "name": "ipython",
    "version": 3
   },
   "file_extension": ".py",
   "mimetype": "text/x-python",
   "name": "python",
   "nbconvert_exporter": "python",
   "pygments_lexer": "ipython3",
   "version": "3.7.6"
  }
 },
 "nbformat": 4,
 "nbformat_minor": 4
}
