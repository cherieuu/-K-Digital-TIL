{
 "cells": [
  {
   "cell_type": "code",
   "execution_count": 1,
   "id": "bf80a0c8-e842-4698-954c-94c72f3265e0",
   "metadata": {},
   "outputs": [],
   "source": [
    "import sys"
   ]
  },
  {
   "cell_type": "code",
   "execution_count": 2,
   "id": "6e9bf5d7-4a37-468d-a8e1-8da975e650e6",
   "metadata": {},
   "outputs": [],
   "source": [
    "import platform"
   ]
  },
  {
   "cell_type": "code",
   "execution_count": 3,
   "id": "186c9cc3-60c0-4067-8278-73261dd1a7a0",
   "metadata": {},
   "outputs": [],
   "source": [
    "import pandas"
   ]
  },
  {
   "cell_type": "code",
   "execution_count": 4,
   "id": "76f6b0b2-8118-4a42-af98-7e9b45c1b683",
   "metadata": {},
   "outputs": [
    {
     "data": {
      "text/plain": [
       "'1.2.3'"
      ]
     },
     "execution_count": 4,
     "metadata": {},
     "output_type": "execute_result"
    }
   ],
   "source": [
    "pandas. __version__"
   ]
  },
  {
   "cell_type": "markdown",
   "id": "6d5553b8-5e09-47db-a752-c56862c8a6b8",
   "metadata": {},
   "source": [
    "## tips analysis"
   ]
  },
  {
   "cell_type": "code",
   "execution_count": 5,
   "id": "a429f53e-7fcc-45b5-b054-fc20edfaf708",
   "metadata": {},
   "outputs": [],
   "source": [
    "import pandas as pd\n",
    "import pandas_profiling"
   ]
  },
  {
   "cell_type": "code",
   "execution_count": 6,
   "id": "70384700-048c-4393-a033-a1cf9e89da17",
   "metadata": {},
   "outputs": [
    {
     "name": "stdout",
     "output_type": "stream",
     "text": [
      "/Users/yoohwayoung\n"
     ]
    }
   ],
   "source": [
    "cd ~"
   ]
  },
  {
   "cell_type": "code",
   "execution_count": 7,
   "id": "d11fcbb9-f7f9-4be1-9888-6eb2ab804da9",
   "metadata": {},
   "outputs": [
    {
     "name": "stdout",
     "output_type": "stream",
     "text": [
      "total 24\n",
      "drwxr-xr-x    9 yoohwayoung  staff   288  6  4 17:42 \u001b[34mA-team-pjt\u001b[m\u001b[m\n",
      "drwx------@   5 yoohwayoung  staff   160  5 29 18:27 \u001b[34mApplications\u001b[m\u001b[m\n",
      "drwxr-xr-x    9 yoohwayoung  staff   288  6  4 17:45 \u001b[34mB-team-pjt\u001b[m\u001b[m\n",
      "drwx------@  11 yoohwayoung  staff   352  6  7 09:24 \u001b[34mDesktop\u001b[m\u001b[m\n",
      "drwx------+   4 yoohwayoung  staff   128  5 17 16:27 \u001b[34mDocuments\u001b[m\u001b[m\n",
      "drwx------+ 104 yoohwayoung  staff  3328  6  7 16:23 \u001b[34mDownloads\u001b[m\u001b[m\n",
      "drwx------@  86 yoohwayoung  staff  2752  6  3 13:31 \u001b[34mLibrary\u001b[m\u001b[m\n",
      "drwx------+   5 yoohwayoung  staff   160  4  7 16:56 \u001b[34mMovies\u001b[m\u001b[m\n",
      "drwx------+   7 yoohwayoung  staff   224  4  7 16:59 \u001b[34mMusic\u001b[m\u001b[m\n",
      "drwx------+   5 yoohwayoung  staff   160  7  5  2019 \u001b[34mPictures\u001b[m\u001b[m\n",
      "drwxr-xr-x+   4 yoohwayoung  staff   128  7  2  2019 \u001b[34mPublic\u001b[m\u001b[m\n",
      "drwxr-xr-x@   6 yoohwayoung  staff   192  6  6 18:01 \u001b[34m[Do_it]Algorithm\u001b[m\u001b[m\n",
      "drwxrwxr-x@  33 yoohwayoung  staff  1056  6  4 00:13 \u001b[34m[K-Digital]Training_main\u001b[m\u001b[m\n",
      "drwxr-xr-x@  16 yoohwayoung  staff   512  6  7 09:23 \u001b[34m[Study]TIL\u001b[m\u001b[m\n",
      "-rw-r--r--@   1 yoohwayoung  staff    65  6  4 15:09 [cherie] github .txt\n",
      "drwxr-xr-x@  13 yoohwayoung  staff   416  6  3 11:27 \u001b[34manaconda3\u001b[m\u001b[m\n",
      "drwxr-xr-x    7 yoohwayoung  staff   224  6  4 02:17 \u001b[34mgit_practice\u001b[m\u001b[m\n",
      "drwx------    3 yoohwayoung  staff    96  6 12  2020 \u001b[34miCloud Drive(아카이브)\u001b[m\u001b[m\n",
      "drwxr-xr-x   12 yoohwayoung  staff   384  6  5 19:49 \u001b[34mmy_pjt\u001b[m\u001b[m\n",
      "drwxr-xr-x@  28 yoohwayoung  staff   896  5 28 17:13 \u001b[34mpythonProjects\u001b[m\u001b[m\n",
      "drwxr-xr-x   10 yoohwayoung  staff   320  6  4 00:56 \u001b[34mtest_pjt\u001b[m\u001b[m\n",
      "-rw-r--r--    1 yoohwayoung  staff  6261  6  7 09:20 tmp.txt\n",
      "drwxr-xr-x    9 yoohwayoung  staff   288  6  7 04:24 \u001b[34m잡동사니\u001b[m\u001b[m\n"
     ]
    }
   ],
   "source": [
    "!ls -l"
   ]
  },
  {
   "cell_type": "code",
   "execution_count": 8,
   "id": "1aad31ca-2781-4b88-bdb7-b451493c5df6",
   "metadata": {},
   "outputs": [
    {
     "name": "stdout",
     "output_type": "stream",
     "text": [
      "/Users/yoohwayoung/[Study]TIL\n"
     ]
    }
   ],
   "source": [
    "cd [Study]TIL"
   ]
  },
  {
   "cell_type": "code",
   "execution_count": 9,
   "id": "583fb5a8-24ce-4410-bedb-ecfc3de50efb",
   "metadata": {},
   "outputs": [
    {
     "name": "stdout",
     "output_type": "stream",
     "text": [
      "/Users/yoohwayoung/[Study]TIL/0607\n"
     ]
    }
   ],
   "source": [
    "cd 0607"
   ]
  },
  {
   "cell_type": "code",
   "execution_count": 10,
   "id": "8c525e62-0d7e-40b9-b455-13261dae9143",
   "metadata": {},
   "outputs": [],
   "source": [
    "tip = pd.read_csv('tips.csv')"
   ]
  },
  {
   "cell_type": "code",
   "execution_count": 11,
   "id": "4edfb49d-9f04-40f5-bcc1-efea99edcace",
   "metadata": {},
   "outputs": [
    {
     "data": {
      "text/plain": [
       "Index(['total_bill', 'tip', 'sex', 'smoker', 'day', 'time', 'size'], dtype='object')"
      ]
     },
     "execution_count": 11,
     "metadata": {},
     "output_type": "execute_result"
    }
   ],
   "source": [
    "tip.columns"
   ]
  },
  {
   "cell_type": "code",
   "execution_count": 12,
   "id": "d3ba1254-1317-44ae-bd63-61b21b7bc42d",
   "metadata": {},
   "outputs": [
    {
     "name": "stdout",
     "output_type": "stream",
     "text": [
      "<class 'pandas.core.frame.DataFrame'>\n",
      "RangeIndex: 244 entries, 0 to 243\n",
      "Data columns (total 7 columns):\n",
      " #   Column      Non-Null Count  Dtype  \n",
      "---  ------      --------------  -----  \n",
      " 0   total_bill  244 non-null    float64\n",
      " 1   tip         244 non-null    float64\n",
      " 2   sex         244 non-null    object \n",
      " 3   smoker      244 non-null    object \n",
      " 4   day         244 non-null    object \n",
      " 5   time        244 non-null    object \n",
      " 6   size        244 non-null    int64  \n",
      "dtypes: float64(2), int64(1), object(4)\n",
      "memory usage: 13.5+ KB\n"
     ]
    }
   ],
   "source": [
    "tip.info()"
   ]
  },
  {
   "cell_type": "code",
   "execution_count": 13,
   "id": "0e65862e-e8d0-46d3-9f1f-5ce8dbacb66c",
   "metadata": {},
   "outputs": [],
   "source": [
    "import os"
   ]
  },
  {
   "cell_type": "code",
   "execution_count": 14,
   "id": "63b3d89a-7f77-4039-918f-abdc1057e6b5",
   "metadata": {},
   "outputs": [
    {
     "data": {
      "text/plain": [
       "'/Users/yoohwayoung/[Study]TIL/0607'"
      ]
     },
     "execution_count": 14,
     "metadata": {},
     "output_type": "execute_result"
    }
   ],
   "source": [
    "os.getcwd()"
   ]
  },
  {
   "cell_type": "code",
   "execution_count": 15,
   "id": "50121fed-25ab-4591-a40f-67fbfb92c9b2",
   "metadata": {},
   "outputs": [],
   "source": [
    "os.chdir(\"/Users/yoohwayoung/[Study]TIL\")"
   ]
  },
  {
   "cell_type": "code",
   "execution_count": 16,
   "id": "54efa3e3-1430-4e80-84a6-61123b9f8428",
   "metadata": {},
   "outputs": [
    {
     "data": {
      "text/plain": [
       "'/Users/yoohwayoung/[Study]TIL'"
      ]
     },
     "execution_count": 16,
     "metadata": {},
     "output_type": "execute_result"
    }
   ],
   "source": [
    "os.getcwd()"
   ]
  },
  {
   "cell_type": "code",
   "execution_count": 17,
   "id": "ed40f1e2-3cf7-4856-a263-692bd924e0c1",
   "metadata": {},
   "outputs": [],
   "source": [
    "os.chdir(\"/Users/yoohwayoung/[Study]TIL/0607\")"
   ]
  },
  {
   "cell_type": "code",
   "execution_count": 18,
   "id": "736efb8d-8f47-4a72-b3e1-11b5f5c012c8",
   "metadata": {},
   "outputs": [
    {
     "data": {
      "text/plain": [
       "'/Users/yoohwayoung/[Study]TIL/0607'"
      ]
     },
     "execution_count": 18,
     "metadata": {},
     "output_type": "execute_result"
    }
   ],
   "source": [
    "os.getcwd()"
   ]
  },
  {
   "cell_type": "code",
   "execution_count": null,
   "id": "cc50c361-feeb-42b0-a43f-e90b3187ed72",
   "metadata": {},
   "outputs": [],
   "source": []
  }
 ],
 "metadata": {
  "kernelspec": {
   "display_name": "Python Multi",
   "language": "python",
   "name": "multi"
  },
  "language_info": {
   "codemirror_mode": {
    "name": "ipython",
    "version": 3
   },
   "file_extension": ".py",
   "mimetype": "text/x-python",
   "name": "python",
   "nbconvert_exporter": "python",
   "pygments_lexer": "ipython3",
   "version": "3.7.6"
  }
 },
 "nbformat": 4,
 "nbformat_minor": 5
}
