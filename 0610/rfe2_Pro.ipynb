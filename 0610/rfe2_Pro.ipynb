{
 "cells": [
  {
   "cell_type": "markdown",
   "id": "14d8c91a-e605-4572-90e7-da98a36824dd",
   "metadata": {},
   "source": [
    "# report which features were selected by RFE"
   ]
  },
  {
   "cell_type": "code",
   "execution_count": 1,
   "id": "e66ea634-8ed2-470d-83f8-1a932d6b781e",
   "metadata": {},
   "outputs": [],
   "source": [
    "\n",
    "from sklearn.datasets import make_classification\n",
    "from sklearn.feature_selection import RFE\n",
    "from sklearn.tree import DecisionTreeClassifier\n"
   ]
  },
  {
   "cell_type": "code",
   "execution_count": 14,
   "id": "7dfcbc4d-9fab-4a84-bc7c-29c88aa5fe71",
   "metadata": {},
   "outputs": [
    {
     "name": "stdout",
     "output_type": "stream",
     "text": [
      "/Users/yoohwayoung\n"
     ]
    }
   ],
   "source": [
    "%cd"
   ]
  },
  {
   "cell_type": "code",
   "execution_count": 15,
   "id": "e7afc40d-fd45-4683-88b4-e313f73925d0",
   "metadata": {},
   "outputs": [
    {
     "name": "stdout",
     "output_type": "stream",
     "text": [
      "/Users/yoohwayoung/[K-Digital]TIL/0609\n"
     ]
    }
   ],
   "source": [
    "%cd [K-Digital]TIL/0609/"
   ]
  },
  {
   "cell_type": "code",
   "execution_count": 18,
   "id": "62a32920-41dd-4a6e-b8a5-1cf0d37efdc1",
   "metadata": {},
   "outputs": [],
   "source": [
    "!cd"
   ]
  },
  {
   "cell_type": "code",
   "execution_count": 19,
   "id": "9981f058-153d-4c74-a485-0fbf59bb07e3",
   "metadata": {},
   "outputs": [
    {
     "name": "stdout",
     "output_type": "stream",
     "text": [
      "/Users/yoohwayoung/[K-Digital]TIL/0609\n"
     ]
    }
   ],
   "source": [
    "!pwd"
   ]
  },
  {
   "cell_type": "code",
   "execution_count": 20,
   "id": "305176cc-f1e2-4f9c-a6ba-6de88affadfc",
   "metadata": {},
   "outputs": [],
   "source": [
    "import pandas as pd\n",
    "data=pd.read_csv('credit_cards_dataset.csv')"
   ]
  },
  {
   "cell_type": "code",
   "execution_count": 21,
   "id": "0c62e4a5-a1f2-40fe-9c7c-90329f7658f1",
   "metadata": {},
   "outputs": [],
   "source": [
    "# define dataset\n",
    "X, y = make_classification(n_samples=1000, n_features=10, n_informative=5, n_redundant=5,\n",
    "random_state=41) #X는 y=타겟변수"
   ]
  },
  {
   "cell_type": "code",
   "execution_count": 22,
   "id": "dd449eca-ab66-4027-a3fb-d0ada462e77c",
   "metadata": {},
   "outputs": [
    {
     "data": {
      "text/plain": [
       "(1000, 10)"
      ]
     },
     "execution_count": 22,
     "metadata": {},
     "output_type": "execute_result"
    }
   ],
   "source": [
    "X.shape"
   ]
  },
  {
   "cell_type": "code",
   "execution_count": 23,
   "id": "aa73613e-d033-4b9e-9c8d-37baac927109",
   "metadata": {},
   "outputs": [
    {
     "data": {
      "text/plain": [
       "(1000,)"
      ]
     },
     "execution_count": 23,
     "metadata": {},
     "output_type": "execute_result"
    }
   ],
   "source": [
    "y.shape"
   ]
  },
  {
   "cell_type": "code",
   "execution_count": 24,
   "id": "6ffda5c6-9208-496f-87eb-993d30cf4d7a",
   "metadata": {},
   "outputs": [
    {
     "data": {
      "text/plain": [
       "1"
      ]
     },
     "execution_count": 24,
     "metadata": {},
     "output_type": "execute_result"
    }
   ],
   "source": [
    "y.ndim"
   ]
  },
  {
   "cell_type": "code",
   "execution_count": 25,
   "id": "0adaec80-1778-4f5d-aa03-8a079c5a5513",
   "metadata": {},
   "outputs": [
    {
     "data": {
      "text/plain": [
       "array([[ 2.72451501, -2.11988846, -1.91220471, ..., -0.89666524,\n",
       "         5.83692646, -5.41861064],\n",
       "       [ 1.50730062, -1.06904405,  2.46954773, ...,  0.55992915,\n",
       "         2.46386761,  1.33527568],\n",
       "       [ 1.21276074,  0.26744805,  0.85513958, ..., -0.87334667,\n",
       "         1.81205113, -0.73120933],\n",
       "       ...,\n",
       "       [-0.67725212, -2.96492422,  0.05769619, ...,  0.76957564,\n",
       "         2.59826659, -1.2248385 ],\n",
       "       [-2.14504123,  0.92102364,  3.23083892, ..., -1.86013024,\n",
       "        -1.72313296,  3.42281893],\n",
       "       [ 2.03862058, -4.68611683,  1.03310564, ...,  0.92495724,\n",
       "         5.71098683, -0.45555294]])"
      ]
     },
     "execution_count": 25,
     "metadata": {},
     "output_type": "execute_result"
    }
   ],
   "source": [
    "X"
   ]
  },
  {
   "cell_type": "code",
   "execution_count": 26,
   "id": "9746ca7e-e8e6-421d-9e08-7478b5f8c3ac",
   "metadata": {},
   "outputs": [],
   "source": [
    "# define RFE\n",
    "rfe = RFE(estimator=DecisionTreeClassifier(), n_features_to_select=5) #feture를 5개만 지장해준 것임"
   ]
  },
  {
   "cell_type": "code",
   "execution_count": 27,
   "id": "56a8ac49-1ff4-4569-bb1f-042c276aba46",
   "metadata": {},
   "outputs": [
    {
     "data": {
      "text/plain": [
       "RFE(estimator=DecisionTreeClassifier(), n_features_to_select=5)"
      ]
     },
     "execution_count": 27,
     "metadata": {},
     "output_type": "execute_result"
    }
   ],
   "source": [
    "rfe"
   ]
  },
  {
   "cell_type": "code",
   "execution_count": 28,
   "id": "4dfb5664-4a4f-4b25-8777-ca98b97804dd",
   "metadata": {},
   "outputs": [
    {
     "data": {
      "text/plain": [
       "RFE(estimator=DecisionTreeClassifier(), n_features_to_select=5)"
      ]
     },
     "execution_count": 28,
     "metadata": {},
     "output_type": "execute_result"
    }
   ],
   "source": [
    "# fit RFE\n",
    "rfe.fit(X, y)  #알아서 컬럼을 5개로 줄여버리는 코드"
   ]
  },
  {
   "cell_type": "raw",
   "id": "0d572b73-11c8-4b53-a7ae-145b1ec08a65",
   "metadata": {},
   "source": [
    "X.shape"
   ]
  },
  {
   "cell_type": "code",
   "execution_count": 29,
   "id": "25071cc6-d3cb-4e1f-919f-04bac1ce7a3a",
   "metadata": {},
   "outputs": [
    {
     "name": "stdout",
     "output_type": "stream",
     "text": [
      "Column: 0, Selected=True, Rank: 1\n",
      "Column: 1, Selected=True, Rank: 1\n",
      "Column: 2, Selected=True, Rank: 1\n",
      "Column: 3, Selected=False, Rank: 6\n",
      "Column: 4, Selected=False, Rank: 4\n",
      "Column: 5, Selected=False, Rank: 3\n",
      "Column: 6, Selected=True, Rank: 1\n",
      "Column: 7, Selected=True, Rank: 1\n",
      "Column: 8, Selected=False, Rank: 5\n",
      "Column: 9, Selected=False, Rank: 2\n"
     ]
    }
   ],
   "source": [
    "# summarize all features\n",
    "for i in range(X.shape[1]):\n",
    "  print('Column: %d, Selected=%s, Rank: %d' % (i, rfe.support_[i], rfe.ranking_[i]))  # 유의미한 피쳐를 우선순위를 정해서 버려도 된다."
   ]
  },
  {
   "cell_type": "code",
   "execution_count": null,
   "id": "065b39dd-9c9d-4847-a991-9e14fd722bcb",
   "metadata": {},
   "outputs": [],
   "source": []
  }
 ],
 "metadata": {
  "kernelspec": {
   "display_name": "Python Multi",
   "language": "python",
   "name": "multi"
  },
  "language_info": {
   "codemirror_mode": {
    "name": "ipython",
    "version": 3
   },
   "file_extension": ".py",
   "mimetype": "text/x-python",
   "name": "python",
   "nbconvert_exporter": "python",
   "pygments_lexer": "ipython3",
   "version": "3.7.6"
  }
 },
 "nbformat": 4,
 "nbformat_minor": 5
}
