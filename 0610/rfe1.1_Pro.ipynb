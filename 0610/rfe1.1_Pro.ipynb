{
 "cells": [
  {
   "cell_type": "markdown",
   "id": "27aa8ca6-c147-40f2-9b7c-ac67c75338e4",
   "metadata": {},
   "source": [
    "### report which features were selected by RFE"
   ]
  },
  {
   "cell_type": "code",
   "execution_count": 1,
   "id": "ed4d6ed8-d37b-47f4-a6ea-061d3561bc7f",
   "metadata": {},
   "outputs": [],
   "source": [
    "from sklearn.datasets import make_classification\n",
    "from sklearn.feature_selection import RFE\n",
    "from sklearn.tree import DecisionTreeClassifier"
   ]
  },
  {
   "cell_type": "code",
   "execution_count": 2,
   "id": "e3183759-1ee1-4889-a80a-e25254e35afb",
   "metadata": {},
   "outputs": [],
   "source": [
    "import pandas as pd"
   ]
  },
  {
   "cell_type": "code",
   "execution_count": 8,
   "id": "8740f2bc-003b-4099-89aa-bce4066082a6",
   "metadata": {},
   "outputs": [
    {
     "name": "stdout",
     "output_type": "stream",
     "text": [
      "/Users/yoohwayoung/[K-Digital]TIL/0610\n"
     ]
    }
   ],
   "source": [
    "!pwd"
   ]
  },
  {
   "cell_type": "code",
   "execution_count": 3,
   "id": "77f97373-a992-4ee1-b047-933681c0fd5f",
   "metadata": {},
   "outputs": [],
   "source": [
    "# import XLS file\n",
    "# path = \"C:\\\\Users\\\\i\\\\Desktop\\\\2021-K-Digital-Training-main\\\\Big_Data_Analysis\\\\feature_selection\\\\credit_cards_dataset.csv\"\n",
    "# data = pd.read_csv(path) # skip the first row of the spreadsheet"
   ]
  },
  {
   "cell_type": "code",
   "execution_count": 12,
   "id": "ffc8a4c0-7a3e-4ba4-94c8-e526a4d008d1",
   "metadata": {},
   "outputs": [],
   "source": [
    "# import XLS file\n",
    "path = '../0609/credit_cards_dataset.csv'\n",
    "data = pd.read_csv(path) # skip the first row of the spreadsheet"
   ]
  },
  {
   "cell_type": "code",
   "execution_count": null,
   "id": "2a697e9a-c38a-4579-95a5-dfeee0c4d98c",
   "metadata": {},
   "outputs": [],
   "source": [
    "data = data.rename(columns={'default payment next month': 'DEFAULT_NEXT_MONTH'})"
   ]
  },
  {
   "cell_type": "code",
   "execution_count": null,
   "id": "2c33c287-99f1-4915-a205-7a3b86646e9d",
   "metadata": {},
   "outputs": [],
   "source": [
    "y='default.payment.next.month'\n",
    "X = [name for name in data.columns if name not in [y, 'ID', 'Y_Value']]\n",
    "print('y =', y)\n",
    "print('X =', X)"
   ]
  },
  {
   "cell_type": "code",
   "execution_count": null,
   "id": "2f1e4cb7-69b5-45d1-9087-98ed5b0a8a1b",
   "metadata": {},
   "outputs": [],
   "source": [
    "X=data[X]"
   ]
  },
  {
   "cell_type": "code",
   "execution_count": null,
   "id": "0708e135-add0-4e8c-9b56-f381827a318a",
   "metadata": {},
   "outputs": [],
   "source": [
    "X"
   ]
  },
  {
   "cell_type": "code",
   "execution_count": null,
   "id": "c6ad65f4-36a3-4d0b-b2fc-8d4dfb8a2808",
   "metadata": {},
   "outputs": [],
   "source": [
    "y=data['default.payment.next.month']"
   ]
  },
  {
   "cell_type": "code",
   "execution_count": null,
   "id": "15379ce9-9da1-4f8d-a85b-6f6cce0091f0",
   "metadata": {},
   "outputs": [],
   "source": [
    "y"
   ]
  },
  {
   "cell_type": "code",
   "execution_count": null,
   "id": "690180b6-d069-4857-8960-b7fd661bae45",
   "metadata": {},
   "outputs": [],
   "source": []
  },
  {
   "cell_type": "code",
   "execution_count": null,
   "id": "775d0e3f-9b01-48da-abc1-afdf56adc00e",
   "metadata": {},
   "outputs": [],
   "source": [
    "# define dataset\n",
    "#X, y = make_classification(n_samples=1000, n_features=23, n_informative=5, n_redundant=5,random_state=42)"
   ]
  },
  {
   "cell_type": "code",
   "execution_count": null,
   "id": "5f5c7e69-32aa-419e-8937-40c913ad9717",
   "metadata": {},
   "outputs": [],
   "source": []
  },
  {
   "cell_type": "code",
   "execution_count": null,
   "id": "05d7c60f-4e3c-4473-83a9-8f0cb8c49f84",
   "metadata": {},
   "outputs": [],
   "source": [
    "X.shape"
   ]
  },
  {
   "cell_type": "code",
   "execution_count": null,
   "id": "fae9ce5b-f481-46ac-a0b7-fd7b748a6adc",
   "metadata": {},
   "outputs": [],
   "source": [
    "y.shape"
   ]
  },
  {
   "cell_type": "code",
   "execution_count": null,
   "id": "84032074-3b64-496e-b376-3a240333f776",
   "metadata": {},
   "outputs": [],
   "source": [
    "y.ndim"
   ]
  },
  {
   "cell_type": "code",
   "execution_count": null,
   "id": "e0239f6d-a714-4e26-a59c-99f82f043487",
   "metadata": {},
   "outputs": [],
   "source": [
    "#(1000,)"
   ]
  },
  {
   "cell_type": "code",
   "execution_count": null,
   "id": "425ea1fc-612a-41bf-b042-e25d714ac862",
   "metadata": {},
   "outputs": [],
   "source": [
    "# define RFE\n",
    "rfe = RFE(estimator=DecisionTreeClassifier(), n_features_to_select=10)"
   ]
  },
  {
   "cell_type": "code",
   "execution_count": null,
   "id": "cd7b96fe-a56c-40f4-9c5b-e79935080317",
   "metadata": {},
   "outputs": [],
   "source": [
    "rfe"
   ]
  },
  {
   "cell_type": "code",
   "execution_count": null,
   "id": "f86808a9-bcb2-4509-aac9-1dd2139adc75",
   "metadata": {},
   "outputs": [],
   "source": [
    "# fit RFE\n",
    "rfe.fit(X, y)"
   ]
  },
  {
   "cell_type": "code",
   "execution_count": null,
   "id": "a3bfd8e9-67bc-42b6-9469-70f7455435ea",
   "metadata": {},
   "outputs": [],
   "source": [
    "X.shape"
   ]
  },
  {
   "cell_type": "code",
   "execution_count": null,
   "id": "6e153ce0-2f9e-4295-8725-afa5826e7f13",
   "metadata": {},
   "outputs": [],
   "source": [
    "# summarize all features\n",
    "for i in range(X.shape[1]):\n",
    "  print('Column: %d, Selected=%s, Rank: %d' % (i, rfe.support_[i], rfe.ranking_[i]))"
   ]
  },
  {
   "cell_type": "code",
   "execution_count": null,
   "id": "ba5d6318-e464-4e02-8d97-927eb28793d0",
   "metadata": {},
   "outputs": [],
   "source": []
  }
 ],
 "metadata": {
  "kernelspec": {
   "display_name": "Python Multi",
   "language": "python",
   "name": "multi"
  },
  "language_info": {
   "codemirror_mode": {
    "name": "ipython",
    "version": 3
   },
   "file_extension": ".py",
   "mimetype": "text/x-python",
   "name": "python",
   "nbconvert_exporter": "python",
   "pygments_lexer": "ipython3",
   "version": "3.7.6"
  }
 },
 "nbformat": 4,
 "nbformat_minor": 5
}
