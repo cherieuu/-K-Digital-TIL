{
  "nbformat": 4,
  "nbformat_minor": 5,
  "metadata": {
    "kernelspec": {
      "display_name": "Python 3",
      "language": "python",
      "name": "python3"
    },
    "language_info": {
      "codemirror_mode": {
        "name": "ipython",
        "version": 3
      },
      "file_extension": ".py",
      "mimetype": "text/x-python",
      "name": "python",
      "nbconvert_exporter": "python",
      "pygments_lexer": "ipython3",
      "version": "3.7.6"
    },
    "colab": {
      "name": "zero_shot_text_classification.ipynb",
      "provenance": [],
      "include_colab_link": true
    }
  },
  "cells": [
    {
      "cell_type": "markdown",
      "metadata": {
        "id": "view-in-github",
        "colab_type": "text"
      },
      "source": [
        "<a href=\"https://colab.research.google.com/github/cherieuu/Today_I_Learned/blob/master/0625/zero_shot_text_classification.ipynb\" target=\"_parent\"><img src=\"https://colab.research.google.com/assets/colab-badge.svg\" alt=\"Open In Colab\"/></a>"
      ]
    },
    {
      "cell_type": "code",
      "metadata": {
        "id": "looking-incidence"
      },
      "source": [
        "# Import library\n",
        "from transformers import pipeline"
      ],
      "id": "looking-incidence",
      "execution_count": null,
      "outputs": []
    },
    {
      "cell_type": "code",
      "metadata": {
        "id": "requested-sperm",
        "outputId": "100cf99c-c16b-48fa-bbcb-aee29f25c380",
        "colab": {
          "referenced_widgets": [
            "7cb155d2643445cda36c0e48c7df717a",
            "6b7ceb0a3e8f42f697e667fc2e32ed36",
            "f411d0328f68409d80d1a86aadbef8a5",
            "168732bd94d147f0b3829eb2a3841eda",
            "4bd94c3ace1643fb873d599f7f24759b",
            "84bd33fcc8804de7943df4dc4ad0d01b"
          ]
        }
      },
      "source": [
        "#Define pipeline to use\n",
        "classifier = pipeline('zero-shot-classification')"
      ],
      "id": "requested-sperm",
      "execution_count": null,
      "outputs": [
        {
          "output_type": "display_data",
          "data": {
            "application/vnd.jupyter.widget-view+json": {
              "model_id": "7cb155d2643445cda36c0e48c7df717a",
              "version_major": 2,
              "version_minor": 0
            },
            "text/plain": [
              "Downloading:   0%|          | 0.00/908 [00:00<?, ?B/s]"
            ]
          },
          "metadata": {
            "tags": []
          }
        },
        {
          "output_type": "display_data",
          "data": {
            "application/vnd.jupyter.widget-view+json": {
              "model_id": "6b7ceb0a3e8f42f697e667fc2e32ed36",
              "version_major": 2,
              "version_minor": 0
            },
            "text/plain": [
              "Downloading:   0%|          | 0.00/1.63G [00:00<?, ?B/s]"
            ]
          },
          "metadata": {
            "tags": []
          }
        },
        {
          "output_type": "display_data",
          "data": {
            "application/vnd.jupyter.widget-view+json": {
              "model_id": "f411d0328f68409d80d1a86aadbef8a5",
              "version_major": 2,
              "version_minor": 0
            },
            "text/plain": [
              "Downloading:   0%|          | 0.00/899k [00:00<?, ?B/s]"
            ]
          },
          "metadata": {
            "tags": []
          }
        },
        {
          "output_type": "display_data",
          "data": {
            "application/vnd.jupyter.widget-view+json": {
              "model_id": "168732bd94d147f0b3829eb2a3841eda",
              "version_major": 2,
              "version_minor": 0
            },
            "text/plain": [
              "Downloading:   0%|          | 0.00/456k [00:00<?, ?B/s]"
            ]
          },
          "metadata": {
            "tags": []
          }
        },
        {
          "output_type": "display_data",
          "data": {
            "application/vnd.jupyter.widget-view+json": {
              "model_id": "4bd94c3ace1643fb873d599f7f24759b",
              "version_major": 2,
              "version_minor": 0
            },
            "text/plain": [
              "Downloading:   0%|          | 0.00/1.36M [00:00<?, ?B/s]"
            ]
          },
          "metadata": {
            "tags": []
          }
        },
        {
          "output_type": "display_data",
          "data": {
            "application/vnd.jupyter.widget-view+json": {
              "model_id": "84bd33fcc8804de7943df4dc4ad0d01b",
              "version_major": 2,
              "version_minor": 0
            },
            "text/plain": [
              "Downloading:   0%|          | 0.00/26.0 [00:00<?, ?B/s]"
            ]
          },
          "metadata": {
            "tags": []
          }
        }
      ]
    },
    {
      "cell_type": "code",
      "metadata": {
        "id": "critical-flower"
      },
      "source": [
        "#Define input text and candidate labels\n",
        "input_text = ['Intel Corporation is an American multinational corporation and technology company headquartered in Santa Clara, California, in Silicon Valley. It is the worlds largest and highest valued semiconductor chip manufacturer based on revenue,[4][5] and is the inventor of the x86 series of microprocessors, the processors found in most personal computers (PCs). Intel ranked No. 46 in the 2018 Fortune 500 list of the largest United States corporations by total revenue.[6] Intel is incorporated in Delaware']\n",
        "candidate_labels = ['showbiz', 'entertainment', 'technology', 'computers']\n",
        "\n",
        "#Run classifier\n",
        "classifier(input_text, candidate_labels, multi_class = True)"
      ],
      "id": "critical-flower",
      "execution_count": null,
      "outputs": []
    },
    {
      "cell_type": "code",
      "metadata": {
        "id": "southern-reaction"
      },
      "source": [
        "input_text = ['act one scene one a hall in the royal palace at memphis (left and right, a colonnade decorated with statues and flowering shrubs. rear, a great door beyond which can be seen temples, the palaces of memphis and the pyramids.)']\n",
        "\n",
        "candidate_labels = ['sad', 'joy', 'holy', 'fun']"
      ],
      "id": "southern-reaction",
      "execution_count": null,
      "outputs": []
    },
    {
      "cell_type": "code",
      "metadata": {
        "id": "introductory-indonesian",
        "outputId": "04e5f7cb-1d74-4c0e-9025-9f11bd3b60ef"
      },
      "source": [
        "#Run classifier\n",
        "classifier(input_text, candidate_labels, multi_class = True)"
      ],
      "id": "introductory-indonesian",
      "execution_count": null,
      "outputs": [
        {
          "output_type": "stream",
          "text": [
            "The `multi_class` argument has been deprecated and renamed to `multi_label`. `multi_class` will be removed in a future version of Transformers.\n"
          ],
          "name": "stderr"
        },
        {
          "output_type": "execute_result",
          "data": {
            "text/plain": [
              "{'sequence': 'act one scene one a hall in the royal palace at memphis (left and right, a colonnade decorated with statues and flowering shrubs. rear, a great door beyond which can be seen temples, the palaces of memphis and the pyramids.)',\n",
              " 'labels': ['fun', 'holy', 'joy', 'sad'],\n",
              " 'scores': [0.7845231890678406,\n",
              "  0.17068997025489807,\n",
              "  0.08988943696022034,\n",
              "  0.001568431151099503]}"
            ]
          },
          "metadata": {
            "tags": []
          },
          "execution_count": 5
        }
      ]
    },
    {
      "cell_type": "code",
      "metadata": {
        "id": "difficult-advance"
      },
      "source": [
        "input_text = ['act one scene one a hall in the royal palace at memphis (left and right, a colonnade decorated with statues and flowering shrubs. rear, a great door beyond which can be seen temples, the palaces of memphis and the pyramids.)']\n",
        "\n",
        "candidate_labels = ['joy', 'sad', 'scared', 'excited', 'angry']"
      ],
      "id": "difficult-advance",
      "execution_count": null,
      "outputs": []
    },
    {
      "cell_type": "code",
      "metadata": {
        "id": "cloudy-knitting",
        "outputId": "7a11279d-851d-40bd-efb1-31d9a2aab73c"
      },
      "source": [
        "#Run classifier\n",
        "classifier(input_text, candidate_labels, multi_class = True)"
      ],
      "id": "cloudy-knitting",
      "execution_count": null,
      "outputs": [
        {
          "output_type": "stream",
          "text": [
            "The `multi_class` argument has been deprecated and renamed to `multi_label`. `multi_class` will be removed in a future version of Transformers.\n"
          ],
          "name": "stderr"
        },
        {
          "output_type": "execute_result",
          "data": {
            "text/plain": [
              "{'sequence': 'act one scene one a hall in the royal palace at memphis (left and right, a colonnade decorated with statues and flowering shrubs. rear, a great door beyond which can be seen temples, the palaces of memphis and the pyramids.)',\n",
              " 'labels': ['excited', 'scared', 'joy', 'angry', 'sad'],\n",
              " 'scores': [0.5957818627357483,\n",
              "  0.1830780953168869,\n",
              "  0.08988943696022034,\n",
              "  0.002875669626519084,\n",
              "  0.001568431151099503]}"
            ]
          },
          "metadata": {
            "tags": []
          },
          "execution_count": 7
        }
      ]
    },
    {
      "cell_type": "code",
      "metadata": {
        "id": "external-responsibility"
      },
      "source": [
        ""
      ],
      "id": "external-responsibility",
      "execution_count": null,
      "outputs": []
    }
  ]
}